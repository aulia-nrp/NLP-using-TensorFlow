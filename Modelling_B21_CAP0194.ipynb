{
  "nbformat": 4,
  "nbformat_minor": 0,
  "metadata": {
    "colab": {
      "name": "Modelling - B21-CAP0194.ipynb",
      "provenance": [],
      "collapsed_sections": []
    },
    "kernelspec": {
      "name": "python3",
      "display_name": "Python 3"
    },
    "language_info": {
      "name": "python"
    },
    "accelerator": "GPU"
  },
  "cells": [
    {
      "cell_type": "code",
      "metadata": {
        "id": "DHHp6JqwUt0M",
        "colab": {
          "base_uri": "https://localhost:8080/",
          "height": 35
        },
        "outputId": "2adefdbf-79c2-4afd-d66e-f08af510535a"
      },
      "source": [
        "'''\n",
        "Project: Bangkit Capstone Project\n",
        "Group: B21-CAP0194\n",
        "Part: Modelling\n",
        "'''"
      ],
      "execution_count": null,
      "outputs": [
        {
          "output_type": "execute_result",
          "data": {
            "application/vnd.google.colaboratory.intrinsic+json": {
              "type": "string"
            },
            "text/plain": [
              "'\\nProject: Bangkit Capstone Project\\nGroup: B21-CAP0194\\nPart: Modelling\\n'"
            ]
          },
          "metadata": {
            "tags": []
          },
          "execution_count": 5
        }
      ]
    },
    {
      "cell_type": "code",
      "metadata": {
        "id": "zuA8-KnMFDo9"
      },
      "source": [
        "vocab_size = 10000\n",
        "embedding_dim = 16\n",
        "max_length = 32\n",
        "trunc_type = 'post'\n",
        "oov_tok = \"<OOV>\""
      ],
      "execution_count": null,
      "outputs": []
    },
    {
      "cell_type": "code",
      "metadata": {
        "id": "RWj-L9ssHHAf"
      },
      "source": [
        "import pandas as pd\n",
        "import numpy as np\n",
        "from tensorflow.keras.preprocessing.text import Tokenizer\n",
        "from tensorflow.keras.preprocessing.sequence import pad_sequences"
      ],
      "execution_count": null,
      "outputs": []
    },
    {
      "cell_type": "code",
      "metadata": {
        "id": "kJlMiUMYi47A",
        "colab": {
          "base_uri": "https://localhost:8080/",
          "height": 191
        },
        "outputId": "376d16c6-516d-4a44-e26a-83fdfd109702"
      },
      "source": [
        "#Import First Dataset\n",
        "url = 'https://drive.google.com/file/d/1MVqIj6XUQLbqUMQS7Jxf4qJRsYkJY84x/view?usp=sharing'\n",
        "file_id = url.split('/')[-2]\n",
        "csv_url = 'https://drive.google.com/uc?id=' + file_id\n",
        "df = pd.read_csv(csv_url)\n",
        "df.head()"
      ],
      "execution_count": null,
      "outputs": [
        {
          "output_type": "execute_result",
          "data": {
            "text/html": [
              "<div>\n",
              "<style scoped>\n",
              "    .dataframe tbody tr th:only-of-type {\n",
              "        vertical-align: middle;\n",
              "    }\n",
              "\n",
              "    .dataframe tbody tr th {\n",
              "        vertical-align: top;\n",
              "    }\n",
              "\n",
              "    .dataframe thead th {\n",
              "        text-align: right;\n",
              "    }\n",
              "</style>\n",
              "<table border=\"1\" class=\"dataframe\">\n",
              "  <thead>\n",
              "    <tr style=\"text-align: right;\">\n",
              "      <th></th>\n",
              "      <th>index</th>\n",
              "      <th>text</th>\n",
              "    </tr>\n",
              "  </thead>\n",
              "  <tbody>\n",
              "    <tr>\n",
              "      <th>0</th>\n",
              "      <td>0</td>\n",
              "      <td>the ironies of the  movement are too painfully...</td>\n",
              "    </tr>\n",
              "    <tr>\n",
              "      <th>1</th>\n",
              "      <td>1</td>\n",
              "      <td>women in kuwait have launched a social media c...</td>\n",
              "    </tr>\n",
              "    <tr>\n",
              "      <th>2</th>\n",
              "      <td>2</td>\n",
              "      <td>triger warning raising awareness of sexual ass...</td>\n",
              "    </tr>\n",
              "    <tr>\n",
              "      <th>3</th>\n",
              "      <td>3</td>\n",
              "      <td>charges brought against the guy that smacked m...</td>\n",
              "    </tr>\n",
              "    <tr>\n",
              "      <th>4</th>\n",
              "      <td>4</td>\n",
              "      <td>and the fourth presenter on 26th may is hannah...</td>\n",
              "    </tr>\n",
              "  </tbody>\n",
              "</table>\n",
              "</div>"
            ],
            "text/plain": [
              "   index                                               text\n",
              "0      0  the ironies of the  movement are too painfully...\n",
              "1      1  women in kuwait have launched a social media c...\n",
              "2      2  triger warning raising awareness of sexual ass...\n",
              "3      3  charges brought against the guy that smacked m...\n",
              "4      4  and the fourth presenter on 26th may is hannah..."
            ]
          },
          "metadata": {
            "tags": []
          },
          "execution_count": 3
        }
      ]
    },
    {
      "cell_type": "code",
      "metadata": {
        "id": "5AgazdB72PN6"
      },
      "source": [
        "df_cut = df[:100]"
      ],
      "execution_count": null,
      "outputs": []
    },
    {
      "cell_type": "code",
      "metadata": {
        "colab": {
          "base_uri": "https://localhost:8080/",
          "height": 1000
        },
        "id": "8NAg4Tao0lsH",
        "outputId": "efc2f0ba-762a-4ded-9f14-b0a3e9c34c72"
      },
      "source": [
        "df_cut.head(50)"
      ],
      "execution_count": null,
      "outputs": [
        {
          "output_type": "execute_result",
          "data": {
            "text/html": [
              "<div>\n",
              "<style scoped>\n",
              "    .dataframe tbody tr th:only-of-type {\n",
              "        vertical-align: middle;\n",
              "    }\n",
              "\n",
              "    .dataframe tbody tr th {\n",
              "        vertical-align: top;\n",
              "    }\n",
              "\n",
              "    .dataframe thead th {\n",
              "        text-align: right;\n",
              "    }\n",
              "</style>\n",
              "<table border=\"1\" class=\"dataframe\">\n",
              "  <thead>\n",
              "    <tr style=\"text-align: right;\">\n",
              "      <th></th>\n",
              "      <th>index</th>\n",
              "      <th>text</th>\n",
              "    </tr>\n",
              "  </thead>\n",
              "  <tbody>\n",
              "    <tr>\n",
              "      <th>0</th>\n",
              "      <td>0</td>\n",
              "      <td>the ironies of the  movement are too painfully...</td>\n",
              "    </tr>\n",
              "    <tr>\n",
              "      <th>1</th>\n",
              "      <td>1</td>\n",
              "      <td>women in kuwait have launched a social media c...</td>\n",
              "    </tr>\n",
              "    <tr>\n",
              "      <th>2</th>\n",
              "      <td>2</td>\n",
              "      <td>triger warning raising awareness of sexual ass...</td>\n",
              "    </tr>\n",
              "    <tr>\n",
              "      <th>3</th>\n",
              "      <td>3</td>\n",
              "      <td>charges brought against the guy that smacked m...</td>\n",
              "    </tr>\n",
              "    <tr>\n",
              "      <th>4</th>\n",
              "      <td>4</td>\n",
              "      <td>and the fourth presenter on 26th may is hannah...</td>\n",
              "    </tr>\n",
              "    <tr>\n",
              "      <th>5</th>\n",
              "      <td>5</td>\n",
              "      <td>this is so messed up  are there any men in the...</td>\n",
              "    </tr>\n",
              "    <tr>\n",
              "      <th>6</th>\n",
              "      <td>6</td>\n",
              "      <td>to tackle an epidemic of male violence against...</td>\n",
              "    </tr>\n",
              "    <tr>\n",
              "      <th>7</th>\n",
              "      <td>7</td>\n",
              "      <td>there has been a new series of harassment alle...</td>\n",
              "    </tr>\n",
              "    <tr>\n",
              "      <th>8</th>\n",
              "      <td>8</td>\n",
              "      <td>want to see what the  movement looks like its ...</td>\n",
              "    </tr>\n",
              "    <tr>\n",
              "      <th>9</th>\n",
              "      <td>9</td>\n",
              "      <td>female students dont want to have sex w dolan ...</td>\n",
              "    </tr>\n",
              "    <tr>\n",
              "      <th>10</th>\n",
              "      <td>10</td>\n",
              "      <td>when we talk about  and violence we must ensur...</td>\n",
              "    </tr>\n",
              "    <tr>\n",
              "      <th>11</th>\n",
              "      <td>11</td>\n",
              "      <td>took in 221 million last year in nih funds the...</td>\n",
              "    </tr>\n",
              "    <tr>\n",
              "      <th>12</th>\n",
              "      <td>12</td>\n",
              "      <td>help your students to combat harassment using ...</td>\n",
              "    </tr>\n",
              "    <tr>\n",
              "      <th>13</th>\n",
              "      <td>13</td>\n",
              "      <td>im still looking to speak to disabled women wh...</td>\n",
              "    </tr>\n",
              "    <tr>\n",
              "      <th>14</th>\n",
              "      <td>14</td>\n",
              "      <td>glenn greenwald doesnt like the  movement supp...</td>\n",
              "    </tr>\n",
              "    <tr>\n",
              "      <th>15</th>\n",
              "      <td>15</td>\n",
              "      <td>for more on this topic join us for our upcomin...</td>\n",
              "    </tr>\n",
              "    <tr>\n",
              "      <th>16</th>\n",
              "      <td>16</td>\n",
              "      <td>what does the  movement have to do with the mu...</td>\n",
              "    </tr>\n",
              "    <tr>\n",
              "      <th>17</th>\n",
              "      <td>17</td>\n",
              "      <td>latest oped from  and  cuomo needs a time out ...</td>\n",
              "    </tr>\n",
              "    <tr>\n",
              "      <th>18</th>\n",
              "      <td>18</td>\n",
              "      <td>dont know who this greewald misogynist moron i...</td>\n",
              "    </tr>\n",
              "    <tr>\n",
              "      <th>19</th>\n",
              "      <td>19</td>\n",
              "      <td>morrison believes hearsay about some dude risi...</td>\n",
              "    </tr>\n",
              "    <tr>\n",
              "      <th>20</th>\n",
              "      <td>20</td>\n",
              "      <td>to tackle an epidemic of male violence against...</td>\n",
              "    </tr>\n",
              "    <tr>\n",
              "      <th>21</th>\n",
              "      <td>21</td>\n",
              "      <td>when we talk about  and violence we must ensur...</td>\n",
              "    </tr>\n",
              "    <tr>\n",
              "      <th>22</th>\n",
              "      <td>22</td>\n",
              "      <td>when will this violence and hate stop</td>\n",
              "    </tr>\n",
              "    <tr>\n",
              "      <th>23</th>\n",
              "      <td>23</td>\n",
              "      <td>anesthesia protected a known sexual predator f...</td>\n",
              "    </tr>\n",
              "    <tr>\n",
              "      <th>24</th>\n",
              "      <td>24</td>\n",
              "      <td>thank you  for your wisdom and outstanding ins...</td>\n",
              "    </tr>\n",
              "    <tr>\n",
              "      <th>25</th>\n",
              "      <td>25</td>\n",
              "      <td>a few incels on tiktok have dubbed  as nationa...</td>\n",
              "    </tr>\n",
              "    <tr>\n",
              "      <th>26</th>\n",
              "      <td>26</td>\n",
              "      <td>what has  actually changed</td>\n",
              "    </tr>\n",
              "    <tr>\n",
              "      <th>27</th>\n",
              "      <td>27</td>\n",
              "      <td>harassment retaliation</td>\n",
              "    </tr>\n",
              "    <tr>\n",
              "      <th>28</th>\n",
              "      <td>28</td>\n",
              "      <td>looking forward 2 a panel chat  today about sy...</td>\n",
              "    </tr>\n",
              "    <tr>\n",
              "      <th>29</th>\n",
              "      <td>29</td>\n",
              "      <td>this bd is in  case does not talk about it</td>\n",
              "    </tr>\n",
              "    <tr>\n",
              "      <th>30</th>\n",
              "      <td>30</td>\n",
              "      <td>this is the child that was born as a result of...</td>\n",
              "    </tr>\n",
              "    <tr>\n",
              "      <th>31</th>\n",
              "      <td>31</td>\n",
              "      <td>event a new cultural reckoning gendered violence</td>\n",
              "    </tr>\n",
              "    <tr>\n",
              "      <th>32</th>\n",
              "      <td>32</td>\n",
              "      <td>the tail of the anita hill fury got us to   re...</td>\n",
              "    </tr>\n",
              "    <tr>\n",
              "      <th>33</th>\n",
              "      <td>33</td>\n",
              "      <td>oh no thats terrible   can you please link the...</td>\n",
              "    </tr>\n",
              "    <tr>\n",
              "      <th>34</th>\n",
              "      <td>34</td>\n",
              "      <td>turns out it was gary all along</td>\n",
              "    </tr>\n",
              "    <tr>\n",
              "      <th>35</th>\n",
              "      <td>35</td>\n",
              "      <td>ever since i bared my soul and jump through he...</td>\n",
              "    </tr>\n",
              "    <tr>\n",
              "      <th>36</th>\n",
              "      <td>36</td>\n",
              "      <td>to all victims of abuseit is never too late to...</td>\n",
              "    </tr>\n",
              "    <tr>\n",
              "      <th>37</th>\n",
              "      <td>37</td>\n",
              "      <td>the military claims they take a hard line agai...</td>\n",
              "    </tr>\n",
              "    <tr>\n",
              "      <th>38</th>\n",
              "      <td>38</td>\n",
              "      <td>we personally believe that victims of any form...</td>\n",
              "    </tr>\n",
              "    <tr>\n",
              "      <th>39</th>\n",
              "      <td>39</td>\n",
              "      <td>chads an excon trying to start over</td>\n",
              "    </tr>\n",
              "    <tr>\n",
              "      <th>40</th>\n",
              "      <td>40</td>\n",
              "      <td>we personally believe that victims of any form...</td>\n",
              "    </tr>\n",
              "    <tr>\n",
              "      <th>41</th>\n",
              "      <td>41</td>\n",
              "      <td>and democrats still failed   what a waste of o...</td>\n",
              "    </tr>\n",
              "    <tr>\n",
              "      <th>42</th>\n",
              "      <td>42</td>\n",
              "      <td>tw sexual assault  read recognizing rape findi...</td>\n",
              "    </tr>\n",
              "    <tr>\n",
              "      <th>43</th>\n",
              "      <td>43</td>\n",
              "      <td>young women dont think its cool what he did to...</td>\n",
              "    </tr>\n",
              "    <tr>\n",
              "      <th>44</th>\n",
              "      <td>44</td>\n",
              "      <td>amplify diverse perspectives and stories with ...</td>\n",
              "    </tr>\n",
              "    <tr>\n",
              "      <th>45</th>\n",
              "      <td>45</td>\n",
              "      <td>actually amazing to see  standing up to be cou...</td>\n",
              "    </tr>\n",
              "    <tr>\n",
              "      <th>46</th>\n",
              "      <td>46</td>\n",
              "      <td>is hugging  required play in the</td>\n",
              "    </tr>\n",
              "    <tr>\n",
              "      <th>47</th>\n",
              "      <td>47</td>\n",
              "      <td>maybe he was afraid he might get  d if  his ha...</td>\n",
              "    </tr>\n",
              "    <tr>\n",
              "      <th>48</th>\n",
              "      <td>48</td>\n",
              "      <td>damn it where is  r  wisconsin catholic school...</td>\n",
              "    </tr>\n",
              "    <tr>\n",
              "      <th>49</th>\n",
              "      <td>49</td>\n",
              "      <td>he also had this app on his phones its used to...</td>\n",
              "    </tr>\n",
              "  </tbody>\n",
              "</table>\n",
              "</div>"
            ],
            "text/plain": [
              "    index                                               text\n",
              "0       0  the ironies of the  movement are too painfully...\n",
              "1       1  women in kuwait have launched a social media c...\n",
              "2       2  triger warning raising awareness of sexual ass...\n",
              "3       3  charges brought against the guy that smacked m...\n",
              "4       4  and the fourth presenter on 26th may is hannah...\n",
              "5       5  this is so messed up  are there any men in the...\n",
              "6       6  to tackle an epidemic of male violence against...\n",
              "7       7  there has been a new series of harassment alle...\n",
              "8       8  want to see what the  movement looks like its ...\n",
              "9       9  female students dont want to have sex w dolan ...\n",
              "10     10  when we talk about  and violence we must ensur...\n",
              "11     11  took in 221 million last year in nih funds the...\n",
              "12     12  help your students to combat harassment using ...\n",
              "13     13  im still looking to speak to disabled women wh...\n",
              "14     14  glenn greenwald doesnt like the  movement supp...\n",
              "15     15  for more on this topic join us for our upcomin...\n",
              "16     16  what does the  movement have to do with the mu...\n",
              "17     17  latest oped from  and  cuomo needs a time out ...\n",
              "18     18  dont know who this greewald misogynist moron i...\n",
              "19     19  morrison believes hearsay about some dude risi...\n",
              "20     20  to tackle an epidemic of male violence against...\n",
              "21     21  when we talk about  and violence we must ensur...\n",
              "22     22         when will this violence and hate stop     \n",
              "23     23  anesthesia protected a known sexual predator f...\n",
              "24     24  thank you  for your wisdom and outstanding ins...\n",
              "25     25  a few incels on tiktok have dubbed  as nationa...\n",
              "26     26                   what has  actually changed      \n",
              "27     27                            harassment retaliation \n",
              "28     28  looking forward 2 a panel chat  today about sy...\n",
              "29     29         this bd is in  case does not talk about it\n",
              "30     30  this is the child that was born as a result of...\n",
              "31     31  event a new cultural reckoning gendered violence \n",
              "32     32  the tail of the anita hill fury got us to   re...\n",
              "33     33  oh no thats terrible   can you please link the...\n",
              "34     34                 turns out it was gary all along   \n",
              "35     35  ever since i bared my soul and jump through he...\n",
              "36     36  to all victims of abuseit is never too late to...\n",
              "37     37  the military claims they take a hard line agai...\n",
              "38     38  we personally believe that victims of any form...\n",
              "39     39                chads an excon trying to start over\n",
              "40     40  we personally believe that victims of any form...\n",
              "41     41  and democrats still failed   what a waste of o...\n",
              "42     42  tw sexual assault  read recognizing rape findi...\n",
              "43     43  young women dont think its cool what he did to...\n",
              "44     44  amplify diverse perspectives and stories with ...\n",
              "45     45  actually amazing to see  standing up to be cou...\n",
              "46     46                is hugging  required play in the   \n",
              "47     47  maybe he was afraid he might get  d if  his ha...\n",
              "48     48  damn it where is  r  wisconsin catholic school...\n",
              "49     49  he also had this app on his phones its used to..."
            ]
          },
          "metadata": {
            "tags": []
          },
          "execution_count": 5
        }
      ]
    },
    {
      "cell_type": "code",
      "metadata": {
        "id": "tZVt0PJwicED"
      },
      "source": [
        "import getpass\n",
        "\n",
        "APIKEY = getpass.getpass()"
      ],
      "execution_count": null,
      "outputs": []
    },
    {
      "cell_type": "code",
      "metadata": {
        "id": "WbL6WYXBlycO"
      },
      "source": [
        "# running Translate API\n",
        "#from googleapiclient.discovery import build\n",
        "#service = build('translate', 'v2', developerKey=APIKEY)\n",
        "\n",
        "#df_cut['indo_text'] = df_cut['text'].apply(lambda x: (service.translations().list(source='en', target='id', q=x).execute())).apply(lambda x: x['translations']).apply(lambda x: x[0]).apply(lambda x: x['translatedText'])"
      ],
      "execution_count": null,
      "outputs": []
    },
    {
      "cell_type": "code",
      "metadata": {
        "id": "GeM4W3MPwB9A"
      },
      "source": [
        "# running Translate API\n",
        "from googleapiclient.discovery import build\n",
        "service = build('translate', 'v2', developerKey=APIKEY)\n",
        "\n",
        "df['indo_text'] = df['text'].apply(lambda x: (service.translations().list(source='en', target='id', q=x).execute())).apply(lambda x: x['translations']).apply(lambda x: x[0]).apply(lambda x: x['translatedText'])"
      ],
      "execution_count": null,
      "outputs": []
    },
    {
      "cell_type": "code",
      "metadata": {
        "colab": {
          "base_uri": "https://localhost:8080/"
        },
        "id": "uChzsiCQuUfd",
        "outputId": "050ece6f-37aa-499f-ff7d-2c5225fc5733"
      },
      "source": [
        "df['indo_text'].head(50)"
      ],
      "execution_count": null,
      "outputs": [
        {
          "output_type": "execute_result",
          "data": {
            "text/plain": [
              "0     ironi gerakan ini terlalu menyakitkan dan jela...\n",
              "1     perempuan di kuwait telah meluncurkan kampanye...\n",
              "2     peringatan triger meningkatkan kesadaran akan ...\n",
              "3     dakwaan yang diajukan terhadap pria yang memuk...\n",
              "4     dan presenter keempat pada tanggal 26 mei adal...\n",
              "5     Ini sangat kacau, adakah pria di mata publik, ...\n",
              "6     untuk mengatasi epidemi kekerasan laki-laki te...\n",
              "7     Ada serangkaian tuduhan pelecehan baru terhada...\n",
              "8     ingin melihat seperti apa gerakan para wanita ...\n",
              "9     siswa perempuan tidak ingin berhubungan seks d...\n",
              "10    ketika kita berbicara tentang dan kekerasan, k...\n",
              "11    ambil 221 juta tahun lalu di nih dana nih mand...\n",
              "12    bantu siswa Anda untuk memerangi pelecehan men...\n",
              "13    Saya masih ingin berbicara dengan wanita penya...\n",
              "14    glenn greenwald tidak menyukai gerakan yang me...\n",
              "15    untuk lebih lanjut tentang topik ini bergabung...\n",
              "16    apa gerakan itu harus dilakukan dengan pembunu...\n",
              "17    oped terbaru dari dan cuomo membutuhkan waktu ...\n",
              "18    Tidak tahu siapa orang tolol misoginis greewal...\n",
              "19    Morrison percaya desas-desus tentang beberapa ...\n",
              "20    Untuk mengatasi epidemi kekerasan laki-laki te...\n",
              "21    ketika kita berbicara tentang dan kekerasan, k...\n",
              "22      kapan kekerasan dan kebencian ini akan berhenti\n",
              "23    anestesi melindungi predator seksual yang dike...\n",
              "24    terima kasih atas kebijaksanaan dan wawasan lu...\n",
              "25    beberapa incel di tiktok dijuluki sebagai hari...\n",
              "26                          apa yang sebenarnya berubah\n",
              "27                                 pembalasan pelecehan\n",
              "28    melihat ke depan 2 obrolan panel hari ini tent...\n",
              "29                    bd ini jika tidak membicarakannya\n",
              "30    ini adalah anak yang lahir sebagai akibat dari...\n",
              "31       Acara perhitungan budaya baru kekerasan gender\n",
              "32    Ekor amukan bukit anita membuat kami merekam u...\n",
              "33    oh tidak, itu buruk, bisakah Anda menautkan ut...\n",
              "34                             ternyata selama ini gary\n",
              "35    Sejak aku memamerkan jiwaku dan melompati ling...\n",
              "36    kepada semua korban pelecehan, tidak ada kata ...\n",
              "37    militer mengklaim mereka mengambil tindakan te...\n",
              "38    kami secara pribadi percaya bahwa para korban ...\n",
              "39            chads excon mencoba untuk memulai kembali\n",
              "40    Kami secara pribadi percaya bahwa para korban ...\n",
              "41    dan para demokrat masih gagal karena menyia-ny...\n",
              "42    tw kekerasan seksual membaca mengakui pemerkos...\n",
              "43    wanita muda tidak berpikir itu keren apa yang ...\n",
              "44    perkuat berbagai perspektif dan cerita dengan ...\n",
              "45    benar-benar luar biasa melihat berdiri untuk d...\n",
              "46                 memeluk permainan yang diperlukan di\n",
              "47    mungkin dia takut dia akan terkena jika tangan...\n",
              "48    sialan di mana r wisconsin guru sekolah katoli...\n",
              "49    dia juga memiliki aplikasi ini di ponselnya ya...\n",
              "Name: indo_text, dtype: object"
            ]
          },
          "metadata": {
            "tags": []
          },
          "execution_count": 111
        }
      ]
    },
    {
      "cell_type": "code",
      "metadata": {
        "id": "cI2HovVcvh2j"
      },
      "source": [
        "#Save DataFrame to CSV\n",
        "df_translated = pd.DataFrame()\n",
        "df_translated['index'] = df['index']\n",
        "df_translated['text'] = df['text']\n",
        "df_translated['indo_text'] = df['indo_text']\n",
        "df_translated.to_csv(\"capstonetweettranslated.csv\", index=False)"
      ],
      "execution_count": null,
      "outputs": []
    },
    {
      "cell_type": "code",
      "metadata": {
        "id": "_zugJcnpsr4p"
      },
      "source": [
        "labels = pd.get_dummies(df.label)"
      ],
      "execution_count": null,
      "outputs": []
    },
    {
      "cell_type": "code",
      "metadata": {
        "id": "sMP4dEqss7hA"
      },
      "source": [
        "df_new = pd.concat([df, labels], axis=1)\n",
        "df_new = df_new.drop(columns='label')"
      ],
      "execution_count": null,
      "outputs": []
    },
    {
      "cell_type": "code",
      "metadata": {
        "id": "K_YhqeK_soIr"
      },
      "source": [
        "tweet = df_new['text'].values\n",
        "label = df_new[[\"assault\", \"neutral\", \"sexual harassment\"]].values"
      ],
      "execution_count": null,
      "outputs": []
    },
    {
      "cell_type": "code",
      "metadata": {
        "colab": {
          "base_uri": "https://localhost:8080/"
        },
        "id": "Fhtsnub1wT99",
        "outputId": "2b75878f-79d8-4e6d-ff32-091780a27026"
      },
      "source": [
        "label"
      ],
      "execution_count": null,
      "outputs": [
        {
          "output_type": "execute_result",
          "data": {
            "text/plain": [
              "array([[0, 0, 1],\n",
              "       [0, 1, 0],\n",
              "       [1, 0, 0],\n",
              "       ...,\n",
              "       [0, 1, 0],\n",
              "       [0, 1, 0],\n",
              "       [0, 1, 0]], dtype=uint8)"
            ]
          },
          "metadata": {
            "tags": []
          },
          "execution_count": 33
        }
      ]
    },
    {
      "cell_type": "code",
      "metadata": {
        "id": "Lu2JQOMsjByI"
      },
      "source": [
        "from sklearn.model_selection import train_test_split\n",
        "#Train Text, Test Text, Train Label, Test Label\n",
        "X_train, X_test, y_train, y_test = train_test_split(tweet, label, test_size=0.2, shuffle=True)"
      ],
      "execution_count": null,
      "outputs": []
    },
    {
      "cell_type": "code",
      "metadata": {
        "id": "sBtqd28eGu4Y"
      },
      "source": [
        "tokenizer = Tokenizer(num_words = vocab_size, oov_token = oov_tok)\n",
        "tokenizer.fit_on_texts(X_train)\n",
        "word_index = tokenizer.word_index\n",
        "sequences = tokenizer.texts_to_sequences(X_train)\n",
        "padded = pad_sequences(sequences, maxlen=max_length, truncating=trunc_type)\n",
        "\n",
        "testing_sequences = tokenizer.texts_to_sequences(X_test)\n",
        "testing_padded = pad_sequences(testing_sequences, maxlen = max_length)"
      ],
      "execution_count": null,
      "outputs": []
    },
    {
      "cell_type": "code",
      "metadata": {
        "id": "RjZ8vIaNHUe1"
      },
      "source": [
        "import tensorflow as tf\n",
        "model = tf.keras.Sequential([\n",
        "  tf.keras.layers.Embedding(vocab_size, embedding_dim, input_length=max_length),\n",
        "  #tf.keras.layers.Flatten(),\n",
        "  tf.keras.layers.LSTM(64),\n",
        "  tf.keras.layers.Dense(6, activation='relu'),\n",
        "  tf.keras.layers.Dense(3, activation='softmax')\n",
        "])\n",
        "\n",
        "'''\n",
        "model = tf.keras.Sequential([\n",
        "  tf.keras.layers.Embedding(vocab_size, embedding_dim, input_length=max_length),\n",
        "  #tf.keras.layers.Flatten(),\n",
        "  tf.keras.layers.Bidirectional(tf.keras.layers.LSTM(64, return_sequences=True)),\n",
        "  tf.keras.layers.Bidirectional(tf.keras.layers.LSTM(32)),\n",
        "  tf.keras.layers.Dense(6, activation='relu'),\n",
        "  tf.keras.layers.Dense(3, activation='softmax')\n",
        "])\n",
        "'''"
      ],
      "execution_count": null,
      "outputs": []
    },
    {
      "cell_type": "markdown",
      "metadata": {
        "id": "sngBU5lCJ6aa"
      },
      "source": [
        "transfer learning models for NLP: BERT, coba buka ini https://www.dlology.com/blog/keras-meets-universal-sentence-encoder-transfer-learning-for-text-data/"
      ]
    },
    {
      "cell_type": "code",
      "metadata": {
        "colab": {
          "base_uri": "https://localhost:8080/"
        },
        "id": "bVv4IUpQIu1q",
        "outputId": "6af30d6c-38d3-483d-fa0a-bddf8b6714c5"
      },
      "source": [
        "model.compile(loss='categorical_crossentropy', optimizer='adam', metrics=['accuracy'])\n",
        "model.summary()"
      ],
      "execution_count": null,
      "outputs": [
        {
          "output_type": "stream",
          "text": [
            "Model: \"sequential\"\n",
            "_________________________________________________________________\n",
            "Layer (type)                 Output Shape              Param #   \n",
            "=================================================================\n",
            "embedding (Embedding)        (None, 32, 16)            160000    \n",
            "_________________________________________________________________\n",
            "lstm (LSTM)                  (None, 64)                20736     \n",
            "_________________________________________________________________\n",
            "dense (Dense)                (None, 6)                 390       \n",
            "_________________________________________________________________\n",
            "dense_1 (Dense)              (None, 3)                 21        \n",
            "=================================================================\n",
            "Total params: 181,147\n",
            "Trainable params: 181,147\n",
            "Non-trainable params: 0\n",
            "_________________________________________________________________\n"
          ],
          "name": "stdout"
        }
      ]
    },
    {
      "cell_type": "code",
      "metadata": {
        "colab": {
          "base_uri": "https://localhost:8080/"
        },
        "id": "wurt_WmlJLoV",
        "outputId": "38fc871c-c8a0-499d-a6d0-5766a3bfa9fd"
      },
      "source": [
        "num_epochs = 100\n",
        "model.fit(padded, y_train, epochs=num_epochs, validation_data=(testing_padded, y_test))"
      ],
      "execution_count": null,
      "outputs": [
        {
          "output_type": "stream",
          "text": [
            "Epoch 1/100\n",
            "219/219 [==============================] - 35s 10ms/step - loss: 0.7051 - accuracy: 0.8101 - val_loss: 0.2626 - val_accuracy: 0.8947\n",
            "Epoch 2/100\n",
            "219/219 [==============================] - 2s 8ms/step - loss: 0.1914 - accuracy: 0.9249 - val_loss: 0.1389 - val_accuracy: 0.9428\n",
            "Epoch 3/100\n",
            "219/219 [==============================] - 2s 8ms/step - loss: 0.0962 - accuracy: 0.9646 - val_loss: 0.0852 - val_accuracy: 0.9743\n",
            "Epoch 4/100\n",
            "219/219 [==============================] - 2s 8ms/step - loss: 0.0475 - accuracy: 0.9875 - val_loss: 0.1170 - val_accuracy: 0.9617\n",
            "Epoch 5/100\n",
            "219/219 [==============================] - 2s 8ms/step - loss: 0.0213 - accuracy: 0.9954 - val_loss: 0.0630 - val_accuracy: 0.9840\n",
            "Epoch 6/100\n",
            "219/219 [==============================] - 2s 7ms/step - loss: 0.0164 - accuracy: 0.9963 - val_loss: 0.1019 - val_accuracy: 0.9748\n",
            "Epoch 7/100\n",
            "219/219 [==============================] - 2s 8ms/step - loss: 0.0096 - accuracy: 0.9982 - val_loss: 0.0710 - val_accuracy: 0.9800\n",
            "Epoch 8/100\n",
            "219/219 [==============================] - 2s 8ms/step - loss: 0.0118 - accuracy: 0.9978 - val_loss: 0.0717 - val_accuracy: 0.9811\n",
            "Epoch 9/100\n",
            "219/219 [==============================] - 2s 8ms/step - loss: 0.0078 - accuracy: 0.9979 - val_loss: 0.0642 - val_accuracy: 0.9874\n",
            "Epoch 10/100\n",
            "219/219 [==============================] - 2s 8ms/step - loss: 0.0068 - accuracy: 0.9979 - val_loss: 0.1058 - val_accuracy: 0.9737\n",
            "Epoch 11/100\n",
            "219/219 [==============================] - 2s 8ms/step - loss: 0.0044 - accuracy: 0.9993 - val_loss: 0.0712 - val_accuracy: 0.9857\n",
            "Epoch 12/100\n",
            "219/219 [==============================] - 2s 8ms/step - loss: 0.0035 - accuracy: 0.9993 - val_loss: 0.0747 - val_accuracy: 0.9880\n",
            "Epoch 13/100\n",
            "219/219 [==============================] - 2s 8ms/step - loss: 0.0014 - accuracy: 0.9998 - val_loss: 0.0806 - val_accuracy: 0.9868\n",
            "Epoch 14/100\n",
            "219/219 [==============================] - 2s 8ms/step - loss: 0.0016 - accuracy: 0.9997 - val_loss: 0.1163 - val_accuracy: 0.9765\n",
            "Epoch 15/100\n",
            "219/219 [==============================] - 2s 8ms/step - loss: 0.0052 - accuracy: 0.9978 - val_loss: 0.0578 - val_accuracy: 0.9914\n",
            "Epoch 16/100\n",
            "219/219 [==============================] - 2s 8ms/step - loss: 0.0017 - accuracy: 0.9994 - val_loss: 0.0717 - val_accuracy: 0.9891\n",
            "Epoch 17/100\n",
            "219/219 [==============================] - 2s 8ms/step - loss: 1.7896e-04 - accuracy: 1.0000 - val_loss: 0.0740 - val_accuracy: 0.9897\n",
            "Epoch 18/100\n",
            "219/219 [==============================] - 2s 8ms/step - loss: 1.3580e-04 - accuracy: 1.0000 - val_loss: 0.0772 - val_accuracy: 0.9897\n",
            "Epoch 19/100\n",
            "219/219 [==============================] - 2s 8ms/step - loss: 1.1146e-04 - accuracy: 1.0000 - val_loss: 0.0782 - val_accuracy: 0.9886\n",
            "Epoch 20/100\n",
            "219/219 [==============================] - 2s 8ms/step - loss: 5.8916e-05 - accuracy: 1.0000 - val_loss: 0.0796 - val_accuracy: 0.9886\n",
            "Epoch 21/100\n",
            "219/219 [==============================] - 2s 8ms/step - loss: 5.7098e-05 - accuracy: 1.0000 - val_loss: 0.0810 - val_accuracy: 0.9891\n",
            "Epoch 22/100\n",
            "219/219 [==============================] - 2s 8ms/step - loss: 5.1035e-05 - accuracy: 1.0000 - val_loss: 0.0836 - val_accuracy: 0.9891\n",
            "Epoch 23/100\n",
            "219/219 [==============================] - 2s 8ms/step - loss: 3.1704e-05 - accuracy: 1.0000 - val_loss: 0.0871 - val_accuracy: 0.9891\n",
            "Epoch 24/100\n",
            "219/219 [==============================] - 2s 8ms/step - loss: 3.5775e-05 - accuracy: 1.0000 - val_loss: 0.0882 - val_accuracy: 0.9886\n",
            "Epoch 25/100\n",
            "219/219 [==============================] - 2s 8ms/step - loss: 2.2356e-05 - accuracy: 1.0000 - val_loss: 0.0906 - val_accuracy: 0.9886\n",
            "Epoch 26/100\n",
            "219/219 [==============================] - 2s 8ms/step - loss: 2.2716e-05 - accuracy: 1.0000 - val_loss: 0.0927 - val_accuracy: 0.9886\n",
            "Epoch 27/100\n",
            "219/219 [==============================] - 2s 8ms/step - loss: 2.0917e-05 - accuracy: 1.0000 - val_loss: 0.0941 - val_accuracy: 0.9886\n",
            "Epoch 28/100\n",
            "219/219 [==============================] - 2s 8ms/step - loss: 1.6251e-05 - accuracy: 1.0000 - val_loss: 0.0967 - val_accuracy: 0.9880\n",
            "Epoch 29/100\n",
            "219/219 [==============================] - 2s 8ms/step - loss: 1.4150e-05 - accuracy: 1.0000 - val_loss: 0.0994 - val_accuracy: 0.9880\n",
            "Epoch 30/100\n",
            "219/219 [==============================] - 2s 8ms/step - loss: 1.6772e-05 - accuracy: 1.0000 - val_loss: 0.1004 - val_accuracy: 0.9880\n",
            "Epoch 31/100\n",
            "219/219 [==============================] - 2s 8ms/step - loss: 1.1401e-05 - accuracy: 1.0000 - val_loss: 0.1055 - val_accuracy: 0.9880\n",
            "Epoch 32/100\n",
            "219/219 [==============================] - 2s 8ms/step - loss: 9.5341e-06 - accuracy: 1.0000 - val_loss: 0.1062 - val_accuracy: 0.9880\n",
            "Epoch 33/100\n",
            "219/219 [==============================] - 2s 8ms/step - loss: 7.8144e-06 - accuracy: 1.0000 - val_loss: 0.1076 - val_accuracy: 0.9880\n",
            "Epoch 34/100\n",
            "219/219 [==============================] - 2s 8ms/step - loss: 8.8646e-06 - accuracy: 1.0000 - val_loss: 0.1092 - val_accuracy: 0.9880\n",
            "Epoch 35/100\n",
            "219/219 [==============================] - 2s 8ms/step - loss: 6.8988e-06 - accuracy: 1.0000 - val_loss: 0.1130 - val_accuracy: 0.9880\n",
            "Epoch 36/100\n",
            "219/219 [==============================] - 2s 8ms/step - loss: 6.8282e-06 - accuracy: 1.0000 - val_loss: 0.1114 - val_accuracy: 0.9880\n",
            "Epoch 37/100\n",
            "219/219 [==============================] - 2s 8ms/step - loss: 6.0473e-06 - accuracy: 1.0000 - val_loss: 0.1152 - val_accuracy: 0.9880\n",
            "Epoch 38/100\n",
            "219/219 [==============================] - 2s 7ms/step - loss: 3.9880e-06 - accuracy: 1.0000 - val_loss: 0.1156 - val_accuracy: 0.9880\n",
            "Epoch 39/100\n",
            "219/219 [==============================] - 2s 8ms/step - loss: 4.8668e-06 - accuracy: 1.0000 - val_loss: 0.1169 - val_accuracy: 0.9874\n",
            "Epoch 40/100\n",
            "219/219 [==============================] - 2s 8ms/step - loss: 3.4362e-06 - accuracy: 1.0000 - val_loss: 0.1170 - val_accuracy: 0.9874\n",
            "Epoch 41/100\n",
            "219/219 [==============================] - 2s 8ms/step - loss: 2.9335e-06 - accuracy: 1.0000 - val_loss: 0.1212 - val_accuracy: 0.9874\n",
            "Epoch 42/100\n",
            "219/219 [==============================] - 2s 8ms/step - loss: 2.2004e-06 - accuracy: 1.0000 - val_loss: 0.1276 - val_accuracy: 0.9874\n",
            "Epoch 43/100\n",
            "219/219 [==============================] - 2s 8ms/step - loss: 2.7297e-06 - accuracy: 1.0000 - val_loss: 0.1251 - val_accuracy: 0.9874\n",
            "Epoch 44/100\n",
            "219/219 [==============================] - 2s 8ms/step - loss: 2.1326e-06 - accuracy: 1.0000 - val_loss: 0.1297 - val_accuracy: 0.9874\n",
            "Epoch 45/100\n",
            "219/219 [==============================] - 2s 8ms/step - loss: 2.6106e-06 - accuracy: 1.0000 - val_loss: 0.1053 - val_accuracy: 0.9891\n",
            "Epoch 46/100\n",
            "219/219 [==============================] - 2s 8ms/step - loss: 2.3776e-06 - accuracy: 1.0000 - val_loss: 0.1095 - val_accuracy: 0.9891\n",
            "Epoch 47/100\n",
            "219/219 [==============================] - 2s 8ms/step - loss: 2.0409e-06 - accuracy: 1.0000 - val_loss: 0.1128 - val_accuracy: 0.9891\n",
            "Epoch 48/100\n",
            "219/219 [==============================] - 2s 8ms/step - loss: 1.7496e-06 - accuracy: 1.0000 - val_loss: 0.1155 - val_accuracy: 0.9891\n",
            "Epoch 49/100\n",
            "219/219 [==============================] - 2s 8ms/step - loss: 9.6584e-07 - accuracy: 1.0000 - val_loss: 0.1203 - val_accuracy: 0.9891\n",
            "Epoch 50/100\n",
            "219/219 [==============================] - 2s 8ms/step - loss: 9.3875e-07 - accuracy: 1.0000 - val_loss: 0.1220 - val_accuracy: 0.9891\n",
            "Epoch 51/100\n",
            "219/219 [==============================] - 2s 8ms/step - loss: 8.8888e-07 - accuracy: 1.0000 - val_loss: 0.1281 - val_accuracy: 0.9880\n",
            "Epoch 52/100\n",
            "219/219 [==============================] - 2s 8ms/step - loss: 7.4326e-07 - accuracy: 1.0000 - val_loss: 0.1241 - val_accuracy: 0.9891\n",
            "Epoch 53/100\n",
            "219/219 [==============================] - 2s 8ms/step - loss: 9.5391e-07 - accuracy: 1.0000 - val_loss: 0.1335 - val_accuracy: 0.9874\n",
            "Epoch 54/100\n",
            "219/219 [==============================] - 2s 8ms/step - loss: 7.9157e-07 - accuracy: 1.0000 - val_loss: 0.1307 - val_accuracy: 0.9886\n",
            "Epoch 55/100\n",
            "219/219 [==============================] - 2s 8ms/step - loss: 6.4767e-07 - accuracy: 1.0000 - val_loss: 0.1356 - val_accuracy: 0.9874\n",
            "Epoch 56/100\n",
            "219/219 [==============================] - 2s 8ms/step - loss: 5.1223e-07 - accuracy: 1.0000 - val_loss: 0.1409 - val_accuracy: 0.9874\n",
            "Epoch 57/100\n",
            "219/219 [==============================] - 2s 8ms/step - loss: 4.7819e-07 - accuracy: 1.0000 - val_loss: 0.1408 - val_accuracy: 0.9874\n",
            "Epoch 58/100\n",
            "219/219 [==============================] - 2s 8ms/step - loss: 3.2752e-07 - accuracy: 1.0000 - val_loss: 0.1456 - val_accuracy: 0.9874\n",
            "Epoch 59/100\n",
            "219/219 [==============================] - 2s 8ms/step - loss: 3.9648e-07 - accuracy: 1.0000 - val_loss: 0.1424 - val_accuracy: 0.9880\n",
            "Epoch 60/100\n",
            "219/219 [==============================] - 2s 8ms/step - loss: 3.3400e-07 - accuracy: 1.0000 - val_loss: 0.1470 - val_accuracy: 0.9874\n",
            "Epoch 61/100\n",
            "219/219 [==============================] - 2s 8ms/step - loss: 1.7892e-07 - accuracy: 1.0000 - val_loss: 0.1525 - val_accuracy: 0.9874\n",
            "Epoch 62/100\n",
            "219/219 [==============================] - 2s 8ms/step - loss: 2.3151e-07 - accuracy: 1.0000 - val_loss: 0.1517 - val_accuracy: 0.9874\n",
            "Epoch 63/100\n",
            "219/219 [==============================] - 2s 8ms/step - loss: 2.5854e-07 - accuracy: 1.0000 - val_loss: 0.1533 - val_accuracy: 0.9874\n",
            "Epoch 64/100\n",
            "219/219 [==============================] - 2s 8ms/step - loss: 1.7057e-07 - accuracy: 1.0000 - val_loss: 0.1572 - val_accuracy: 0.9874\n",
            "Epoch 65/100\n",
            "219/219 [==============================] - 2s 8ms/step - loss: 1.5352e-07 - accuracy: 1.0000 - val_loss: 0.1551 - val_accuracy: 0.9874\n",
            "Epoch 66/100\n",
            "219/219 [==============================] - 2s 8ms/step - loss: 1.4522e-07 - accuracy: 1.0000 - val_loss: 0.1581 - val_accuracy: 0.9868\n",
            "Epoch 67/100\n",
            "219/219 [==============================] - 2s 8ms/step - loss: 9.9974e-08 - accuracy: 1.0000 - val_loss: 0.1614 - val_accuracy: 0.9874\n",
            "Epoch 68/100\n",
            "219/219 [==============================] - 2s 8ms/step - loss: 1.1179e-07 - accuracy: 1.0000 - val_loss: 0.1667 - val_accuracy: 0.9874\n",
            "Epoch 69/100\n",
            "219/219 [==============================] - 2s 8ms/step - loss: 1.1331e-07 - accuracy: 1.0000 - val_loss: 0.1642 - val_accuracy: 0.9874\n",
            "Epoch 70/100\n",
            "219/219 [==============================] - 2s 8ms/step - loss: 7.0227e-08 - accuracy: 1.0000 - val_loss: 0.1646 - val_accuracy: 0.9874\n",
            "Epoch 71/100\n",
            "219/219 [==============================] - 2s 8ms/step - loss: 8.9651e-08 - accuracy: 1.0000 - val_loss: 0.1700 - val_accuracy: 0.9874\n",
            "Epoch 72/100\n",
            "219/219 [==============================] - 2s 8ms/step - loss: 6.2557e-08 - accuracy: 1.0000 - val_loss: 0.1687 - val_accuracy: 0.9874\n",
            "Epoch 73/100\n",
            "219/219 [==============================] - 2s 8ms/step - loss: 7.2358e-08 - accuracy: 1.0000 - val_loss: 0.1705 - val_accuracy: 0.9868\n",
            "Epoch 74/100\n",
            "219/219 [==============================] - 2s 8ms/step - loss: 4.7837e-08 - accuracy: 1.0000 - val_loss: 0.1742 - val_accuracy: 0.9874\n",
            "Epoch 75/100\n",
            "219/219 [==============================] - 2s 8ms/step - loss: 5.3128e-08 - accuracy: 1.0000 - val_loss: 0.1737 - val_accuracy: 0.9874\n",
            "Epoch 76/100\n",
            "219/219 [==============================] - 2s 8ms/step - loss: 4.1192e-08 - accuracy: 1.0000 - val_loss: 0.1777 - val_accuracy: 0.9868\n",
            "Epoch 77/100\n",
            "219/219 [==============================] - 2s 8ms/step - loss: 3.9171e-08 - accuracy: 1.0000 - val_loss: 0.1770 - val_accuracy: 0.9868\n",
            "Epoch 78/100\n",
            "219/219 [==============================] - 2s 8ms/step - loss: 3.7787e-08 - accuracy: 1.0000 - val_loss: 0.1767 - val_accuracy: 0.9863\n",
            "Epoch 79/100\n",
            "219/219 [==============================] - 2s 8ms/step - loss: 2.8683e-08 - accuracy: 1.0000 - val_loss: 0.1780 - val_accuracy: 0.9863\n",
            "Epoch 80/100\n",
            "219/219 [==============================] - 2s 8ms/step - loss: 2.7675e-08 - accuracy: 1.0000 - val_loss: 0.1843 - val_accuracy: 0.9868\n",
            "Epoch 81/100\n",
            "219/219 [==============================] - 2s 8ms/step - loss: 2.7025e-08 - accuracy: 1.0000 - val_loss: 0.1867 - val_accuracy: 0.9868\n",
            "Epoch 82/100\n",
            "219/219 [==============================] - 2s 8ms/step - loss: 2.3900e-08 - accuracy: 1.0000 - val_loss: 0.1852 - val_accuracy: 0.9863\n",
            "Epoch 83/100\n",
            "219/219 [==============================] - 2s 8ms/step - loss: 1.8585e-08 - accuracy: 1.0000 - val_loss: 0.1834 - val_accuracy: 0.9863\n",
            "Epoch 84/100\n",
            "219/219 [==============================] - 2s 8ms/step - loss: 2.0026e-08 - accuracy: 1.0000 - val_loss: 0.1876 - val_accuracy: 0.9868\n",
            "Epoch 85/100\n",
            "219/219 [==============================] - 2s 8ms/step - loss: 1.5782e-08 - accuracy: 1.0000 - val_loss: 0.1893 - val_accuracy: 0.9868\n",
            "Epoch 86/100\n",
            "219/219 [==============================] - 2s 8ms/step - loss: 1.8774e-08 - accuracy: 1.0000 - val_loss: 0.1966 - val_accuracy: 0.9857\n",
            "Epoch 87/100\n",
            "219/219 [==============================] - 2s 8ms/step - loss: 1.7149e-08 - accuracy: 1.0000 - val_loss: 0.1881 - val_accuracy: 0.9863\n",
            "Epoch 88/100\n",
            "219/219 [==============================] - 2s 8ms/step - loss: 7.7708e-09 - accuracy: 1.0000 - val_loss: 0.1922 - val_accuracy: 0.9868\n",
            "Epoch 89/100\n",
            "219/219 [==============================] - 2s 8ms/step - loss: 8.7349e-09 - accuracy: 1.0000 - val_loss: 0.1927 - val_accuracy: 0.9863\n",
            "Epoch 90/100\n",
            "219/219 [==============================] - 2s 8ms/step - loss: 9.7645e-09 - accuracy: 1.0000 - val_loss: 0.1966 - val_accuracy: 0.9863\n",
            "Epoch 91/100\n",
            "219/219 [==============================] - 2s 8ms/step - loss: 8.9964e-09 - accuracy: 1.0000 - val_loss: 0.1963 - val_accuracy: 0.9863\n",
            "Epoch 92/100\n",
            "219/219 [==============================] - 2s 8ms/step - loss: 6.0966e-09 - accuracy: 1.0000 - val_loss: 0.2005 - val_accuracy: 0.9868\n",
            "Epoch 93/100\n",
            "219/219 [==============================] - 2s 8ms/step - loss: 4.1752e-09 - accuracy: 1.0000 - val_loss: 0.2025 - val_accuracy: 0.9863\n",
            "Epoch 94/100\n",
            "219/219 [==============================] - 2s 8ms/step - loss: 7.1732e-09 - accuracy: 1.0000 - val_loss: 0.2018 - val_accuracy: 0.9863\n",
            "Epoch 95/100\n",
            "219/219 [==============================] - 2s 8ms/step - loss: 4.6646e-09 - accuracy: 1.0000 - val_loss: 0.2001 - val_accuracy: 0.9863\n",
            "Epoch 96/100\n",
            "219/219 [==============================] - 2s 8ms/step - loss: 4.8715e-09 - accuracy: 1.0000 - val_loss: 0.2025 - val_accuracy: 0.9863\n",
            "Epoch 97/100\n",
            "219/219 [==============================] - 2s 8ms/step - loss: 4.0160e-09 - accuracy: 1.0000 - val_loss: 0.2076 - val_accuracy: 0.9863\n",
            "Epoch 98/100\n",
            "219/219 [==============================] - 2s 8ms/step - loss: 0.0143 - accuracy: 0.9979 - val_loss: 0.0414 - val_accuracy: 0.9920\n",
            "Epoch 99/100\n",
            "219/219 [==============================] - 2s 8ms/step - loss: 0.0077 - accuracy: 0.9984 - val_loss: 0.0527 - val_accuracy: 0.9886\n",
            "Epoch 100/100\n",
            "219/219 [==============================] - 2s 8ms/step - loss: 0.0023 - accuracy: 0.9997 - val_loss: 0.0475 - val_accuracy: 0.9908\n"
          ],
          "name": "stdout"
        },
        {
          "output_type": "execute_result",
          "data": {
            "text/plain": [
              "<tensorflow.python.keras.callbacks.History at 0x7f21bd7c3f50>"
            ]
          },
          "metadata": {
            "tags": []
          },
          "execution_count": 17
        }
      ]
    },
    {
      "cell_type": "code",
      "metadata": {
        "id": "8-1MZgy8L3Dy"
      },
      "source": [
        "text = [\"only 3 more days\"]\n",
        "\n",
        "tokenized_text = tokenizer.texts_to_sequences(text)"
      ],
      "execution_count": null,
      "outputs": []
    },
    {
      "cell_type": "code",
      "metadata": {
        "id": "IExCJvq0Jq0t"
      },
      "source": [
        "prediction = model.predict(tokenized_text)"
      ],
      "execution_count": null,
      "outputs": []
    },
    {
      "cell_type": "code",
      "metadata": {
        "colab": {
          "base_uri": "https://localhost:8080/"
        },
        "id": "BvInsh7AF2eU",
        "outputId": "649b6abe-2945-4339-f410-4b34ed74f488"
      },
      "source": [
        "prediction"
      ],
      "execution_count": null,
      "outputs": [
        {
          "output_type": "execute_result",
          "data": {
            "text/plain": [
              "array([[0.00322368, 0.97772574, 0.01905065]], dtype=float32)"
            ]
          },
          "metadata": {
            "tags": []
          },
          "execution_count": 47
        }
      ]
    },
    {
      "cell_type": "code",
      "metadata": {
        "id": "zqS14LGZLx9E"
      },
      "source": [
        "#Assault, Neutral, Sexual Harassment"
      ],
      "execution_count": null,
      "outputs": []
    },
    {
      "cell_type": "code",
      "metadata": {
        "id": "s0QJEHVuWjrH"
      },
      "source": [
        "#Exporting the Model (TFLITE)\n",
        "export_dir = 'saved_model/1'\n",
        "tf.saved_model.save(model, CLASSIFIER_MODEL)"
      ],
      "execution_count": null,
      "outputs": []
    },
    {
      "cell_type": "code",
      "metadata": {
        "id": "ub-ae_4rV6gF"
      },
      "source": [
        "converter = tf.lite.TFLiteConverter.from_saved_model(export_dir)\n",
        "tflite_model = converter.convert()"
      ],
      "execution_count": null,
      "outputs": []
    },
    {
      "cell_type": "code",
      "metadata": {
        "id": "x8WpRsm6XSrl"
      },
      "source": [
        "tflite_model_file = pathlib.Path('/content/model.tflite')\n",
        "tflite_model_file.write_bytes(tflite_model)"
      ],
      "execution_count": null,
      "outputs": []
    },
    {
      "cell_type": "code",
      "metadata": {
        "id": "TKc0F73VXt_M"
      },
      "source": [
        "from google.colab import files\n",
        "files.download(tflite_model_file)"
      ],
      "execution_count": null,
      "outputs": []
    }
  ]
}