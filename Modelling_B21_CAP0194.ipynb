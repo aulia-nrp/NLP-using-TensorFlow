{
  "nbformat": 4,
  "nbformat_minor": 0,
  "metadata": {
    "colab": {
      "name": "Modelling - B21-CAP0194.ipynb",
      "provenance": [],
      "collapsed_sections": []
    },
    "kernelspec": {
      "name": "python3",
      "display_name": "Python 3"
    },
    "language_info": {
      "name": "python"
    },
    "accelerator": "GPU"
  },
  "cells": [
    {
      "cell_type": "code",
      "metadata": {
        "id": "DHHp6JqwUt0M",
        "colab": {
          "base_uri": "https://localhost:8080/",
          "height": 35
        },
        "outputId": "6be9f278-cba1-4551-f060-06bf6e4d0812"
      },
      "source": [
        "'''\n",
        "Project: Bangkit Capstone Project\n",
        "Group: B21-CAP0194\n",
        "Part: Modelling\n",
        "'''"
      ],
      "execution_count": 1,
      "outputs": [
        {
          "output_type": "execute_result",
          "data": {
            "application/vnd.google.colaboratory.intrinsic+json": {
              "type": "string"
            },
            "text/plain": [
              "'\\nProject: Bangkit Capstone Project\\nGroup: B21-CAP0194\\nPart: Modelling\\n'"
            ]
          },
          "metadata": {
            "tags": []
          },
          "execution_count": 1
        }
      ]
    },
    {
      "cell_type": "code",
      "metadata": {
        "id": "zuA8-KnMFDo9"
      },
      "source": [
        "vocab_size = 10000\n",
        "embedding_dim = 16\n",
        "max_length = 32\n",
        "trunc_type = 'post'\n",
        "oov_tok = \"<OOV>\""
      ],
      "execution_count": 5,
      "outputs": []
    },
    {
      "cell_type": "code",
      "metadata": {
        "id": "RWj-L9ssHHAf"
      },
      "source": [
        "import pandas as pd\n",
        "import numpy as np\n",
        "from tensorflow.keras.preprocessing.text import Tokenizer\n",
        "from tensorflow.keras.preprocessing.sequence import pad_sequences"
      ],
      "execution_count": 6,
      "outputs": []
    },
    {
      "cell_type": "code",
      "metadata": {
        "id": "kJlMiUMYi47A",
        "colab": {
          "base_uri": "https://localhost:8080/",
          "height": 195
        },
        "outputId": "d454ac31-8113-4f14-8551-cca6cb344557"
      },
      "source": [
        "#Import Labelled Dataset\n",
        "url = 'https://drive.google.com/file/d/1nOn8OONtZA7pcX4Pvh8W_wOUg49ZWTvT/view?usp=sharing'\n",
        "file_id = url.split('/')[-2]\n",
        "csv_url = 'https://drive.google.com/uc?id=' + file_id\n",
        "df = pd.read_csv(csv_url)\n",
        "df.head()"
      ],
      "execution_count": 7,
      "outputs": [
        {
          "output_type": "execute_result",
          "data": {
            "text/html": [
              "<div>\n",
              "<style scoped>\n",
              "    .dataframe tbody tr th:only-of-type {\n",
              "        vertical-align: middle;\n",
              "    }\n",
              "\n",
              "    .dataframe tbody tr th {\n",
              "        vertical-align: top;\n",
              "    }\n",
              "\n",
              "    .dataframe thead th {\n",
              "        text-align: right;\n",
              "    }\n",
              "</style>\n",
              "<table border=\"1\" class=\"dataframe\">\n",
              "  <thead>\n",
              "    <tr style=\"text-align: right;\">\n",
              "      <th></th>\n",
              "      <th>index</th>\n",
              "      <th>text</th>\n",
              "      <th>label</th>\n",
              "    </tr>\n",
              "  </thead>\n",
              "  <tbody>\n",
              "    <tr>\n",
              "      <th>0</th>\n",
              "      <td>0</td>\n",
              "      <td>the ironies of the  movement are too painfully...</td>\n",
              "      <td>private places</td>\n",
              "    </tr>\n",
              "    <tr>\n",
              "      <th>1</th>\n",
              "      <td>1</td>\n",
              "      <td>women in kuwait have launched a social media c...</td>\n",
              "      <td>public places</td>\n",
              "    </tr>\n",
              "    <tr>\n",
              "      <th>2</th>\n",
              "      <td>2</td>\n",
              "      <td>triger warning raising awareness of sexual ass...</td>\n",
              "      <td>private places</td>\n",
              "    </tr>\n",
              "    <tr>\n",
              "      <th>3</th>\n",
              "      <td>3</td>\n",
              "      <td>charges brought against the guy that smacked m...</td>\n",
              "      <td>private places</td>\n",
              "    </tr>\n",
              "    <tr>\n",
              "      <th>4</th>\n",
              "      <td>4</td>\n",
              "      <td>and the fourth presenter on 26th may is hannah...</td>\n",
              "      <td>educational places</td>\n",
              "    </tr>\n",
              "  </tbody>\n",
              "</table>\n",
              "</div>"
            ],
            "text/plain": [
              "   index                                               text               label\n",
              "0      0  the ironies of the  movement are too painfully...      private places\n",
              "1      1  women in kuwait have launched a social media c...       public places\n",
              "2      2  triger warning raising awareness of sexual ass...      private places\n",
              "3      3  charges brought against the guy that smacked m...      private places\n",
              "4      4  and the fourth presenter on 26th may is hannah...  educational places"
            ]
          },
          "metadata": {
            "tags": []
          },
          "execution_count": 7
        }
      ]
    },
    {
      "cell_type": "code",
      "metadata": {
        "id": "5AgazdB72PN6"
      },
      "source": [
        "df_cut = df[:100]"
      ],
      "execution_count": 4,
      "outputs": []
    },
    {
      "cell_type": "code",
      "metadata": {
        "colab": {
          "base_uri": "https://localhost:8080/",
          "height": 1000
        },
        "id": "8NAg4Tao0lsH",
        "outputId": "efc2f0ba-762a-4ded-9f14-b0a3e9c34c72"
      },
      "source": [
        "df_cut.head(50)"
      ],
      "execution_count": null,
      "outputs": [
        {
          "output_type": "execute_result",
          "data": {
            "text/html": [
              "<div>\n",
              "<style scoped>\n",
              "    .dataframe tbody tr th:only-of-type {\n",
              "        vertical-align: middle;\n",
              "    }\n",
              "\n",
              "    .dataframe tbody tr th {\n",
              "        vertical-align: top;\n",
              "    }\n",
              "\n",
              "    .dataframe thead th {\n",
              "        text-align: right;\n",
              "    }\n",
              "</style>\n",
              "<table border=\"1\" class=\"dataframe\">\n",
              "  <thead>\n",
              "    <tr style=\"text-align: right;\">\n",
              "      <th></th>\n",
              "      <th>index</th>\n",
              "      <th>text</th>\n",
              "    </tr>\n",
              "  </thead>\n",
              "  <tbody>\n",
              "    <tr>\n",
              "      <th>0</th>\n",
              "      <td>0</td>\n",
              "      <td>the ironies of the  movement are too painfully...</td>\n",
              "    </tr>\n",
              "    <tr>\n",
              "      <th>1</th>\n",
              "      <td>1</td>\n",
              "      <td>women in kuwait have launched a social media c...</td>\n",
              "    </tr>\n",
              "    <tr>\n",
              "      <th>2</th>\n",
              "      <td>2</td>\n",
              "      <td>triger warning raising awareness of sexual ass...</td>\n",
              "    </tr>\n",
              "    <tr>\n",
              "      <th>3</th>\n",
              "      <td>3</td>\n",
              "      <td>charges brought against the guy that smacked m...</td>\n",
              "    </tr>\n",
              "    <tr>\n",
              "      <th>4</th>\n",
              "      <td>4</td>\n",
              "      <td>and the fourth presenter on 26th may is hannah...</td>\n",
              "    </tr>\n",
              "    <tr>\n",
              "      <th>5</th>\n",
              "      <td>5</td>\n",
              "      <td>this is so messed up  are there any men in the...</td>\n",
              "    </tr>\n",
              "    <tr>\n",
              "      <th>6</th>\n",
              "      <td>6</td>\n",
              "      <td>to tackle an epidemic of male violence against...</td>\n",
              "    </tr>\n",
              "    <tr>\n",
              "      <th>7</th>\n",
              "      <td>7</td>\n",
              "      <td>there has been a new series of harassment alle...</td>\n",
              "    </tr>\n",
              "    <tr>\n",
              "      <th>8</th>\n",
              "      <td>8</td>\n",
              "      <td>want to see what the  movement looks like its ...</td>\n",
              "    </tr>\n",
              "    <tr>\n",
              "      <th>9</th>\n",
              "      <td>9</td>\n",
              "      <td>female students dont want to have sex w dolan ...</td>\n",
              "    </tr>\n",
              "    <tr>\n",
              "      <th>10</th>\n",
              "      <td>10</td>\n",
              "      <td>when we talk about  and violence we must ensur...</td>\n",
              "    </tr>\n",
              "    <tr>\n",
              "      <th>11</th>\n",
              "      <td>11</td>\n",
              "      <td>took in 221 million last year in nih funds the...</td>\n",
              "    </tr>\n",
              "    <tr>\n",
              "      <th>12</th>\n",
              "      <td>12</td>\n",
              "      <td>help your students to combat harassment using ...</td>\n",
              "    </tr>\n",
              "    <tr>\n",
              "      <th>13</th>\n",
              "      <td>13</td>\n",
              "      <td>im still looking to speak to disabled women wh...</td>\n",
              "    </tr>\n",
              "    <tr>\n",
              "      <th>14</th>\n",
              "      <td>14</td>\n",
              "      <td>glenn greenwald doesnt like the  movement supp...</td>\n",
              "    </tr>\n",
              "    <tr>\n",
              "      <th>15</th>\n",
              "      <td>15</td>\n",
              "      <td>for more on this topic join us for our upcomin...</td>\n",
              "    </tr>\n",
              "    <tr>\n",
              "      <th>16</th>\n",
              "      <td>16</td>\n",
              "      <td>what does the  movement have to do with the mu...</td>\n",
              "    </tr>\n",
              "    <tr>\n",
              "      <th>17</th>\n",
              "      <td>17</td>\n",
              "      <td>latest oped from  and  cuomo needs a time out ...</td>\n",
              "    </tr>\n",
              "    <tr>\n",
              "      <th>18</th>\n",
              "      <td>18</td>\n",
              "      <td>dont know who this greewald misogynist moron i...</td>\n",
              "    </tr>\n",
              "    <tr>\n",
              "      <th>19</th>\n",
              "      <td>19</td>\n",
              "      <td>morrison believes hearsay about some dude risi...</td>\n",
              "    </tr>\n",
              "    <tr>\n",
              "      <th>20</th>\n",
              "      <td>20</td>\n",
              "      <td>to tackle an epidemic of male violence against...</td>\n",
              "    </tr>\n",
              "    <tr>\n",
              "      <th>21</th>\n",
              "      <td>21</td>\n",
              "      <td>when we talk about  and violence we must ensur...</td>\n",
              "    </tr>\n",
              "    <tr>\n",
              "      <th>22</th>\n",
              "      <td>22</td>\n",
              "      <td>when will this violence and hate stop</td>\n",
              "    </tr>\n",
              "    <tr>\n",
              "      <th>23</th>\n",
              "      <td>23</td>\n",
              "      <td>anesthesia protected a known sexual predator f...</td>\n",
              "    </tr>\n",
              "    <tr>\n",
              "      <th>24</th>\n",
              "      <td>24</td>\n",
              "      <td>thank you  for your wisdom and outstanding ins...</td>\n",
              "    </tr>\n",
              "    <tr>\n",
              "      <th>25</th>\n",
              "      <td>25</td>\n",
              "      <td>a few incels on tiktok have dubbed  as nationa...</td>\n",
              "    </tr>\n",
              "    <tr>\n",
              "      <th>26</th>\n",
              "      <td>26</td>\n",
              "      <td>what has  actually changed</td>\n",
              "    </tr>\n",
              "    <tr>\n",
              "      <th>27</th>\n",
              "      <td>27</td>\n",
              "      <td>harassment retaliation</td>\n",
              "    </tr>\n",
              "    <tr>\n",
              "      <th>28</th>\n",
              "      <td>28</td>\n",
              "      <td>looking forward 2 a panel chat  today about sy...</td>\n",
              "    </tr>\n",
              "    <tr>\n",
              "      <th>29</th>\n",
              "      <td>29</td>\n",
              "      <td>this bd is in  case does not talk about it</td>\n",
              "    </tr>\n",
              "    <tr>\n",
              "      <th>30</th>\n",
              "      <td>30</td>\n",
              "      <td>this is the child that was born as a result of...</td>\n",
              "    </tr>\n",
              "    <tr>\n",
              "      <th>31</th>\n",
              "      <td>31</td>\n",
              "      <td>event a new cultural reckoning gendered violence</td>\n",
              "    </tr>\n",
              "    <tr>\n",
              "      <th>32</th>\n",
              "      <td>32</td>\n",
              "      <td>the tail of the anita hill fury got us to   re...</td>\n",
              "    </tr>\n",
              "    <tr>\n",
              "      <th>33</th>\n",
              "      <td>33</td>\n",
              "      <td>oh no thats terrible   can you please link the...</td>\n",
              "    </tr>\n",
              "    <tr>\n",
              "      <th>34</th>\n",
              "      <td>34</td>\n",
              "      <td>turns out it was gary all along</td>\n",
              "    </tr>\n",
              "    <tr>\n",
              "      <th>35</th>\n",
              "      <td>35</td>\n",
              "      <td>ever since i bared my soul and jump through he...</td>\n",
              "    </tr>\n",
              "    <tr>\n",
              "      <th>36</th>\n",
              "      <td>36</td>\n",
              "      <td>to all victims of abuseit is never too late to...</td>\n",
              "    </tr>\n",
              "    <tr>\n",
              "      <th>37</th>\n",
              "      <td>37</td>\n",
              "      <td>the military claims they take a hard line agai...</td>\n",
              "    </tr>\n",
              "    <tr>\n",
              "      <th>38</th>\n",
              "      <td>38</td>\n",
              "      <td>we personally believe that victims of any form...</td>\n",
              "    </tr>\n",
              "    <tr>\n",
              "      <th>39</th>\n",
              "      <td>39</td>\n",
              "      <td>chads an excon trying to start over</td>\n",
              "    </tr>\n",
              "    <tr>\n",
              "      <th>40</th>\n",
              "      <td>40</td>\n",
              "      <td>we personally believe that victims of any form...</td>\n",
              "    </tr>\n",
              "    <tr>\n",
              "      <th>41</th>\n",
              "      <td>41</td>\n",
              "      <td>and democrats still failed   what a waste of o...</td>\n",
              "    </tr>\n",
              "    <tr>\n",
              "      <th>42</th>\n",
              "      <td>42</td>\n",
              "      <td>tw sexual assault  read recognizing rape findi...</td>\n",
              "    </tr>\n",
              "    <tr>\n",
              "      <th>43</th>\n",
              "      <td>43</td>\n",
              "      <td>young women dont think its cool what he did to...</td>\n",
              "    </tr>\n",
              "    <tr>\n",
              "      <th>44</th>\n",
              "      <td>44</td>\n",
              "      <td>amplify diverse perspectives and stories with ...</td>\n",
              "    </tr>\n",
              "    <tr>\n",
              "      <th>45</th>\n",
              "      <td>45</td>\n",
              "      <td>actually amazing to see  standing up to be cou...</td>\n",
              "    </tr>\n",
              "    <tr>\n",
              "      <th>46</th>\n",
              "      <td>46</td>\n",
              "      <td>is hugging  required play in the</td>\n",
              "    </tr>\n",
              "    <tr>\n",
              "      <th>47</th>\n",
              "      <td>47</td>\n",
              "      <td>maybe he was afraid he might get  d if  his ha...</td>\n",
              "    </tr>\n",
              "    <tr>\n",
              "      <th>48</th>\n",
              "      <td>48</td>\n",
              "      <td>damn it where is  r  wisconsin catholic school...</td>\n",
              "    </tr>\n",
              "    <tr>\n",
              "      <th>49</th>\n",
              "      <td>49</td>\n",
              "      <td>he also had this app on his phones its used to...</td>\n",
              "    </tr>\n",
              "  </tbody>\n",
              "</table>\n",
              "</div>"
            ],
            "text/plain": [
              "    index                                               text\n",
              "0       0  the ironies of the  movement are too painfully...\n",
              "1       1  women in kuwait have launched a social media c...\n",
              "2       2  triger warning raising awareness of sexual ass...\n",
              "3       3  charges brought against the guy that smacked m...\n",
              "4       4  and the fourth presenter on 26th may is hannah...\n",
              "5       5  this is so messed up  are there any men in the...\n",
              "6       6  to tackle an epidemic of male violence against...\n",
              "7       7  there has been a new series of harassment alle...\n",
              "8       8  want to see what the  movement looks like its ...\n",
              "9       9  female students dont want to have sex w dolan ...\n",
              "10     10  when we talk about  and violence we must ensur...\n",
              "11     11  took in 221 million last year in nih funds the...\n",
              "12     12  help your students to combat harassment using ...\n",
              "13     13  im still looking to speak to disabled women wh...\n",
              "14     14  glenn greenwald doesnt like the  movement supp...\n",
              "15     15  for more on this topic join us for our upcomin...\n",
              "16     16  what does the  movement have to do with the mu...\n",
              "17     17  latest oped from  and  cuomo needs a time out ...\n",
              "18     18  dont know who this greewald misogynist moron i...\n",
              "19     19  morrison believes hearsay about some dude risi...\n",
              "20     20  to tackle an epidemic of male violence against...\n",
              "21     21  when we talk about  and violence we must ensur...\n",
              "22     22         when will this violence and hate stop     \n",
              "23     23  anesthesia protected a known sexual predator f...\n",
              "24     24  thank you  for your wisdom and outstanding ins...\n",
              "25     25  a few incels on tiktok have dubbed  as nationa...\n",
              "26     26                   what has  actually changed      \n",
              "27     27                            harassment retaliation \n",
              "28     28  looking forward 2 a panel chat  today about sy...\n",
              "29     29         this bd is in  case does not talk about it\n",
              "30     30  this is the child that was born as a result of...\n",
              "31     31  event a new cultural reckoning gendered violence \n",
              "32     32  the tail of the anita hill fury got us to   re...\n",
              "33     33  oh no thats terrible   can you please link the...\n",
              "34     34                 turns out it was gary all along   \n",
              "35     35  ever since i bared my soul and jump through he...\n",
              "36     36  to all victims of abuseit is never too late to...\n",
              "37     37  the military claims they take a hard line agai...\n",
              "38     38  we personally believe that victims of any form...\n",
              "39     39                chads an excon trying to start over\n",
              "40     40  we personally believe that victims of any form...\n",
              "41     41  and democrats still failed   what a waste of o...\n",
              "42     42  tw sexual assault  read recognizing rape findi...\n",
              "43     43  young women dont think its cool what he did to...\n",
              "44     44  amplify diverse perspectives and stories with ...\n",
              "45     45  actually amazing to see  standing up to be cou...\n",
              "46     46                is hugging  required play in the   \n",
              "47     47  maybe he was afraid he might get  d if  his ha...\n",
              "48     48  damn it where is  r  wisconsin catholic school...\n",
              "49     49  he also had this app on his phones its used to..."
            ]
          },
          "metadata": {
            "tags": []
          },
          "execution_count": 5
        }
      ]
    },
    {
      "cell_type": "code",
      "metadata": {
        "id": "tZVt0PJwicED"
      },
      "source": [
        "import getpass\n",
        "\n",
        "APIKEY = getpass.getpass()"
      ],
      "execution_count": null,
      "outputs": []
    },
    {
      "cell_type": "code",
      "metadata": {
        "id": "WbL6WYXBlycO"
      },
      "source": [
        "# running Translate API\n",
        "#from googleapiclient.discovery import build\n",
        "#service = build('translate', 'v2', developerKey=APIKEY)\n",
        "\n",
        "#df_cut['indo_text'] = df_cut['text'].apply(lambda x: (service.translations().list(source='en', target='id', q=x).execute())).apply(lambda x: x['translations']).apply(lambda x: x[0]).apply(lambda x: x['translatedText'])"
      ],
      "execution_count": null,
      "outputs": []
    },
    {
      "cell_type": "code",
      "metadata": {
        "id": "GeM4W3MPwB9A"
      },
      "source": [
        "# running Translate API\n",
        "from googleapiclient.discovery import build\n",
        "service = build('translate', 'v2', developerKey=APIKEY)\n",
        "\n",
        "df['indo_text'] = df['text'].apply(lambda x: (service.translations().list(source='en', target='id', q=x).execute())).apply(lambda x: x['translations']).apply(lambda x: x[0]).apply(lambda x: x['translatedText'])"
      ],
      "execution_count": null,
      "outputs": []
    },
    {
      "cell_type": "code",
      "metadata": {
        "colab": {
          "base_uri": "https://localhost:8080/"
        },
        "id": "uChzsiCQuUfd",
        "outputId": "050ece6f-37aa-499f-ff7d-2c5225fc5733"
      },
      "source": [
        "df['indo_text'].head(50)"
      ],
      "execution_count": null,
      "outputs": [
        {
          "output_type": "execute_result",
          "data": {
            "text/plain": [
              "0     ironi gerakan ini terlalu menyakitkan dan jela...\n",
              "1     perempuan di kuwait telah meluncurkan kampanye...\n",
              "2     peringatan triger meningkatkan kesadaran akan ...\n",
              "3     dakwaan yang diajukan terhadap pria yang memuk...\n",
              "4     dan presenter keempat pada tanggal 26 mei adal...\n",
              "5     Ini sangat kacau, adakah pria di mata publik, ...\n",
              "6     untuk mengatasi epidemi kekerasan laki-laki te...\n",
              "7     Ada serangkaian tuduhan pelecehan baru terhada...\n",
              "8     ingin melihat seperti apa gerakan para wanita ...\n",
              "9     siswa perempuan tidak ingin berhubungan seks d...\n",
              "10    ketika kita berbicara tentang dan kekerasan, k...\n",
              "11    ambil 221 juta tahun lalu di nih dana nih mand...\n",
              "12    bantu siswa Anda untuk memerangi pelecehan men...\n",
              "13    Saya masih ingin berbicara dengan wanita penya...\n",
              "14    glenn greenwald tidak menyukai gerakan yang me...\n",
              "15    untuk lebih lanjut tentang topik ini bergabung...\n",
              "16    apa gerakan itu harus dilakukan dengan pembunu...\n",
              "17    oped terbaru dari dan cuomo membutuhkan waktu ...\n",
              "18    Tidak tahu siapa orang tolol misoginis greewal...\n",
              "19    Morrison percaya desas-desus tentang beberapa ...\n",
              "20    Untuk mengatasi epidemi kekerasan laki-laki te...\n",
              "21    ketika kita berbicara tentang dan kekerasan, k...\n",
              "22      kapan kekerasan dan kebencian ini akan berhenti\n",
              "23    anestesi melindungi predator seksual yang dike...\n",
              "24    terima kasih atas kebijaksanaan dan wawasan lu...\n",
              "25    beberapa incel di tiktok dijuluki sebagai hari...\n",
              "26                          apa yang sebenarnya berubah\n",
              "27                                 pembalasan pelecehan\n",
              "28    melihat ke depan 2 obrolan panel hari ini tent...\n",
              "29                    bd ini jika tidak membicarakannya\n",
              "30    ini adalah anak yang lahir sebagai akibat dari...\n",
              "31       Acara perhitungan budaya baru kekerasan gender\n",
              "32    Ekor amukan bukit anita membuat kami merekam u...\n",
              "33    oh tidak, itu buruk, bisakah Anda menautkan ut...\n",
              "34                             ternyata selama ini gary\n",
              "35    Sejak aku memamerkan jiwaku dan melompati ling...\n",
              "36    kepada semua korban pelecehan, tidak ada kata ...\n",
              "37    militer mengklaim mereka mengambil tindakan te...\n",
              "38    kami secara pribadi percaya bahwa para korban ...\n",
              "39            chads excon mencoba untuk memulai kembali\n",
              "40    Kami secara pribadi percaya bahwa para korban ...\n",
              "41    dan para demokrat masih gagal karena menyia-ny...\n",
              "42    tw kekerasan seksual membaca mengakui pemerkos...\n",
              "43    wanita muda tidak berpikir itu keren apa yang ...\n",
              "44    perkuat berbagai perspektif dan cerita dengan ...\n",
              "45    benar-benar luar biasa melihat berdiri untuk d...\n",
              "46                 memeluk permainan yang diperlukan di\n",
              "47    mungkin dia takut dia akan terkena jika tangan...\n",
              "48    sialan di mana r wisconsin guru sekolah katoli...\n",
              "49    dia juga memiliki aplikasi ini di ponselnya ya...\n",
              "Name: indo_text, dtype: object"
            ]
          },
          "metadata": {
            "tags": []
          },
          "execution_count": 111
        }
      ]
    },
    {
      "cell_type": "code",
      "metadata": {
        "id": "cI2HovVcvh2j"
      },
      "source": [
        "#Save DataFrame to CSV\n",
        "df_translated = pd.DataFrame()\n",
        "df_translated['index'] = df['index']\n",
        "df_translated['text'] = df['text']\n",
        "df_translated['indo_text'] = df['indo_text']\n",
        "df_translated.to_csv(\"capstonetweettranslatednew.csv\", index=False)"
      ],
      "execution_count": null,
      "outputs": []
    },
    {
      "cell_type": "code",
      "metadata": {
        "id": "_zugJcnpsr4p"
      },
      "source": [
        "labels = pd.get_dummies(df.label)"
      ],
      "execution_count": 8,
      "outputs": []
    },
    {
      "cell_type": "code",
      "metadata": {
        "id": "sMP4dEqss7hA"
      },
      "source": [
        "df_new = pd.concat([df, labels], axis=1)\n",
        "df_new = df_new.drop(columns='label')"
      ],
      "execution_count": 9,
      "outputs": []
    },
    {
      "cell_type": "code",
      "metadata": {
        "id": "K_YhqeK_soIr"
      },
      "source": [
        "tweet = df_new['text'].values\n",
        "label = df_new[[\"private places\",\"public places\",\"work places\",\"educational places\", \"cyber\",\"neutral\"]].values"
      ],
      "execution_count": 10,
      "outputs": []
    },
    {
      "cell_type": "code",
      "metadata": {
        "colab": {
          "base_uri": "https://localhost:8080/"
        },
        "id": "Fhtsnub1wT99",
        "outputId": "e3e75255-5f9f-4a8d-879e-f64b30c4dc69"
      },
      "source": [
        "label"
      ],
      "execution_count": 11,
      "outputs": [
        {
          "output_type": "execute_result",
          "data": {
            "text/plain": [
              "array([[1, 0, 0, 0, 0, 0],\n",
              "       [0, 1, 0, 0, 0, 0],\n",
              "       [1, 0, 0, 0, 0, 0],\n",
              "       ...,\n",
              "       [0, 1, 0, 0, 0, 0],\n",
              "       [1, 0, 0, 0, 0, 0],\n",
              "       [0, 1, 0, 0, 0, 0]], dtype=uint8)"
            ]
          },
          "metadata": {
            "tags": []
          },
          "execution_count": 11
        }
      ]
    },
    {
      "cell_type": "code",
      "metadata": {
        "id": "Lu2JQOMsjByI"
      },
      "source": [
        "from sklearn.model_selection import train_test_split\n",
        "#Train Text, Test Text, Train Label, Test Label\n",
        "X_train, X_test, y_train, y_test = train_test_split(tweet, label, test_size=0.2, shuffle=True)"
      ],
      "execution_count": 12,
      "outputs": []
    },
    {
      "cell_type": "code",
      "metadata": {
        "id": "sBtqd28eGu4Y"
      },
      "source": [
        "tokenizer = Tokenizer(num_words = vocab_size, oov_token = oov_tok)\n",
        "tokenizer.fit_on_texts(X_train)\n",
        "word_index = tokenizer.word_index\n",
        "sequences = tokenizer.texts_to_sequences(X_train)\n",
        "padded = pad_sequences(sequences, maxlen=max_length, truncating=trunc_type)\n",
        "\n",
        "testing_sequences = tokenizer.texts_to_sequences(X_test)\n",
        "testing_padded = pad_sequences(testing_sequences, maxlen = max_length)"
      ],
      "execution_count": 13,
      "outputs": []
    },
    {
      "cell_type": "code",
      "metadata": {
        "id": "RjZ8vIaNHUe1"
      },
      "source": [
        "import tensorflow as tf\n",
        "'''\n",
        "model = tf.keras.Sequential([\n",
        "  tf.keras.layers.Embedding(vocab_size, embedding_dim, input_length=max_length),\n",
        "  #tf.keras.layers.Flatten(),\n",
        "  tf.keras.layers.LSTM(64),\n",
        "  tf.keras.layers.Dense(32, activation='relu'),\n",
        "  tf.keras.layers.Dense(6, activation='softmax')\n",
        "])\n",
        "\n",
        "'''\n",
        "model = tf.keras.Sequential([\n",
        "  tf.keras.layers.Embedding(vocab_size, embedding_dim, input_length=max_length),\n",
        "  #tf.keras.layers.Flatten(),\n",
        "  tf.keras.layers.Bidirectional(tf.keras.layers.LSTM(64, return_sequences=True)),\n",
        "  tf.keras.layers.Bidirectional(tf.keras.layers.LSTM(32)),\n",
        "  tf.keras.layers.Dense(32, activation='relu'),\n",
        "  tf.keras.layers.Dense(6, activation='softmax')\n",
        "])\n"
      ],
      "execution_count": 14,
      "outputs": []
    },
    {
      "cell_type": "markdown",
      "metadata": {
        "id": "sngBU5lCJ6aa"
      },
      "source": [
        "transfer learning models for NLP: BERT, coba buka ini https://www.dlology.com/blog/keras-meets-universal-sentence-encoder-transfer-learning-for-text-data/"
      ]
    },
    {
      "cell_type": "code",
      "metadata": {
        "colab": {
          "base_uri": "https://localhost:8080/"
        },
        "id": "bVv4IUpQIu1q",
        "outputId": "80fa7b90-69ba-4052-9a2e-c89c2e388ec9"
      },
      "source": [
        "model.compile(loss='categorical_crossentropy', optimizer='adam', metrics=['accuracy'])\n",
        "model.summary()"
      ],
      "execution_count": 15,
      "outputs": [
        {
          "output_type": "stream",
          "text": [
            "Model: \"sequential\"\n",
            "_________________________________________________________________\n",
            "Layer (type)                 Output Shape              Param #   \n",
            "=================================================================\n",
            "embedding (Embedding)        (None, 32, 16)            160000    \n",
            "_________________________________________________________________\n",
            "bidirectional (Bidirectional (None, 32, 128)           41472     \n",
            "_________________________________________________________________\n",
            "bidirectional_1 (Bidirection (None, 64)                41216     \n",
            "_________________________________________________________________\n",
            "dense (Dense)                (None, 32)                2080      \n",
            "_________________________________________________________________\n",
            "dense_1 (Dense)              (None, 6)                 198       \n",
            "=================================================================\n",
            "Total params: 244,966\n",
            "Trainable params: 244,966\n",
            "Non-trainable params: 0\n",
            "_________________________________________________________________\n"
          ],
          "name": "stdout"
        }
      ]
    },
    {
      "cell_type": "code",
      "metadata": {
        "colab": {
          "base_uri": "https://localhost:8080/"
        },
        "id": "wurt_WmlJLoV",
        "outputId": "30f59362-d277-4623-ac0e-85ffdb58e0ef"
      },
      "source": [
        "num_epochs = 100\n",
        "model.fit(padded, y_train, epochs=num_epochs, validation_data=(testing_padded, y_test))"
      ],
      "execution_count": 16,
      "outputs": [
        {
          "output_type": "stream",
          "text": [
            "Epoch 1/10\n",
            "353/353 [==============================] - 51s 44ms/step - loss: 1.3053 - accuracy: 0.4396 - val_loss: 0.8691 - val_accuracy: 0.6644\n",
            "Epoch 2/10\n",
            "353/353 [==============================] - 14s 39ms/step - loss: 0.6898 - accuracy: 0.7535 - val_loss: 0.6569 - val_accuracy: 0.7845\n",
            "Epoch 3/10\n",
            "353/353 [==============================] - 14s 40ms/step - loss: 0.3709 - accuracy: 0.8721 - val_loss: 0.5743 - val_accuracy: 0.8221\n",
            "Epoch 4/10\n",
            "353/353 [==============================] - 14s 40ms/step - loss: 0.2323 - accuracy: 0.9195 - val_loss: 0.5847 - val_accuracy: 0.8296\n",
            "Epoch 5/10\n",
            "353/353 [==============================] - 14s 40ms/step - loss: 0.1630 - accuracy: 0.9474 - val_loss: 0.6740 - val_accuracy: 0.8122\n",
            "Epoch 6/10\n",
            "353/353 [==============================] - 14s 39ms/step - loss: 0.1102 - accuracy: 0.9657 - val_loss: 0.6479 - val_accuracy: 0.8444\n",
            "Epoch 7/10\n",
            "353/353 [==============================] - 14s 39ms/step - loss: 0.0740 - accuracy: 0.9814 - val_loss: 0.7112 - val_accuracy: 0.8462\n",
            "Epoch 8/10\n",
            "353/353 [==============================] - 14s 40ms/step - loss: 0.0540 - accuracy: 0.9868 - val_loss: 0.6655 - val_accuracy: 0.8565\n",
            "Epoch 9/10\n",
            "353/353 [==============================] - 14s 40ms/step - loss: 0.0463 - accuracy: 0.9880 - val_loss: 0.7895 - val_accuracy: 0.8430\n",
            "Epoch 10/10\n",
            "353/353 [==============================] - 14s 40ms/step - loss: 0.0320 - accuracy: 0.9923 - val_loss: 0.7262 - val_accuracy: 0.8657\n"
          ],
          "name": "stdout"
        },
        {
          "output_type": "execute_result",
          "data": {
            "text/plain": [
              "<tensorflow.python.keras.callbacks.History at 0x7fa6e534ad90>"
            ]
          },
          "metadata": {
            "tags": []
          },
          "execution_count": 16
        }
      ]
    },
    {
      "cell_type": "code",
      "metadata": {
        "id": "8-1MZgy8L3Dy"
      },
      "source": [
        "text = [\"i meet my mom and my dad at home\"]\n",
        "\n",
        "tokenized_text = tokenizer.texts_to_sequences(text)"
      ],
      "execution_count": 36,
      "outputs": []
    },
    {
      "cell_type": "code",
      "metadata": {
        "id": "IExCJvq0Jq0t",
        "colab": {
          "base_uri": "https://localhost:8080/"
        },
        "outputId": "5aaea3c1-a493-403d-ec2a-b2c4e78c6285"
      },
      "source": [
        "prediction = model.predict(tokenized_text)"
      ],
      "execution_count": 37,
      "outputs": [
        {
          "output_type": "stream",
          "text": [
            "WARNING:tensorflow:Model was constructed with shape (None, 32) for input KerasTensor(type_spec=TensorSpec(shape=(None, 32), dtype=tf.float32, name='embedding_input'), name='embedding_input', description=\"created by layer 'embedding_input'\"), but it was called on an input with incompatible shape (None, 9).\n"
          ],
          "name": "stdout"
        },
        {
          "output_type": "stream",
          "text": [
            "WARNING:tensorflow:Model was constructed with shape (None, 32) for input KerasTensor(type_spec=TensorSpec(shape=(None, 32), dtype=tf.float32, name='embedding_input'), name='embedding_input', description=\"created by layer 'embedding_input'\"), but it was called on an input with incompatible shape (None, 9).\n"
          ],
          "name": "stderr"
        }
      ]
    },
    {
      "cell_type": "code",
      "metadata": {
        "colab": {
          "base_uri": "https://localhost:8080/"
        },
        "id": "BvInsh7AF2eU",
        "outputId": "29590d7e-6229-49bc-f7d2-5d42f1b3ac44"
      },
      "source": [
        "labels = [\"private places\",\"public places\",\"work places\",\"educational places\", \"cyber\",\"neutral\"]\n",
        "predicted = prediction.argmax(axis=1)\n",
        "predict_labels = [labels[predict] for predict in predicted]\n",
        "print(prediction)\n",
        "print(predict_labels)"
      ],
      "execution_count": 38,
      "outputs": [
        {
          "output_type": "stream",
          "text": [
            "[[9.9998105e-01 7.0689789e-06 1.1788111e-05 7.7221586e-08 1.1246856e-09\n",
            "  7.8202139e-10]]\n",
            "['private places']\n"
          ],
          "name": "stdout"
        }
      ]
    },
    {
      "cell_type": "code",
      "metadata": {
        "id": "s0QJEHVuWjrH",
        "colab": {
          "base_uri": "https://localhost:8080/"
        },
        "outputId": "6e6ce9ee-7c49-4b29-d900-9258d968a2a4"
      },
      "source": [
        "#Exporting the Model (TFLITE)\n",
        "export_dir = 'saved_model/1'\n",
        "tf.saved_model.save(model, export_dir)"
      ],
      "execution_count": 20,
      "outputs": [
        {
          "output_type": "stream",
          "text": [
            "WARNING:absl:Found untraced functions such as lstm_cell_1_layer_call_and_return_conditional_losses, lstm_cell_1_layer_call_fn, lstm_cell_2_layer_call_and_return_conditional_losses, lstm_cell_2_layer_call_fn, lstm_cell_4_layer_call_and_return_conditional_losses while saving (showing 5 of 20). These functions will not be directly callable after loading.\n",
            "WARNING:absl:Found untraced functions such as lstm_cell_1_layer_call_and_return_conditional_losses, lstm_cell_1_layer_call_fn, lstm_cell_2_layer_call_and_return_conditional_losses, lstm_cell_2_layer_call_fn, lstm_cell_4_layer_call_and_return_conditional_losses while saving (showing 5 of 20). These functions will not be directly callable after loading.\n"
          ],
          "name": "stderr"
        },
        {
          "output_type": "stream",
          "text": [
            "INFO:tensorflow:Assets written to: saved_model/1/assets\n"
          ],
          "name": "stdout"
        },
        {
          "output_type": "stream",
          "text": [
            "INFO:tensorflow:Assets written to: saved_model/1/assets\n"
          ],
          "name": "stderr"
        }
      ]
    },
    {
      "cell_type": "code",
      "metadata": {
        "id": "ub-ae_4rV6gF"
      },
      "source": [
        "converter = tf.lite.TFLiteConverter.from_saved_model(export_dir)\n",
        "tflite_model = converter.convert()"
      ],
      "execution_count": 21,
      "outputs": []
    },
    {
      "cell_type": "code",
      "metadata": {
        "id": "x8WpRsm6XSrl",
        "colab": {
          "base_uri": "https://localhost:8080/"
        },
        "outputId": "db802e17-7c83-46c9-f223-fc78240bdbed"
      },
      "source": [
        "import pathlib\n",
        "\n",
        "tflite_model_file = pathlib.Path('/content/model.tflite')\n",
        "tflite_model_file.write_bytes(tflite_model)"
      ],
      "execution_count": 22,
      "outputs": [
        {
          "output_type": "execute_result",
          "data": {
            "text/plain": [
              "1014760"
            ]
          },
          "metadata": {
            "tags": []
          },
          "execution_count": 22
        }
      ]
    },
    {
      "cell_type": "code",
      "metadata": {
        "id": "TKc0F73VXt_M",
        "colab": {
          "base_uri": "https://localhost:8080/",
          "height": 17
        },
        "outputId": "8077ff38-d9fc-4e87-e65d-01a419397ab2"
      },
      "source": [
        "from google.colab import files\n",
        "files.download(tflite_model_file)"
      ],
      "execution_count": 23,
      "outputs": [
        {
          "output_type": "display_data",
          "data": {
            "application/javascript": [
              "\n",
              "    async function download(id, filename, size) {\n",
              "      if (!google.colab.kernel.accessAllowed) {\n",
              "        return;\n",
              "      }\n",
              "      const div = document.createElement('div');\n",
              "      const label = document.createElement('label');\n",
              "      label.textContent = `Downloading \"${filename}\": `;\n",
              "      div.appendChild(label);\n",
              "      const progress = document.createElement('progress');\n",
              "      progress.max = size;\n",
              "      div.appendChild(progress);\n",
              "      document.body.appendChild(div);\n",
              "\n",
              "      const buffers = [];\n",
              "      let downloaded = 0;\n",
              "\n",
              "      const channel = await google.colab.kernel.comms.open(id);\n",
              "      // Send a message to notify the kernel that we're ready.\n",
              "      channel.send({})\n",
              "\n",
              "      for await (const message of channel.messages) {\n",
              "        // Send a message to notify the kernel that we're ready.\n",
              "        channel.send({})\n",
              "        if (message.buffers) {\n",
              "          for (const buffer of message.buffers) {\n",
              "            buffers.push(buffer);\n",
              "            downloaded += buffer.byteLength;\n",
              "            progress.value = downloaded;\n",
              "          }\n",
              "        }\n",
              "      }\n",
              "      const blob = new Blob(buffers, {type: 'application/binary'});\n",
              "      const a = document.createElement('a');\n",
              "      a.href = window.URL.createObjectURL(blob);\n",
              "      a.download = filename;\n",
              "      div.appendChild(a);\n",
              "      a.click();\n",
              "      div.remove();\n",
              "    }\n",
              "  "
            ],
            "text/plain": [
              "<IPython.core.display.Javascript object>"
            ]
          },
          "metadata": {
            "tags": []
          }
        },
        {
          "output_type": "display_data",
          "data": {
            "application/javascript": [
              "download(\"download_86259cb0-0949-4f0a-b43b-1226a036fb88\", \"model.tflite\", 1014760)"
            ],
            "text/plain": [
              "<IPython.core.display.Javascript object>"
            ]
          },
          "metadata": {
            "tags": []
          }
        }
      ]
    },
    {
      "cell_type": "code",
      "metadata": {
        "id": "wLWPD0JdTeBP"
      },
      "source": [
        "#Exporting the Tokenized Word\n",
        "import json\n",
        "\n",
        "with open( 'word_dict.json' , 'w' ) as file:\n",
        "    json.dump( tokenizer.word_index , file )"
      ],
      "execution_count": 26,
      "outputs": []
    },
    {
      "cell_type": "code",
      "metadata": {
        "id": "s08TsPMZow_P"
      },
      "source": [
        ""
      ],
      "execution_count": null,
      "outputs": []
    }
  ]
}