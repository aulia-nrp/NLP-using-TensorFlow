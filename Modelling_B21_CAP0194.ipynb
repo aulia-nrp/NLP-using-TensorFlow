{
  "nbformat": 4,
  "nbformat_minor": 0,
  "metadata": {
    "colab": {
      "name": "Modelling - B21-CAP0194.ipynb",
      "provenance": [],
      "collapsed_sections": [
        "583SEu0jPBB8",
        "WInWuPPaPb1V",
        "WxrIq8R9VTPn",
        "8bFn2RKfuSzS",
        "lU6KdkzF6Idy"
      ]
    },
    "kernelspec": {
      "name": "python3",
      "display_name": "Python 3"
    },
    "language_info": {
      "name": "python"
    },
    "accelerator": "GPU"
  },
  "cells": [
    {
      "cell_type": "markdown",
      "metadata": {
        "id": "583SEu0jPBB8"
      },
      "source": [
        "#Imports and Variables Value Initializer"
      ]
    },
    {
      "cell_type": "code",
      "metadata": {
        "colab": {
          "base_uri": "https://localhost:8080/"
        },
        "id": "0eh96NRHGlWh",
        "outputId": "16353d94-fe03-4b48-c158-29ec1384a203"
      },
      "source": [
        "!pip install Sastrawi"
      ],
      "execution_count": 1,
      "outputs": [
        {
          "output_type": "stream",
          "text": [
            "Collecting Sastrawi\n",
            "\u001b[?25l  Downloading https://files.pythonhosted.org/packages/6f/4b/bab676953da3103003730b8fcdfadbdd20f333d4add10af949dd5c51e6ed/Sastrawi-1.0.1-py2.py3-none-any.whl (209kB)\n",
            "\r\u001b[K     |█▋                              | 10kB 22.7MB/s eta 0:00:01\r\u001b[K     |███▏                            | 20kB 29.1MB/s eta 0:00:01\r\u001b[K     |████▊                           | 30kB 22.3MB/s eta 0:00:01\r\u001b[K     |██████▎                         | 40kB 16.9MB/s eta 0:00:01\r\u001b[K     |███████▉                        | 51kB 8.7MB/s eta 0:00:01\r\u001b[K     |█████████▍                      | 61kB 8.0MB/s eta 0:00:01\r\u001b[K     |███████████                     | 71kB 8.8MB/s eta 0:00:01\r\u001b[K     |████████████▌                   | 81kB 9.7MB/s eta 0:00:01\r\u001b[K     |██████████████                  | 92kB 10.1MB/s eta 0:00:01\r\u001b[K     |███████████████▋                | 102kB 8.5MB/s eta 0:00:01\r\u001b[K     |█████████████████▏              | 112kB 8.5MB/s eta 0:00:01\r\u001b[K     |██████████████████▊             | 122kB 8.5MB/s eta 0:00:01\r\u001b[K     |████████████████████▎           | 133kB 8.5MB/s eta 0:00:01\r\u001b[K     |█████████████████████▉          | 143kB 8.5MB/s eta 0:00:01\r\u001b[K     |███████████████████████▍        | 153kB 8.5MB/s eta 0:00:01\r\u001b[K     |█████████████████████████       | 163kB 8.5MB/s eta 0:00:01\r\u001b[K     |██████████████████████████▋     | 174kB 8.5MB/s eta 0:00:01\r\u001b[K     |████████████████████████████▏   | 184kB 8.5MB/s eta 0:00:01\r\u001b[K     |█████████████████████████████▊  | 194kB 8.5MB/s eta 0:00:01\r\u001b[K     |███████████████████████████████▎| 204kB 8.5MB/s eta 0:00:01\r\u001b[K     |████████████████████████████████| 215kB 8.5MB/s \n",
            "\u001b[?25hInstalling collected packages: Sastrawi\n",
            "Successfully installed Sastrawi-1.0.1\n"
          ],
          "name": "stdout"
        }
      ]
    },
    {
      "cell_type": "code",
      "metadata": {
        "id": "RWj-L9ssHHAf"
      },
      "source": [
        "import pandas as pd\n",
        "import numpy as np\n",
        "import matplotlib.pyplot as plt \n",
        "from Sastrawi.StopWordRemover.StopWordRemoverFactory import StopWordRemoverFactory\n",
        "from Sastrawi.Stemmer.StemmerFactory import StemmerFactory\n",
        "import tensorflow as tf\n",
        "from tensorflow.keras.preprocessing.text import Tokenizer\n",
        "from tensorflow.keras.preprocessing.sequence import pad_sequences\n",
        "from tensorflow.keras.optimizers import Adam"
      ],
      "execution_count": 2,
      "outputs": []
    },
    {
      "cell_type": "code",
      "metadata": {
        "id": "zuA8-KnMFDo9"
      },
      "source": [
        "vocab_size = 20000\n",
        "embedding_dim = 100\n",
        "max_length = 50\n",
        "trunc_type = 'post'\n",
        "oov_tok = \"<OOV>\""
      ],
      "execution_count": 3,
      "outputs": []
    },
    {
      "cell_type": "code",
      "metadata": {
        "id": "DHHp6JqwUt0M",
        "colab": {
          "base_uri": "https://localhost:8080/",
          "height": 34
        },
        "outputId": "2ab02d00-07c5-428c-f0a8-bca93edf0c43"
      },
      "source": [
        "'''\n",
        "Project: Bangkit Capstone Project\n",
        "Group: B21-CAP0194\n",
        "Part: Modelling\n",
        "'''"
      ],
      "execution_count": 4,
      "outputs": [
        {
          "output_type": "execute_result",
          "data": {
            "application/vnd.google.colaboratory.intrinsic+json": {
              "type": "string"
            },
            "text/plain": [
              "'\\nProject: Bangkit Capstone Project\\nGroup: B21-CAP0194\\nPart: Modelling\\n'"
            ]
          },
          "metadata": {
            "tags": []
          },
          "execution_count": 4
        }
      ]
    },
    {
      "cell_type": "markdown",
      "metadata": {
        "id": "WInWuPPaPb1V"
      },
      "source": [
        "#Translate the Dataset (Post)"
      ]
    },
    {
      "cell_type": "code",
      "metadata": {
        "id": "kJlMiUMYi47A",
        "colab": {
          "base_uri": "https://localhost:8080/",
          "height": 195
        },
        "outputId": "7bf4339b-40a9-4773-c460-22bcb22a930e"
      },
      "source": [
        "#Import Labelled Post Dataset\n",
        "url_post = 'https://drive.google.com/file/d/1VPg3UmXkT0cGEIbifhoiI4JKz3M7NX-w/view?usp=sharing'\n",
        "file_id_post = url_post.split('/')[-2]\n",
        "csv_url_post = 'https://drive.google.com/uc?id=' + file_id_post\n",
        "df_post = pd.read_csv(csv_url_post)\n",
        "df_post.head()"
      ],
      "execution_count": null,
      "outputs": [
        {
          "output_type": "execute_result",
          "data": {
            "text/html": [
              "<div>\n",
              "<style scoped>\n",
              "    .dataframe tbody tr th:only-of-type {\n",
              "        vertical-align: middle;\n",
              "    }\n",
              "\n",
              "    .dataframe tbody tr th {\n",
              "        vertical-align: top;\n",
              "    }\n",
              "\n",
              "    .dataframe thead th {\n",
              "        text-align: right;\n",
              "    }\n",
              "</style>\n",
              "<table border=\"1\" class=\"dataframe\">\n",
              "  <thead>\n",
              "    <tr style=\"text-align: right;\">\n",
              "      <th></th>\n",
              "      <th>text</th>\n",
              "      <th>label</th>\n",
              "      <th>index</th>\n",
              "    </tr>\n",
              "  </thead>\n",
              "  <tbody>\n",
              "    <tr>\n",
              "      <th>0</th>\n",
              "      <td>the ironies of the movement are too painfully ...</td>\n",
              "      <td>Lokasi Kerja</td>\n",
              "      <td>0</td>\n",
              "    </tr>\n",
              "    <tr>\n",
              "      <th>1</th>\n",
              "      <td>women in kuwait have launched a social media c...</td>\n",
              "      <td>Siber</td>\n",
              "      <td>1</td>\n",
              "    </tr>\n",
              "    <tr>\n",
              "      <th>2</th>\n",
              "      <td>triger warning raising awareness of sexual ass...</td>\n",
              "      <td>Lokasi Privat</td>\n",
              "      <td>2</td>\n",
              "    </tr>\n",
              "    <tr>\n",
              "      <th>3</th>\n",
              "      <td>charges brought against the guy that smacked m...</td>\n",
              "      <td>Lokasi Privat</td>\n",
              "      <td>3</td>\n",
              "    </tr>\n",
              "    <tr>\n",
              "      <th>4</th>\n",
              "      <td>and the fourth presenter on th may is hannah b...</td>\n",
              "      <td>Lokasi Pendidikan</td>\n",
              "      <td>4</td>\n",
              "    </tr>\n",
              "  </tbody>\n",
              "</table>\n",
              "</div>"
            ],
            "text/plain": [
              "                                                text              label  index\n",
              "0  the ironies of the movement are too painfully ...       Lokasi Kerja      0\n",
              "1  women in kuwait have launched a social media c...              Siber      1\n",
              "2  triger warning raising awareness of sexual ass...      Lokasi Privat      2\n",
              "3  charges brought against the guy that smacked m...      Lokasi Privat      3\n",
              "4  and the fourth presenter on th may is hannah b...  Lokasi Pendidikan      4"
            ]
          },
          "metadata": {
            "tags": []
          },
          "execution_count": 5
        }
      ]
    },
    {
      "cell_type": "code",
      "metadata": {
        "id": "tZVt0PJwicED",
        "colab": {
          "base_uri": "https://localhost:8080/"
        },
        "outputId": "a8d96106-b5c0-4e8c-b71d-76e5c8ae850a"
      },
      "source": [
        "#Warning! It's not free, please think several times before running this cell below\n",
        "#Enter the API Key\n",
        "import getpass\n",
        "\n",
        "APIKEY = getpass.getpass()"
      ],
      "execution_count": null,
      "outputs": [
        {
          "output_type": "stream",
          "text": [
            "··········\n"
          ],
          "name": "stdout"
        }
      ]
    },
    {
      "cell_type": "code",
      "metadata": {
        "id": "GeM4W3MPwB9A"
      },
      "source": [
        "#Warning! It's also not free, please think several times before running this cell below\n",
        "#Running Translate API\n",
        "from googleapiclient.discovery import build\n",
        "service = build('translate', 'v2', developerKey=APIKEY)\n",
        "\n",
        "df_post['indo_text'] = df_post['text'].apply(lambda x: (service.translations().list(source='en', target='id', q=x).execute())).apply(lambda x: x['translations']).apply(lambda x: x[0]).apply(lambda x: x['translatedText'])"
      ],
      "execution_count": null,
      "outputs": []
    },
    {
      "cell_type": "code",
      "metadata": {
        "id": "uChzsiCQuUfd",
        "colab": {
          "base_uri": "https://localhost:8080/"
        },
        "outputId": "2f32c582-9478-49d4-d08b-44d164331113"
      },
      "source": [
        "#Show the first 50 data in the dataset\n",
        "df_post['indo_text'].head(50)"
      ],
      "execution_count": null,
      "outputs": [
        {
          "output_type": "execute_result",
          "data": {
            "text/plain": [
              "0     ironi gerakan ini terlalu menyakitkan jelas di...\n",
              "1     wanita di kuwait telah meluncurkan kampanye me...\n",
              "2     peringatan triger meningkatkan kesadaran akan ...\n",
              "3     dakwaan yang diajukan terhadap pria yang memuk...\n",
              "4     dan presenter keempat pada bulan Mei adalah ma...\n",
              "5     Ini sangat kacau, adakah pria di mata publik, ...\n",
              "6     untuk mengatasi epidemi kekerasan laki-laki te...\n",
              "7     Ada serangkaian tuduhan pelecehan baru terhada...\n",
              "8     ingin melihat seperti apa gerakan para wanita ...\n",
              "9     siswa perempuan tidak ingin berhubungan seks d...\n",
              "10    ketika kita berbicara tentang dan kekerasan, k...\n",
              "11    mengambil jutaan tahun lalu dalam dana nih nih...\n",
              "12    bantu siswa Anda untuk memerangi pelecehan den...\n",
              "13    Saya masih ingin berbicara dengan wanita penya...\n",
              "14    glenn greenwald tidak suka gerakan mendukung m...\n",
              "15    untuk lebih lanjut tentang topik ini bergabung...\n",
              "16    apa hubungan gerakan itu dengan pembunuhan ma ...\n",
              "17    opini terbaru dari dan cuomo membutuhkan waktu...\n",
              "18    tidak tahu siapa orang tolol misoginis greewal...\n",
              "19    Morrison percaya desas-desus tentang beberapa ...\n",
              "20    Untuk mengatasi epidemi kekerasan laki-laki te...\n",
              "21    ketika kita berbicara tentang dan kekerasan ki...\n",
              "22      kapan kekerasan dan kebencian ini akan berhenti\n",
              "23    anestesi melindungi predator seksual yang dike...\n",
              "24    terima kasih atas kebijaksanaan dan wawasan lu...\n",
              "25    beberapa incel di tiktok dijuluki sebagai hari...\n",
              "26                          apa yang sebenarnya berubah\n",
              "27                                 pembalasan pelecehan\n",
              "28    melihat ke depan obrolan panel hari ini tentan...\n",
              "29                    bd ini jika tidak membicarakannya\n",
              "30    ini adalah anak yang lahir sebagai akibat dari...\n",
              "31       Acara perhitungan budaya baru kekerasan gender\n",
              "32    Ekor amukan bukit anita membuat kami kembali k...\n",
              "33    oh tidak, itu buruk, bisakah Anda menautkan ut...\n",
              "34                             ternyata selama ini gary\n",
              "35    sejak aku memamerkan jiwaku dan melompati ling...\n",
              "36    kepada semua korban pelecehan, tidak ada kata ...\n",
              "37    militer mengklaim mereka mengambil tindakan te...\n",
              "38    kami secara pribadi percaya bahwa para korban ...\n",
              "39       chad s an ex con mencoba untuk memulai kembali\n",
              "40    kami secara pribadi percaya bahwa korban dari ...\n",
              "41    dan para demokrat masih gagal karena menyia-ny...\n",
              "42    tw kekerasan seksual membaca mengakui pemerkos...\n",
              "43    wanita muda tidak berpikir itu keren apa yang ...\n",
              "44    perkuat beragam perspektif dan cerita dengan j...\n",
              "45    benar-benar menakjubkan melihat berdiri untuk ...\n",
              "46                 memeluk permainan yang diperlukan di\n",
              "47    mungkin dia takut dia akan terkena jika tangan...\n",
              "48    Sial di mana r wisconsin sekolah Katolik guru ...\n",
              "49    dia juga memiliki aplikasi ini di ponselnya ya...\n",
              "Name: indo_text, dtype: object"
            ]
          },
          "metadata": {
            "tags": []
          },
          "execution_count": 8
        }
      ]
    },
    {
      "cell_type": "code",
      "metadata": {
        "id": "damQUqDWe8Be"
      },
      "source": [
        "#Convert the text into lowercase\n",
        "df_post['indo_text'] = df_post['indo_text'].str.lower()"
      ],
      "execution_count": null,
      "outputs": []
    },
    {
      "cell_type": "code",
      "metadata": {
        "id": "cI2HovVcvh2j"
      },
      "source": [
        "#Save DataFrame to CSV\n",
        "df_post.to_csv(\"capstonetweetposttranslated.csv\", index=False)"
      ],
      "execution_count": null,
      "outputs": []
    },
    {
      "cell_type": "markdown",
      "metadata": {
        "id": "WxrIq8R9VTPn"
      },
      "source": [
        "#Applying Stopwords and Stemmer (Post)"
      ]
    },
    {
      "cell_type": "code",
      "metadata": {
        "colab": {
          "base_uri": "https://localhost:8080/",
          "height": 195
        },
        "id": "LDBJl0DwWnOw",
        "outputId": "daaa72f6-2605-4eb5-8c37-1b7b9400187e"
      },
      "source": [
        "#Import Translated Post Dataset\n",
        "url_post = 'https://drive.google.com/file/d/1dWQB76NUK2DsPSYvxPD2KJQ12bKM7hmA/view?usp=sharing'\n",
        "file_id_post = url_post.split('/')[-2]\n",
        "csv_url_post = 'https://drive.google.com/uc?id=' + file_id_post\n",
        "df_post = pd.read_csv(csv_url_post)\n",
        "df_post.head()"
      ],
      "execution_count": null,
      "outputs": [
        {
          "output_type": "execute_result",
          "data": {
            "text/html": [
              "<div>\n",
              "<style scoped>\n",
              "    .dataframe tbody tr th:only-of-type {\n",
              "        vertical-align: middle;\n",
              "    }\n",
              "\n",
              "    .dataframe tbody tr th {\n",
              "        vertical-align: top;\n",
              "    }\n",
              "\n",
              "    .dataframe thead th {\n",
              "        text-align: right;\n",
              "    }\n",
              "</style>\n",
              "<table border=\"1\" class=\"dataframe\">\n",
              "  <thead>\n",
              "    <tr style=\"text-align: right;\">\n",
              "      <th></th>\n",
              "      <th>text</th>\n",
              "      <th>label</th>\n",
              "      <th>index</th>\n",
              "      <th>indo_text</th>\n",
              "    </tr>\n",
              "  </thead>\n",
              "  <tbody>\n",
              "    <tr>\n",
              "      <th>0</th>\n",
              "      <td>the ironies of the movement are too painfully ...</td>\n",
              "      <td>Lokasi Kerja</td>\n",
              "      <td>0</td>\n",
              "      <td>ironi gerakan ini terlalu menyakitkan jelas di...</td>\n",
              "    </tr>\n",
              "    <tr>\n",
              "      <th>1</th>\n",
              "      <td>women in kuwait have launched a social media c...</td>\n",
              "      <td>Siber</td>\n",
              "      <td>1</td>\n",
              "      <td>wanita di kuwait telah meluncurkan kampanye me...</td>\n",
              "    </tr>\n",
              "    <tr>\n",
              "      <th>2</th>\n",
              "      <td>triger warning raising awareness of sexual ass...</td>\n",
              "      <td>Lokasi Privat</td>\n",
              "      <td>2</td>\n",
              "      <td>peringatan triger meningkatkan kesadaran akan ...</td>\n",
              "    </tr>\n",
              "    <tr>\n",
              "      <th>3</th>\n",
              "      <td>charges brought against the guy that smacked m...</td>\n",
              "      <td>Lokasi Privat</td>\n",
              "      <td>3</td>\n",
              "      <td>dakwaan yang diajukan terhadap pria yang memuk...</td>\n",
              "    </tr>\n",
              "    <tr>\n",
              "      <th>4</th>\n",
              "      <td>and the fourth presenter on th may is hannah b...</td>\n",
              "      <td>Lokasi Pendidikan</td>\n",
              "      <td>4</td>\n",
              "      <td>dan presenter keempat pada bulan mei adalah ma...</td>\n",
              "    </tr>\n",
              "  </tbody>\n",
              "</table>\n",
              "</div>"
            ],
            "text/plain": [
              "                                                text  ...                                          indo_text\n",
              "0  the ironies of the movement are too painfully ...  ...  ironi gerakan ini terlalu menyakitkan jelas di...\n",
              "1  women in kuwait have launched a social media c...  ...  wanita di kuwait telah meluncurkan kampanye me...\n",
              "2  triger warning raising awareness of sexual ass...  ...  peringatan triger meningkatkan kesadaran akan ...\n",
              "3  charges brought against the guy that smacked m...  ...  dakwaan yang diajukan terhadap pria yang memuk...\n",
              "4  and the fourth presenter on th may is hannah b...  ...  dan presenter keempat pada bulan mei adalah ma...\n",
              "\n",
              "[5 rows x 4 columns]"
            ]
          },
          "metadata": {
            "tags": []
          },
          "execution_count": 13
        }
      ]
    },
    {
      "cell_type": "code",
      "metadata": {
        "id": "R99z4t-eYAqG"
      },
      "source": [
        "df_post['text'] = df_post['indo_text']\n",
        "df_post = df_post.drop(['indo_text'], axis=1)"
      ],
      "execution_count": null,
      "outputs": []
    },
    {
      "cell_type": "code",
      "metadata": {
        "colab": {
          "base_uri": "https://localhost:8080/"
        },
        "id": "Lr3oiA5DECBK",
        "outputId": "ae6b7f39-b65b-437d-f0e4-047331bd73b7"
      },
      "source": [
        "df_post['text']"
      ],
      "execution_count": null,
      "outputs": [
        {
          "output_type": "execute_result",
          "data": {
            "text/plain": [
              "0        ironi gerakan ini terlalu menyakitkan jelas di...\n",
              "1        wanita di kuwait telah meluncurkan kampanye me...\n",
              "2        peringatan triger meningkatkan kesadaran akan ...\n",
              "3        dakwaan yang diajukan terhadap pria yang memuk...\n",
              "4        dan presenter keempat pada bulan mei adalah ma...\n",
              "                               ...                        \n",
              "17498    ini adalah pasar dosen muda yang mungkin anda ...\n",
              "17499    dosen redpath menginap di hotel anak muda dan ...\n",
              "17500    ada dosen yang membahas berbagai topik dari me...\n",
              "17501    mereka menggantikan pemikiran dan sangat bergu...\n",
              "17502    vizard, seorang konsultan independen yang mela...\n",
              "Name: text, Length: 17503, dtype: object"
            ]
          },
          "metadata": {
            "tags": []
          },
          "execution_count": 15
        }
      ]
    },
    {
      "cell_type": "code",
      "metadata": {
        "id": "EMz_iC0WDBDx"
      },
      "source": [
        "#Remove Stopwords from Texts\n",
        "stopwordFactory = StopWordRemoverFactory()\n",
        "stopword = stopwordFactory.create_stop_word_remover()\n",
        "\n",
        "df_post['text'] = df_post['text'].apply(lambda x: stopword.remove(x))"
      ],
      "execution_count": null,
      "outputs": []
    },
    {
      "cell_type": "code",
      "metadata": {
        "colab": {
          "base_uri": "https://localhost:8080/"
        },
        "id": "KIob0zlpDv8R",
        "outputId": "7407d316-dc91-4556-c562-168cf0583f18"
      },
      "source": [
        "df_post['text']"
      ],
      "execution_count": null,
      "outputs": [
        {
          "output_type": "execute_result",
          "data": {
            "text/plain": [
              "0        ironi gerakan terlalu menyakitkan jelas dipelo...\n",
              "1        wanita kuwait meluncurkan kampanye media sosia...\n",
              "2        peringatan triger meningkatkan kesadaran pelec...\n",
              "3        dakwaan diajukan pria memukul serangan seksual...\n",
              "4        presenter keempat bulan mei mahasiswa phd hann...\n",
              "                               ...                        \n",
              "17498    adalah pasar dosen muda mungkin hargai sini se...\n",
              "17499    dosen redpath menginap hotel anak muda menghab...\n",
              "17500    dosen membahas berbagai topik mendelisme hingg...\n",
              "17501    menggantikan pemikiran sangat berguna para opt...\n",
              "17502    vizard, seorang konsultan independen melatih d...\n",
              "Name: text, Length: 17503, dtype: object"
            ]
          },
          "metadata": {
            "tags": []
          },
          "execution_count": 18
        }
      ]
    },
    {
      "cell_type": "code",
      "metadata": {
        "id": "ljAuTaF6Ea1N"
      },
      "source": [
        "#Stem the Texts (Removing Prefix and Suffix)\n",
        "stemmerFactory = StemmerFactory()\n",
        "stemmer = stemmerFactory.create_stemmer()\n",
        "\n",
        "df_post['text'] = df_post['text'].apply(lambda x: stemmer.stem(x))"
      ],
      "execution_count": null,
      "outputs": []
    },
    {
      "cell_type": "code",
      "metadata": {
        "colab": {
          "base_uri": "https://localhost:8080/"
        },
        "id": "AvLawm23GsuA",
        "outputId": "5fdcb75c-6106-40a2-9bb6-337ec3ad6221"
      },
      "source": [
        "df_post['text']"
      ],
      "execution_count": null,
      "outputs": [
        {
          "output_type": "execute_result",
          "data": {
            "text/plain": [
              "0        ironi gera terlalu sakit jelas lopor aktris ho...\n",
              "1        wanita kuwait luncur kampanye media sosial man...\n",
              "2        ingat triger tingkat sadar leceh seksual keras...\n",
              "3        dakwa aju pria pukul serang seksual persetan b...\n",
              "4        presenter empat bulan mei mahasiswa phd hannah...\n",
              "                               ...                        \n",
              "17498    adalah pasar dosen muda mungkin harga sini sem...\n",
              "17499    dosen redpath inap hotel anak muda habis hari ...\n",
              "17500    dosen bahas bagai topik mendelisme hingga meso...\n",
              "17501           ganti pikir sangat guna para optimis dosen\n",
              "17502    vizard orang konsultan independen latih dosen ...\n",
              "Name: text, Length: 17503, dtype: object"
            ]
          },
          "metadata": {
            "tags": []
          },
          "execution_count": 20
        }
      ]
    },
    {
      "cell_type": "code",
      "metadata": {
        "id": "suYQuXUANHPE"
      },
      "source": [
        "#Save DataFrame to CSV\n",
        "df_post.to_csv(\"capstonetweetpoststemmed.csv\", index=False)"
      ],
      "execution_count": null,
      "outputs": []
    },
    {
      "cell_type": "markdown",
      "metadata": {
        "id": "GuKYl5UJWLOh"
      },
      "source": [
        "#Modelling (Post)"
      ]
    },
    {
      "cell_type": "code",
      "metadata": {
        "colab": {
          "base_uri": "https://localhost:8080/",
          "height": 197
        },
        "id": "c2WW3eiDOBhG",
        "outputId": "06216e0d-c9a4-484b-edf6-e9b5e27fb4f7"
      },
      "source": [
        "#Import Stemmed Dataset\n",
        "url_post = 'https://drive.google.com/file/d/1M-JOISRaxP0aPgJo_EdjPKBdHLCaSlCb/view?usp=sharing'\n",
        "file_id_post = url_post.split('/')[-2]\n",
        "csv_url_post = 'https://drive.google.com/uc?id=' + file_id_post\n",
        "df_post = pd.read_csv(csv_url_post)\n",
        "df_post.head()"
      ],
      "execution_count": 5,
      "outputs": [
        {
          "output_type": "execute_result",
          "data": {
            "text/html": [
              "<div>\n",
              "<style scoped>\n",
              "    .dataframe tbody tr th:only-of-type {\n",
              "        vertical-align: middle;\n",
              "    }\n",
              "\n",
              "    .dataframe tbody tr th {\n",
              "        vertical-align: top;\n",
              "    }\n",
              "\n",
              "    .dataframe thead th {\n",
              "        text-align: right;\n",
              "    }\n",
              "</style>\n",
              "<table border=\"1\" class=\"dataframe\">\n",
              "  <thead>\n",
              "    <tr style=\"text-align: right;\">\n",
              "      <th></th>\n",
              "      <th>text</th>\n",
              "      <th>label</th>\n",
              "      <th>index</th>\n",
              "    </tr>\n",
              "  </thead>\n",
              "  <tbody>\n",
              "    <tr>\n",
              "      <th>0</th>\n",
              "      <td>ironi gera terlalu sakit jelas lopor aktris ho...</td>\n",
              "      <td>Lokasi Kerja</td>\n",
              "      <td>0</td>\n",
              "    </tr>\n",
              "    <tr>\n",
              "      <th>1</th>\n",
              "      <td>wanita kuwait luncur kampanye media sosial man...</td>\n",
              "      <td>Siber</td>\n",
              "      <td>1</td>\n",
              "    </tr>\n",
              "    <tr>\n",
              "      <th>2</th>\n",
              "      <td>ingat triger tingkat sadar leceh seksual keras...</td>\n",
              "      <td>Lokasi Privat</td>\n",
              "      <td>2</td>\n",
              "    </tr>\n",
              "    <tr>\n",
              "      <th>3</th>\n",
              "      <td>dakwa aju pria pukul serang seksual persetan b...</td>\n",
              "      <td>Lokasi Privat</td>\n",
              "      <td>3</td>\n",
              "    </tr>\n",
              "    <tr>\n",
              "      <th>4</th>\n",
              "      <td>presenter empat bulan mei mahasiswa phd hannah...</td>\n",
              "      <td>Lokasi Pendidikan</td>\n",
              "      <td>4</td>\n",
              "    </tr>\n",
              "  </tbody>\n",
              "</table>\n",
              "</div>"
            ],
            "text/plain": [
              "                                                text              label  index\n",
              "0  ironi gera terlalu sakit jelas lopor aktris ho...       Lokasi Kerja      0\n",
              "1  wanita kuwait luncur kampanye media sosial man...              Siber      1\n",
              "2  ingat triger tingkat sadar leceh seksual keras...      Lokasi Privat      2\n",
              "3  dakwa aju pria pukul serang seksual persetan b...      Lokasi Privat      3\n",
              "4  presenter empat bulan mei mahasiswa phd hannah...  Lokasi Pendidikan      4"
            ]
          },
          "metadata": {
            "tags": []
          },
          "execution_count": 5
        }
      ]
    },
    {
      "cell_type": "code",
      "metadata": {
        "colab": {
          "base_uri": "https://localhost:8080/"
        },
        "id": "P4Gclqa5ONVH",
        "outputId": "e61fb429-b2cd-450a-8ae6-719949e861d8"
      },
      "source": [
        "df_post['text']"
      ],
      "execution_count": 6,
      "outputs": [
        {
          "output_type": "execute_result",
          "data": {
            "text/plain": [
              "0        ironi gera terlalu sakit jelas lopor aktris ho...\n",
              "1        wanita kuwait luncur kampanye media sosial man...\n",
              "2        ingat triger tingkat sadar leceh seksual keras...\n",
              "3        dakwa aju pria pukul serang seksual persetan b...\n",
              "4        presenter empat bulan mei mahasiswa phd hannah...\n",
              "                               ...                        \n",
              "17498    adalah pasar dosen muda mungkin harga sini sem...\n",
              "17499    dosen redpath inap hotel anak muda habis hari ...\n",
              "17500    dosen bahas bagai topik mendelisme hingga meso...\n",
              "17501           ganti pikir sangat guna para optimis dosen\n",
              "17502    vizard orang konsultan independen latih dosen ...\n",
              "Name: text, Length: 17503, dtype: object"
            ]
          },
          "metadata": {
            "tags": []
          },
          "execution_count": 6
        }
      ]
    },
    {
      "cell_type": "code",
      "metadata": {
        "id": "ulvgf7_IxOz9",
        "colab": {
          "base_uri": "https://localhost:8080/"
        },
        "outputId": "253ea88a-a13d-4b6d-8768-43e08533664b"
      },
      "source": [
        "df_post['label'].value_counts()"
      ],
      "execution_count": 7,
      "outputs": [
        {
          "output_type": "execute_result",
          "data": {
            "text/plain": [
              "Netral               4617\n",
              "Lokasi Publik        3679\n",
              "Lokasi Privat        3109\n",
              "Siber                2313\n",
              "Lokasi Kerja         1894\n",
              "Lokasi Pendidikan    1891\n",
              "Name: label, dtype: int64"
            ]
          },
          "metadata": {
            "tags": []
          },
          "execution_count": 7
        }
      ]
    },
    {
      "cell_type": "code",
      "metadata": {
        "id": "_zugJcnpsr4p"
      },
      "source": [
        "labels = pd.get_dummies(df_post.label)"
      ],
      "execution_count": 8,
      "outputs": []
    },
    {
      "cell_type": "code",
      "metadata": {
        "id": "sMP4dEqss7hA"
      },
      "source": [
        "df_new_post = pd.concat([df_post, labels], axis=1)"
      ],
      "execution_count": 9,
      "outputs": []
    },
    {
      "cell_type": "code",
      "metadata": {
        "colab": {
          "base_uri": "https://localhost:8080/",
          "height": 297
        },
        "id": "m2rcT0nDl7PP",
        "outputId": "89812851-ba2c-40be-9338-602d10b12607"
      },
      "source": [
        "df_new_post.head()"
      ],
      "execution_count": 10,
      "outputs": [
        {
          "output_type": "execute_result",
          "data": {
            "text/html": [
              "<div>\n",
              "<style scoped>\n",
              "    .dataframe tbody tr th:only-of-type {\n",
              "        vertical-align: middle;\n",
              "    }\n",
              "\n",
              "    .dataframe tbody tr th {\n",
              "        vertical-align: top;\n",
              "    }\n",
              "\n",
              "    .dataframe thead th {\n",
              "        text-align: right;\n",
              "    }\n",
              "</style>\n",
              "<table border=\"1\" class=\"dataframe\">\n",
              "  <thead>\n",
              "    <tr style=\"text-align: right;\">\n",
              "      <th></th>\n",
              "      <th>text</th>\n",
              "      <th>label</th>\n",
              "      <th>index</th>\n",
              "      <th>Lokasi Kerja</th>\n",
              "      <th>Lokasi Pendidikan</th>\n",
              "      <th>Lokasi Privat</th>\n",
              "      <th>Lokasi Publik</th>\n",
              "      <th>Netral</th>\n",
              "      <th>Siber</th>\n",
              "    </tr>\n",
              "  </thead>\n",
              "  <tbody>\n",
              "    <tr>\n",
              "      <th>0</th>\n",
              "      <td>ironi gera terlalu sakit jelas lopor aktris ho...</td>\n",
              "      <td>Lokasi Kerja</td>\n",
              "      <td>0</td>\n",
              "      <td>1</td>\n",
              "      <td>0</td>\n",
              "      <td>0</td>\n",
              "      <td>0</td>\n",
              "      <td>0</td>\n",
              "      <td>0</td>\n",
              "    </tr>\n",
              "    <tr>\n",
              "      <th>1</th>\n",
              "      <td>wanita kuwait luncur kampanye media sosial man...</td>\n",
              "      <td>Siber</td>\n",
              "      <td>1</td>\n",
              "      <td>0</td>\n",
              "      <td>0</td>\n",
              "      <td>0</td>\n",
              "      <td>0</td>\n",
              "      <td>0</td>\n",
              "      <td>1</td>\n",
              "    </tr>\n",
              "    <tr>\n",
              "      <th>2</th>\n",
              "      <td>ingat triger tingkat sadar leceh seksual keras...</td>\n",
              "      <td>Lokasi Privat</td>\n",
              "      <td>2</td>\n",
              "      <td>0</td>\n",
              "      <td>0</td>\n",
              "      <td>1</td>\n",
              "      <td>0</td>\n",
              "      <td>0</td>\n",
              "      <td>0</td>\n",
              "    </tr>\n",
              "    <tr>\n",
              "      <th>3</th>\n",
              "      <td>dakwa aju pria pukul serang seksual persetan b...</td>\n",
              "      <td>Lokasi Privat</td>\n",
              "      <td>3</td>\n",
              "      <td>0</td>\n",
              "      <td>0</td>\n",
              "      <td>1</td>\n",
              "      <td>0</td>\n",
              "      <td>0</td>\n",
              "      <td>0</td>\n",
              "    </tr>\n",
              "    <tr>\n",
              "      <th>4</th>\n",
              "      <td>presenter empat bulan mei mahasiswa phd hannah...</td>\n",
              "      <td>Lokasi Pendidikan</td>\n",
              "      <td>4</td>\n",
              "      <td>0</td>\n",
              "      <td>1</td>\n",
              "      <td>0</td>\n",
              "      <td>0</td>\n",
              "      <td>0</td>\n",
              "      <td>0</td>\n",
              "    </tr>\n",
              "  </tbody>\n",
              "</table>\n",
              "</div>"
            ],
            "text/plain": [
              "                                                text  ... Siber\n",
              "0  ironi gera terlalu sakit jelas lopor aktris ho...  ...     0\n",
              "1  wanita kuwait luncur kampanye media sosial man...  ...     1\n",
              "2  ingat triger tingkat sadar leceh seksual keras...  ...     0\n",
              "3  dakwa aju pria pukul serang seksual persetan b...  ...     0\n",
              "4  presenter empat bulan mei mahasiswa phd hannah...  ...     0\n",
              "\n",
              "[5 rows x 9 columns]"
            ]
          },
          "metadata": {
            "tags": []
          },
          "execution_count": 10
        }
      ]
    },
    {
      "cell_type": "code",
      "metadata": {
        "id": "K_YhqeK_soIr"
      },
      "source": [
        "tweet_post = df_new_post['text'].astype(str).values\n",
        "label_post = df_new_post[[\"Lokasi Kerja\", \"Lokasi Pendidikan\", \"Lokasi Privat\", \"Lokasi Publik\", \"Netral\", \"Siber\"]].values"
      ],
      "execution_count": 11,
      "outputs": []
    },
    {
      "cell_type": "code",
      "metadata": {
        "id": "Fhtsnub1wT99",
        "colab": {
          "base_uri": "https://localhost:8080/"
        },
        "outputId": "51f33689-2653-4493-9eb1-5a702df947c7"
      },
      "source": [
        "label_post"
      ],
      "execution_count": 12,
      "outputs": [
        {
          "output_type": "execute_result",
          "data": {
            "text/plain": [
              "array([[1, 0, 0, 0, 0, 0],\n",
              "       [0, 0, 0, 0, 0, 1],\n",
              "       [0, 0, 1, 0, 0, 0],\n",
              "       ...,\n",
              "       [0, 1, 0, 0, 0, 0],\n",
              "       [0, 1, 0, 0, 0, 0],\n",
              "       [0, 1, 0, 0, 0, 0]], dtype=uint8)"
            ]
          },
          "metadata": {
            "tags": []
          },
          "execution_count": 12
        }
      ]
    },
    {
      "cell_type": "code",
      "metadata": {
        "id": "Lu2JQOMsjByI"
      },
      "source": [
        "from sklearn.model_selection import train_test_split\n",
        "#Train Text, Test Text, Train Label, Test Label\n",
        "X_train, X_test, y_train, y_test = train_test_split(tweet_post, label_post, test_size=0.2, shuffle=True)"
      ],
      "execution_count": 13,
      "outputs": []
    },
    {
      "cell_type": "code",
      "metadata": {
        "id": "sBtqd28eGu4Y"
      },
      "source": [
        "tokenizer = Tokenizer(num_words = vocab_size, oov_token = oov_tok)\n",
        "tokenizer.fit_on_texts(X_train)\n",
        "word_index = tokenizer.word_index\n",
        "sequences = tokenizer.texts_to_sequences(X_train)\n",
        "padded = pad_sequences(sequences, maxlen=max_length, truncating=trunc_type)\n",
        "\n",
        "testing_sequences = tokenizer.texts_to_sequences(X_test)\n",
        "testing_padded = pad_sequences(testing_sequences, maxlen = max_length)"
      ],
      "execution_count": 14,
      "outputs": []
    },
    {
      "cell_type": "code",
      "metadata": {
        "id": "jvl9nAPioO_C"
      },
      "source": [
        "class myCallback(tf.keras.callbacks.Callback):\n",
        "\tdef on_epoch_end(self, epoch, logs={}):\n",
        "\t\tif(logs.get('val_accuracy')>0.80):\n",
        "\t\t\tprint(\"Desired accuracy reached!\")\n",
        "\t\t\tself.model.stop_training=True"
      ],
      "execution_count": 15,
      "outputs": []
    },
    {
      "cell_type": "code",
      "metadata": {
        "id": "RjZ8vIaNHUe1"
      },
      "source": [
        "import tensorflow as tf\n",
        "'''\n",
        "#Initial Model (Base bi-lstm with 2 layer bi)\n",
        "model = tf.keras.Sequential([\n",
        "  tf.keras.layers.Embedding(vocab_size, embedding_dim, input_length=max_length),\n",
        "  tf.keras.layers.Bidirectional(tf.keras.layers.LSTM(64, return_sequences=True)),\n",
        "  tf.keras.layers.Bidirectional(tf.keras.layers.LSTM(32)),\n",
        "  tf.keras.layers.Dense(32, activation='relu'),\n",
        "  tf.keras.layers.Dense(6, activation='softmax')\n",
        "])\n",
        "'''\n",
        "'''\n",
        "#First Improvement (Bi-LSTM - GRU)\n",
        "#LAST: 0.7252, BEST: 0.7595 (val_acc)\n",
        "model = tf.keras.Sequential([\n",
        "  tf.keras.layers.Embedding(vocab_size, embedding_dim, input_length=max_length),\n",
        "  tf.keras.layers.Bidirectional(tf.keras.layers.GRU(128, recurrent_dropout=0.2, return_sequences=True)),\n",
        "  tf.keras.layers.Bidirectional(tf.keras.layers.LSTM(64)),\n",
        "  tf.keras.layers.Dense(128, activation='relu'),\n",
        "  tf.keras.layers.Dropout(0.5),\n",
        "  tf.keras.layers.Dense(6, activation='softmax')\n",
        "])\n",
        "'''\n",
        "'''\n",
        "#Second Improvement (4 layer bi-lstm with dropout)\n",
        "#LAST: 0.7227, BEST: 0.7349 (val_acc)\n",
        "model = tf.keras.Sequential([\n",
        "  tf.keras.layers.Embedding(vocab_size, embedding_dim, input_length=max_length),\n",
        "  tf.keras.layers.Bidirectional(tf.keras.layers.LSTM(128, return_sequences=True)),\n",
        "  tf.keras.layers.Bidirectional(tf.keras.layers.LSTM(64, return_sequences=True)),\n",
        "  tf.keras.layers.Bidirectional(tf.keras.layers.LSTM(32, return_sequences=True)),\n",
        "  tf.keras.layers.Bidirectional(tf.keras.layers.LSTM(16)),\n",
        "  tf.keras.layers.Dropout(0.1),\n",
        "  tf.keras.layers.Dense(32, activation='relu'),\n",
        "  tf.keras.layers.Dense(6, activation='softmax')\n",
        "])\n",
        "'''\n",
        "'''\n",
        "#Last Improvement with embedding_dim=100 (CNN-LSTM)\n",
        "#LAST: 0.7121, BEST: 0.7204 (val_acc)\n",
        "model = tf.keras.Sequential([\n",
        "  tf.keras.layers.Embedding(vocab_size, embedding_dim, input_length=max_length),\n",
        "  tf.keras.layers.Dropout(0.5),\n",
        "  tf.keras.layers.Conv1D(64, 3, activation='relu',padding='same'),\n",
        "  tf.keras.layers.Dropout(0.5),\n",
        "  tf.keras.layers.MaxPooling1D(pool_size=3),\n",
        "  tf.keras.layers.Dropout(0.5),\n",
        "  tf.keras.layers.LSTM(16),\n",
        "  tf.keras.layers.Dropout(0.5),\n",
        "  tf.keras.layers.Dense(6, activation='softmax')\n",
        "])\n",
        "'''\n",
        "'''\n",
        "#BEST MODEL SO FAR\n",
        "#LAST: 0.7315, BEST: 0.7315\n",
        "model = tf.keras.Sequential([\n",
        "  tf.keras.layers.Embedding(vocab_size, embedding_dim, input_length=max_length),\n",
        "  tf.keras.layers.Bidirectional(tf.keras.layers.LSTM(128, recurrent_dropout=0.3, return_sequences=True)),\n",
        "  tf.keras.layers.Bidirectional(tf.keras.layers.LSTM(64)),\n",
        "  tf.keras.layers.Dropout(0.5),\n",
        "  tf.keras.layers.Dense(32, activation='relu'),\n",
        "  tf.keras.layers.Dense(6, activation='softmax')\n",
        "])\n",
        "'''\n",
        "\n",
        "model = tf.keras.Sequential([\n",
        "  tf.keras.layers.Embedding(vocab_size, embedding_dim, input_length=max_length),\n",
        "  tf.keras.layers.Dropout(0.6),\n",
        "  tf.keras.layers.Conv1D(128, 2, activation='relu',padding='same'),\n",
        "  tf.keras.layers.Dropout(0.6),\n",
        "  tf.keras.layers.GlobalMaxPooling1D(),\n",
        "  tf.keras.layers.Dropout(0.6),\n",
        "  tf.keras.layers.Dense(64, activation='relu'),\n",
        "  tf.keras.layers.Dense(6, activation='softmax')\n",
        "])\n",
        "\n"
      ],
      "execution_count": 25,
      "outputs": []
    },
    {
      "cell_type": "code",
      "metadata": {
        "id": "bVv4IUpQIu1q",
        "colab": {
          "base_uri": "https://localhost:8080/"
        },
        "outputId": "67a2330a-5cca-413b-f0e7-30ab4ba7841f"
      },
      "source": [
        "adam = Adam(learning_rate=0.01)\n",
        "model.compile(loss='categorical_crossentropy', optimizer=adam, metrics=['accuracy'])\n",
        "model.summary()"
      ],
      "execution_count": 26,
      "outputs": [
        {
          "output_type": "stream",
          "text": [
            "Model: \"sequential_2\"\n",
            "_________________________________________________________________\n",
            "Layer (type)                 Output Shape              Param #   \n",
            "=================================================================\n",
            "embedding_2 (Embedding)      (None, 50, 100)           2000000   \n",
            "_________________________________________________________________\n",
            "dropout_6 (Dropout)          (None, 50, 100)           0         \n",
            "_________________________________________________________________\n",
            "conv1d_2 (Conv1D)            (None, 50, 128)           25728     \n",
            "_________________________________________________________________\n",
            "dropout_7 (Dropout)          (None, 50, 128)           0         \n",
            "_________________________________________________________________\n",
            "global_max_pooling1d_2 (Glob (None, 128)               0         \n",
            "_________________________________________________________________\n",
            "dropout_8 (Dropout)          (None, 128)               0         \n",
            "_________________________________________________________________\n",
            "dense_4 (Dense)              (None, 64)                8256      \n",
            "_________________________________________________________________\n",
            "dense_5 (Dense)              (None, 6)                 390       \n",
            "=================================================================\n",
            "Total params: 2,034,374\n",
            "Trainable params: 2,034,374\n",
            "Non-trainable params: 0\n",
            "_________________________________________________________________\n"
          ],
          "name": "stdout"
        }
      ]
    },
    {
      "cell_type": "code",
      "metadata": {
        "id": "wurt_WmlJLoV",
        "colab": {
          "base_uri": "https://localhost:8080/"
        },
        "outputId": "acd23834-5315-464a-e0ab-1cca81736ecd"
      },
      "source": [
        "num_epochs = 10\n",
        "callbacks = myCallback()\n",
        "history = model.fit(padded, y_train, epochs=num_epochs, validation_data=(testing_padded, y_test), callbacks=[callbacks], batch_size=64)"
      ],
      "execution_count": 27,
      "outputs": [
        {
          "output_type": "stream",
          "text": [
            "Epoch 1/10\n",
            "219/219 [==============================] - 11s 47ms/step - loss: 1.4318 - accuracy: 0.4275 - val_loss: 1.1661 - val_accuracy: 0.6564\n",
            "Epoch 2/10\n",
            "219/219 [==============================] - 10s 46ms/step - loss: 1.0515 - accuracy: 0.6238 - val_loss: 0.9846 - val_accuracy: 0.7067\n",
            "Epoch 3/10\n",
            "219/219 [==============================] - 10s 46ms/step - loss: 0.9340 - accuracy: 0.6779 - val_loss: 0.9617 - val_accuracy: 0.6781\n",
            "Epoch 4/10\n",
            "219/219 [==============================] - 10s 46ms/step - loss: 0.8601 - accuracy: 0.7069 - val_loss: 0.8930 - val_accuracy: 0.7384\n",
            "Epoch 5/10\n",
            "219/219 [==============================] - 10s 46ms/step - loss: 0.8202 - accuracy: 0.7296 - val_loss: 0.8986 - val_accuracy: 0.7281\n",
            "Epoch 6/10\n",
            "219/219 [==============================] - 10s 46ms/step - loss: 0.7841 - accuracy: 0.7463 - val_loss: 0.8809 - val_accuracy: 0.7272\n",
            "Epoch 7/10\n",
            "219/219 [==============================] - 10s 46ms/step - loss: 0.7520 - accuracy: 0.7585 - val_loss: 0.9567 - val_accuracy: 0.6938\n",
            "Epoch 8/10\n",
            "219/219 [==============================] - 10s 46ms/step - loss: 0.7380 - accuracy: 0.7698 - val_loss: 0.9085 - val_accuracy: 0.7109\n",
            "Epoch 9/10\n",
            "219/219 [==============================] - 10s 46ms/step - loss: 0.7218 - accuracy: 0.7756 - val_loss: 0.9628 - val_accuracy: 0.6755\n",
            "Epoch 10/10\n",
            "219/219 [==============================] - 10s 47ms/step - loss: 0.7117 - accuracy: 0.7819 - val_loss: 0.9434 - val_accuracy: 0.7047\n"
          ],
          "name": "stdout"
        }
      ]
    },
    {
      "cell_type": "code",
      "metadata": {
        "colab": {
          "base_uri": "https://localhost:8080/",
          "height": 975
        },
        "id": "K3rIp4m4zzxU",
        "outputId": "d1136fb8-cc42-4ffe-d01c-f933a6c5cdb8"
      },
      "source": [
        "from keras.utils.vis_utils import plot_model\n",
        "tf.keras.utils.plot_model(model, to_file='model_plot.png', show_shapes=True, show_layer_names=False)"
      ],
      "execution_count": 29,
      "outputs": [
        {
          "output_type": "execute_result",
          "data": {
            "image/png": "[encoded data removed]",
            "text/plain": [
              "<IPython.core.display.Image object>"
            ]
          },
          "metadata": {
            "tags": []
          },
          "execution_count": 29
        }
      ]
    },
    {
      "cell_type": "code",
      "metadata": {
        "id": "MX7-ShFPWQZA",
        "colab": {
          "base_uri": "https://localhost:8080/",
          "height": 541
        },
        "outputId": "e8ba3e9e-8de7-434c-dcdc-0928096bcdf1"
      },
      "source": [
        "def plot_graphs(history, string):\n",
        "  plt.plot(history.history[string])\n",
        "  plt.plot(history.history['val_'+string])\n",
        "  plt.xlabel(\"Epochs\")\n",
        "  plt.ylabel(string)\n",
        "  plt.legend([string, 'val_'+string])\n",
        "  plt.show()\n",
        "  \n",
        "plot_graphs(history, \"accuracy\")\n",
        "plot_graphs(history, \"loss\")"
      ],
      "execution_count": 28,
      "outputs": [
        {
          "output_type": "display_data",
          "data": {
            "image/png": "[encoded data removed]",
            "text/plain": [
              "<Figure size 432x288 with 1 Axes>"
            ]
          },
          "metadata": {
            "tags": [],
            "needs_background": "light"
          }
        },
        {
          "output_type": "display_data",
          "data": {
            "image/png": "[encoded data removed]",
            "text/plain": [
              "<Figure size 432x288 with 1 Axes>"
            ]
          },
          "metadata": {
            "tags": [],
            "needs_background": "light"
          }
        }
      ]
    },
    {
      "cell_type": "code",
      "metadata": {
        "id": "8-1MZgy8L3Dy"
      },
      "source": [
        "text = [\"bos di kantor\"]\n",
        "\n",
        "tokenized_text = tokenizer.texts_to_sequences(text)"
      ],
      "execution_count": 30,
      "outputs": []
    },
    {
      "cell_type": "code",
      "metadata": {
        "id": "IExCJvq0Jq0t",
        "colab": {
          "base_uri": "https://localhost:8080/"
        },
        "outputId": "993cf402-f99a-47e3-d5a7-11a5cebb5217"
      },
      "source": [
        "prediction = model.predict(tokenized_text)"
      ],
      "execution_count": 31,
      "outputs": [
        {
          "output_type": "stream",
          "text": [
            "WARNING:tensorflow:Model was constructed with shape (None, 50) for input KerasTensor(type_spec=TensorSpec(shape=(None, 50), dtype=tf.float32, name='embedding_2_input'), name='embedding_2_input', description=\"created by layer 'embedding_2_input'\"), but it was called on an input with incompatible shape (None, 3).\n"
          ],
          "name": "stdout"
        }
      ]
    },
    {
      "cell_type": "code",
      "metadata": {
        "id": "BvInsh7AF2eU",
        "colab": {
          "base_uri": "https://localhost:8080/"
        },
        "outputId": "ff4b9b27-c6e8-4b8e-a101-6ac882feb3dd"
      },
      "source": [
        "labels = [\"Lokasi Kerja\", \"Lokasi Pendidikan\", \"Lokasi Privat\", \"Lokasi Publik\", \"Netral\", \"Siber\"]\n",
        "predicted = prediction.argmax(axis=1)\n",
        "predict_labels = [labels[predict] for predict in predicted]\n",
        "print(prediction)\n",
        "print(predict_labels)"
      ],
      "execution_count": 32,
      "outputs": [
        {
          "output_type": "stream",
          "text": [
            "[[0.8506553  0.01449508 0.00296087 0.12788805 0.00094017 0.00306055]]\n",
            "['Lokasi Kerja']\n"
          ],
          "name": "stdout"
        }
      ]
    },
    {
      "cell_type": "code",
      "metadata": {
        "id": "s0QJEHVuWjrH",
        "colab": {
          "base_uri": "https://localhost:8080/"
        },
        "outputId": "6e6a53b6-2a88-4329-d95a-574ed1cc4f29"
      },
      "source": [
        "#Exporting the Model (TFLITE)\n",
        "export_dir = 'saved_model_post/1'\n",
        "tf.saved_model.save(model, export_dir)"
      ],
      "execution_count": 33,
      "outputs": [
        {
          "output_type": "stream",
          "text": [
            "WARNING:tensorflow:FOR KERAS USERS: The object that you are saving contains one or more Keras models or layers. If you are loading the SavedModel with `tf.keras.models.load_model`, continue reading (otherwise, you may ignore the following instructions). Please change your code to save with `tf.keras.models.save_model` or `model.save`, and confirm that the file \"keras.metadata\" exists in the export directory. In the future, Keras will only load the SavedModels that have this file. In other words, `tf.saved_model.save` will no longer write SavedModels that can be recovered as Keras models (this will apply in TF 2.5).\n",
            "\n",
            "FOR DEVS: If you are overwriting _tracking_metadata in your class, this property has been used to save metadata in the SavedModel. The metadta field will be deprecated soon, so please move the metadata to a different file.\n",
            "INFO:tensorflow:Assets written to: saved_model_post/1/assets\n"
          ],
          "name": "stdout"
        }
      ]
    },
    {
      "cell_type": "code",
      "metadata": {
        "id": "ub-ae_4rV6gF"
      },
      "source": [
        "converter = tf.lite.TFLiteConverter.from_saved_model(export_dir)\n",
        "tflite_model = converter.convert()"
      ],
      "execution_count": 34,
      "outputs": []
    },
    {
      "cell_type": "code",
      "metadata": {
        "id": "x8WpRsm6XSrl",
        "colab": {
          "base_uri": "https://localhost:8080/"
        },
        "outputId": "bb497d3b-d294-4242-b1af-82525c59511e"
      },
      "source": [
        "import pathlib\n",
        "\n",
        "tflite_model_post_file = pathlib.Path('/content/modelpost.tflite')\n",
        "tflite_model_post_file.write_bytes(tflite_model)"
      ],
      "execution_count": 35,
      "outputs": [
        {
          "output_type": "execute_result",
          "data": {
            "text/plain": [
              "8141024"
            ]
          },
          "metadata": {
            "tags": []
          },
          "execution_count": 35
        }
      ]
    },
    {
      "cell_type": "code",
      "metadata": {
        "id": "TKc0F73VXt_M",
        "colab": {
          "base_uri": "https://localhost:8080/",
          "height": 16
        },
        "outputId": "f93bd5b1-43c8-49c1-8ff0-91c3d9125acd"
      },
      "source": [
        "from google.colab import files\n",
        "files.download(tflite_model_post_file)"
      ],
      "execution_count": 36,
      "outputs": [
        {
          "output_type": "display_data",
          "data": {
            "application/javascript": [
              "\n",
              "    async function download(id, filename, size) {\n",
              "      if (!google.colab.kernel.accessAllowed) {\n",
              "        return;\n",
              "      }\n",
              "      const div = document.createElement('div');\n",
              "      const label = document.createElement('label');\n",
              "      label.textContent = `Downloading \"${filename}\": `;\n",
              "      div.appendChild(label);\n",
              "      const progress = document.createElement('progress');\n",
              "      progress.max = size;\n",
              "      div.appendChild(progress);\n",
              "      document.body.appendChild(div);\n",
              "\n",
              "      const buffers = [];\n",
              "      let downloaded = 0;\n",
              "\n",
              "      const channel = await google.colab.kernel.comms.open(id);\n",
              "      // Send a message to notify the kernel that we're ready.\n",
              "      channel.send({})\n",
              "\n",
              "      for await (const message of channel.messages) {\n",
              "        // Send a message to notify the kernel that we're ready.\n",
              "        channel.send({})\n",
              "        if (message.buffers) {\n",
              "          for (const buffer of message.buffers) {\n",
              "            buffers.push(buffer);\n",
              "            downloaded += buffer.byteLength;\n",
              "            progress.value = downloaded;\n",
              "          }\n",
              "        }\n",
              "      }\n",
              "      const blob = new Blob(buffers, {type: 'application/binary'});\n",
              "      const a = document.createElement('a');\n",
              "      a.href = window.URL.createObjectURL(blob);\n",
              "      a.download = filename;\n",
              "      div.appendChild(a);\n",
              "      a.click();\n",
              "      div.remove();\n",
              "    }\n",
              "  "
            ],
            "text/plain": [
              "<IPython.core.display.Javascript object>"
            ]
          },
          "metadata": {
            "tags": []
          }
        },
        {
          "output_type": "display_data",
          "data": {
            "application/javascript": [
              "download(\"download_72f90b8c-4887-48e0-988a-57a21f935868\", \"modelpost.tflite\", 8141024)"
            ],
            "text/plain": [
              "<IPython.core.display.Javascript object>"
            ]
          },
          "metadata": {
            "tags": []
          }
        }
      ]
    },
    {
      "cell_type": "code",
      "metadata": {
        "id": "wLWPD0JdTeBP"
      },
      "source": [
        "#Exporting the Tokenized Word\n",
        "import json\n",
        "\n",
        "with open( 'word_dict_post.json' , 'w' ) as file:\n",
        "    json.dump( tokenizer.word_index , file )"
      ],
      "execution_count": 37,
      "outputs": []
    },
    {
      "cell_type": "markdown",
      "metadata": {
        "id": "8bFn2RKfuSzS"
      },
      "source": [
        "#Translate the Dataset (Laporan)"
      ]
    },
    {
      "cell_type": "code",
      "metadata": {
        "id": "KkoY7wQZuYlQ",
        "colab": {
          "base_uri": "https://localhost:8080/",
          "height": 195
        },
        "outputId": "d10d8945-793b-446b-8341-832af6efc558"
      },
      "source": [
        "#Import Labelled Laporan Dataset\n",
        "url_laporan = 'https://drive.google.com/file/d/1fljXpb0LSiSelHDJLaEDt7rw0e2_ZcoY/view?usp=sharing'\n",
        "file_id_laporan = url_laporan.split('/')[-2]\n",
        "csv_url_laporan = 'https://drive.google.com/uc?id=' + file_id_laporan\n",
        "df_laporan = pd.read_csv(csv_url_laporan)\n",
        "df_laporan.head()"
      ],
      "execution_count": null,
      "outputs": [
        {
          "output_type": "execute_result",
          "data": {
            "text/html": [
              "<div>\n",
              "<style scoped>\n",
              "    .dataframe tbody tr th:only-of-type {\n",
              "        vertical-align: middle;\n",
              "    }\n",
              "\n",
              "    .dataframe tbody tr th {\n",
              "        vertical-align: top;\n",
              "    }\n",
              "\n",
              "    .dataframe thead th {\n",
              "        text-align: right;\n",
              "    }\n",
              "</style>\n",
              "<table border=\"1\" class=\"dataframe\">\n",
              "  <thead>\n",
              "    <tr style=\"text-align: right;\">\n",
              "      <th></th>\n",
              "      <th>text</th>\n",
              "      <th>label</th>\n",
              "      <th>index</th>\n",
              "    </tr>\n",
              "  </thead>\n",
              "  <tbody>\n",
              "    <tr>\n",
              "      <th>0</th>\n",
              "      <td>the ironies of the movement are too painfully ...</td>\n",
              "      <td>Kekerasan Psikis</td>\n",
              "      <td>0</td>\n",
              "    </tr>\n",
              "    <tr>\n",
              "      <th>1</th>\n",
              "      <td>women in kuwait have launched a social media c...</td>\n",
              "      <td>Kekerasan Psikis</td>\n",
              "      <td>1</td>\n",
              "    </tr>\n",
              "    <tr>\n",
              "      <th>2</th>\n",
              "      <td>triger warning raising awareness of sexual ass...</td>\n",
              "      <td>Penelantaran</td>\n",
              "      <td>2</td>\n",
              "    </tr>\n",
              "    <tr>\n",
              "      <th>3</th>\n",
              "      <td>charges brought against the guy that smacked m...</td>\n",
              "      <td>Kekerasan Fisik</td>\n",
              "      <td>3</td>\n",
              "    </tr>\n",
              "    <tr>\n",
              "      <th>4</th>\n",
              "      <td>and the fourth presenter on th may is hannah b...</td>\n",
              "      <td>Kekerasan Lainnya</td>\n",
              "      <td>4</td>\n",
              "    </tr>\n",
              "  </tbody>\n",
              "</table>\n",
              "</div>"
            ],
            "text/plain": [
              "                                                text              label  index\n",
              "0  the ironies of the movement are too painfully ...   Kekerasan Psikis      0\n",
              "1  women in kuwait have launched a social media c...   Kekerasan Psikis      1\n",
              "2  triger warning raising awareness of sexual ass...       Penelantaran      2\n",
              "3  charges brought against the guy that smacked m...    Kekerasan Fisik      3\n",
              "4  and the fourth presenter on th may is hannah b...  Kekerasan Lainnya      4"
            ]
          },
          "metadata": {
            "tags": []
          },
          "execution_count": 5
        }
      ]
    },
    {
      "cell_type": "code",
      "metadata": {
        "id": "VhKKFRj_uyVb",
        "colab": {
          "base_uri": "https://localhost:8080/"
        },
        "outputId": "b56751f5-7d77-4387-c223-251b703c165a"
      },
      "source": [
        "#Warning! It's not free, please think several times before running this cell below\n",
        "#Enter the API Key\n",
        "import getpass\n",
        "\n",
        "APIKEY = getpass.getpass()"
      ],
      "execution_count": null,
      "outputs": [
        {
          "output_type": "stream",
          "text": [
            "··········\n"
          ],
          "name": "stdout"
        }
      ]
    },
    {
      "cell_type": "code",
      "metadata": {
        "id": "uM_G6u27vAgY"
      },
      "source": [
        "#Warning! It's also not free, please think several times before running this cell below\n",
        "#Running Translate API\n",
        "from googleapiclient.discovery import build\n",
        "service = build('translate', 'v2', developerKey=APIKEY)\n",
        "\n",
        "df_laporan['indo_text'] = df_laporan['text'].apply(lambda x: (service.translations().list(source='en', target='id', q=x).execute())).apply(lambda x: x['translations']).apply(lambda x: x[0]).apply(lambda x: x['translatedText'])"
      ],
      "execution_count": null,
      "outputs": []
    },
    {
      "cell_type": "code",
      "metadata": {
        "id": "6T8Q4cSuvGKr",
        "colab": {
          "base_uri": "https://localhost:8080/"
        },
        "outputId": "f5d60f1e-7c42-41b7-c721-4ab8e6161898"
      },
      "source": [
        "#Show the first 50 data in the dataset\n",
        "df_laporan['indo_text'].head(50)"
      ],
      "execution_count": null,
      "outputs": [
        {
          "output_type": "execute_result",
          "data": {
            "text/plain": [
              "0     ironi gerakan ini terlalu menyakitkan dan jela...\n",
              "1     wanita di kuwait telah meluncurkan kampanye me...\n",
              "2     peringatan triger meningkatkan kesadaran akan ...\n",
              "3     tuduhan yang diajukan terhadap pria yang memuk...\n",
              "4     dan presenter keempat pada bulan Mei adalah ma...\n",
              "5     Ini sangat kacau, adakah pria di mata publik, ...\n",
              "6     untuk mengatasi epidemi kekerasan laki-laki te...\n",
              "7     Ada serangkaian tuduhan pelecehan baru terhada...\n",
              "8     ingin melihat seperti apa gerakan para wanita ...\n",
              "9     siswa perempuan tidak ingin berhubungan seks d...\n",
              "10    ketika kita berbicara tentang dan kekerasan, k...\n",
              "11    mengambil jutaan tahun lalu di nih dana nih ma...\n",
              "12    bantu siswa Anda untuk memerangi pelecehan men...\n",
              "13    Saya masih ingin berbicara dengan wanita penya...\n",
              "14    glenn greenwald tidak suka gerakan mendukung m...\n",
              "15    untuk lebih lanjut tentang topik ini bergabung...\n",
              "16    apa hubungan gerakan itu dengan pembunuhan ma ...\n",
              "17    opini terbaru dari dan cuomo membutuhkan waktu...\n",
              "18    tidak tahu siapa orang tolol misoginis greewal...\n",
              "19    Morrison percaya desas-desus tentang beberapa ...\n",
              "20    Untuk mengatasi epidemi kekerasan laki-laki te...\n",
              "21    ketika kita berbicara tentang dan kekerasan ki...\n",
              "22      kapan kekerasan dan kebencian ini akan berhenti\n",
              "23    anestesi melindungi predator seksual yang dike...\n",
              "24    terima kasih atas kebijaksanaan dan wawasan lu...\n",
              "25    beberapa incel di tiktok dijuluki sebagai hari...\n",
              "26                          apa yang sebenarnya berubah\n",
              "27                                 pembalasan pelecehan\n",
              "28    melihat ke depan obrolan panel hari ini tentan...\n",
              "29                    bd ini jika tidak membicarakannya\n",
              "30    ini adalah anak yang lahir sebagai akibat dari...\n",
              "31    Acara budaya baru memperhitungkan kekerasan ge...\n",
              "32    Ekor amukan bukit anita membuat kami kembali k...\n",
              "33    oh tidak, itu buruk, bisakah Anda menautkan ut...\n",
              "34                             ternyata selama ini gary\n",
              "35    sejak aku memamerkan jiwaku dan melompati ling...\n",
              "36    kepada semua korban pelecehan, tidak ada kata ...\n",
              "37    militer mengklaim bahwa mereka mengambil tinda...\n",
              "38    kami secara pribadi percaya bahwa korban dari ...\n",
              "39       chad s an ex con mencoba untuk memulai kembali\n",
              "40    kami secara pribadi percaya bahwa korban dari ...\n",
              "41    dan para demokrat masih gagal karena menyia-ny...\n",
              "42    tw kekerasan seksual membaca mengakui pemerkos...\n",
              "43    wanita muda tidak berpikir itu keren apa yang ...\n",
              "44    perkuat beragam perspektif dan cerita dengan j...\n",
              "45    benar-benar menakjubkan melihat berdiri untuk ...\n",
              "46                 memeluk permainan yang diperlukan di\n",
              "47    mungkin dia takut dia akan terkena jika tangan...\n",
              "48    Sial di mana r wisconsin sekolah Katolik guru ...\n",
              "49    dia juga memiliki aplikasi ini di ponselnya ya...\n",
              "Name: indo_text, dtype: object"
            ]
          },
          "metadata": {
            "tags": []
          },
          "execution_count": 9
        }
      ]
    },
    {
      "cell_type": "code",
      "metadata": {
        "id": "xhp9SEbBvKzT"
      },
      "source": [
        "#Convert the text into lowercase\n",
        "df_laporan['indo_text'] = df_laporan['indo_text'].str.lower()"
      ],
      "execution_count": null,
      "outputs": []
    },
    {
      "cell_type": "code",
      "metadata": {
        "id": "Ua4gOjBKvOvG"
      },
      "source": [
        "#Save DataFrame to CSV\n",
        "df_laporan.to_csv(\"capstonetweetlaporantranslated.csv\", index=False)"
      ],
      "execution_count": null,
      "outputs": []
    },
    {
      "cell_type": "markdown",
      "metadata": {
        "id": "lU6KdkzF6Idy"
      },
      "source": [
        "#Applying Stopwords and Stemmer (Laporan)"
      ]
    },
    {
      "cell_type": "code",
      "metadata": {
        "id": "iz3E2FA508sj",
        "colab": {
          "base_uri": "https://localhost:8080/",
          "height": 195
        },
        "outputId": "d775e99e-01c4-4136-d09b-75126e137d00"
      },
      "source": [
        "#Import Translated Laporan Dataset\n",
        "url_laporan = 'https://drive.google.com/file/d/194Eo3N7FpEZBAHooCB7alzKQg_hvn31p/view?usp=sharing'\n",
        "file_id_laporan = url_laporan.split('/')[-2]\n",
        "csv_url_laporan = 'https://drive.google.com/uc?id=' + file_id_laporan\n",
        "df_laporan = pd.read_csv(csv_url_laporan)\n",
        "df_laporan.head()"
      ],
      "execution_count": null,
      "outputs": [
        {
          "output_type": "execute_result",
          "data": {
            "text/html": [
              "<div>\n",
              "<style scoped>\n",
              "    .dataframe tbody tr th:only-of-type {\n",
              "        vertical-align: middle;\n",
              "    }\n",
              "\n",
              "    .dataframe tbody tr th {\n",
              "        vertical-align: top;\n",
              "    }\n",
              "\n",
              "    .dataframe thead th {\n",
              "        text-align: right;\n",
              "    }\n",
              "</style>\n",
              "<table border=\"1\" class=\"dataframe\">\n",
              "  <thead>\n",
              "    <tr style=\"text-align: right;\">\n",
              "      <th></th>\n",
              "      <th>text</th>\n",
              "      <th>label</th>\n",
              "      <th>index</th>\n",
              "      <th>indo_text</th>\n",
              "    </tr>\n",
              "  </thead>\n",
              "  <tbody>\n",
              "    <tr>\n",
              "      <th>0</th>\n",
              "      <td>the ironies of the movement are too painfully ...</td>\n",
              "      <td>Kekerasan Psikis</td>\n",
              "      <td>0</td>\n",
              "      <td>ironi gerakan ini terlalu menyakitkan dan jela...</td>\n",
              "    </tr>\n",
              "    <tr>\n",
              "      <th>1</th>\n",
              "      <td>women in kuwait have launched a social media c...</td>\n",
              "      <td>Kekerasan Psikis</td>\n",
              "      <td>1</td>\n",
              "      <td>wanita di kuwait telah meluncurkan kampanye me...</td>\n",
              "    </tr>\n",
              "    <tr>\n",
              "      <th>2</th>\n",
              "      <td>triger warning raising awareness of sexual ass...</td>\n",
              "      <td>Penelantaran</td>\n",
              "      <td>2</td>\n",
              "      <td>peringatan triger meningkatkan kesadaran akan ...</td>\n",
              "    </tr>\n",
              "    <tr>\n",
              "      <th>3</th>\n",
              "      <td>charges brought against the guy that smacked m...</td>\n",
              "      <td>Kekerasan Fisik</td>\n",
              "      <td>3</td>\n",
              "      <td>tuduhan yang diajukan terhadap pria yang memuk...</td>\n",
              "    </tr>\n",
              "    <tr>\n",
              "      <th>4</th>\n",
              "      <td>and the fourth presenter on th may is hannah b...</td>\n",
              "      <td>Kekerasan Lainnya</td>\n",
              "      <td>4</td>\n",
              "      <td>dan presenter keempat pada bulan mei adalah ma...</td>\n",
              "    </tr>\n",
              "  </tbody>\n",
              "</table>\n",
              "</div>"
            ],
            "text/plain": [
              "                                                text  ...                                          indo_text\n",
              "0  the ironies of the movement are too painfully ...  ...  ironi gerakan ini terlalu menyakitkan dan jela...\n",
              "1  women in kuwait have launched a social media c...  ...  wanita di kuwait telah meluncurkan kampanye me...\n",
              "2  triger warning raising awareness of sexual ass...  ...  peringatan triger meningkatkan kesadaran akan ...\n",
              "3  charges brought against the guy that smacked m...  ...  tuduhan yang diajukan terhadap pria yang memuk...\n",
              "4  and the fourth presenter on th may is hannah b...  ...  dan presenter keempat pada bulan mei adalah ma...\n",
              "\n",
              "[5 rows x 4 columns]"
            ]
          },
          "metadata": {
            "tags": []
          },
          "execution_count": 30
        }
      ]
    },
    {
      "cell_type": "code",
      "metadata": {
        "id": "PuZhJJF26kAW"
      },
      "source": [
        "df_laporan['text'] = df_laporan['indo_text']\n",
        "df_laporan = df_laporan.drop(['indo_text'], axis=1)"
      ],
      "execution_count": null,
      "outputs": []
    },
    {
      "cell_type": "code",
      "metadata": {
        "id": "hg47591L6qbY",
        "colab": {
          "base_uri": "https://localhost:8080/"
        },
        "outputId": "3fae9438-2a5c-4746-ef69-bd13d7750822"
      },
      "source": [
        "df_laporan['text']"
      ],
      "execution_count": null,
      "outputs": [
        {
          "output_type": "execute_result",
          "data": {
            "text/plain": [
              "0        ironi gerakan ini terlalu menyakitkan dan jela...\n",
              "1        wanita di kuwait telah meluncurkan kampanye me...\n",
              "2        peringatan triger meningkatkan kesadaran akan ...\n",
              "3        tuduhan yang diajukan terhadap pria yang memuk...\n",
              "4        dan presenter keempat pada bulan mei adalah ma...\n",
              "                               ...                        \n",
              "17235    tidak semuanya termasuk dalam kategori fiksi e...\n",
              "17236    sheriff telah kalah dalam gugatan terhadap cra...\n",
              "17237    saya menemukan puisi itu sangat ekspresif dari...\n",
              "17238    frustrasi para judas diimbangi dengan devosi e...\n",
              "17239    jelas bahwa hanya ada satu arah yang dia ingin...\n",
              "Name: text, Length: 17240, dtype: object"
            ]
          },
          "metadata": {
            "tags": []
          },
          "execution_count": 32
        }
      ]
    },
    {
      "cell_type": "code",
      "metadata": {
        "id": "RxfZsbbg6sbb"
      },
      "source": [
        "#Remove Stopwords from Texts\n",
        "stopwordFactory = StopWordRemoverFactory()\n",
        "stopword = stopwordFactory.create_stop_word_remover()\n",
        "\n",
        "df_laporan['text'] = df_laporan['text'].apply(lambda x: stopword.remove(x))"
      ],
      "execution_count": null,
      "outputs": []
    },
    {
      "cell_type": "code",
      "metadata": {
        "id": "i3_zn30v6ztE",
        "colab": {
          "base_uri": "https://localhost:8080/"
        },
        "outputId": "bb9eb552-720f-460f-900d-e8e3b38c520a"
      },
      "source": [
        "df_laporan['text']"
      ],
      "execution_count": null,
      "outputs": [
        {
          "output_type": "execute_result",
          "data": {
            "text/plain": [
              "0        ironi gerakan terlalu menyakitkan jelas dipelo...\n",
              "1        wanita kuwait meluncurkan kampanye media sosia...\n",
              "2        peringatan triger meningkatkan kesadaran pelec...\n",
              "3        tuduhan diajukan pria memukul serangan seksual...\n",
              "4        presenter keempat bulan mei mahasiswi phd hann...\n",
              "                               ...                        \n",
              "17235    semuanya termasuk kategori fiksi erotis, beber...\n",
              "17236    sheriff kalah gugatan craigslist atas iklan la...\n",
              "17237    menemukan puisi sangat ekspresif cinta romanti...\n",
              "17238    frustrasi judas diimbangi devosi erotis mary m...\n",
              "17239    jelas hanya satu arah dia inginkan pertemuan d...\n",
              "Name: text, Length: 17240, dtype: object"
            ]
          },
          "metadata": {
            "tags": []
          },
          "execution_count": 34
        }
      ]
    },
    {
      "cell_type": "code",
      "metadata": {
        "id": "gK-dvIIs61fc"
      },
      "source": [
        "#Stem the Texts (Removing Prefix and Suffix)\n",
        "stemmerFactory = StemmerFactory()\n",
        "stemmer = stemmerFactory.create_stemmer()\n",
        "\n",
        "df_laporan['text'] = df_laporan['text'].apply(lambda x: stemmer.stem(x))"
      ],
      "execution_count": null,
      "outputs": []
    },
    {
      "cell_type": "code",
      "metadata": {
        "id": "o5oruZ3m6_Um",
        "colab": {
          "base_uri": "https://localhost:8080/"
        },
        "outputId": "f938fecc-e8e8-4d43-d542-5385e4ed96c6"
      },
      "source": [
        "df_laporan['text']"
      ],
      "execution_count": null,
      "outputs": [
        {
          "output_type": "execute_result",
          "data": {
            "text/plain": [
              "0        ironi gera terlalu sakit jelas lopor aktris ho...\n",
              "1        wanita kuwait luncur kampanye media sosial man...\n",
              "2        ingat triger tingkat sadar leceh seksual keras...\n",
              "3        tuduh aju pria pukul serang seksual persetan b...\n",
              "4        presenter empat bulan mei mahasiswi phd hannah...\n",
              "                               ...                        \n",
              "17235    semua masuk kategori fiksi erotis beberapa ant...\n",
              "17236    sheriff kalah gugat craigslist atas iklan laya...\n",
              "17237    temu puisi sangat ekspresif cinta romantis erotis\n",
              "17238    frustrasi judas imbang devosi erotis mary magd...\n",
              "17239    jelas hanya satu arah dia ingin temu dan adala...\n",
              "Name: text, Length: 17240, dtype: object"
            ]
          },
          "metadata": {
            "tags": []
          },
          "execution_count": 36
        }
      ]
    },
    {
      "cell_type": "code",
      "metadata": {
        "id": "yNo7c4P87C-X"
      },
      "source": [
        "#Save DataFrame to CSV\n",
        "df_laporan.to_csv(\"capstonetweetlaporanstemmed.csv\", index=False)"
      ],
      "execution_count": null,
      "outputs": []
    },
    {
      "cell_type": "markdown",
      "metadata": {
        "id": "YJBCFG1Q9FHg"
      },
      "source": [
        "#Modelling (Laporan)"
      ]
    },
    {
      "cell_type": "code",
      "metadata": {
        "colab": {
          "base_uri": "https://localhost:8080/",
          "height": 197
        },
        "id": "eHmdKTSb9IOH",
        "outputId": "50b6c9fd-a4e8-462e-8367-cd2efd151fe4"
      },
      "source": [
        "#Import Stemmed Dataset\n",
        "url_laporan = 'https://drive.google.com/file/d/1vEe7adAbdc7LDmq7QVsLxhDgPu3nfnuU/view?usp=sharing'\n",
        "file_id_laporan = url_laporan.split('/')[-2]\n",
        "csv_url_laporan = 'https://drive.google.com/uc?id=' + file_id_laporan\n",
        "df_laporan = pd.read_csv(csv_url_laporan)\n",
        "df_laporan.head()"
      ],
      "execution_count": 5,
      "outputs": [
        {
          "output_type": "execute_result",
          "data": {
            "text/html": [
              "<div>\n",
              "<style scoped>\n",
              "    .dataframe tbody tr th:only-of-type {\n",
              "        vertical-align: middle;\n",
              "    }\n",
              "\n",
              "    .dataframe tbody tr th {\n",
              "        vertical-align: top;\n",
              "    }\n",
              "\n",
              "    .dataframe thead th {\n",
              "        text-align: right;\n",
              "    }\n",
              "</style>\n",
              "<table border=\"1\" class=\"dataframe\">\n",
              "  <thead>\n",
              "    <tr style=\"text-align: right;\">\n",
              "      <th></th>\n",
              "      <th>text</th>\n",
              "      <th>label</th>\n",
              "      <th>index</th>\n",
              "    </tr>\n",
              "  </thead>\n",
              "  <tbody>\n",
              "    <tr>\n",
              "      <th>0</th>\n",
              "      <td>ironi gera terlalu sakit jelas lopor aktris ho...</td>\n",
              "      <td>Kekerasan Psikis</td>\n",
              "      <td>0</td>\n",
              "    </tr>\n",
              "    <tr>\n",
              "      <th>1</th>\n",
              "      <td>wanita kuwait luncur kampanye media sosial man...</td>\n",
              "      <td>Kekerasan Psikis</td>\n",
              "      <td>1</td>\n",
              "    </tr>\n",
              "    <tr>\n",
              "      <th>2</th>\n",
              "      <td>ingat triger tingkat sadar leceh seksual keras...</td>\n",
              "      <td>Penelantaran</td>\n",
              "      <td>2</td>\n",
              "    </tr>\n",
              "    <tr>\n",
              "      <th>3</th>\n",
              "      <td>tuduh aju pria pukul serang seksual persetan b...</td>\n",
              "      <td>Kekerasan Fisik</td>\n",
              "      <td>3</td>\n",
              "    </tr>\n",
              "    <tr>\n",
              "      <th>4</th>\n",
              "      <td>presenter empat bulan mei mahasiswi phd hannah...</td>\n",
              "      <td>Kekerasan Lainnya</td>\n",
              "      <td>4</td>\n",
              "    </tr>\n",
              "  </tbody>\n",
              "</table>\n",
              "</div>"
            ],
            "text/plain": [
              "                                                text              label  index\n",
              "0  ironi gera terlalu sakit jelas lopor aktris ho...   Kekerasan Psikis      0\n",
              "1  wanita kuwait luncur kampanye media sosial man...   Kekerasan Psikis      1\n",
              "2  ingat triger tingkat sadar leceh seksual keras...       Penelantaran      2\n",
              "3  tuduh aju pria pukul serang seksual persetan b...    Kekerasan Fisik      3\n",
              "4  presenter empat bulan mei mahasiswi phd hannah...  Kekerasan Lainnya      4"
            ]
          },
          "metadata": {
            "tags": []
          },
          "execution_count": 5
        }
      ]
    },
    {
      "cell_type": "code",
      "metadata": {
        "colab": {
          "base_uri": "https://localhost:8080/"
        },
        "id": "BLDlIsda9gPI",
        "outputId": "6b6bafae-a9c1-4d26-9b63-20fe2229c762"
      },
      "source": [
        "df_laporan['text']"
      ],
      "execution_count": 6,
      "outputs": [
        {
          "output_type": "execute_result",
          "data": {
            "text/plain": [
              "0        ironi gera terlalu sakit jelas lopor aktris ho...\n",
              "1        wanita kuwait luncur kampanye media sosial man...\n",
              "2        ingat triger tingkat sadar leceh seksual keras...\n",
              "3        tuduh aju pria pukul serang seksual persetan b...\n",
              "4        presenter empat bulan mei mahasiswi phd hannah...\n",
              "                               ...                        \n",
              "17235    semua masuk kategori fiksi erotis beberapa ant...\n",
              "17236    sheriff kalah gugat craigslist atas iklan laya...\n",
              "17237    temu puisi sangat ekspresif cinta romantis erotis\n",
              "17238    frustrasi judas imbang devosi erotis mary magd...\n",
              "17239    jelas hanya satu arah dia ingin temu dan adala...\n",
              "Name: text, Length: 17240, dtype: object"
            ]
          },
          "metadata": {
            "tags": []
          },
          "execution_count": 6
        }
      ]
    },
    {
      "cell_type": "code",
      "metadata": {
        "colab": {
          "base_uri": "https://localhost:8080/"
        },
        "id": "B7UhmrteLHY2",
        "outputId": "b2f808f0-e846-434a-ac61-54e9fade6fb3"
      },
      "source": [
        "df_laporan['label'].value_counts()"
      ],
      "execution_count": 7,
      "outputs": [
        {
          "output_type": "execute_result",
          "data": {
            "text/plain": [
              "Kekerasan Lainnya      8313\n",
              "Kekerasan Fisik        1922\n",
              "Kekerasan Seksual      1864\n",
              "Kekerasan Psikis       1800\n",
              "Eksploitasi Seksual    1295\n",
              "Penelantaran           1135\n",
              "Eksploitasi             911\n",
              "Name: label, dtype: int64"
            ]
          },
          "metadata": {
            "tags": []
          },
          "execution_count": 7
        }
      ]
    },
    {
      "cell_type": "code",
      "metadata": {
        "id": "k_w0orKj9u9v"
      },
      "source": [
        "labels = pd.get_dummies(df_laporan.label)"
      ],
      "execution_count": 8,
      "outputs": []
    },
    {
      "cell_type": "code",
      "metadata": {
        "id": "hKJU9kYB9xWG"
      },
      "source": [
        "df_new_laporan = pd.concat([df_laporan, labels], axis=1)"
      ],
      "execution_count": 9,
      "outputs": []
    },
    {
      "cell_type": "code",
      "metadata": {
        "colab": {
          "base_uri": "https://localhost:8080/",
          "height": 197
        },
        "id": "ySzm4Sz-901e",
        "outputId": "312e01a9-f348-4501-df94-254cd119594a"
      },
      "source": [
        "df_new_laporan.head()"
      ],
      "execution_count": 10,
      "outputs": [
        {
          "output_type": "execute_result",
          "data": {
            "text/html": [
              "<div>\n",
              "<style scoped>\n",
              "    .dataframe tbody tr th:only-of-type {\n",
              "        vertical-align: middle;\n",
              "    }\n",
              "\n",
              "    .dataframe tbody tr th {\n",
              "        vertical-align: top;\n",
              "    }\n",
              "\n",
              "    .dataframe thead th {\n",
              "        text-align: right;\n",
              "    }\n",
              "</style>\n",
              "<table border=\"1\" class=\"dataframe\">\n",
              "  <thead>\n",
              "    <tr style=\"text-align: right;\">\n",
              "      <th></th>\n",
              "      <th>text</th>\n",
              "      <th>label</th>\n",
              "      <th>index</th>\n",
              "      <th>Eksploitasi</th>\n",
              "      <th>Eksploitasi Seksual</th>\n",
              "      <th>Kekerasan Fisik</th>\n",
              "      <th>Kekerasan Lainnya</th>\n",
              "      <th>Kekerasan Psikis</th>\n",
              "      <th>Kekerasan Seksual</th>\n",
              "      <th>Penelantaran</th>\n",
              "    </tr>\n",
              "  </thead>\n",
              "  <tbody>\n",
              "    <tr>\n",
              "      <th>0</th>\n",
              "      <td>ironi gera terlalu sakit jelas lopor aktris ho...</td>\n",
              "      <td>Kekerasan Psikis</td>\n",
              "      <td>0</td>\n",
              "      <td>0</td>\n",
              "      <td>0</td>\n",
              "      <td>0</td>\n",
              "      <td>0</td>\n",
              "      <td>1</td>\n",
              "      <td>0</td>\n",
              "      <td>0</td>\n",
              "    </tr>\n",
              "    <tr>\n",
              "      <th>1</th>\n",
              "      <td>wanita kuwait luncur kampanye media sosial man...</td>\n",
              "      <td>Kekerasan Psikis</td>\n",
              "      <td>1</td>\n",
              "      <td>0</td>\n",
              "      <td>0</td>\n",
              "      <td>0</td>\n",
              "      <td>0</td>\n",
              "      <td>1</td>\n",
              "      <td>0</td>\n",
              "      <td>0</td>\n",
              "    </tr>\n",
              "    <tr>\n",
              "      <th>2</th>\n",
              "      <td>ingat triger tingkat sadar leceh seksual keras...</td>\n",
              "      <td>Penelantaran</td>\n",
              "      <td>2</td>\n",
              "      <td>0</td>\n",
              "      <td>0</td>\n",
              "      <td>0</td>\n",
              "      <td>0</td>\n",
              "      <td>0</td>\n",
              "      <td>0</td>\n",
              "      <td>1</td>\n",
              "    </tr>\n",
              "    <tr>\n",
              "      <th>3</th>\n",
              "      <td>tuduh aju pria pukul serang seksual persetan b...</td>\n",
              "      <td>Kekerasan Fisik</td>\n",
              "      <td>3</td>\n",
              "      <td>0</td>\n",
              "      <td>0</td>\n",
              "      <td>1</td>\n",
              "      <td>0</td>\n",
              "      <td>0</td>\n",
              "      <td>0</td>\n",
              "      <td>0</td>\n",
              "    </tr>\n",
              "    <tr>\n",
              "      <th>4</th>\n",
              "      <td>presenter empat bulan mei mahasiswi phd hannah...</td>\n",
              "      <td>Kekerasan Lainnya</td>\n",
              "      <td>4</td>\n",
              "      <td>0</td>\n",
              "      <td>0</td>\n",
              "      <td>0</td>\n",
              "      <td>1</td>\n",
              "      <td>0</td>\n",
              "      <td>0</td>\n",
              "      <td>0</td>\n",
              "    </tr>\n",
              "  </tbody>\n",
              "</table>\n",
              "</div>"
            ],
            "text/plain": [
              "                                                text  ... Penelantaran\n",
              "0  ironi gera terlalu sakit jelas lopor aktris ho...  ...            0\n",
              "1  wanita kuwait luncur kampanye media sosial man...  ...            0\n",
              "2  ingat triger tingkat sadar leceh seksual keras...  ...            1\n",
              "3  tuduh aju pria pukul serang seksual persetan b...  ...            0\n",
              "4  presenter empat bulan mei mahasiswi phd hannah...  ...            0\n",
              "\n",
              "[5 rows x 10 columns]"
            ]
          },
          "metadata": {
            "tags": []
          },
          "execution_count": 10
        }
      ]
    },
    {
      "cell_type": "code",
      "metadata": {
        "id": "roybWKvNILDM"
      },
      "source": [
        "tweet_laporan = df_new_laporan['text'].astype(str).values\n",
        "label_laporan = df_new_laporan[[\"Eksploitasi\", \"Eksploitasi Seksual\", \"Kekerasan Fisik\", \"Kekerasan Lainnya\", \"Kekerasan Psikis\", \"Kekerasan Seksual\", \"Penelantaran\"]].values"
      ],
      "execution_count": 11,
      "outputs": []
    },
    {
      "cell_type": "code",
      "metadata": {
        "colab": {
          "base_uri": "https://localhost:8080/"
        },
        "id": "jeU5Oc7uIvMU",
        "outputId": "18419d9e-4941-4f22-b58a-9758d49b7cb0"
      },
      "source": [
        "label_laporan"
      ],
      "execution_count": 12,
      "outputs": [
        {
          "output_type": "execute_result",
          "data": {
            "text/plain": [
              "array([[0, 0, 0, ..., 1, 0, 0],\n",
              "       [0, 0, 0, ..., 1, 0, 0],\n",
              "       [0, 0, 0, ..., 0, 0, 1],\n",
              "       ...,\n",
              "       [0, 1, 0, ..., 0, 0, 0],\n",
              "       [0, 1, 0, ..., 0, 0, 0],\n",
              "       [0, 1, 0, ..., 0, 0, 0]], dtype=uint8)"
            ]
          },
          "metadata": {
            "tags": []
          },
          "execution_count": 12
        }
      ]
    },
    {
      "cell_type": "code",
      "metadata": {
        "id": "Ay7Ny2M1JCz1"
      },
      "source": [
        "from sklearn.model_selection import train_test_split\n",
        "#Train Text, Test Text, Train Label, Test Label\n",
        "X_train, X_test, y_train, y_test = train_test_split(tweet_laporan, label_laporan, test_size=0.2, shuffle=True)"
      ],
      "execution_count": 24,
      "outputs": []
    },
    {
      "cell_type": "code",
      "metadata": {
        "id": "Qs12C-EhJIl3"
      },
      "source": [
        "tokenizer = Tokenizer(num_words = vocab_size, oov_token = oov_tok)\n",
        "tokenizer.fit_on_texts(X_train)\n",
        "word_index = tokenizer.word_index\n",
        "sequences = tokenizer.texts_to_sequences(X_train)\n",
        "padded = pad_sequences(sequences, maxlen=max_length, truncating=trunc_type)\n",
        "\n",
        "testing_sequences = tokenizer.texts_to_sequences(X_test)\n",
        "testing_padded = pad_sequences(testing_sequences, maxlen = max_length)"
      ],
      "execution_count": 25,
      "outputs": []
    },
    {
      "cell_type": "code",
      "metadata": {
        "id": "zDSEq_f7JKgM"
      },
      "source": [
        "class myCallback(tf.keras.callbacks.Callback):\n",
        "\tdef on_epoch_end(self, epoch, logs={}):\n",
        "\t\tif(logs.get('val_accuracy')>0.80):\n",
        "\t\t\tprint(\"Desired accuracy reached!\")\n",
        "\t\t\tself.model.stop_training=True"
      ],
      "execution_count": 26,
      "outputs": []
    },
    {
      "cell_type": "code",
      "metadata": {
        "id": "XJkIsUbkJL8L"
      },
      "source": [
        "import tensorflow as tf\n",
        "'''\n",
        "#Initial Model (Base bi-lstm with 2 layer bi)\n",
        "#LAST: 0.6932, BEST: 0.7201 (val_acc)\n",
        "model = tf.keras.Sequential([\n",
        "  tf.keras.layers.Embedding(vocab_size, embedding_dim, input_length=max_length),\n",
        "  tf.keras.layers.Bidirectional(tf.keras.layers.LSTM(64, return_sequences=True)),\n",
        "  tf.keras.layers.Bidirectional(tf.keras.layers.LSTM(32)),\n",
        "  tf.keras.layers.Dense(32, activation='relu'),\n",
        "  tf.keras.layers.Dense(6, activation='softmax')\n",
        "])\n",
        "'''\n",
        "'''\n",
        "#First Improvement (4 layer bi-lstm with dropout)\n",
        "#LAST: 0.6650, BEST: 0.6740 (val_acc)\n",
        "model = tf.keras.Sequential([\n",
        "  tf.keras.layers.Embedding(vocab_size, embedding_dim, input_length=max_length),\n",
        "  tf.keras.layers.Bidirectional(tf.keras.layers.LSTM(128, return_sequences=True)),\n",
        "  tf.keras.layers.Bidirectional(tf.keras.layers.LSTM(64, return_sequences=True)),\n",
        "  tf.keras.layers.Bidirectional(tf.keras.layers.LSTM(32, return_sequences=True)),\n",
        "  tf.keras.layers.Bidirectional(tf.keras.layers.LSTM(16)),\n",
        "  tf.keras.layers.Dropout(0.1),\n",
        "  tf.keras.layers.Dense(32, activation='relu'),\n",
        "  tf.keras.layers.Dense(6, activation='softmax')\n",
        "])\n",
        "'''\n",
        "'''\n",
        "#Second Improvement (Bi-LSTM - GRU)\n",
        "#LAST: 0.7027, BEST: 0.7491 (val_acc)\n",
        "model = tf.keras.Sequential([\n",
        "  tf.keras.layers.Embedding(vocab_size, embedding_dim, input_length=max_length),\n",
        "  tf.keras.layers.Bidirectional(tf.keras.layers.GRU(128, recurrent_dropout=0.2, return_sequences=True)),\n",
        "  tf.keras.layers.Bidirectional(tf.keras.layers.LSTM(64)),\n",
        "  tf.keras.layers.Dense(128, activation='relu'),\n",
        "  tf.keras.layers.Dropout(0.5),\n",
        "  tf.keras.layers.Dense(6, activation='softmax')\n",
        "])\n",
        "'''\n",
        "'''\n",
        "#Last Improvement with embedding_dim=100 (CNN-LSTM)\n",
        "#LAST: 0.6946, BEST: 0.7001 (val_acc)\n",
        "model = tf.keras.Sequential([\n",
        "  tf.keras.layers.Embedding(vocab_size, embedding_dim, input_length=max_length),\n",
        "  tf.keras.layers.Dropout(0.5),\n",
        "  tf.keras.layers.Conv1D(64, 3, activation='relu',padding='same'),\n",
        "  tf.keras.layers.Dropout(0.5),\n",
        "  tf.keras.layers.MaxPooling1D(pool_size=3),\n",
        "  tf.keras.layers.Dropout(0.5),\n",
        "  tf.keras.layers.LSTM(16),\n",
        "  tf.keras.layers.Dropout(0.5),\n",
        "  tf.keras.layers.Dense(6, activation='softmax')\n",
        "])\n",
        "'''\n",
        "model = tf.keras.Sequential([\n",
        "  tf.keras.layers.Embedding(vocab_size, embedding_dim, input_length=max_length),\n",
        "  tf.keras.layers.Dropout(0.6),\n",
        "  tf.keras.layers.Conv1D(128, 2, activation='relu',padding='same'),\n",
        "  tf.keras.layers.Dropout(0.6),\n",
        "  tf.keras.layers.GlobalMaxPooling1D(),\n",
        "  tf.keras.layers.Flatten(),\n",
        "  tf.keras.layers.Dropout(0.6),\n",
        "  tf.keras.layers.Dense(64, activation='relu'),\n",
        "  tf.keras.layers.Dense(7, activation='softmax')\n",
        "])"
      ],
      "execution_count": 30,
      "outputs": []
    },
    {
      "cell_type": "code",
      "metadata": {
        "colab": {
          "base_uri": "https://localhost:8080/"
        },
        "id": "og07uSJxJNj2",
        "outputId": "b01d0774-a4e4-4ff5-cd98-a2929f623196"
      },
      "source": [
        "adam = Adam(learning_rate=0.01)\n",
        "model.compile(loss='categorical_crossentropy', optimizer=adam, metrics=['accuracy'])\n",
        "model.summary()"
      ],
      "execution_count": 31,
      "outputs": [
        {
          "output_type": "stream",
          "text": [
            "Model: \"sequential_3\"\n",
            "_________________________________________________________________\n",
            "Layer (type)                 Output Shape              Param #   \n",
            "=================================================================\n",
            "embedding_3 (Embedding)      (None, 50, 100)           2000000   \n",
            "_________________________________________________________________\n",
            "dropout_9 (Dropout)          (None, 50, 100)           0         \n",
            "_________________________________________________________________\n",
            "conv1d_3 (Conv1D)            (None, 50, 128)           25728     \n",
            "_________________________________________________________________\n",
            "dropout_10 (Dropout)         (None, 50, 128)           0         \n",
            "_________________________________________________________________\n",
            "global_max_pooling1d_3 (Glob (None, 128)               0         \n",
            "_________________________________________________________________\n",
            "flatten_1 (Flatten)          (None, 128)               0         \n",
            "_________________________________________________________________\n",
            "dropout_11 (Dropout)         (None, 128)               0         \n",
            "_________________________________________________________________\n",
            "dense_6 (Dense)              (None, 64)                8256      \n",
            "_________________________________________________________________\n",
            "dense_7 (Dense)              (None, 7)                 455       \n",
            "=================================================================\n",
            "Total params: 2,034,439\n",
            "Trainable params: 2,034,439\n",
            "Non-trainable params: 0\n",
            "_________________________________________________________________\n"
          ],
          "name": "stdout"
        }
      ]
    },
    {
      "cell_type": "code",
      "metadata": {
        "colab": {
          "base_uri": "https://localhost:8080/"
        },
        "id": "U-nz4uH5JPMl",
        "outputId": "0a80c479-b9d5-434c-d8b7-13a12112ab0b"
      },
      "source": [
        "num_epochs = 10\n",
        "callbacks = myCallback()\n",
        "history = model.fit(padded, y_train, epochs=num_epochs, validation_data=(testing_padded, y_test), callbacks=[callbacks],batch_size=64)"
      ],
      "execution_count": 32,
      "outputs": [
        {
          "output_type": "stream",
          "text": [
            "Epoch 1/10\n",
            "216/216 [==============================] - 5s 21ms/step - loss: 1.4727 - accuracy: 0.5033 - val_loss: 1.5293 - val_accuracy: 0.5438\n",
            "Epoch 2/10\n",
            "216/216 [==============================] - 4s 20ms/step - loss: 1.3249 - accuracy: 0.5222 - val_loss: 1.5463 - val_accuracy: 0.5125\n",
            "Epoch 3/10\n",
            "216/216 [==============================] - 4s 20ms/step - loss: 1.2644 - accuracy: 0.5316 - val_loss: 1.4459 - val_accuracy: 0.5612\n",
            "Epoch 4/10\n",
            "216/216 [==============================] - 4s 20ms/step - loss: 1.2187 - accuracy: 0.5581 - val_loss: 1.3973 - val_accuracy: 0.5415\n",
            "Epoch 5/10\n",
            "216/216 [==============================] - 4s 20ms/step - loss: 1.1786 - accuracy: 0.5728 - val_loss: 1.3433 - val_accuracy: 0.5481\n",
            "Epoch 6/10\n",
            "216/216 [==============================] - 4s 20ms/step - loss: 1.1207 - accuracy: 0.5883 - val_loss: 1.2946 - val_accuracy: 0.5960\n",
            "Epoch 7/10\n",
            "216/216 [==============================] - 4s 20ms/step - loss: 1.0966 - accuracy: 0.5934 - val_loss: 1.2638 - val_accuracy: 0.5696\n",
            "Epoch 8/10\n",
            "216/216 [==============================] - 4s 20ms/step - loss: 1.0548 - accuracy: 0.6043 - val_loss: 1.2632 - val_accuracy: 0.5609\n",
            "Epoch 9/10\n",
            "216/216 [==============================] - 4s 20ms/step - loss: 1.0411 - accuracy: 0.6141 - val_loss: 1.2843 - val_accuracy: 0.5835\n",
            "Epoch 10/10\n",
            "216/216 [==============================] - 4s 20ms/step - loss: 1.0148 - accuracy: 0.6234 - val_loss: 1.2117 - val_accuracy: 0.5876\n"
          ],
          "name": "stdout"
        }
      ]
    },
    {
      "cell_type": "code",
      "metadata": {
        "id": "BxXLC88Vz3G7",
        "colab": {
          "base_uri": "https://localhost:8080/",
          "height": 1000
        },
        "outputId": "eb93b652-fb4f-4bc5-dbbd-ed7114e6bb60"
      },
      "source": [
        "from keras.utils.vis_utils import plot_model\n",
        "tf.keras.utils.plot_model(model, to_file='model_plot.png', show_shapes=True, show_layer_names=False)"
      ],
      "execution_count": 33,
      "outputs": [
        {
          "output_type": "execute_result",
          "data": {
            "image/png": "[encoded data removed]",
            "text/plain": [
              "<IPython.core.display.Image object>"
            ]
          },
          "metadata": {
            "tags": []
          },
          "execution_count": 33
        }
      ]
    },
    {
      "cell_type": "code",
      "metadata": {
        "id": "2b_bYZvnJQv0",
        "colab": {
          "base_uri": "https://localhost:8080/",
          "height": 541
        },
        "outputId": "24d5c178-4af5-4684-c12c-3585212261fb"
      },
      "source": [
        "def plot_graphs(history, string):\n",
        "  plt.plot(history.history[string])\n",
        "  plt.plot(history.history['val_'+string])\n",
        "  plt.xlabel(\"Epochs\")\n",
        "  plt.ylabel(string)\n",
        "  plt.legend([string, 'val_'+string])\n",
        "  plt.show()\n",
        "  \n",
        "plot_graphs(history, \"accuracy\")\n",
        "plot_graphs(history, \"loss\")"
      ],
      "execution_count": 34,
      "outputs": [
        {
          "output_type": "display_data",
          "data": {
            "image/png": "[encoded data removed]",
            "text/plain": [
              "<Figure size 432x288 with 1 Axes>"
            ]
          },
          "metadata": {
            "tags": [],
            "needs_background": "light"
          }
        },
        {
          "output_type": "display_data",
          "data": {
            "image/png": "[encoded data removed]",
            "text/plain": [
              "<Figure size 432x288 with 1 Axes>"
            ]
          },
          "metadata": {
            "tags": [],
            "needs_background": "light"
          }
        }
      ]
    },
    {
      "cell_type": "code",
      "metadata": {
        "id": "5C0Nb02kJSKU"
      },
      "source": [
        "text = [\"saya takut\"]\n",
        "\n",
        "tokenized_text = tokenizer.texts_to_sequences(text)"
      ],
      "execution_count": 48,
      "outputs": []
    },
    {
      "cell_type": "code",
      "metadata": {
        "id": "CPv066GaJTmQ"
      },
      "source": [
        "prediction = model.predict(tokenized_text)"
      ],
      "execution_count": 49,
      "outputs": []
    },
    {
      "cell_type": "code",
      "metadata": {
        "id": "6gSXXNIHJVDx",
        "colab": {
          "base_uri": "https://localhost:8080/"
        },
        "outputId": "8ef447c8-f1b7-4437-cf3a-62ad3110c533"
      },
      "source": [
        "labels = [\"Eksploitasi\", \"Eksploitasi Seksual\", \"Kekerasan Fisik\", \"Kekerasan Lainnya\", \"Kekerasan Psikis\", \"Kekerasan Seksual\", \"Penelantaran\"]\n",
        "predicted = prediction.argmax(axis=1)\n",
        "predict_labels = [labels[predict] for predict in predicted]\n",
        "print(prediction)\n",
        "print(predict_labels)"
      ],
      "execution_count": 50,
      "outputs": [
        {
          "output_type": "stream",
          "text": [
            "[[9.64586362e-02 3.02599430e-01 1.66484126e-04 1.07342675e-02\n",
            "  5.64385295e-01 7.65118057e-06 2.56482121e-02]]\n",
            "['Kekerasan Psikis']\n"
          ],
          "name": "stdout"
        }
      ]
    },
    {
      "cell_type": "code",
      "metadata": {
        "id": "kdN2sjwuJWiW"
      },
      "source": [
        "#Exporting the Model (TFLITE)\n",
        "export_dir = 'saved_model_laporan/1'\n",
        "tf.saved_model.save(model, export_dir)"
      ],
      "execution_count": null,
      "outputs": []
    },
    {
      "cell_type": "code",
      "metadata": {
        "id": "ZGwmrRNpJZIM"
      },
      "source": [
        "converter = tf.lite.TFLiteConverter.from_saved_model(export_dir)\n",
        "tflite_model = converter.convert()"
      ],
      "execution_count": null,
      "outputs": []
    },
    {
      "cell_type": "code",
      "metadata": {
        "id": "cLBEyeiIJZ-q"
      },
      "source": [
        "import pathlib\n",
        "\n",
        "tflite_model_laporan_file = pathlib.Path('/content/modellaporan.tflite')\n",
        "tflite_model_laporan_file.write_bytes(tflite_model)"
      ],
      "execution_count": null,
      "outputs": []
    },
    {
      "cell_type": "code",
      "metadata": {
        "id": "0Rep52dMJbDX"
      },
      "source": [
        "from google.colab import files\n",
        "files.download(tflite_model_laporan_file)"
      ],
      "execution_count": null,
      "outputs": []
    },
    {
      "cell_type": "code",
      "metadata": {
        "id": "jvjsXkHTJcRB"
      },
      "source": [
        "#Exporting the Tokenized Word\n",
        "import json\n",
        "\n",
        "with open( 'word_dict_laporan.json' , 'w' ) as file:\n",
        "    json.dump( tokenizer.word_index , file )"
      ],
      "execution_count": null,
      "outputs": []
    }
  ]
}