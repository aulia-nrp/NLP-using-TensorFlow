{
  "nbformat": 4,
  "nbformat_minor": 0,
  "metadata": {
    "colab": {
      "name": "Modelling - B21-CAP0194.ipynb",
      "provenance": []
    },
    "kernelspec": {
      "name": "python3",
      "display_name": "Python 3"
    },
    "language_info": {
      "name": "python"
    },
    "accelerator": "GPU"
  },
  "cells": [
    {
      "cell_type": "code",
      "metadata": {
        "id": "DHHp6JqwUt0M",
        "colab": {
          "base_uri": "https://localhost:8080/",
          "height": 35
        },
        "outputId": "9fc56cbf-cfbe-406e-c212-e9a901ae3c33"
      },
      "source": [
        "'''\n",
        "Project: Bangkit Capstone Project\n",
        "Group: B21-CAP0194\n",
        "Part: Modelling\n",
        "'''"
      ],
      "execution_count": null,
      "outputs": [
        {
          "output_type": "execute_result",
          "data": {
            "application/vnd.google.colaboratory.intrinsic+json": {
              "type": "string"
            },
            "text/plain": [
              "'\\nFeature: NLP Classifier (Feature 1)\\nStep: Other Preprocessing and Model Building (A3)\\nVersion: 1.1.1\\nTeam: CAP-0194\\n'"
            ]
          },
          "metadata": {
            "tags": []
          },
          "execution_count": 1
        }
      ]
    },
    {
      "cell_type": "code",
      "metadata": {
        "id": "zuA8-KnMFDo9"
      },
      "source": [
        "vocab_size = 10000\n",
        "embedding_dim = 16\n",
        "max_length = 32\n",
        "trunc_type = 'post'\n",
        "oov_tok = \"<OOV>\""
      ],
      "execution_count": null,
      "outputs": []
    },
    {
      "cell_type": "code",
      "metadata": {
        "id": "RWj-L9ssHHAf"
      },
      "source": [
        "import pandas as pd\n",
        "import numpy as np\n",
        "from tensorflow.keras.preprocessing.text import Tokenizer\n",
        "from tensorflow.keras.preprocessing.sequence import pad_sequences"
      ],
      "execution_count": null,
      "outputs": []
    },
    {
      "cell_type": "code",
      "metadata": {
        "id": "VLRRTXi3HLSN"
      },
      "source": [
        "#df_train = pd.read_csv('datasettrain.csv')\n",
        "#df_test = pd.read_csv('datasettest.csv')"
      ],
      "execution_count": null,
      "outputs": []
    },
    {
      "cell_type": "code",
      "metadata": {
        "id": "kJlMiUMYi47A"
      },
      "source": [
        "df = pd.read_csv('capstonetweetlabelled.csv')"
      ],
      "execution_count": null,
      "outputs": []
    },
    {
      "cell_type": "code",
      "metadata": {
        "id": "_zugJcnpsr4p"
      },
      "source": [
        "labels = pd.get_dummies(df.label)"
      ],
      "execution_count": null,
      "outputs": []
    },
    {
      "cell_type": "code",
      "metadata": {
        "id": "sMP4dEqss7hA"
      },
      "source": [
        "df_new = pd.concat([df, labels], axis=1)\n",
        "df_new = df_new.drop(columns='label')"
      ],
      "execution_count": null,
      "outputs": []
    },
    {
      "cell_type": "code",
      "metadata": {
        "id": "K_YhqeK_soIr"
      },
      "source": [
        "tweet = df_new['text'].values\n",
        "label = df_new[[\"assault\", \"neutral\", \"sexual harassment\"]].values"
      ],
      "execution_count": null,
      "outputs": []
    },
    {
      "cell_type": "code",
      "metadata": {
        "colab": {
          "base_uri": "https://localhost:8080/"
        },
        "id": "Fhtsnub1wT99",
        "outputId": "2b75878f-79d8-4e6d-ff32-091780a27026"
      },
      "source": [
        "label"
      ],
      "execution_count": null,
      "outputs": [
        {
          "output_type": "execute_result",
          "data": {
            "text/plain": [
              "array([[0, 0, 1],\n",
              "       [0, 1, 0],\n",
              "       [1, 0, 0],\n",
              "       ...,\n",
              "       [0, 1, 0],\n",
              "       [0, 1, 0],\n",
              "       [0, 1, 0]], dtype=uint8)"
            ]
          },
          "metadata": {
            "tags": []
          },
          "execution_count": 33
        }
      ]
    },
    {
      "cell_type": "code",
      "metadata": {
        "id": "Lu2JQOMsjByI"
      },
      "source": [
        "from sklearn.model_selection import train_test_split\n",
        "#Train Text, Test Text, Train Label, Test Label\n",
        "X_train, X_test, y_train, y_test = train_test_split(tweet, label, test_size=0.2, shuffle=True)"
      ],
      "execution_count": null,
      "outputs": []
    },
    {
      "cell_type": "code",
      "metadata": {
        "id": "YL7hMUp4S2OE"
      },
      "source": [
        "#y_train = pd.get_dummies(df_train.label)\n",
        "#df_train = pd.concat([df_train, trainlabel], axis=1)\n",
        "#df_train = df_train.drop(columns='label')\n",
        "#testlabel = pd.get_dummies(df_test.label)\n",
        "#df_test = pd.concat([df_test, testlabel], axis=1)\n",
        "#df_test = df_test.drop(columns='label')"
      ],
      "execution_count": null,
      "outputs": []
    },
    {
      "cell_type": "code",
      "metadata": {
        "id": "sBtqd28eGu4Y"
      },
      "source": [
        "tokenizer = Tokenizer(num_words = vocab_size, oov_token = oov_tok)\n",
        "tokenizer.fit_on_texts(X_train)\n",
        "word_index = tokenizer.word_index\n",
        "sequences = tokenizer.texts_to_sequences(X_train)\n",
        "padded = pad_sequences(sequences, maxlen=max_length, truncating=trunc_type)\n",
        "\n",
        "testing_sequences = tokenizer.texts_to_sequences(X_test)\n",
        "testing_padded = pad_sequences(testing_sequences, maxlen = max_length)"
      ],
      "execution_count": null,
      "outputs": []
    },
    {
      "cell_type": "code",
      "metadata": {
        "id": "1aLrdSJhJe3a"
      },
      "source": [
        "#training_labels_final = df_train[[0,1]].values\n",
        "#testing_labels_final = df_test[[0,1]].values\n",
        "#training_labels_final = np.array(df_train['label'])\n",
        "#testing_labels_final = np.array(df_test['label'])"
      ],
      "execution_count": null,
      "outputs": []
    },
    {
      "cell_type": "code",
      "metadata": {
        "id": "RjZ8vIaNHUe1"
      },
      "source": [
        "import tensorflow as tf\n",
        "model = tf.keras.Sequential([\n",
        "  tf.keras.layers.Embedding(vocab_size, embedding_dim, input_length=max_length),\n",
        "  #tf.keras.layers.Flatten(),\n",
        "  # bedanya kalo pake Bidirectional apaaa\n",
        "  tf.keras.layers.LSTM(64),\n",
        "  tf.keras.layers.Dense(6, activation='relu'),\n",
        "  tf.keras.layers.Dense(3, activation='softmax')\n",
        "])"
      ],
      "execution_count": null,
      "outputs": []
    },
    {
      "cell_type": "markdown",
      "metadata": {
        "id": "sngBU5lCJ6aa"
      },
      "source": [
        "transfer learning models for NLP: BERT, coba buka ini https://www.dlology.com/blog/keras-meets-universal-sentence-encoder-transfer-learning-for-text-data/"
      ]
    },
    {
      "cell_type": "code",
      "metadata": {
        "colab": {
          "base_uri": "https://localhost:8080/"
        },
        "id": "bVv4IUpQIu1q",
        "outputId": "6af30d6c-38d3-483d-fa0a-bddf8b6714c5"
      },
      "source": [
        "model.compile(loss='categorical_crossentropy', optimizer='adam', metrics=['accuracy'])\n",
        "model.summary()"
      ],
      "execution_count": null,
      "outputs": [
        {
          "output_type": "stream",
          "text": [
            "Model: \"sequential\"\n",
            "_________________________________________________________________\n",
            "Layer (type)                 Output Shape              Param #   \n",
            "=================================================================\n",
            "embedding (Embedding)        (None, 32, 16)            160000    \n",
            "_________________________________________________________________\n",
            "lstm (LSTM)                  (None, 64)                20736     \n",
            "_________________________________________________________________\n",
            "dense (Dense)                (None, 6)                 390       \n",
            "_________________________________________________________________\n",
            "dense_1 (Dense)              (None, 3)                 21        \n",
            "=================================================================\n",
            "Total params: 181,147\n",
            "Trainable params: 181,147\n",
            "Non-trainable params: 0\n",
            "_________________________________________________________________\n"
          ],
          "name": "stdout"
        }
      ]
    },
    {
      "cell_type": "code",
      "metadata": {
        "colab": {
          "base_uri": "https://localhost:8080/"
        },
        "id": "wurt_WmlJLoV",
        "outputId": "38fc871c-c8a0-499d-a6d0-5766a3bfa9fd"
      },
      "source": [
        "num_epochs = 100\n",
        "model.fit(padded, y_train, epochs=num_epochs, validation_data=(testing_padded, y_test))"
      ],
      "execution_count": null,
      "outputs": [
        {
          "output_type": "stream",
          "text": [
            "Epoch 1/100\n",
            "219/219 [==============================] - 35s 10ms/step - loss: 0.7051 - accuracy: 0.8101 - val_loss: 0.2626 - val_accuracy: 0.8947\n",
            "Epoch 2/100\n",
            "219/219 [==============================] - 2s 8ms/step - loss: 0.1914 - accuracy: 0.9249 - val_loss: 0.1389 - val_accuracy: 0.9428\n",
            "Epoch 3/100\n",
            "219/219 [==============================] - 2s 8ms/step - loss: 0.0962 - accuracy: 0.9646 - val_loss: 0.0852 - val_accuracy: 0.9743\n",
            "Epoch 4/100\n",
            "219/219 [==============================] - 2s 8ms/step - loss: 0.0475 - accuracy: 0.9875 - val_loss: 0.1170 - val_accuracy: 0.9617\n",
            "Epoch 5/100\n",
            "219/219 [==============================] - 2s 8ms/step - loss: 0.0213 - accuracy: 0.9954 - val_loss: 0.0630 - val_accuracy: 0.9840\n",
            "Epoch 6/100\n",
            "219/219 [==============================] - 2s 7ms/step - loss: 0.0164 - accuracy: 0.9963 - val_loss: 0.1019 - val_accuracy: 0.9748\n",
            "Epoch 7/100\n",
            "219/219 [==============================] - 2s 8ms/step - loss: 0.0096 - accuracy: 0.9982 - val_loss: 0.0710 - val_accuracy: 0.9800\n",
            "Epoch 8/100\n",
            "219/219 [==============================] - 2s 8ms/step - loss: 0.0118 - accuracy: 0.9978 - val_loss: 0.0717 - val_accuracy: 0.9811\n",
            "Epoch 9/100\n",
            "219/219 [==============================] - 2s 8ms/step - loss: 0.0078 - accuracy: 0.9979 - val_loss: 0.0642 - val_accuracy: 0.9874\n",
            "Epoch 10/100\n",
            "219/219 [==============================] - 2s 8ms/step - loss: 0.0068 - accuracy: 0.9979 - val_loss: 0.1058 - val_accuracy: 0.9737\n",
            "Epoch 11/100\n",
            "219/219 [==============================] - 2s 8ms/step - loss: 0.0044 - accuracy: 0.9993 - val_loss: 0.0712 - val_accuracy: 0.9857\n",
            "Epoch 12/100\n",
            "219/219 [==============================] - 2s 8ms/step - loss: 0.0035 - accuracy: 0.9993 - val_loss: 0.0747 - val_accuracy: 0.9880\n",
            "Epoch 13/100\n",
            "219/219 [==============================] - 2s 8ms/step - loss: 0.0014 - accuracy: 0.9998 - val_loss: 0.0806 - val_accuracy: 0.9868\n",
            "Epoch 14/100\n",
            "219/219 [==============================] - 2s 8ms/step - loss: 0.0016 - accuracy: 0.9997 - val_loss: 0.1163 - val_accuracy: 0.9765\n",
            "Epoch 15/100\n",
            "219/219 [==============================] - 2s 8ms/step - loss: 0.0052 - accuracy: 0.9978 - val_loss: 0.0578 - val_accuracy: 0.9914\n",
            "Epoch 16/100\n",
            "219/219 [==============================] - 2s 8ms/step - loss: 0.0017 - accuracy: 0.9994 - val_loss: 0.0717 - val_accuracy: 0.9891\n",
            "Epoch 17/100\n",
            "219/219 [==============================] - 2s 8ms/step - loss: 1.7896e-04 - accuracy: 1.0000 - val_loss: 0.0740 - val_accuracy: 0.9897\n",
            "Epoch 18/100\n",
            "219/219 [==============================] - 2s 8ms/step - loss: 1.3580e-04 - accuracy: 1.0000 - val_loss: 0.0772 - val_accuracy: 0.9897\n",
            "Epoch 19/100\n",
            "219/219 [==============================] - 2s 8ms/step - loss: 1.1146e-04 - accuracy: 1.0000 - val_loss: 0.0782 - val_accuracy: 0.9886\n",
            "Epoch 20/100\n",
            "219/219 [==============================] - 2s 8ms/step - loss: 5.8916e-05 - accuracy: 1.0000 - val_loss: 0.0796 - val_accuracy: 0.9886\n",
            "Epoch 21/100\n",
            "219/219 [==============================] - 2s 8ms/step - loss: 5.7098e-05 - accuracy: 1.0000 - val_loss: 0.0810 - val_accuracy: 0.9891\n",
            "Epoch 22/100\n",
            "219/219 [==============================] - 2s 8ms/step - loss: 5.1035e-05 - accuracy: 1.0000 - val_loss: 0.0836 - val_accuracy: 0.9891\n",
            "Epoch 23/100\n",
            "219/219 [==============================] - 2s 8ms/step - loss: 3.1704e-05 - accuracy: 1.0000 - val_loss: 0.0871 - val_accuracy: 0.9891\n",
            "Epoch 24/100\n",
            "219/219 [==============================] - 2s 8ms/step - loss: 3.5775e-05 - accuracy: 1.0000 - val_loss: 0.0882 - val_accuracy: 0.9886\n",
            "Epoch 25/100\n",
            "219/219 [==============================] - 2s 8ms/step - loss: 2.2356e-05 - accuracy: 1.0000 - val_loss: 0.0906 - val_accuracy: 0.9886\n",
            "Epoch 26/100\n",
            "219/219 [==============================] - 2s 8ms/step - loss: 2.2716e-05 - accuracy: 1.0000 - val_loss: 0.0927 - val_accuracy: 0.9886\n",
            "Epoch 27/100\n",
            "219/219 [==============================] - 2s 8ms/step - loss: 2.0917e-05 - accuracy: 1.0000 - val_loss: 0.0941 - val_accuracy: 0.9886\n",
            "Epoch 28/100\n",
            "219/219 [==============================] - 2s 8ms/step - loss: 1.6251e-05 - accuracy: 1.0000 - val_loss: 0.0967 - val_accuracy: 0.9880\n",
            "Epoch 29/100\n",
            "219/219 [==============================] - 2s 8ms/step - loss: 1.4150e-05 - accuracy: 1.0000 - val_loss: 0.0994 - val_accuracy: 0.9880\n",
            "Epoch 30/100\n",
            "219/219 [==============================] - 2s 8ms/step - loss: 1.6772e-05 - accuracy: 1.0000 - val_loss: 0.1004 - val_accuracy: 0.9880\n",
            "Epoch 31/100\n",
            "219/219 [==============================] - 2s 8ms/step - loss: 1.1401e-05 - accuracy: 1.0000 - val_loss: 0.1055 - val_accuracy: 0.9880\n",
            "Epoch 32/100\n",
            "219/219 [==============================] - 2s 8ms/step - loss: 9.5341e-06 - accuracy: 1.0000 - val_loss: 0.1062 - val_accuracy: 0.9880\n",
            "Epoch 33/100\n",
            "219/219 [==============================] - 2s 8ms/step - loss: 7.8144e-06 - accuracy: 1.0000 - val_loss: 0.1076 - val_accuracy: 0.9880\n",
            "Epoch 34/100\n",
            "219/219 [==============================] - 2s 8ms/step - loss: 8.8646e-06 - accuracy: 1.0000 - val_loss: 0.1092 - val_accuracy: 0.9880\n",
            "Epoch 35/100\n",
            "219/219 [==============================] - 2s 8ms/step - loss: 6.8988e-06 - accuracy: 1.0000 - val_loss: 0.1130 - val_accuracy: 0.9880\n",
            "Epoch 36/100\n",
            "219/219 [==============================] - 2s 8ms/step - loss: 6.8282e-06 - accuracy: 1.0000 - val_loss: 0.1114 - val_accuracy: 0.9880\n",
            "Epoch 37/100\n",
            "219/219 [==============================] - 2s 8ms/step - loss: 6.0473e-06 - accuracy: 1.0000 - val_loss: 0.1152 - val_accuracy: 0.9880\n",
            "Epoch 38/100\n",
            "219/219 [==============================] - 2s 7ms/step - loss: 3.9880e-06 - accuracy: 1.0000 - val_loss: 0.1156 - val_accuracy: 0.9880\n",
            "Epoch 39/100\n",
            "219/219 [==============================] - 2s 8ms/step - loss: 4.8668e-06 - accuracy: 1.0000 - val_loss: 0.1169 - val_accuracy: 0.9874\n",
            "Epoch 40/100\n",
            "219/219 [==============================] - 2s 8ms/step - loss: 3.4362e-06 - accuracy: 1.0000 - val_loss: 0.1170 - val_accuracy: 0.9874\n",
            "Epoch 41/100\n",
            "219/219 [==============================] - 2s 8ms/step - loss: 2.9335e-06 - accuracy: 1.0000 - val_loss: 0.1212 - val_accuracy: 0.9874\n",
            "Epoch 42/100\n",
            "219/219 [==============================] - 2s 8ms/step - loss: 2.2004e-06 - accuracy: 1.0000 - val_loss: 0.1276 - val_accuracy: 0.9874\n",
            "Epoch 43/100\n",
            "219/219 [==============================] - 2s 8ms/step - loss: 2.7297e-06 - accuracy: 1.0000 - val_loss: 0.1251 - val_accuracy: 0.9874\n",
            "Epoch 44/100\n",
            "219/219 [==============================] - 2s 8ms/step - loss: 2.1326e-06 - accuracy: 1.0000 - val_loss: 0.1297 - val_accuracy: 0.9874\n",
            "Epoch 45/100\n",
            "219/219 [==============================] - 2s 8ms/step - loss: 2.6106e-06 - accuracy: 1.0000 - val_loss: 0.1053 - val_accuracy: 0.9891\n",
            "Epoch 46/100\n",
            "219/219 [==============================] - 2s 8ms/step - loss: 2.3776e-06 - accuracy: 1.0000 - val_loss: 0.1095 - val_accuracy: 0.9891\n",
            "Epoch 47/100\n",
            "219/219 [==============================] - 2s 8ms/step - loss: 2.0409e-06 - accuracy: 1.0000 - val_loss: 0.1128 - val_accuracy: 0.9891\n",
            "Epoch 48/100\n",
            "219/219 [==============================] - 2s 8ms/step - loss: 1.7496e-06 - accuracy: 1.0000 - val_loss: 0.1155 - val_accuracy: 0.9891\n",
            "Epoch 49/100\n",
            "219/219 [==============================] - 2s 8ms/step - loss: 9.6584e-07 - accuracy: 1.0000 - val_loss: 0.1203 - val_accuracy: 0.9891\n",
            "Epoch 50/100\n",
            "219/219 [==============================] - 2s 8ms/step - loss: 9.3875e-07 - accuracy: 1.0000 - val_loss: 0.1220 - val_accuracy: 0.9891\n",
            "Epoch 51/100\n",
            "219/219 [==============================] - 2s 8ms/step - loss: 8.8888e-07 - accuracy: 1.0000 - val_loss: 0.1281 - val_accuracy: 0.9880\n",
            "Epoch 52/100\n",
            "219/219 [==============================] - 2s 8ms/step - loss: 7.4326e-07 - accuracy: 1.0000 - val_loss: 0.1241 - val_accuracy: 0.9891\n",
            "Epoch 53/100\n",
            "219/219 [==============================] - 2s 8ms/step - loss: 9.5391e-07 - accuracy: 1.0000 - val_loss: 0.1335 - val_accuracy: 0.9874\n",
            "Epoch 54/100\n",
            "219/219 [==============================] - 2s 8ms/step - loss: 7.9157e-07 - accuracy: 1.0000 - val_loss: 0.1307 - val_accuracy: 0.9886\n",
            "Epoch 55/100\n",
            "219/219 [==============================] - 2s 8ms/step - loss: 6.4767e-07 - accuracy: 1.0000 - val_loss: 0.1356 - val_accuracy: 0.9874\n",
            "Epoch 56/100\n",
            "219/219 [==============================] - 2s 8ms/step - loss: 5.1223e-07 - accuracy: 1.0000 - val_loss: 0.1409 - val_accuracy: 0.9874\n",
            "Epoch 57/100\n",
            "219/219 [==============================] - 2s 8ms/step - loss: 4.7819e-07 - accuracy: 1.0000 - val_loss: 0.1408 - val_accuracy: 0.9874\n",
            "Epoch 58/100\n",
            "219/219 [==============================] - 2s 8ms/step - loss: 3.2752e-07 - accuracy: 1.0000 - val_loss: 0.1456 - val_accuracy: 0.9874\n",
            "Epoch 59/100\n",
            "219/219 [==============================] - 2s 8ms/step - loss: 3.9648e-07 - accuracy: 1.0000 - val_loss: 0.1424 - val_accuracy: 0.9880\n",
            "Epoch 60/100\n",
            "219/219 [==============================] - 2s 8ms/step - loss: 3.3400e-07 - accuracy: 1.0000 - val_loss: 0.1470 - val_accuracy: 0.9874\n",
            "Epoch 61/100\n",
            "219/219 [==============================] - 2s 8ms/step - loss: 1.7892e-07 - accuracy: 1.0000 - val_loss: 0.1525 - val_accuracy: 0.9874\n",
            "Epoch 62/100\n",
            "219/219 [==============================] - 2s 8ms/step - loss: 2.3151e-07 - accuracy: 1.0000 - val_loss: 0.1517 - val_accuracy: 0.9874\n",
            "Epoch 63/100\n",
            "219/219 [==============================] - 2s 8ms/step - loss: 2.5854e-07 - accuracy: 1.0000 - val_loss: 0.1533 - val_accuracy: 0.9874\n",
            "Epoch 64/100\n",
            "219/219 [==============================] - 2s 8ms/step - loss: 1.7057e-07 - accuracy: 1.0000 - val_loss: 0.1572 - val_accuracy: 0.9874\n",
            "Epoch 65/100\n",
            "219/219 [==============================] - 2s 8ms/step - loss: 1.5352e-07 - accuracy: 1.0000 - val_loss: 0.1551 - val_accuracy: 0.9874\n",
            "Epoch 66/100\n",
            "219/219 [==============================] - 2s 8ms/step - loss: 1.4522e-07 - accuracy: 1.0000 - val_loss: 0.1581 - val_accuracy: 0.9868\n",
            "Epoch 67/100\n",
            "219/219 [==============================] - 2s 8ms/step - loss: 9.9974e-08 - accuracy: 1.0000 - val_loss: 0.1614 - val_accuracy: 0.9874\n",
            "Epoch 68/100\n",
            "219/219 [==============================] - 2s 8ms/step - loss: 1.1179e-07 - accuracy: 1.0000 - val_loss: 0.1667 - val_accuracy: 0.9874\n",
            "Epoch 69/100\n",
            "219/219 [==============================] - 2s 8ms/step - loss: 1.1331e-07 - accuracy: 1.0000 - val_loss: 0.1642 - val_accuracy: 0.9874\n",
            "Epoch 70/100\n",
            "219/219 [==============================] - 2s 8ms/step - loss: 7.0227e-08 - accuracy: 1.0000 - val_loss: 0.1646 - val_accuracy: 0.9874\n",
            "Epoch 71/100\n",
            "219/219 [==============================] - 2s 8ms/step - loss: 8.9651e-08 - accuracy: 1.0000 - val_loss: 0.1700 - val_accuracy: 0.9874\n",
            "Epoch 72/100\n",
            "219/219 [==============================] - 2s 8ms/step - loss: 6.2557e-08 - accuracy: 1.0000 - val_loss: 0.1687 - val_accuracy: 0.9874\n",
            "Epoch 73/100\n",
            "219/219 [==============================] - 2s 8ms/step - loss: 7.2358e-08 - accuracy: 1.0000 - val_loss: 0.1705 - val_accuracy: 0.9868\n",
            "Epoch 74/100\n",
            "219/219 [==============================] - 2s 8ms/step - loss: 4.7837e-08 - accuracy: 1.0000 - val_loss: 0.1742 - val_accuracy: 0.9874\n",
            "Epoch 75/100\n",
            "219/219 [==============================] - 2s 8ms/step - loss: 5.3128e-08 - accuracy: 1.0000 - val_loss: 0.1737 - val_accuracy: 0.9874\n",
            "Epoch 76/100\n",
            "219/219 [==============================] - 2s 8ms/step - loss: 4.1192e-08 - accuracy: 1.0000 - val_loss: 0.1777 - val_accuracy: 0.9868\n",
            "Epoch 77/100\n",
            "219/219 [==============================] - 2s 8ms/step - loss: 3.9171e-08 - accuracy: 1.0000 - val_loss: 0.1770 - val_accuracy: 0.9868\n",
            "Epoch 78/100\n",
            "219/219 [==============================] - 2s 8ms/step - loss: 3.7787e-08 - accuracy: 1.0000 - val_loss: 0.1767 - val_accuracy: 0.9863\n",
            "Epoch 79/100\n",
            "219/219 [==============================] - 2s 8ms/step - loss: 2.8683e-08 - accuracy: 1.0000 - val_loss: 0.1780 - val_accuracy: 0.9863\n",
            "Epoch 80/100\n",
            "219/219 [==============================] - 2s 8ms/step - loss: 2.7675e-08 - accuracy: 1.0000 - val_loss: 0.1843 - val_accuracy: 0.9868\n",
            "Epoch 81/100\n",
            "219/219 [==============================] - 2s 8ms/step - loss: 2.7025e-08 - accuracy: 1.0000 - val_loss: 0.1867 - val_accuracy: 0.9868\n",
            "Epoch 82/100\n",
            "219/219 [==============================] - 2s 8ms/step - loss: 2.3900e-08 - accuracy: 1.0000 - val_loss: 0.1852 - val_accuracy: 0.9863\n",
            "Epoch 83/100\n",
            "219/219 [==============================] - 2s 8ms/step - loss: 1.8585e-08 - accuracy: 1.0000 - val_loss: 0.1834 - val_accuracy: 0.9863\n",
            "Epoch 84/100\n",
            "219/219 [==============================] - 2s 8ms/step - loss: 2.0026e-08 - accuracy: 1.0000 - val_loss: 0.1876 - val_accuracy: 0.9868\n",
            "Epoch 85/100\n",
            "219/219 [==============================] - 2s 8ms/step - loss: 1.5782e-08 - accuracy: 1.0000 - val_loss: 0.1893 - val_accuracy: 0.9868\n",
            "Epoch 86/100\n",
            "219/219 [==============================] - 2s 8ms/step - loss: 1.8774e-08 - accuracy: 1.0000 - val_loss: 0.1966 - val_accuracy: 0.9857\n",
            "Epoch 87/100\n",
            "219/219 [==============================] - 2s 8ms/step - loss: 1.7149e-08 - accuracy: 1.0000 - val_loss: 0.1881 - val_accuracy: 0.9863\n",
            "Epoch 88/100\n",
            "219/219 [==============================] - 2s 8ms/step - loss: 7.7708e-09 - accuracy: 1.0000 - val_loss: 0.1922 - val_accuracy: 0.9868\n",
            "Epoch 89/100\n",
            "219/219 [==============================] - 2s 8ms/step - loss: 8.7349e-09 - accuracy: 1.0000 - val_loss: 0.1927 - val_accuracy: 0.9863\n",
            "Epoch 90/100\n",
            "219/219 [==============================] - 2s 8ms/step - loss: 9.7645e-09 - accuracy: 1.0000 - val_loss: 0.1966 - val_accuracy: 0.9863\n",
            "Epoch 91/100\n",
            "219/219 [==============================] - 2s 8ms/step - loss: 8.9964e-09 - accuracy: 1.0000 - val_loss: 0.1963 - val_accuracy: 0.9863\n",
            "Epoch 92/100\n",
            "219/219 [==============================] - 2s 8ms/step - loss: 6.0966e-09 - accuracy: 1.0000 - val_loss: 0.2005 - val_accuracy: 0.9868\n",
            "Epoch 93/100\n",
            "219/219 [==============================] - 2s 8ms/step - loss: 4.1752e-09 - accuracy: 1.0000 - val_loss: 0.2025 - val_accuracy: 0.9863\n",
            "Epoch 94/100\n",
            "219/219 [==============================] - 2s 8ms/step - loss: 7.1732e-09 - accuracy: 1.0000 - val_loss: 0.2018 - val_accuracy: 0.9863\n",
            "Epoch 95/100\n",
            "219/219 [==============================] - 2s 8ms/step - loss: 4.6646e-09 - accuracy: 1.0000 - val_loss: 0.2001 - val_accuracy: 0.9863\n",
            "Epoch 96/100\n",
            "219/219 [==============================] - 2s 8ms/step - loss: 4.8715e-09 - accuracy: 1.0000 - val_loss: 0.2025 - val_accuracy: 0.9863\n",
            "Epoch 97/100\n",
            "219/219 [==============================] - 2s 8ms/step - loss: 4.0160e-09 - accuracy: 1.0000 - val_loss: 0.2076 - val_accuracy: 0.9863\n",
            "Epoch 98/100\n",
            "219/219 [==============================] - 2s 8ms/step - loss: 0.0143 - accuracy: 0.9979 - val_loss: 0.0414 - val_accuracy: 0.9920\n",
            "Epoch 99/100\n",
            "219/219 [==============================] - 2s 8ms/step - loss: 0.0077 - accuracy: 0.9984 - val_loss: 0.0527 - val_accuracy: 0.9886\n",
            "Epoch 100/100\n",
            "219/219 [==============================] - 2s 8ms/step - loss: 0.0023 - accuracy: 0.9997 - val_loss: 0.0475 - val_accuracy: 0.9908\n"
          ],
          "name": "stdout"
        },
        {
          "output_type": "execute_result",
          "data": {
            "text/plain": [
              "<tensorflow.python.keras.callbacks.History at 0x7f21bd7c3f50>"
            ]
          },
          "metadata": {
            "tags": []
          },
          "execution_count": 17
        }
      ]
    },
    {
      "cell_type": "code",
      "metadata": {
        "id": "8-1MZgy8L3Dy"
      },
      "source": [
        "text = [\"only 3 more days\"]\n",
        "\n",
        "tokenized_text = tokenizer.texts_to_sequences(text)"
      ],
      "execution_count": null,
      "outputs": []
    },
    {
      "cell_type": "code",
      "metadata": {
        "id": "IExCJvq0Jq0t"
      },
      "source": [
        "prediction = model.predict(tokenized_text)"
      ],
      "execution_count": null,
      "outputs": []
    },
    {
      "cell_type": "code",
      "metadata": {
        "colab": {
          "base_uri": "https://localhost:8080/"
        },
        "id": "BvInsh7AF2eU",
        "outputId": "649b6abe-2945-4339-f410-4b34ed74f488"
      },
      "source": [
        "prediction"
      ],
      "execution_count": null,
      "outputs": [
        {
          "output_type": "execute_result",
          "data": {
            "text/plain": [
              "array([[0.00322368, 0.97772574, 0.01905065]], dtype=float32)"
            ]
          },
          "metadata": {
            "tags": []
          },
          "execution_count": 47
        }
      ]
    },
    {
      "cell_type": "code",
      "metadata": {
        "id": "zqS14LGZLx9E"
      },
      "source": [
        "#Assault, Neutral, Sexual Harassment"
      ],
      "execution_count": null,
      "outputs": []
    }
  ]
}