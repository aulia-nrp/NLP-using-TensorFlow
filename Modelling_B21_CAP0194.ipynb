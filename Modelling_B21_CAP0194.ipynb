{
  "nbformat": 4,
  "nbformat_minor": 0,
  "metadata": {
    "colab": {
      "name": "Modelling - B21-CAP0194.ipynb",
      "provenance": [],
      "collapsed_sections": []
    },
    "kernelspec": {
      "name": "python3",
      "display_name": "Python 3"
    },
    "language_info": {
      "name": "python"
    },
    "accelerator": "GPU"
  },
  "cells": [
    {
      "cell_type": "code",
      "metadata": {
        "id": "DHHp6JqwUt0M",
        "colab": {
          "base_uri": "https://localhost:8080/",
          "height": 35
        },
        "outputId": "f976d7f0-e4fe-452c-d722-4644f1f4bd58"
      },
      "source": [
        "'''\n",
        "Project: Bangkit Capstone Project\n",
        "Group: B21-CAP0194\n",
        "Part: Modelling\n",
        "'''"
      ],
      "execution_count": 5,
      "outputs": [
        {
          "output_type": "execute_result",
          "data": {
            "application/vnd.google.colaboratory.intrinsic+json": {
              "type": "string"
            },
            "text/plain": [
              "'\\nProject: Bangkit Capstone Project\\nGroup: B21-CAP0194\\nPart: Modelling\\n'"
            ]
          },
          "metadata": {
            "tags": []
          },
          "execution_count": 5
        }
      ]
    },
    {
      "cell_type": "code",
      "metadata": {
        "id": "zuA8-KnMFDo9"
      },
      "source": [
        "vocab_size = 20000\n",
        "embedding_dim = 32\n",
        "max_length = 32\n",
        "trunc_type = 'post'\n",
        "oov_tok = \"<OOV>\""
      ],
      "execution_count": 6,
      "outputs": []
    },
    {
      "cell_type": "code",
      "metadata": {
        "id": "RWj-L9ssHHAf"
      },
      "source": [
        "import pandas as pd\n",
        "import numpy as np\n",
        "import tensorflow as tf\n",
        "from tensorflow.keras.preprocessing.text import Tokenizer\n",
        "from tensorflow.keras.preprocessing.sequence import pad_sequences"
      ],
      "execution_count": 24,
      "outputs": []
    },
    {
      "cell_type": "code",
      "metadata": {
        "id": "kJlMiUMYi47A",
        "colab": {
          "base_uri": "https://localhost:8080/",
          "height": 195
        },
        "outputId": "006eb3eb-1afd-433f-ae44-06b43aec019a"
      },
      "source": [
        "#Import Labelled Dataset\n",
        "url = 'https://drive.google.com/file/d/1nOn8OONtZA7pcX4Pvh8W_wOUg49ZWTvT/view?usp=sharing'\n",
        "file_id = url.split('/')[-2]\n",
        "csv_url = 'https://drive.google.com/uc?id=' + file_id\n",
        "df = pd.read_csv(csv_url)\n",
        "df.head()"
      ],
      "execution_count": 8,
      "outputs": [
        {
          "output_type": "execute_result",
          "data": {
            "text/html": [
              "<div>\n",
              "<style scoped>\n",
              "    .dataframe tbody tr th:only-of-type {\n",
              "        vertical-align: middle;\n",
              "    }\n",
              "\n",
              "    .dataframe tbody tr th {\n",
              "        vertical-align: top;\n",
              "    }\n",
              "\n",
              "    .dataframe thead th {\n",
              "        text-align: right;\n",
              "    }\n",
              "</style>\n",
              "<table border=\"1\" class=\"dataframe\">\n",
              "  <thead>\n",
              "    <tr style=\"text-align: right;\">\n",
              "      <th></th>\n",
              "      <th>index</th>\n",
              "      <th>text</th>\n",
              "      <th>label</th>\n",
              "    </tr>\n",
              "  </thead>\n",
              "  <tbody>\n",
              "    <tr>\n",
              "      <th>0</th>\n",
              "      <td>0</td>\n",
              "      <td>the ironies of the  movement are too painfully...</td>\n",
              "      <td>private places</td>\n",
              "    </tr>\n",
              "    <tr>\n",
              "      <th>1</th>\n",
              "      <td>1</td>\n",
              "      <td>women in kuwait have launched a social media c...</td>\n",
              "      <td>public places</td>\n",
              "    </tr>\n",
              "    <tr>\n",
              "      <th>2</th>\n",
              "      <td>2</td>\n",
              "      <td>triger warning raising awareness of sexual ass...</td>\n",
              "      <td>private places</td>\n",
              "    </tr>\n",
              "    <tr>\n",
              "      <th>3</th>\n",
              "      <td>3</td>\n",
              "      <td>charges brought against the guy that smacked m...</td>\n",
              "      <td>private places</td>\n",
              "    </tr>\n",
              "    <tr>\n",
              "      <th>4</th>\n",
              "      <td>4</td>\n",
              "      <td>and the fourth presenter on 26th may is hannah...</td>\n",
              "      <td>educational places</td>\n",
              "    </tr>\n",
              "  </tbody>\n",
              "</table>\n",
              "</div>"
            ],
            "text/plain": [
              "   index                                               text               label\n",
              "0      0  the ironies of the  movement are too painfully...      private places\n",
              "1      1  women in kuwait have launched a social media c...       public places\n",
              "2      2  triger warning raising awareness of sexual ass...      private places\n",
              "3      3  charges brought against the guy that smacked m...      private places\n",
              "4      4  and the fourth presenter on 26th may is hannah...  educational places"
            ]
          },
          "metadata": {
            "tags": []
          },
          "execution_count": 8
        }
      ]
    },
    {
      "cell_type": "code",
      "metadata": {
        "id": "5AgazdB72PN6"
      },
      "source": [
        "df_cut = df[:100]"
      ],
      "execution_count": null,
      "outputs": []
    },
    {
      "cell_type": "code",
      "metadata": {
        "colab": {
          "base_uri": "https://localhost:8080/",
          "height": 1000
        },
        "id": "8NAg4Tao0lsH",
        "outputId": "b7a7648f-f14a-4e86-c175-3125e94bca3a"
      },
      "source": [
        "df_cut.head(50)"
      ],
      "execution_count": null,
      "outputs": [
        {
          "output_type": "execute_result",
          "data": {
            "text/html": [
              "<div>\n",
              "<style scoped>\n",
              "    .dataframe tbody tr th:only-of-type {\n",
              "        vertical-align: middle;\n",
              "    }\n",
              "\n",
              "    .dataframe tbody tr th {\n",
              "        vertical-align: top;\n",
              "    }\n",
              "\n",
              "    .dataframe thead th {\n",
              "        text-align: right;\n",
              "    }\n",
              "</style>\n",
              "<table border=\"1\" class=\"dataframe\">\n",
              "  <thead>\n",
              "    <tr style=\"text-align: right;\">\n",
              "      <th></th>\n",
              "      <th>index</th>\n",
              "      <th>text</th>\n",
              "      <th>label</th>\n",
              "    </tr>\n",
              "  </thead>\n",
              "  <tbody>\n",
              "    <tr>\n",
              "      <th>0</th>\n",
              "      <td>0</td>\n",
              "      <td>the ironies of the  movement are too painfully...</td>\n",
              "      <td>work places</td>\n",
              "    </tr>\n",
              "    <tr>\n",
              "      <th>1</th>\n",
              "      <td>1</td>\n",
              "      <td>women in kuwait have launched a social media c...</td>\n",
              "      <td>cyber</td>\n",
              "    </tr>\n",
              "    <tr>\n",
              "      <th>2</th>\n",
              "      <td>2</td>\n",
              "      <td>triger warning raising awareness of sexual ass...</td>\n",
              "      <td>private places</td>\n",
              "    </tr>\n",
              "    <tr>\n",
              "      <th>3</th>\n",
              "      <td>3</td>\n",
              "      <td>charges brought against the guy that smacked m...</td>\n",
              "      <td>private places</td>\n",
              "    </tr>\n",
              "    <tr>\n",
              "      <th>4</th>\n",
              "      <td>4</td>\n",
              "      <td>and the fourth presenter on 26th may is hannah...</td>\n",
              "      <td>educational places</td>\n",
              "    </tr>\n",
              "    <tr>\n",
              "      <th>5</th>\n",
              "      <td>5</td>\n",
              "      <td>this is so messed up  are there any men in the...</td>\n",
              "      <td>public places</td>\n",
              "    </tr>\n",
              "    <tr>\n",
              "      <th>6</th>\n",
              "      <td>6</td>\n",
              "      <td>to tackle an epidemic of male violence against...</td>\n",
              "      <td>cyber</td>\n",
              "    </tr>\n",
              "    <tr>\n",
              "      <th>7</th>\n",
              "      <td>7</td>\n",
              "      <td>there has been a new series of harassment alle...</td>\n",
              "      <td>private places</td>\n",
              "    </tr>\n",
              "    <tr>\n",
              "      <th>8</th>\n",
              "      <td>8</td>\n",
              "      <td>want to see what the  movement looks like its ...</td>\n",
              "      <td>public places</td>\n",
              "    </tr>\n",
              "    <tr>\n",
              "      <th>9</th>\n",
              "      <td>9</td>\n",
              "      <td>female students dont want to have sex w dolan ...</td>\n",
              "      <td>educational places</td>\n",
              "    </tr>\n",
              "    <tr>\n",
              "      <th>10</th>\n",
              "      <td>10</td>\n",
              "      <td>when we talk about  and violence we must ensur...</td>\n",
              "      <td>private places</td>\n",
              "    </tr>\n",
              "    <tr>\n",
              "      <th>11</th>\n",
              "      <td>11</td>\n",
              "      <td>took in 221 million last year in nih funds the...</td>\n",
              "      <td>private places</td>\n",
              "    </tr>\n",
              "    <tr>\n",
              "      <th>12</th>\n",
              "      <td>12</td>\n",
              "      <td>help your students to combat harassment using ...</td>\n",
              "      <td>educational places</td>\n",
              "    </tr>\n",
              "    <tr>\n",
              "      <th>13</th>\n",
              "      <td>13</td>\n",
              "      <td>im still looking to speak to disabled women wh...</td>\n",
              "      <td>private places</td>\n",
              "    </tr>\n",
              "    <tr>\n",
              "      <th>14</th>\n",
              "      <td>14</td>\n",
              "      <td>glenn greenwald doesnt like the  movement supp...</td>\n",
              "      <td>private places</td>\n",
              "    </tr>\n",
              "    <tr>\n",
              "      <th>15</th>\n",
              "      <td>15</td>\n",
              "      <td>for more on this topic join us for our upcomin...</td>\n",
              "      <td>neutral</td>\n",
              "    </tr>\n",
              "    <tr>\n",
              "      <th>16</th>\n",
              "      <td>16</td>\n",
              "      <td>what does the  movement have to do with the mu...</td>\n",
              "      <td>private places</td>\n",
              "    </tr>\n",
              "    <tr>\n",
              "      <th>17</th>\n",
              "      <td>17</td>\n",
              "      <td>latest oped from  and  cuomo needs a time out ...</td>\n",
              "      <td>cyber</td>\n",
              "    </tr>\n",
              "    <tr>\n",
              "      <th>18</th>\n",
              "      <td>18</td>\n",
              "      <td>dont know who this greewald misogynist moron i...</td>\n",
              "      <td>cyber</td>\n",
              "    </tr>\n",
              "    <tr>\n",
              "      <th>19</th>\n",
              "      <td>19</td>\n",
              "      <td>morrison believes hearsay about some dude risi...</td>\n",
              "      <td>private places</td>\n",
              "    </tr>\n",
              "    <tr>\n",
              "      <th>20</th>\n",
              "      <td>20</td>\n",
              "      <td>to tackle an epidemic of male violence against...</td>\n",
              "      <td>cyber</td>\n",
              "    </tr>\n",
              "    <tr>\n",
              "      <th>21</th>\n",
              "      <td>21</td>\n",
              "      <td>when we talk about  and violence we must ensur...</td>\n",
              "      <td>private places</td>\n",
              "    </tr>\n",
              "    <tr>\n",
              "      <th>22</th>\n",
              "      <td>22</td>\n",
              "      <td>when will this violence and hate stop</td>\n",
              "      <td>public places</td>\n",
              "    </tr>\n",
              "    <tr>\n",
              "      <th>23</th>\n",
              "      <td>23</td>\n",
              "      <td>anesthesia protected a known sexual predator f...</td>\n",
              "      <td>private places</td>\n",
              "    </tr>\n",
              "    <tr>\n",
              "      <th>24</th>\n",
              "      <td>24</td>\n",
              "      <td>thank you  for your wisdom and outstanding ins...</td>\n",
              "      <td>public places</td>\n",
              "    </tr>\n",
              "    <tr>\n",
              "      <th>25</th>\n",
              "      <td>25</td>\n",
              "      <td>a few incels on tiktok have dubbed  as nationa...</td>\n",
              "      <td>neutral</td>\n",
              "    </tr>\n",
              "    <tr>\n",
              "      <th>26</th>\n",
              "      <td>26</td>\n",
              "      <td>what has  actually changed</td>\n",
              "      <td>neutral</td>\n",
              "    </tr>\n",
              "    <tr>\n",
              "      <th>27</th>\n",
              "      <td>27</td>\n",
              "      <td>harassment retaliation</td>\n",
              "      <td>private places</td>\n",
              "    </tr>\n",
              "    <tr>\n",
              "      <th>28</th>\n",
              "      <td>28</td>\n",
              "      <td>looking forward 2 a panel chat  today about sy...</td>\n",
              "      <td>cyber</td>\n",
              "    </tr>\n",
              "    <tr>\n",
              "      <th>29</th>\n",
              "      <td>29</td>\n",
              "      <td>this bd is in  case does not talk about it</td>\n",
              "      <td>neutral</td>\n",
              "    </tr>\n",
              "    <tr>\n",
              "      <th>30</th>\n",
              "      <td>30</td>\n",
              "      <td>this is the child that was born as a result of...</td>\n",
              "      <td>work places</td>\n",
              "    </tr>\n",
              "    <tr>\n",
              "      <th>31</th>\n",
              "      <td>31</td>\n",
              "      <td>event a new cultural reckoning gendered violence</td>\n",
              "      <td>public places</td>\n",
              "    </tr>\n",
              "    <tr>\n",
              "      <th>32</th>\n",
              "      <td>32</td>\n",
              "      <td>the tail of the anita hill fury got us to   re...</td>\n",
              "      <td>public places</td>\n",
              "    </tr>\n",
              "    <tr>\n",
              "      <th>33</th>\n",
              "      <td>33</td>\n",
              "      <td>oh no thats terrible   can you please link the...</td>\n",
              "      <td>neutral</td>\n",
              "    </tr>\n",
              "    <tr>\n",
              "      <th>34</th>\n",
              "      <td>34</td>\n",
              "      <td>turns out it was gary all along</td>\n",
              "      <td>neutral</td>\n",
              "    </tr>\n",
              "    <tr>\n",
              "      <th>35</th>\n",
              "      <td>35</td>\n",
              "      <td>ever since i bared my soul and jump through he...</td>\n",
              "      <td>neutral</td>\n",
              "    </tr>\n",
              "    <tr>\n",
              "      <th>36</th>\n",
              "      <td>36</td>\n",
              "      <td>to all victims of abuseit is never too late to...</td>\n",
              "      <td>public places</td>\n",
              "    </tr>\n",
              "    <tr>\n",
              "      <th>37</th>\n",
              "      <td>37</td>\n",
              "      <td>the military claims they take a hard line agai...</td>\n",
              "      <td>private places</td>\n",
              "    </tr>\n",
              "    <tr>\n",
              "      <th>38</th>\n",
              "      <td>38</td>\n",
              "      <td>we personally believe that victims of any form...</td>\n",
              "      <td>private places</td>\n",
              "    </tr>\n",
              "    <tr>\n",
              "      <th>39</th>\n",
              "      <td>39</td>\n",
              "      <td>chads an excon trying to start over</td>\n",
              "      <td>private places</td>\n",
              "    </tr>\n",
              "    <tr>\n",
              "      <th>40</th>\n",
              "      <td>40</td>\n",
              "      <td>we personally believe that victims of any form...</td>\n",
              "      <td>private places</td>\n",
              "    </tr>\n",
              "    <tr>\n",
              "      <th>41</th>\n",
              "      <td>41</td>\n",
              "      <td>and democrats still failed   what a waste of o...</td>\n",
              "      <td>neutral</td>\n",
              "    </tr>\n",
              "    <tr>\n",
              "      <th>42</th>\n",
              "      <td>42</td>\n",
              "      <td>tw sexual assault  read recognizing rape findi...</td>\n",
              "      <td>private places</td>\n",
              "    </tr>\n",
              "    <tr>\n",
              "      <th>43</th>\n",
              "      <td>43</td>\n",
              "      <td>young women dont think its cool what he did to...</td>\n",
              "      <td>public places</td>\n",
              "    </tr>\n",
              "    <tr>\n",
              "      <th>44</th>\n",
              "      <td>44</td>\n",
              "      <td>amplify diverse perspectives and stories with ...</td>\n",
              "      <td>cyber</td>\n",
              "    </tr>\n",
              "    <tr>\n",
              "      <th>45</th>\n",
              "      <td>45</td>\n",
              "      <td>actually amazing to see  standing up to be cou...</td>\n",
              "      <td>public places</td>\n",
              "    </tr>\n",
              "    <tr>\n",
              "      <th>46</th>\n",
              "      <td>46</td>\n",
              "      <td>is hugging  required play in the</td>\n",
              "      <td>public places</td>\n",
              "    </tr>\n",
              "    <tr>\n",
              "      <th>47</th>\n",
              "      <td>47</td>\n",
              "      <td>maybe he was afraid he might get  d if  his ha...</td>\n",
              "      <td>neutral</td>\n",
              "    </tr>\n",
              "    <tr>\n",
              "      <th>48</th>\n",
              "      <td>48</td>\n",
              "      <td>damn it where is  r  wisconsin catholic school...</td>\n",
              "      <td>educational places</td>\n",
              "    </tr>\n",
              "    <tr>\n",
              "      <th>49</th>\n",
              "      <td>49</td>\n",
              "      <td>he also had this app on his phones its used to...</td>\n",
              "      <td>cyber</td>\n",
              "    </tr>\n",
              "  </tbody>\n",
              "</table>\n",
              "</div>"
            ],
            "text/plain": [
              "    index  ...               label\n",
              "0       0  ...         work places\n",
              "1       1  ...               cyber\n",
              "2       2  ...      private places\n",
              "3       3  ...      private places\n",
              "4       4  ...  educational places\n",
              "5       5  ...       public places\n",
              "6       6  ...               cyber\n",
              "7       7  ...      private places\n",
              "8       8  ...       public places\n",
              "9       9  ...  educational places\n",
              "10     10  ...      private places\n",
              "11     11  ...      private places\n",
              "12     12  ...  educational places\n",
              "13     13  ...      private places\n",
              "14     14  ...      private places\n",
              "15     15  ...             neutral\n",
              "16     16  ...      private places\n",
              "17     17  ...               cyber\n",
              "18     18  ...               cyber\n",
              "19     19  ...      private places\n",
              "20     20  ...               cyber\n",
              "21     21  ...      private places\n",
              "22     22  ...       public places\n",
              "23     23  ...      private places\n",
              "24     24  ...       public places\n",
              "25     25  ...             neutral\n",
              "26     26  ...             neutral\n",
              "27     27  ...      private places\n",
              "28     28  ...               cyber\n",
              "29     29  ...             neutral\n",
              "30     30  ...         work places\n",
              "31     31  ...       public places\n",
              "32     32  ...       public places\n",
              "33     33  ...             neutral\n",
              "34     34  ...             neutral\n",
              "35     35  ...             neutral\n",
              "36     36  ...       public places\n",
              "37     37  ...      private places\n",
              "38     38  ...      private places\n",
              "39     39  ...      private places\n",
              "40     40  ...      private places\n",
              "41     41  ...             neutral\n",
              "42     42  ...      private places\n",
              "43     43  ...       public places\n",
              "44     44  ...               cyber\n",
              "45     45  ...       public places\n",
              "46     46  ...       public places\n",
              "47     47  ...             neutral\n",
              "48     48  ...  educational places\n",
              "49     49  ...               cyber\n",
              "\n",
              "[50 rows x 3 columns]"
            ]
          },
          "metadata": {
            "tags": []
          },
          "execution_count": 41
        }
      ]
    },
    {
      "cell_type": "code",
      "metadata": {
        "id": "tZVt0PJwicED",
        "colab": {
          "base_uri": "https://localhost:8080/"
        },
        "outputId": "515a2ad6-2fdc-4e74-93c9-76aecc12b686"
      },
      "source": [
        "import getpass\n",
        "\n",
        "APIKEY = getpass.getpass()"
      ],
      "execution_count": 9,
      "outputs": [
        {
          "output_type": "stream",
          "text": [
            "··········\n"
          ],
          "name": "stdout"
        }
      ]
    },
    {
      "cell_type": "code",
      "metadata": {
        "id": "WbL6WYXBlycO"
      },
      "source": [
        "# running Translate API\n",
        "#from googleapiclient.discovery import build\n",
        "#service = build('translate', 'v2', developerKey=APIKEY)\n",
        "\n",
        "#df_cut['indo_text'] = df_cut['text'].apply(lambda x: (service.translations().list(source='en', target='id', q=x).execute())).apply(lambda x: x['translations']).apply(lambda x: x[0]).apply(lambda x: x['translatedText'])"
      ],
      "execution_count": null,
      "outputs": []
    },
    {
      "cell_type": "code",
      "metadata": {
        "id": "GeM4W3MPwB9A"
      },
      "source": [
        "# running Translate API\n",
        "from googleapiclient.discovery import build\n",
        "service = build('translate', 'v2', developerKey=APIKEY)\n",
        "\n",
        "df['indo_text'] = df['text'].apply(lambda x: (service.translations().list(source='en', target='id', q=x).execute())).apply(lambda x: x['translations']).apply(lambda x: x[0]).apply(lambda x: x['translatedText'])"
      ],
      "execution_count": 10,
      "outputs": []
    },
    {
      "cell_type": "code",
      "metadata": {
        "id": "uChzsiCQuUfd"
      },
      "source": [
        "df['indo_text'].head(50)"
      ],
      "execution_count": null,
      "outputs": []
    },
    {
      "cell_type": "code",
      "metadata": {
        "id": "cI2HovVcvh2j"
      },
      "source": [
        "#Save DataFrame to CSV\n",
        "df_translated = pd.DataFrame()\n",
        "df_translated['index'] = df['index']\n",
        "df_translated['text'] = df['text']\n",
        "df_translated['indo_text'] = df['indo_text']\n",
        "df_translated['label'] = df['label']\n",
        "df_translated.to_csv(\"capstonetweettranslatednew.csv\", index=False)"
      ],
      "execution_count": 13,
      "outputs": []
    },
    {
      "cell_type": "code",
      "metadata": {
        "colab": {
          "base_uri": "https://localhost:8080/",
          "height": 195
        },
        "id": "LDBJl0DwWnOw",
        "outputId": "79516fbf-e205-4e5b-f79f-2664a356f02c"
      },
      "source": [
        "#Import Translated Dataset\n",
        "url = 'https://drive.google.com/file/d/1fYLD9Po3eGJacbeWnHEo_P15w9Hd8tkS/view?usp=sharing'\n",
        "file_id = url.split('/')[-2]\n",
        "csv_url = 'https://drive.google.com/uc?id=' + file_id\n",
        "df = pd.read_csv(csv_url)\n",
        "df.head()"
      ],
      "execution_count": 14,
      "outputs": [
        {
          "output_type": "execute_result",
          "data": {
            "text/html": [
              "<div>\n",
              "<style scoped>\n",
              "    .dataframe tbody tr th:only-of-type {\n",
              "        vertical-align: middle;\n",
              "    }\n",
              "\n",
              "    .dataframe tbody tr th {\n",
              "        vertical-align: top;\n",
              "    }\n",
              "\n",
              "    .dataframe thead th {\n",
              "        text-align: right;\n",
              "    }\n",
              "</style>\n",
              "<table border=\"1\" class=\"dataframe\">\n",
              "  <thead>\n",
              "    <tr style=\"text-align: right;\">\n",
              "      <th></th>\n",
              "      <th>index</th>\n",
              "      <th>text</th>\n",
              "      <th>indo_text</th>\n",
              "      <th>label</th>\n",
              "    </tr>\n",
              "  </thead>\n",
              "  <tbody>\n",
              "    <tr>\n",
              "      <th>0</th>\n",
              "      <td>0</td>\n",
              "      <td>the ironies of the  movement are too painfully...</td>\n",
              "      <td>ironi gerakan ini terlalu menyakitkan jelas di...</td>\n",
              "      <td>private places</td>\n",
              "    </tr>\n",
              "    <tr>\n",
              "      <th>1</th>\n",
              "      <td>1</td>\n",
              "      <td>women in kuwait have launched a social media c...</td>\n",
              "      <td>perempuan di kuwait telah meluncurkan kampanye...</td>\n",
              "      <td>public places</td>\n",
              "    </tr>\n",
              "    <tr>\n",
              "      <th>2</th>\n",
              "      <td>2</td>\n",
              "      <td>triger warning raising awareness of sexual ass...</td>\n",
              "      <td>peringatan triger meningkatkan kesadaran akan ...</td>\n",
              "      <td>private places</td>\n",
              "    </tr>\n",
              "    <tr>\n",
              "      <th>3</th>\n",
              "      <td>3</td>\n",
              "      <td>charges brought against the guy that smacked m...</td>\n",
              "      <td>dakwaan yang diajukan terhadap pria yang memuk...</td>\n",
              "      <td>private places</td>\n",
              "    </tr>\n",
              "    <tr>\n",
              "      <th>4</th>\n",
              "      <td>4</td>\n",
              "      <td>and the fourth presenter on 26th may is hannah...</td>\n",
              "      <td>dan presenter keempat pada tanggal 26 mei adal...</td>\n",
              "      <td>educational places</td>\n",
              "    </tr>\n",
              "  </tbody>\n",
              "</table>\n",
              "</div>"
            ],
            "text/plain": [
              "   index  ...               label\n",
              "0      0  ...      private places\n",
              "1      1  ...       public places\n",
              "2      2  ...      private places\n",
              "3      3  ...      private places\n",
              "4      4  ...  educational places\n",
              "\n",
              "[5 rows x 4 columns]"
            ]
          },
          "metadata": {
            "tags": []
          },
          "execution_count": 14
        }
      ]
    },
    {
      "cell_type": "code",
      "metadata": {
        "colab": {
          "base_uri": "https://localhost:8080/",
          "height": 402
        },
        "id": "R99z4t-eYAqG",
        "outputId": "76e9cd30-7697-4e6b-98aa-79db2aee930b"
      },
      "source": [
        "df['text'] = df['indo_text']\n",
        "df.drop(['indo_text'], axis=1)"
      ],
      "execution_count": 16,
      "outputs": [
        {
          "output_type": "execute_result",
          "data": {
            "text/html": [
              "<div>\n",
              "<style scoped>\n",
              "    .dataframe tbody tr th:only-of-type {\n",
              "        vertical-align: middle;\n",
              "    }\n",
              "\n",
              "    .dataframe tbody tr th {\n",
              "        vertical-align: top;\n",
              "    }\n",
              "\n",
              "    .dataframe thead th {\n",
              "        text-align: right;\n",
              "    }\n",
              "</style>\n",
              "<table border=\"1\" class=\"dataframe\">\n",
              "  <thead>\n",
              "    <tr style=\"text-align: right;\">\n",
              "      <th></th>\n",
              "      <th>index</th>\n",
              "      <th>text</th>\n",
              "      <th>label</th>\n",
              "    </tr>\n",
              "  </thead>\n",
              "  <tbody>\n",
              "    <tr>\n",
              "      <th>0</th>\n",
              "      <td>0</td>\n",
              "      <td>ironi gerakan ini terlalu menyakitkan jelas di...</td>\n",
              "      <td>private places</td>\n",
              "    </tr>\n",
              "    <tr>\n",
              "      <th>1</th>\n",
              "      <td>1</td>\n",
              "      <td>perempuan di kuwait telah meluncurkan kampanye...</td>\n",
              "      <td>public places</td>\n",
              "    </tr>\n",
              "    <tr>\n",
              "      <th>2</th>\n",
              "      <td>2</td>\n",
              "      <td>peringatan triger meningkatkan kesadaran akan ...</td>\n",
              "      <td>private places</td>\n",
              "    </tr>\n",
              "    <tr>\n",
              "      <th>3</th>\n",
              "      <td>3</td>\n",
              "      <td>dakwaan yang diajukan terhadap pria yang memuk...</td>\n",
              "      <td>private places</td>\n",
              "    </tr>\n",
              "    <tr>\n",
              "      <th>4</th>\n",
              "      <td>4</td>\n",
              "      <td>dan presenter keempat pada tanggal 26 mei adal...</td>\n",
              "      <td>educational places</td>\n",
              "    </tr>\n",
              "    <tr>\n",
              "      <th>...</th>\n",
              "      <td>...</td>\n",
              "      <td>...</td>\n",
              "      <td>...</td>\n",
              "    </tr>\n",
              "    <tr>\n",
              "      <th>14103</th>\n",
              "      <td>14103</td>\n",
              "      <td>Itu peta jalan yang diuji pada implementasi la...</td>\n",
              "      <td>public places</td>\n",
              "    </tr>\n",
              "    <tr>\n",
              "      <th>14104</th>\n",
              "      <td>14104</td>\n",
              "      <td>serbia saya pikir saya adalah satu-satunya ber...</td>\n",
              "      <td>neutral</td>\n",
              "    </tr>\n",
              "    <tr>\n",
              "      <th>14105</th>\n",
              "      <td>14105</td>\n",
              "      <td>jangan bergeming bersikeras untuk memperjuangk...</td>\n",
              "      <td>public places</td>\n",
              "    </tr>\n",
              "    <tr>\n",
              "      <th>14106</th>\n",
              "      <td>14106</td>\n",
              "      <td>pelatihan antiharassment online gratis yang di...</td>\n",
              "      <td>private places</td>\n",
              "    </tr>\n",
              "    <tr>\n",
              "      <th>14107</th>\n",
              "      <td>14107</td>\n",
              "      <td>Pengacara hak-hak perempuan 1 tampaknya kehila...</td>\n",
              "      <td>public places</td>\n",
              "    </tr>\n",
              "  </tbody>\n",
              "</table>\n",
              "<p>14108 rows × 3 columns</p>\n",
              "</div>"
            ],
            "text/plain": [
              "       index  ...               label\n",
              "0          0  ...      private places\n",
              "1          1  ...       public places\n",
              "2          2  ...      private places\n",
              "3          3  ...      private places\n",
              "4          4  ...  educational places\n",
              "...      ...  ...                 ...\n",
              "14103  14103  ...       public places\n",
              "14104  14104  ...             neutral\n",
              "14105  14105  ...       public places\n",
              "14106  14106  ...      private places\n",
              "14107  14107  ...       public places\n",
              "\n",
              "[14108 rows x 3 columns]"
            ]
          },
          "metadata": {
            "tags": []
          },
          "execution_count": 16
        }
      ]
    },
    {
      "cell_type": "code",
      "metadata": {
        "id": "_zugJcnpsr4p"
      },
      "source": [
        "labels = pd.get_dummies(df.label)"
      ],
      "execution_count": 17,
      "outputs": []
    },
    {
      "cell_type": "code",
      "metadata": {
        "id": "sMP4dEqss7hA"
      },
      "source": [
        "df_new = pd.concat([df, labels], axis=1)\n",
        "df_new = df_new.drop(columns='label')"
      ],
      "execution_count": 18,
      "outputs": []
    },
    {
      "cell_type": "code",
      "metadata": {
        "id": "K_YhqeK_soIr"
      },
      "source": [
        "tweet = df_new['text'].values\n",
        "label = df_new[[\"cyber\", \"educational places\", \"neutral\", \"private places\", \"public places\", \"work places\"]].values"
      ],
      "execution_count": 19,
      "outputs": []
    },
    {
      "cell_type": "code",
      "metadata": {
        "id": "Fhtsnub1wT99",
        "colab": {
          "base_uri": "https://localhost:8080/"
        },
        "outputId": "17c833ab-0101-456a-c5cd-149e1bdfffb9"
      },
      "source": [
        "label"
      ],
      "execution_count": 20,
      "outputs": [
        {
          "output_type": "execute_result",
          "data": {
            "text/plain": [
              "array([[0, 0, 0, 1, 0, 0],\n",
              "       [0, 0, 0, 0, 1, 0],\n",
              "       [0, 0, 0, 1, 0, 0],\n",
              "       ...,\n",
              "       [0, 0, 0, 0, 1, 0],\n",
              "       [0, 0, 0, 1, 0, 0],\n",
              "       [0, 0, 0, 0, 1, 0]], dtype=uint8)"
            ]
          },
          "metadata": {
            "tags": []
          },
          "execution_count": 20
        }
      ]
    },
    {
      "cell_type": "code",
      "metadata": {
        "id": "Lu2JQOMsjByI"
      },
      "source": [
        "from sklearn.model_selection import train_test_split\n",
        "#Train Text, Test Text, Train Label, Test Label\n",
        "X_train, X_test, y_train, y_test = train_test_split(tweet, label, test_size=0.2, shuffle=True)"
      ],
      "execution_count": 21,
      "outputs": []
    },
    {
      "cell_type": "code",
      "metadata": {
        "id": "sBtqd28eGu4Y"
      },
      "source": [
        "tokenizer = Tokenizer(num_words = vocab_size, oov_token = oov_tok)\n",
        "tokenizer.fit_on_texts(X_train)\n",
        "word_index = tokenizer.word_index\n",
        "sequences = tokenizer.texts_to_sequences(X_train)\n",
        "padded = pad_sequences(sequences, maxlen=max_length, truncating=trunc_type)\n",
        "\n",
        "testing_sequences = tokenizer.texts_to_sequences(X_test)\n",
        "testing_padded = pad_sequences(testing_sequences, maxlen = max_length)"
      ],
      "execution_count": 22,
      "outputs": []
    },
    {
      "cell_type": "code",
      "metadata": {
        "id": "jvl9nAPioO_C"
      },
      "source": [
        "class myCallback(tf.keras.callbacks.Callback):\n",
        "\tdef on_epoch_end(self, epoch, logs={}):\n",
        "\t\tif(logs.get('val_accuracy')>0.90):\n",
        "\t\t\tprint(\"Desired accuracy reached!\")\n",
        "\t\t\tself.model.stop_training=True"
      ],
      "execution_count": 25,
      "outputs": []
    },
    {
      "cell_type": "code",
      "metadata": {
        "id": "RjZ8vIaNHUe1"
      },
      "source": [
        "import tensorflow as tf\n",
        "'''\n",
        "model = tf.keras.Sequential([\n",
        "  tf.keras.layers.Embedding(vocab_size, embedding_dim, input_length=max_length),\n",
        "  #tf.keras.layers.Flatten(),\n",
        "  tf.keras.layers.LSTM(64),\n",
        "  tf.keras.layers.Dense(32, activation='relu'),\n",
        "  tf.keras.layers.Dense(6, activation='softmax')\n",
        "])\n",
        "\n",
        "'''\n",
        "'''\n",
        "model = tf.keras.Sequential([\n",
        "  tf.keras.layers.Embedding(vocab_size, embedding_dim, input_length=max_length),\n",
        "  #tf.keras.layers.Flatten(),\n",
        "  tf.keras.layers.Bidirectional(tf.keras.layers.LSTM(64, return_sequences=True)),\n",
        "  tf.keras.layers.Bidirectional(tf.keras.layers.LSTM(32)),\n",
        "  tf.keras.layers.Dense(32, activation='relu'),\n",
        "  tf.keras.layers.Dense(6, activation='softmax')\n",
        "])\n",
        "'''\n",
        "model = tf.keras.Sequential([\n",
        "  tf.keras.layers.Embedding(vocab_size, embedding_dim, input_length=max_length),\n",
        "  #tf.keras.layers.Flatten(),\n",
        "  tf.keras.layers.Bidirectional(tf.keras.layers.LSTM(128, return_sequences=True)),\n",
        "  tf.keras.layers.Bidirectional(tf.keras.layers.LSTM(64, return_sequences=True)),\n",
        "  tf.keras.layers.Bidirectional(tf.keras.layers.LSTM(32, return_sequences=True)),\n",
        "  tf.keras.layers.Bidirectional(tf.keras.layers.LSTM(16)),\n",
        "  tf.keras.layers.Dropout(0.1),\n",
        "  tf.keras.layers.Dense(32, activation='relu'),\n",
        "  tf.keras.layers.Dense(6, activation='softmax')\n",
        "])\n"
      ],
      "execution_count": 26,
      "outputs": []
    },
    {
      "cell_type": "markdown",
      "metadata": {
        "id": "sngBU5lCJ6aa"
      },
      "source": [
        "transfer learning models for NLP: BERT, coba buka ini https://www.dlology.com/blog/keras-meets-universal-sentence-encoder-transfer-learning-for-text-data/"
      ]
    },
    {
      "cell_type": "code",
      "metadata": {
        "id": "bVv4IUpQIu1q",
        "colab": {
          "base_uri": "https://localhost:8080/"
        },
        "outputId": "ea54e175-4516-466a-e12a-fbe7af803089"
      },
      "source": [
        "model.compile(loss='categorical_crossentropy', optimizer='adam', metrics=['accuracy'])\n",
        "model.summary()"
      ],
      "execution_count": 27,
      "outputs": [
        {
          "output_type": "stream",
          "text": [
            "Model: \"sequential\"\n",
            "_________________________________________________________________\n",
            "Layer (type)                 Output Shape              Param #   \n",
            "=================================================================\n",
            "embedding (Embedding)        (None, 32, 32)            640000    \n",
            "_________________________________________________________________\n",
            "bidirectional (Bidirectional (None, 32, 256)           164864    \n",
            "_________________________________________________________________\n",
            "bidirectional_1 (Bidirection (None, 32, 128)           164352    \n",
            "_________________________________________________________________\n",
            "bidirectional_2 (Bidirection (None, 32, 64)            41216     \n",
            "_________________________________________________________________\n",
            "bidirectional_3 (Bidirection (None, 32)                10368     \n",
            "_________________________________________________________________\n",
            "dropout (Dropout)            (None, 32)                0         \n",
            "_________________________________________________________________\n",
            "dense (Dense)                (None, 32)                1056      \n",
            "_________________________________________________________________\n",
            "dense_1 (Dense)              (None, 6)                 198       \n",
            "=================================================================\n",
            "Total params: 1,022,054\n",
            "Trainable params: 1,022,054\n",
            "Non-trainable params: 0\n",
            "_________________________________________________________________\n"
          ],
          "name": "stdout"
        }
      ]
    },
    {
      "cell_type": "code",
      "metadata": {
        "id": "wurt_WmlJLoV",
        "colab": {
          "base_uri": "https://localhost:8080/"
        },
        "outputId": "691a374c-dc5f-4d2d-844f-658dcae381bd"
      },
      "source": [
        "num_epochs = 100\n",
        "callbacks = myCallback()\n",
        "model.fit(padded, y_train, epochs=num_epochs, validation_data=(testing_padded, y_test), callbacks=[callbacks])"
      ],
      "execution_count": 28,
      "outputs": [
        {
          "output_type": "stream",
          "text": [
            "Epoch 1/100\n",
            "353/353 [==============================] - 77s 102ms/step - loss: 1.3011 - accuracy: 0.4549 - val_loss: 0.9683 - val_accuracy: 0.6233\n",
            "Epoch 2/100\n",
            "353/353 [==============================] - 33s 95ms/step - loss: 0.8127 - accuracy: 0.7130 - val_loss: 0.8589 - val_accuracy: 0.7002\n",
            "Epoch 3/100\n",
            "353/353 [==============================] - 33s 94ms/step - loss: 0.6269 - accuracy: 0.7890 - val_loss: 0.8225 - val_accuracy: 0.7225\n",
            "Epoch 4/100\n",
            "353/353 [==============================] - 33s 94ms/step - loss: 0.4905 - accuracy: 0.8425 - val_loss: 0.8737 - val_accuracy: 0.7229\n",
            "Epoch 5/100\n",
            "353/353 [==============================] - 33s 94ms/step - loss: 0.3823 - accuracy: 0.8825 - val_loss: 0.8618 - val_accuracy: 0.7261\n",
            "Epoch 6/100\n",
            "353/353 [==============================] - 33s 94ms/step - loss: 0.2936 - accuracy: 0.9088 - val_loss: 0.9409 - val_accuracy: 0.7275\n",
            "Epoch 7/100\n",
            "353/353 [==============================] - 33s 94ms/step - loss: 0.2411 - accuracy: 0.9271 - val_loss: 1.0347 - val_accuracy: 0.7346\n",
            "Epoch 8/100\n",
            "353/353 [==============================] - 33s 94ms/step - loss: 0.2024 - accuracy: 0.9353 - val_loss: 1.0117 - val_accuracy: 0.7427\n",
            "Epoch 9/100\n",
            "353/353 [==============================] - 33s 94ms/step - loss: 0.1545 - accuracy: 0.9523 - val_loss: 1.0022 - val_accuracy: 0.7378\n",
            "Epoch 10/100\n",
            "353/353 [==============================] - 33s 94ms/step - loss: 0.1309 - accuracy: 0.9623 - val_loss: 0.9958 - val_accuracy: 0.7605\n",
            "Epoch 11/100\n",
            "353/353 [==============================] - 33s 94ms/step - loss: 0.0978 - accuracy: 0.9743 - val_loss: 1.0603 - val_accuracy: 0.7562\n",
            "Epoch 12/100\n",
            "353/353 [==============================] - 33s 94ms/step - loss: 0.0751 - accuracy: 0.9817 - val_loss: 1.0908 - val_accuracy: 0.7619\n",
            "Epoch 13/100\n",
            "353/353 [==============================] - 33s 94ms/step - loss: 0.0729 - accuracy: 0.9816 - val_loss: 1.1548 - val_accuracy: 0.7580\n",
            "Epoch 14/100\n",
            "353/353 [==============================] - 33s 94ms/step - loss: 0.0582 - accuracy: 0.9872 - val_loss: 1.2910 - val_accuracy: 0.7388\n",
            "Epoch 15/100\n",
            "353/353 [==============================] - 33s 94ms/step - loss: 0.0676 - accuracy: 0.9822 - val_loss: 1.2550 - val_accuracy: 0.7502\n",
            "Epoch 16/100\n",
            "353/353 [==============================] - 33s 94ms/step - loss: 0.0629 - accuracy: 0.9828 - val_loss: 1.3030 - val_accuracy: 0.7562\n",
            "Epoch 17/100\n",
            "353/353 [==============================] - 33s 94ms/step - loss: 0.0516 - accuracy: 0.9877 - val_loss: 1.3114 - val_accuracy: 0.7509\n",
            "Epoch 18/100\n",
            "353/353 [==============================] - 33s 94ms/step - loss: 0.0287 - accuracy: 0.9933 - val_loss: 1.3641 - val_accuracy: 0.7473\n",
            "Epoch 19/100\n",
            "353/353 [==============================] - 33s 94ms/step - loss: 0.0602 - accuracy: 0.9849 - val_loss: 1.2947 - val_accuracy: 0.7530\n",
            "Epoch 20/100\n",
            "353/353 [==============================] - 33s 94ms/step - loss: 0.0362 - accuracy: 0.9913 - val_loss: 1.4259 - val_accuracy: 0.7481\n",
            "Epoch 21/100\n",
            "353/353 [==============================] - 33s 94ms/step - loss: 0.0382 - accuracy: 0.9892 - val_loss: 1.3931 - val_accuracy: 0.7505\n",
            "Epoch 22/100\n",
            "353/353 [==============================] - 33s 94ms/step - loss: 0.0330 - accuracy: 0.9916 - val_loss: 1.4908 - val_accuracy: 0.7410\n",
            "Epoch 23/100\n",
            "353/353 [==============================] - 33s 94ms/step - loss: 0.0252 - accuracy: 0.9937 - val_loss: 1.4328 - val_accuracy: 0.7364\n",
            "Epoch 24/100\n",
            "353/353 [==============================] - 33s 94ms/step - loss: 0.0154 - accuracy: 0.9974 - val_loss: 1.5086 - val_accuracy: 0.7420\n",
            "Epoch 25/100\n",
            "353/353 [==============================] - 33s 93ms/step - loss: 0.0158 - accuracy: 0.9964 - val_loss: 1.6210 - val_accuracy: 0.7367\n",
            "Epoch 26/100\n",
            "353/353 [==============================] - 33s 94ms/step - loss: 0.0147 - accuracy: 0.9970 - val_loss: 1.8307 - val_accuracy: 0.7183\n",
            "Epoch 27/100\n",
            "353/353 [==============================] - 33s 94ms/step - loss: 0.0545 - accuracy: 0.9864 - val_loss: 1.4855 - val_accuracy: 0.7537\n",
            "Epoch 28/100\n",
            "353/353 [==============================] - 33s 94ms/step - loss: 0.0301 - accuracy: 0.9905 - val_loss: 1.4818 - val_accuracy: 0.7403\n",
            "Epoch 29/100\n",
            "353/353 [==============================] - 33s 94ms/step - loss: 0.0190 - accuracy: 0.9943 - val_loss: 1.6533 - val_accuracy: 0.7488\n",
            "Epoch 30/100\n",
            "353/353 [==============================] - 33s 94ms/step - loss: 0.0148 - accuracy: 0.9966 - val_loss: 1.4902 - val_accuracy: 0.7417\n",
            "Epoch 31/100\n",
            "353/353 [==============================] - 33s 94ms/step - loss: 0.0214 - accuracy: 0.9938 - val_loss: 1.5450 - val_accuracy: 0.7367\n",
            "Epoch 32/100\n",
            "353/353 [==============================] - 33s 94ms/step - loss: 0.0213 - accuracy: 0.9950 - val_loss: 1.4370 - val_accuracy: 0.7434\n",
            "Epoch 33/100\n",
            "353/353 [==============================] - 33s 94ms/step - loss: 0.0189 - accuracy: 0.9943 - val_loss: 1.7002 - val_accuracy: 0.7463\n",
            "Epoch 34/100\n",
            "353/353 [==============================] - 33s 94ms/step - loss: 0.0138 - accuracy: 0.9958 - val_loss: 1.7845 - val_accuracy: 0.7403\n",
            "Epoch 35/100\n",
            "353/353 [==============================] - 33s 94ms/step - loss: 0.0101 - accuracy: 0.9979 - val_loss: 1.7593 - val_accuracy: 0.7442\n",
            "Epoch 36/100\n",
            "353/353 [==============================] - 33s 94ms/step - loss: 0.0122 - accuracy: 0.9972 - val_loss: 1.9580 - val_accuracy: 0.7424\n",
            "Epoch 37/100\n",
            "353/353 [==============================] - 33s 94ms/step - loss: 0.0125 - accuracy: 0.9958 - val_loss: 2.0002 - val_accuracy: 0.7424\n",
            "Epoch 38/100\n",
            "353/353 [==============================] - 33s 94ms/step - loss: 0.0164 - accuracy: 0.9958 - val_loss: 1.7738 - val_accuracy: 0.7353\n",
            "Epoch 39/100\n",
            "353/353 [==============================] - 33s 94ms/step - loss: 0.0134 - accuracy: 0.9964 - val_loss: 1.6703 - val_accuracy: 0.7289\n",
            "Epoch 40/100\n",
            "353/353 [==============================] - 33s 94ms/step - loss: 0.0154 - accuracy: 0.9958 - val_loss: 1.6073 - val_accuracy: 0.7488\n",
            "Epoch 41/100\n",
            "353/353 [==============================] - 33s 94ms/step - loss: 0.0139 - accuracy: 0.9958 - val_loss: 1.8554 - val_accuracy: 0.7225\n",
            "Epoch 42/100\n",
            "353/353 [==============================] - 33s 94ms/step - loss: 0.0107 - accuracy: 0.9974 - val_loss: 1.6904 - val_accuracy: 0.7505\n",
            "Epoch 43/100\n",
            "353/353 [==============================] - 33s 94ms/step - loss: 0.0074 - accuracy: 0.9981 - val_loss: 1.7615 - val_accuracy: 0.7459\n",
            "Epoch 44/100\n",
            "353/353 [==============================] - 33s 94ms/step - loss: 0.0047 - accuracy: 0.9988 - val_loss: 1.9019 - val_accuracy: 0.7498\n",
            "Epoch 45/100\n",
            "353/353 [==============================] - 33s 94ms/step - loss: 0.0021 - accuracy: 0.9995 - val_loss: 2.0751 - val_accuracy: 0.7488\n",
            "Epoch 46/100\n",
            "353/353 [==============================] - 33s 94ms/step - loss: 0.0028 - accuracy: 0.9992 - val_loss: 2.1157 - val_accuracy: 0.7488\n",
            "Epoch 47/100\n",
            "353/353 [==============================] - 33s 94ms/step - loss: 9.1909e-04 - accuracy: 0.9996 - val_loss: 2.2544 - val_accuracy: 0.7505\n",
            "Epoch 48/100\n",
            "353/353 [==============================] - 33s 94ms/step - loss: 7.6517e-04 - accuracy: 0.9997 - val_loss: 2.3809 - val_accuracy: 0.7385\n",
            "Epoch 49/100\n",
            "353/353 [==============================] - 33s 94ms/step - loss: 0.0011 - accuracy: 0.9998 - val_loss: 2.1000 - val_accuracy: 0.7257\n",
            "Epoch 50/100\n",
            "353/353 [==============================] - 33s 94ms/step - loss: 0.0242 - accuracy: 0.9943 - val_loss: 1.7610 - val_accuracy: 0.7247\n",
            "Epoch 51/100\n",
            "353/353 [==============================] - 33s 94ms/step - loss: 0.0260 - accuracy: 0.9935 - val_loss: 1.9046 - val_accuracy: 0.7463\n",
            "Epoch 52/100\n",
            "353/353 [==============================] - 33s 95ms/step - loss: 0.0044 - accuracy: 0.9985 - val_loss: 2.0767 - val_accuracy: 0.7335\n",
            "Epoch 53/100\n",
            "353/353 [==============================] - 33s 94ms/step - loss: 0.0041 - accuracy: 0.9990 - val_loss: 2.0771 - val_accuracy: 0.7332\n",
            "Epoch 54/100\n",
            "353/353 [==============================] - 33s 94ms/step - loss: 0.0038 - accuracy: 0.9995 - val_loss: 2.1265 - val_accuracy: 0.7463\n",
            "Epoch 55/100\n",
            "353/353 [==============================] - 33s 94ms/step - loss: 0.0012 - accuracy: 0.9995 - val_loss: 2.3260 - val_accuracy: 0.7349\n",
            "Epoch 56/100\n",
            "353/353 [==============================] - 33s 94ms/step - loss: 0.0021 - accuracy: 0.9994 - val_loss: 2.4558 - val_accuracy: 0.7243\n",
            "Epoch 57/100\n",
            "353/353 [==============================] - 33s 94ms/step - loss: 0.0108 - accuracy: 0.9969 - val_loss: 1.8561 - val_accuracy: 0.7481\n",
            "Epoch 58/100\n",
            "353/353 [==============================] - 33s 94ms/step - loss: 0.0101 - accuracy: 0.9965 - val_loss: 2.0080 - val_accuracy: 0.7360\n",
            "Epoch 59/100\n",
            "353/353 [==============================] - 33s 94ms/step - loss: 0.0050 - accuracy: 0.9985 - val_loss: 1.9990 - val_accuracy: 0.7434\n",
            "Epoch 60/100\n",
            "353/353 [==============================] - 33s 94ms/step - loss: 0.0012 - accuracy: 0.9998 - val_loss: 2.1645 - val_accuracy: 0.7392\n",
            "Epoch 61/100\n",
            "353/353 [==============================] - 33s 94ms/step - loss: 0.0011 - accuracy: 0.9996 - val_loss: 2.3330 - val_accuracy: 0.7381\n",
            "Epoch 62/100\n",
            "353/353 [==============================] - 33s 94ms/step - loss: 1.6293e-04 - accuracy: 1.0000 - val_loss: 2.4316 - val_accuracy: 0.7403\n",
            "Epoch 63/100\n",
            "353/353 [==============================] - 33s 95ms/step - loss: 1.0731e-04 - accuracy: 1.0000 - val_loss: 2.5143 - val_accuracy: 0.7374\n",
            "Epoch 64/100\n",
            "353/353 [==============================] - 34s 96ms/step - loss: 0.0033 - accuracy: 0.9992 - val_loss: 2.3661 - val_accuracy: 0.7417\n",
            "Epoch 65/100\n",
            "353/353 [==============================] - 33s 94ms/step - loss: 0.0060 - accuracy: 0.9983 - val_loss: 1.9097 - val_accuracy: 0.7314\n",
            "Epoch 66/100\n",
            "353/353 [==============================] - 33s 95ms/step - loss: 0.0126 - accuracy: 0.9962 - val_loss: 1.7587 - val_accuracy: 0.7349\n",
            "Epoch 67/100\n",
            "353/353 [==============================] - 33s 94ms/step - loss: 0.0074 - accuracy: 0.9974 - val_loss: 1.9532 - val_accuracy: 0.7431\n",
            "Epoch 68/100\n",
            "353/353 [==============================] - 33s 95ms/step - loss: 0.0047 - accuracy: 0.9991 - val_loss: 2.0720 - val_accuracy: 0.7424\n",
            "Epoch 69/100\n",
            "353/353 [==============================] - 33s 95ms/step - loss: 4.1876e-04 - accuracy: 1.0000 - val_loss: 2.2525 - val_accuracy: 0.7339\n",
            "Epoch 70/100\n",
            "353/353 [==============================] - 33s 95ms/step - loss: 2.1622e-04 - accuracy: 1.0000 - val_loss: 2.3708 - val_accuracy: 0.7367\n",
            "Epoch 71/100\n",
            "353/353 [==============================] - 34s 95ms/step - loss: 1.4175e-04 - accuracy: 1.0000 - val_loss: 2.3224 - val_accuracy: 0.7349\n",
            "Epoch 72/100\n",
            "353/353 [==============================] - 34s 95ms/step - loss: 0.0015 - accuracy: 0.9996 - val_loss: 2.2040 - val_accuracy: 0.7477\n",
            "Epoch 73/100\n",
            "353/353 [==============================] - 33s 95ms/step - loss: 0.0071 - accuracy: 0.9979 - val_loss: 1.9763 - val_accuracy: 0.7360\n",
            "Epoch 74/100\n",
            "353/353 [==============================] - 33s 94ms/step - loss: 0.0076 - accuracy: 0.9980 - val_loss: 2.1496 - val_accuracy: 0.7381\n",
            "Epoch 75/100\n",
            "353/353 [==============================] - 33s 95ms/step - loss: 0.0103 - accuracy: 0.9983 - val_loss: 2.1119 - val_accuracy: 0.7452\n",
            "Epoch 76/100\n",
            "353/353 [==============================] - 34s 96ms/step - loss: 0.0018 - accuracy: 0.9997 - val_loss: 2.2485 - val_accuracy: 0.7417\n",
            "Epoch 77/100\n",
            "353/353 [==============================] - 33s 94ms/step - loss: 2.5403e-04 - accuracy: 1.0000 - val_loss: 2.4911 - val_accuracy: 0.7193\n",
            "Epoch 78/100\n",
            "353/353 [==============================] - 33s 95ms/step - loss: 0.0068 - accuracy: 0.9980 - val_loss: 2.4406 - val_accuracy: 0.7385\n",
            "Epoch 79/100\n",
            "353/353 [==============================] - 33s 95ms/step - loss: 0.0047 - accuracy: 0.9987 - val_loss: 1.8886 - val_accuracy: 0.7293\n",
            "Epoch 80/100\n",
            "353/353 [==============================] - 33s 95ms/step - loss: 0.0155 - accuracy: 0.9956 - val_loss: 2.0376 - val_accuracy: 0.7342\n",
            "Epoch 81/100\n",
            "353/353 [==============================] - 33s 95ms/step - loss: 0.0022 - accuracy: 0.9996 - val_loss: 2.1559 - val_accuracy: 0.7332\n",
            "Epoch 82/100\n",
            "353/353 [==============================] - 33s 95ms/step - loss: 2.7771e-04 - accuracy: 1.0000 - val_loss: 2.2579 - val_accuracy: 0.7289\n",
            "Epoch 83/100\n",
            "353/353 [==============================] - 33s 95ms/step - loss: 1.5576e-04 - accuracy: 1.0000 - val_loss: 2.3953 - val_accuracy: 0.7300\n",
            "Epoch 84/100\n",
            "353/353 [==============================] - 34s 95ms/step - loss: 7.0611e-05 - accuracy: 1.0000 - val_loss: 2.4734 - val_accuracy: 0.7296\n",
            "Epoch 85/100\n",
            "353/353 [==============================] - 33s 95ms/step - loss: 7.7244e-05 - accuracy: 1.0000 - val_loss: 2.5568 - val_accuracy: 0.7289\n",
            "Epoch 86/100\n",
            "353/353 [==============================] - 33s 95ms/step - loss: 4.3515e-05 - accuracy: 1.0000 - val_loss: 2.6183 - val_accuracy: 0.7300\n",
            "Epoch 87/100\n",
            "353/353 [==============================] - 34s 95ms/step - loss: 3.5299e-05 - accuracy: 1.0000 - val_loss: 2.6841 - val_accuracy: 0.7293\n",
            "Epoch 88/100\n",
            "353/353 [==============================] - 33s 95ms/step - loss: 2.9073e-05 - accuracy: 1.0000 - val_loss: 2.7462 - val_accuracy: 0.7293\n",
            "Epoch 89/100\n",
            "353/353 [==============================] - 33s 95ms/step - loss: 2.2388e-05 - accuracy: 1.0000 - val_loss: 2.8014 - val_accuracy: 0.7303\n",
            "Epoch 90/100\n",
            "353/353 [==============================] - 33s 95ms/step - loss: 1.8936e-05 - accuracy: 1.0000 - val_loss: 2.8713 - val_accuracy: 0.7307\n",
            "Epoch 91/100\n",
            "353/353 [==============================] - 33s 95ms/step - loss: 1.5940e-05 - accuracy: 1.0000 - val_loss: 2.9263 - val_accuracy: 0.7293\n",
            "Epoch 92/100\n",
            "353/353 [==============================] - 33s 95ms/step - loss: 1.1702e-05 - accuracy: 1.0000 - val_loss: 2.9810 - val_accuracy: 0.7289\n",
            "Epoch 93/100\n",
            "353/353 [==============================] - 33s 95ms/step - loss: 2.1722e-05 - accuracy: 1.0000 - val_loss: 3.0140 - val_accuracy: 0.7275\n",
            "Epoch 94/100\n",
            "353/353 [==============================] - 33s 95ms/step - loss: 7.0054e-06 - accuracy: 1.0000 - val_loss: 3.0695 - val_accuracy: 0.7286\n",
            "Epoch 95/100\n",
            "353/353 [==============================] - 34s 95ms/step - loss: 3.5079e-05 - accuracy: 1.0000 - val_loss: 3.1185 - val_accuracy: 0.7282\n",
            "Epoch 96/100\n",
            "353/353 [==============================] - 34s 95ms/step - loss: 9.1194e-05 - accuracy: 1.0000 - val_loss: 3.3234 - val_accuracy: 0.7318\n",
            "Epoch 97/100\n",
            "353/353 [==============================] - 33s 95ms/step - loss: 0.0358 - accuracy: 0.9929 - val_loss: 1.6144 - val_accuracy: 0.7321\n",
            "Epoch 98/100\n",
            "353/353 [==============================] - 34s 95ms/step - loss: 0.0118 - accuracy: 0.9968 - val_loss: 1.9168 - val_accuracy: 0.7378\n",
            "Epoch 99/100\n",
            "353/353 [==============================] - 33s 95ms/step - loss: 0.0040 - accuracy: 0.9990 - val_loss: 1.9740 - val_accuracy: 0.7289\n",
            "Epoch 100/100\n",
            "353/353 [==============================] - 34s 95ms/step - loss: 0.0019 - accuracy: 0.9995 - val_loss: 2.2302 - val_accuracy: 0.7296\n"
          ],
          "name": "stdout"
        },
        {
          "output_type": "execute_result",
          "data": {
            "text/plain": [
              "<tensorflow.python.keras.callbacks.History at 0x7f148fa8d950>"
            ]
          },
          "metadata": {
            "tags": []
          },
          "execution_count": 28
        }
      ]
    },
    {
      "cell_type": "code",
      "metadata": {
        "id": "8-1MZgy8L3Dy"
      },
      "source": [
        "text = [\"ada orang mesum di jalan\"]\n",
        "\n",
        "tokenized_text = tokenizer.texts_to_sequences(text)"
      ],
      "execution_count": 47,
      "outputs": []
    },
    {
      "cell_type": "code",
      "metadata": {
        "id": "IExCJvq0Jq0t"
      },
      "source": [
        "prediction = model.predict(tokenized_text)"
      ],
      "execution_count": 48,
      "outputs": []
    },
    {
      "cell_type": "code",
      "metadata": {
        "id": "BvInsh7AF2eU",
        "colab": {
          "base_uri": "https://localhost:8080/"
        },
        "outputId": "af07b1b7-c20d-40de-b46a-edc7062c2726"
      },
      "source": [
        "labels = [\"cyber\", \"educational places\", \"neutral\", \"private places\", \"public places\", \"work places\"]\n",
        "predicted = prediction.argmax(axis=1)\n",
        "predict_labels = [labels[predict] for predict in predicted]\n",
        "print(prediction)\n",
        "print(predict_labels)"
      ],
      "execution_count": 49,
      "outputs": [
        {
          "output_type": "stream",
          "text": [
            "[[8.1594671e-06 2.1882171e-14 4.9783659e-05 6.7176193e-04 9.9926955e-01\n",
            "  6.6684640e-07]]\n",
            "['public places']\n"
          ],
          "name": "stdout"
        }
      ]
    },
    {
      "cell_type": "code",
      "metadata": {
        "id": "s0QJEHVuWjrH",
        "colab": {
          "base_uri": "https://localhost:8080/"
        },
        "outputId": "23b28a70-a961-43d9-8348-fde1a0fd7170"
      },
      "source": [
        "#Exporting the Model (TFLITE)\n",
        "export_dir = 'saved_model/1'\n",
        "tf.saved_model.save(model, export_dir)"
      ],
      "execution_count": 50,
      "outputs": [
        {
          "output_type": "stream",
          "text": [
            "WARNING:absl:Found untraced functions such as lstm_cell_1_layer_call_fn, lstm_cell_1_layer_call_and_return_conditional_losses, lstm_cell_2_layer_call_fn, lstm_cell_2_layer_call_and_return_conditional_losses, lstm_cell_4_layer_call_fn while saving (showing 5 of 40). These functions will not be directly callable after loading.\n",
            "WARNING:absl:Found untraced functions such as lstm_cell_1_layer_call_fn, lstm_cell_1_layer_call_and_return_conditional_losses, lstm_cell_2_layer_call_fn, lstm_cell_2_layer_call_and_return_conditional_losses, lstm_cell_4_layer_call_fn while saving (showing 5 of 40). These functions will not be directly callable after loading.\n"
          ],
          "name": "stderr"
        },
        {
          "output_type": "stream",
          "text": [
            "INFO:tensorflow:Assets written to: saved_model/1/assets\n"
          ],
          "name": "stdout"
        },
        {
          "output_type": "stream",
          "text": [
            "INFO:tensorflow:Assets written to: saved_model/1/assets\n"
          ],
          "name": "stderr"
        }
      ]
    },
    {
      "cell_type": "code",
      "metadata": {
        "id": "ub-ae_4rV6gF"
      },
      "source": [
        "converter = tf.lite.TFLiteConverter.from_saved_model(export_dir)\n",
        "#converter = tf.lite.TFLiteConverter.from_keras_model(model)\n",
        "tflite_model = converter.convert()"
      ],
      "execution_count": 51,
      "outputs": []
    },
    {
      "cell_type": "code",
      "metadata": {
        "id": "x8WpRsm6XSrl",
        "colab": {
          "base_uri": "https://localhost:8080/"
        },
        "outputId": "1adc813d-65b2-44f6-a39f-55670ea3f272"
      },
      "source": [
        "import pathlib\n",
        "\n",
        "tflite_model_file = pathlib.Path('/content/model.tflite')\n",
        "tflite_model_file.write_bytes(tflite_model)"
      ],
      "execution_count": 52,
      "outputs": [
        {
          "output_type": "execute_result",
          "data": {
            "text/plain": [
              "4156772"
            ]
          },
          "metadata": {
            "tags": []
          },
          "execution_count": 52
        }
      ]
    },
    {
      "cell_type": "code",
      "metadata": {
        "id": "TKc0F73VXt_M",
        "colab": {
          "base_uri": "https://localhost:8080/",
          "height": 17
        },
        "outputId": "7e39521f-cab8-4e9a-daf7-e13b46093d2f"
      },
      "source": [
        "from google.colab import files\n",
        "files.download(tflite_model_file)"
      ],
      "execution_count": 53,
      "outputs": [
        {
          "output_type": "display_data",
          "data": {
            "application/javascript": [
              "\n",
              "    async function download(id, filename, size) {\n",
              "      if (!google.colab.kernel.accessAllowed) {\n",
              "        return;\n",
              "      }\n",
              "      const div = document.createElement('div');\n",
              "      const label = document.createElement('label');\n",
              "      label.textContent = `Downloading \"${filename}\": `;\n",
              "      div.appendChild(label);\n",
              "      const progress = document.createElement('progress');\n",
              "      progress.max = size;\n",
              "      div.appendChild(progress);\n",
              "      document.body.appendChild(div);\n",
              "\n",
              "      const buffers = [];\n",
              "      let downloaded = 0;\n",
              "\n",
              "      const channel = await google.colab.kernel.comms.open(id);\n",
              "      // Send a message to notify the kernel that we're ready.\n",
              "      channel.send({})\n",
              "\n",
              "      for await (const message of channel.messages) {\n",
              "        // Send a message to notify the kernel that we're ready.\n",
              "        channel.send({})\n",
              "        if (message.buffers) {\n",
              "          for (const buffer of message.buffers) {\n",
              "            buffers.push(buffer);\n",
              "            downloaded += buffer.byteLength;\n",
              "            progress.value = downloaded;\n",
              "          }\n",
              "        }\n",
              "      }\n",
              "      const blob = new Blob(buffers, {type: 'application/binary'});\n",
              "      const a = document.createElement('a');\n",
              "      a.href = window.URL.createObjectURL(blob);\n",
              "      a.download = filename;\n",
              "      div.appendChild(a);\n",
              "      a.click();\n",
              "      div.remove();\n",
              "    }\n",
              "  "
            ],
            "text/plain": [
              "<IPython.core.display.Javascript object>"
            ]
          },
          "metadata": {
            "tags": []
          }
        },
        {
          "output_type": "display_data",
          "data": {
            "application/javascript": [
              "download(\"download_4625e60e-05b4-44c4-9040-67461afb191b\", \"model.tflite\", 4156772)"
            ],
            "text/plain": [
              "<IPython.core.display.Javascript object>"
            ]
          },
          "metadata": {
            "tags": []
          }
        }
      ]
    },
    {
      "cell_type": "code",
      "metadata": {
        "id": "wLWPD0JdTeBP"
      },
      "source": [
        "#Exporting the Tokenized Word\n",
        "import json\n",
        "\n",
        "with open( 'word_dict.json' , 'w' ) as file:\n",
        "    json.dump( tokenizer.word_index , file )"
      ],
      "execution_count": 54,
      "outputs": []
    },
    {
      "cell_type": "code",
      "metadata": {
        "id": "s08TsPMZow_P"
      },
      "source": [
        ""
      ],
      "execution_count": null,
      "outputs": []
    }
  ]
}