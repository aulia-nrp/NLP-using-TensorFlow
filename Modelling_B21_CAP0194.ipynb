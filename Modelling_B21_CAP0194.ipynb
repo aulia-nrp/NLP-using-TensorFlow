{
  "nbformat": 4,
  "nbformat_minor": 0,
  "metadata": {
    "colab": {
      "name": "Modelling - B21-CAP0194.ipynb",
      "provenance": [],
      "collapsed_sections": []
    },
    "kernelspec": {
      "name": "python3",
      "display_name": "Python 3"
    },
    "language_info": {
      "name": "python"
    },
    "accelerator": "GPU"
  },
  "cells": [
    {
      "cell_type": "code",
      "metadata": {
        "id": "DHHp6JqwUt0M",
        "colab": {
          "base_uri": "https://localhost:8080/",
          "height": 34
        },
        "outputId": "9da0ced7-5715-41c9-dcc4-625c8981da68"
      },
      "source": [
        "'''\n",
        "Project: Bangkit Capstone Project\n",
        "Group: B21-CAP0194\n",
        "Part: Modelling\n",
        "'''"
      ],
      "execution_count": null,
      "outputs": [
        {
          "output_type": "execute_result",
          "data": {
            "application/vnd.google.colaboratory.intrinsic+json": {
              "type": "string"
            },
            "text/plain": [
              "'\\nProject: Bangkit Capstone Project\\nGroup: B21-CAP0194\\nPart: Modelling\\n'"
            ]
          },
          "metadata": {
            "tags": []
          },
          "execution_count": 1
        }
      ]
    },
    {
      "cell_type": "code",
      "metadata": {
        "id": "zuA8-KnMFDo9"
      },
      "source": [
        "vocab_size = 20000\n",
        "embedding_dim = 32\n",
        "max_length = 32\n",
        "trunc_type = 'post'\n",
        "oov_tok = \"<OOV>\""
      ],
      "execution_count": 124,
      "outputs": []
    },
    {
      "cell_type": "code",
      "metadata": {
        "id": "RWj-L9ssHHAf"
      },
      "source": [
        "import pandas as pd\n",
        "import numpy as np\n",
        "from tensorflow.keras.preprocessing.text import Tokenizer\n",
        "from tensorflow.keras.preprocessing.sequence import pad_sequences"
      ],
      "execution_count": 106,
      "outputs": []
    },
    {
      "cell_type": "code",
      "metadata": {
        "id": "kJlMiUMYi47A",
        "colab": {
          "base_uri": "https://localhost:8080/",
          "height": 195
        },
        "outputId": "c924c605-88e1-49e1-fcb5-8c60a48782a0"
      },
      "source": [
        "#Import Labelled Dataset\n",
        "url = 'https://drive.google.com/file/d/1nOn8OONtZA7pcX4Pvh8W_wOUg49ZWTvT/view?usp=sharing'\n",
        "file_id = url.split('/')[-2]\n",
        "csv_url = 'https://drive.google.com/uc?id=' + file_id\n",
        "df = pd.read_csv(csv_url)\n",
        "df.head()"
      ],
      "execution_count": 107,
      "outputs": [
        {
          "output_type": "execute_result",
          "data": {
            "text/html": [
              "<div>\n",
              "<style scoped>\n",
              "    .dataframe tbody tr th:only-of-type {\n",
              "        vertical-align: middle;\n",
              "    }\n",
              "\n",
              "    .dataframe tbody tr th {\n",
              "        vertical-align: top;\n",
              "    }\n",
              "\n",
              "    .dataframe thead th {\n",
              "        text-align: right;\n",
              "    }\n",
              "</style>\n",
              "<table border=\"1\" class=\"dataframe\">\n",
              "  <thead>\n",
              "    <tr style=\"text-align: right;\">\n",
              "      <th></th>\n",
              "      <th>index</th>\n",
              "      <th>text</th>\n",
              "      <th>label</th>\n",
              "    </tr>\n",
              "  </thead>\n",
              "  <tbody>\n",
              "    <tr>\n",
              "      <th>0</th>\n",
              "      <td>0</td>\n",
              "      <td>the ironies of the  movement are too painfully...</td>\n",
              "      <td>private places</td>\n",
              "    </tr>\n",
              "    <tr>\n",
              "      <th>1</th>\n",
              "      <td>1</td>\n",
              "      <td>women in kuwait have launched a social media c...</td>\n",
              "      <td>public places</td>\n",
              "    </tr>\n",
              "    <tr>\n",
              "      <th>2</th>\n",
              "      <td>2</td>\n",
              "      <td>triger warning raising awareness of sexual ass...</td>\n",
              "      <td>private places</td>\n",
              "    </tr>\n",
              "    <tr>\n",
              "      <th>3</th>\n",
              "      <td>3</td>\n",
              "      <td>charges brought against the guy that smacked m...</td>\n",
              "      <td>private places</td>\n",
              "    </tr>\n",
              "    <tr>\n",
              "      <th>4</th>\n",
              "      <td>4</td>\n",
              "      <td>and the fourth presenter on 26th may is hannah...</td>\n",
              "      <td>educational places</td>\n",
              "    </tr>\n",
              "  </tbody>\n",
              "</table>\n",
              "</div>"
            ],
            "text/plain": [
              "   index                                               text               label\n",
              "0      0  the ironies of the  movement are too painfully...      private places\n",
              "1      1  women in kuwait have launched a social media c...       public places\n",
              "2      2  triger warning raising awareness of sexual ass...      private places\n",
              "3      3  charges brought against the guy that smacked m...      private places\n",
              "4      4  and the fourth presenter on 26th may is hannah...  educational places"
            ]
          },
          "metadata": {
            "tags": []
          },
          "execution_count": 107
        }
      ]
    },
    {
      "cell_type": "code",
      "metadata": {
        "id": "5AgazdB72PN6"
      },
      "source": [
        "df_cut = df[:100]"
      ],
      "execution_count": null,
      "outputs": []
    },
    {
      "cell_type": "code",
      "metadata": {
        "colab": {
          "base_uri": "https://localhost:8080/",
          "height": 1000
        },
        "id": "8NAg4Tao0lsH",
        "outputId": "b7a7648f-f14a-4e86-c175-3125e94bca3a"
      },
      "source": [
        "df_cut.head(50)"
      ],
      "execution_count": null,
      "outputs": [
        {
          "output_type": "execute_result",
          "data": {
            "text/html": [
              "<div>\n",
              "<style scoped>\n",
              "    .dataframe tbody tr th:only-of-type {\n",
              "        vertical-align: middle;\n",
              "    }\n",
              "\n",
              "    .dataframe tbody tr th {\n",
              "        vertical-align: top;\n",
              "    }\n",
              "\n",
              "    .dataframe thead th {\n",
              "        text-align: right;\n",
              "    }\n",
              "</style>\n",
              "<table border=\"1\" class=\"dataframe\">\n",
              "  <thead>\n",
              "    <tr style=\"text-align: right;\">\n",
              "      <th></th>\n",
              "      <th>index</th>\n",
              "      <th>text</th>\n",
              "      <th>label</th>\n",
              "    </tr>\n",
              "  </thead>\n",
              "  <tbody>\n",
              "    <tr>\n",
              "      <th>0</th>\n",
              "      <td>0</td>\n",
              "      <td>the ironies of the  movement are too painfully...</td>\n",
              "      <td>work places</td>\n",
              "    </tr>\n",
              "    <tr>\n",
              "      <th>1</th>\n",
              "      <td>1</td>\n",
              "      <td>women in kuwait have launched a social media c...</td>\n",
              "      <td>cyber</td>\n",
              "    </tr>\n",
              "    <tr>\n",
              "      <th>2</th>\n",
              "      <td>2</td>\n",
              "      <td>triger warning raising awareness of sexual ass...</td>\n",
              "      <td>private places</td>\n",
              "    </tr>\n",
              "    <tr>\n",
              "      <th>3</th>\n",
              "      <td>3</td>\n",
              "      <td>charges brought against the guy that smacked m...</td>\n",
              "      <td>private places</td>\n",
              "    </tr>\n",
              "    <tr>\n",
              "      <th>4</th>\n",
              "      <td>4</td>\n",
              "      <td>and the fourth presenter on 26th may is hannah...</td>\n",
              "      <td>educational places</td>\n",
              "    </tr>\n",
              "    <tr>\n",
              "      <th>5</th>\n",
              "      <td>5</td>\n",
              "      <td>this is so messed up  are there any men in the...</td>\n",
              "      <td>public places</td>\n",
              "    </tr>\n",
              "    <tr>\n",
              "      <th>6</th>\n",
              "      <td>6</td>\n",
              "      <td>to tackle an epidemic of male violence against...</td>\n",
              "      <td>cyber</td>\n",
              "    </tr>\n",
              "    <tr>\n",
              "      <th>7</th>\n",
              "      <td>7</td>\n",
              "      <td>there has been a new series of harassment alle...</td>\n",
              "      <td>private places</td>\n",
              "    </tr>\n",
              "    <tr>\n",
              "      <th>8</th>\n",
              "      <td>8</td>\n",
              "      <td>want to see what the  movement looks like its ...</td>\n",
              "      <td>public places</td>\n",
              "    </tr>\n",
              "    <tr>\n",
              "      <th>9</th>\n",
              "      <td>9</td>\n",
              "      <td>female students dont want to have sex w dolan ...</td>\n",
              "      <td>educational places</td>\n",
              "    </tr>\n",
              "    <tr>\n",
              "      <th>10</th>\n",
              "      <td>10</td>\n",
              "      <td>when we talk about  and violence we must ensur...</td>\n",
              "      <td>private places</td>\n",
              "    </tr>\n",
              "    <tr>\n",
              "      <th>11</th>\n",
              "      <td>11</td>\n",
              "      <td>took in 221 million last year in nih funds the...</td>\n",
              "      <td>private places</td>\n",
              "    </tr>\n",
              "    <tr>\n",
              "      <th>12</th>\n",
              "      <td>12</td>\n",
              "      <td>help your students to combat harassment using ...</td>\n",
              "      <td>educational places</td>\n",
              "    </tr>\n",
              "    <tr>\n",
              "      <th>13</th>\n",
              "      <td>13</td>\n",
              "      <td>im still looking to speak to disabled women wh...</td>\n",
              "      <td>private places</td>\n",
              "    </tr>\n",
              "    <tr>\n",
              "      <th>14</th>\n",
              "      <td>14</td>\n",
              "      <td>glenn greenwald doesnt like the  movement supp...</td>\n",
              "      <td>private places</td>\n",
              "    </tr>\n",
              "    <tr>\n",
              "      <th>15</th>\n",
              "      <td>15</td>\n",
              "      <td>for more on this topic join us for our upcomin...</td>\n",
              "      <td>neutral</td>\n",
              "    </tr>\n",
              "    <tr>\n",
              "      <th>16</th>\n",
              "      <td>16</td>\n",
              "      <td>what does the  movement have to do with the mu...</td>\n",
              "      <td>private places</td>\n",
              "    </tr>\n",
              "    <tr>\n",
              "      <th>17</th>\n",
              "      <td>17</td>\n",
              "      <td>latest oped from  and  cuomo needs a time out ...</td>\n",
              "      <td>cyber</td>\n",
              "    </tr>\n",
              "    <tr>\n",
              "      <th>18</th>\n",
              "      <td>18</td>\n",
              "      <td>dont know who this greewald misogynist moron i...</td>\n",
              "      <td>cyber</td>\n",
              "    </tr>\n",
              "    <tr>\n",
              "      <th>19</th>\n",
              "      <td>19</td>\n",
              "      <td>morrison believes hearsay about some dude risi...</td>\n",
              "      <td>private places</td>\n",
              "    </tr>\n",
              "    <tr>\n",
              "      <th>20</th>\n",
              "      <td>20</td>\n",
              "      <td>to tackle an epidemic of male violence against...</td>\n",
              "      <td>cyber</td>\n",
              "    </tr>\n",
              "    <tr>\n",
              "      <th>21</th>\n",
              "      <td>21</td>\n",
              "      <td>when we talk about  and violence we must ensur...</td>\n",
              "      <td>private places</td>\n",
              "    </tr>\n",
              "    <tr>\n",
              "      <th>22</th>\n",
              "      <td>22</td>\n",
              "      <td>when will this violence and hate stop</td>\n",
              "      <td>public places</td>\n",
              "    </tr>\n",
              "    <tr>\n",
              "      <th>23</th>\n",
              "      <td>23</td>\n",
              "      <td>anesthesia protected a known sexual predator f...</td>\n",
              "      <td>private places</td>\n",
              "    </tr>\n",
              "    <tr>\n",
              "      <th>24</th>\n",
              "      <td>24</td>\n",
              "      <td>thank you  for your wisdom and outstanding ins...</td>\n",
              "      <td>public places</td>\n",
              "    </tr>\n",
              "    <tr>\n",
              "      <th>25</th>\n",
              "      <td>25</td>\n",
              "      <td>a few incels on tiktok have dubbed  as nationa...</td>\n",
              "      <td>neutral</td>\n",
              "    </tr>\n",
              "    <tr>\n",
              "      <th>26</th>\n",
              "      <td>26</td>\n",
              "      <td>what has  actually changed</td>\n",
              "      <td>neutral</td>\n",
              "    </tr>\n",
              "    <tr>\n",
              "      <th>27</th>\n",
              "      <td>27</td>\n",
              "      <td>harassment retaliation</td>\n",
              "      <td>private places</td>\n",
              "    </tr>\n",
              "    <tr>\n",
              "      <th>28</th>\n",
              "      <td>28</td>\n",
              "      <td>looking forward 2 a panel chat  today about sy...</td>\n",
              "      <td>cyber</td>\n",
              "    </tr>\n",
              "    <tr>\n",
              "      <th>29</th>\n",
              "      <td>29</td>\n",
              "      <td>this bd is in  case does not talk about it</td>\n",
              "      <td>neutral</td>\n",
              "    </tr>\n",
              "    <tr>\n",
              "      <th>30</th>\n",
              "      <td>30</td>\n",
              "      <td>this is the child that was born as a result of...</td>\n",
              "      <td>work places</td>\n",
              "    </tr>\n",
              "    <tr>\n",
              "      <th>31</th>\n",
              "      <td>31</td>\n",
              "      <td>event a new cultural reckoning gendered violence</td>\n",
              "      <td>public places</td>\n",
              "    </tr>\n",
              "    <tr>\n",
              "      <th>32</th>\n",
              "      <td>32</td>\n",
              "      <td>the tail of the anita hill fury got us to   re...</td>\n",
              "      <td>public places</td>\n",
              "    </tr>\n",
              "    <tr>\n",
              "      <th>33</th>\n",
              "      <td>33</td>\n",
              "      <td>oh no thats terrible   can you please link the...</td>\n",
              "      <td>neutral</td>\n",
              "    </tr>\n",
              "    <tr>\n",
              "      <th>34</th>\n",
              "      <td>34</td>\n",
              "      <td>turns out it was gary all along</td>\n",
              "      <td>neutral</td>\n",
              "    </tr>\n",
              "    <tr>\n",
              "      <th>35</th>\n",
              "      <td>35</td>\n",
              "      <td>ever since i bared my soul and jump through he...</td>\n",
              "      <td>neutral</td>\n",
              "    </tr>\n",
              "    <tr>\n",
              "      <th>36</th>\n",
              "      <td>36</td>\n",
              "      <td>to all victims of abuseit is never too late to...</td>\n",
              "      <td>public places</td>\n",
              "    </tr>\n",
              "    <tr>\n",
              "      <th>37</th>\n",
              "      <td>37</td>\n",
              "      <td>the military claims they take a hard line agai...</td>\n",
              "      <td>private places</td>\n",
              "    </tr>\n",
              "    <tr>\n",
              "      <th>38</th>\n",
              "      <td>38</td>\n",
              "      <td>we personally believe that victims of any form...</td>\n",
              "      <td>private places</td>\n",
              "    </tr>\n",
              "    <tr>\n",
              "      <th>39</th>\n",
              "      <td>39</td>\n",
              "      <td>chads an excon trying to start over</td>\n",
              "      <td>private places</td>\n",
              "    </tr>\n",
              "    <tr>\n",
              "      <th>40</th>\n",
              "      <td>40</td>\n",
              "      <td>we personally believe that victims of any form...</td>\n",
              "      <td>private places</td>\n",
              "    </tr>\n",
              "    <tr>\n",
              "      <th>41</th>\n",
              "      <td>41</td>\n",
              "      <td>and democrats still failed   what a waste of o...</td>\n",
              "      <td>neutral</td>\n",
              "    </tr>\n",
              "    <tr>\n",
              "      <th>42</th>\n",
              "      <td>42</td>\n",
              "      <td>tw sexual assault  read recognizing rape findi...</td>\n",
              "      <td>private places</td>\n",
              "    </tr>\n",
              "    <tr>\n",
              "      <th>43</th>\n",
              "      <td>43</td>\n",
              "      <td>young women dont think its cool what he did to...</td>\n",
              "      <td>public places</td>\n",
              "    </tr>\n",
              "    <tr>\n",
              "      <th>44</th>\n",
              "      <td>44</td>\n",
              "      <td>amplify diverse perspectives and stories with ...</td>\n",
              "      <td>cyber</td>\n",
              "    </tr>\n",
              "    <tr>\n",
              "      <th>45</th>\n",
              "      <td>45</td>\n",
              "      <td>actually amazing to see  standing up to be cou...</td>\n",
              "      <td>public places</td>\n",
              "    </tr>\n",
              "    <tr>\n",
              "      <th>46</th>\n",
              "      <td>46</td>\n",
              "      <td>is hugging  required play in the</td>\n",
              "      <td>public places</td>\n",
              "    </tr>\n",
              "    <tr>\n",
              "      <th>47</th>\n",
              "      <td>47</td>\n",
              "      <td>maybe he was afraid he might get  d if  his ha...</td>\n",
              "      <td>neutral</td>\n",
              "    </tr>\n",
              "    <tr>\n",
              "      <th>48</th>\n",
              "      <td>48</td>\n",
              "      <td>damn it where is  r  wisconsin catholic school...</td>\n",
              "      <td>educational places</td>\n",
              "    </tr>\n",
              "    <tr>\n",
              "      <th>49</th>\n",
              "      <td>49</td>\n",
              "      <td>he also had this app on his phones its used to...</td>\n",
              "      <td>cyber</td>\n",
              "    </tr>\n",
              "  </tbody>\n",
              "</table>\n",
              "</div>"
            ],
            "text/plain": [
              "    index  ...               label\n",
              "0       0  ...         work places\n",
              "1       1  ...               cyber\n",
              "2       2  ...      private places\n",
              "3       3  ...      private places\n",
              "4       4  ...  educational places\n",
              "5       5  ...       public places\n",
              "6       6  ...               cyber\n",
              "7       7  ...      private places\n",
              "8       8  ...       public places\n",
              "9       9  ...  educational places\n",
              "10     10  ...      private places\n",
              "11     11  ...      private places\n",
              "12     12  ...  educational places\n",
              "13     13  ...      private places\n",
              "14     14  ...      private places\n",
              "15     15  ...             neutral\n",
              "16     16  ...      private places\n",
              "17     17  ...               cyber\n",
              "18     18  ...               cyber\n",
              "19     19  ...      private places\n",
              "20     20  ...               cyber\n",
              "21     21  ...      private places\n",
              "22     22  ...       public places\n",
              "23     23  ...      private places\n",
              "24     24  ...       public places\n",
              "25     25  ...             neutral\n",
              "26     26  ...             neutral\n",
              "27     27  ...      private places\n",
              "28     28  ...               cyber\n",
              "29     29  ...             neutral\n",
              "30     30  ...         work places\n",
              "31     31  ...       public places\n",
              "32     32  ...       public places\n",
              "33     33  ...             neutral\n",
              "34     34  ...             neutral\n",
              "35     35  ...             neutral\n",
              "36     36  ...       public places\n",
              "37     37  ...      private places\n",
              "38     38  ...      private places\n",
              "39     39  ...      private places\n",
              "40     40  ...      private places\n",
              "41     41  ...             neutral\n",
              "42     42  ...      private places\n",
              "43     43  ...       public places\n",
              "44     44  ...               cyber\n",
              "45     45  ...       public places\n",
              "46     46  ...       public places\n",
              "47     47  ...             neutral\n",
              "48     48  ...  educational places\n",
              "49     49  ...               cyber\n",
              "\n",
              "[50 rows x 3 columns]"
            ]
          },
          "metadata": {
            "tags": []
          },
          "execution_count": 41
        }
      ]
    },
    {
      "cell_type": "code",
      "metadata": {
        "id": "tZVt0PJwicED"
      },
      "source": [
        "import getpass\n",
        "\n",
        "APIKEY = getpass.getpass()"
      ],
      "execution_count": null,
      "outputs": []
    },
    {
      "cell_type": "code",
      "metadata": {
        "id": "WbL6WYXBlycO"
      },
      "source": [
        "# running Translate API\n",
        "#from googleapiclient.discovery import build\n",
        "#service = build('translate', 'v2', developerKey=APIKEY)\n",
        "\n",
        "#df_cut['indo_text'] = df_cut['text'].apply(lambda x: (service.translations().list(source='en', target='id', q=x).execute())).apply(lambda x: x['translations']).apply(lambda x: x[0]).apply(lambda x: x['translatedText'])"
      ],
      "execution_count": null,
      "outputs": []
    },
    {
      "cell_type": "code",
      "metadata": {
        "id": "GeM4W3MPwB9A"
      },
      "source": [
        "# running Translate API\n",
        "from googleapiclient.discovery import build\n",
        "service = build('translate', 'v2', developerKey=APIKEY)\n",
        "\n",
        "df['indo_text'] = df['text'].apply(lambda x: (service.translations().list(source='en', target='id', q=x).execute())).apply(lambda x: x['translations']).apply(lambda x: x[0]).apply(lambda x: x['translatedText'])"
      ],
      "execution_count": null,
      "outputs": []
    },
    {
      "cell_type": "code",
      "metadata": {
        "id": "uChzsiCQuUfd"
      },
      "source": [
        "df['indo_text'].head(50)"
      ],
      "execution_count": null,
      "outputs": []
    },
    {
      "cell_type": "code",
      "metadata": {
        "id": "cI2HovVcvh2j"
      },
      "source": [
        "#Save DataFrame to CSV\n",
        "df_translated = pd.DataFrame()\n",
        "df_translated['index'] = df['index']\n",
        "df_translated['text'] = df['text']\n",
        "df_translated['indo_text'] = df['indo_text']\n",
        "df_translated.to_csv(\"capstonetweettranslatednew.csv\", index=False)"
      ],
      "execution_count": null,
      "outputs": []
    },
    {
      "cell_type": "code",
      "metadata": {
        "id": "_zugJcnpsr4p"
      },
      "source": [
        "labels = pd.get_dummies(df.label)"
      ],
      "execution_count": 108,
      "outputs": []
    },
    {
      "cell_type": "code",
      "metadata": {
        "id": "sMP4dEqss7hA"
      },
      "source": [
        "df_new = pd.concat([df, labels], axis=1)\n",
        "df_new = df_new.drop(columns='label')"
      ],
      "execution_count": 109,
      "outputs": []
    },
    {
      "cell_type": "code",
      "metadata": {
        "id": "K_YhqeK_soIr"
      },
      "source": [
        "tweet = df_new['text'].values\n",
        "label = df_new[[\"cyber\", \"educational places\", \"neutral\", \"private places\", \"public places\", \"work places\"]].values"
      ],
      "execution_count": 110,
      "outputs": []
    },
    {
      "cell_type": "code",
      "metadata": {
        "id": "Fhtsnub1wT99",
        "colab": {
          "base_uri": "https://localhost:8080/"
        },
        "outputId": "ac0d1bac-93cc-4d86-c068-a351d1e83b95"
      },
      "source": [
        "label"
      ],
      "execution_count": 111,
      "outputs": [
        {
          "output_type": "execute_result",
          "data": {
            "text/plain": [
              "array([[0, 0, 0, 1, 0, 0],\n",
              "       [0, 0, 0, 0, 1, 0],\n",
              "       [0, 0, 0, 1, 0, 0],\n",
              "       ...,\n",
              "       [0, 0, 0, 0, 1, 0],\n",
              "       [0, 0, 0, 1, 0, 0],\n",
              "       [0, 0, 0, 0, 1, 0]], dtype=uint8)"
            ]
          },
          "metadata": {
            "tags": []
          },
          "execution_count": 111
        }
      ]
    },
    {
      "cell_type": "code",
      "metadata": {
        "id": "Lu2JQOMsjByI"
      },
      "source": [
        "from sklearn.model_selection import train_test_split\n",
        "#Train Text, Test Text, Train Label, Test Label\n",
        "X_train, X_test, y_train, y_test = train_test_split(tweet, label, test_size=0.2, shuffle=True)"
      ],
      "execution_count": 112,
      "outputs": []
    },
    {
      "cell_type": "code",
      "metadata": {
        "id": "sBtqd28eGu4Y"
      },
      "source": [
        "tokenizer = Tokenizer(num_words = vocab_size, oov_token = oov_tok)\n",
        "tokenizer.fit_on_texts(X_train)\n",
        "word_index = tokenizer.word_index\n",
        "sequences = tokenizer.texts_to_sequences(X_train)\n",
        "padded = pad_sequences(sequences, maxlen=max_length, truncating=trunc_type)\n",
        "\n",
        "testing_sequences = tokenizer.texts_to_sequences(X_test)\n",
        "testing_padded = pad_sequences(testing_sequences, maxlen = max_length)"
      ],
      "execution_count": 113,
      "outputs": []
    },
    {
      "cell_type": "code",
      "metadata": {
        "id": "jvl9nAPioO_C"
      },
      "source": [
        "class myCallback(tf.keras.callbacks.Callback):\n",
        "\tdef on_epoch_end(self, epoch, logs={}):\n",
        "\t\tif(logs.get('val_accuracy')>0.90):\n",
        "\t\t\tprint(\"Desired accuracy reached!\")\n",
        "\t\t\tself.model.stop_training=True"
      ],
      "execution_count": 125,
      "outputs": []
    },
    {
      "cell_type": "code",
      "metadata": {
        "id": "RjZ8vIaNHUe1"
      },
      "source": [
        "import tensorflow as tf\n",
        "'''\n",
        "model = tf.keras.Sequential([\n",
        "  tf.keras.layers.Embedding(vocab_size, embedding_dim, input_length=max_length),\n",
        "  #tf.keras.layers.Flatten(),\n",
        "  tf.keras.layers.LSTM(64),\n",
        "  tf.keras.layers.Dense(32, activation='relu'),\n",
        "  tf.keras.layers.Dense(6, activation='softmax')\n",
        "])\n",
        "\n",
        "'''\n",
        "'''\n",
        "model = tf.keras.Sequential([\n",
        "  tf.keras.layers.Embedding(vocab_size, embedding_dim, input_length=max_length),\n",
        "  #tf.keras.layers.Flatten(),\n",
        "  tf.keras.layers.Bidirectional(tf.keras.layers.LSTM(64, return_sequences=True)),\n",
        "  tf.keras.layers.Bidirectional(tf.keras.layers.LSTM(32)),\n",
        "  tf.keras.layers.Dense(32, activation='relu'),\n",
        "  tf.keras.layers.Dense(6, activation='softmax')\n",
        "])\n",
        "'''\n",
        "model = tf.keras.Sequential([\n",
        "  tf.keras.layers.Embedding(vocab_size, embedding_dim, input_length=max_length),\n",
        "  #tf.keras.layers.Flatten(),\n",
        "  tf.keras.layers.Bidirectional(tf.keras.layers.LSTM(128, return_sequences=True)),\n",
        "  tf.keras.layers.Bidirectional(tf.keras.layers.LSTM(64, return_sequences=True)),\n",
        "  tf.keras.layers.Bidirectional(tf.keras.layers.LSTM(32, return_sequences=True)),\n",
        "  tf.keras.layers.Bidirectional(tf.keras.layers.LSTM(16)),\n",
        "  tf.keras.layers.Dropout(0.1),\n",
        "  tf.keras.layers.Dense(32, activation='relu'),\n",
        "  tf.keras.layers.Dense(6, activation='softmax')\n",
        "])\n"
      ],
      "execution_count": 127,
      "outputs": []
    },
    {
      "cell_type": "markdown",
      "metadata": {
        "id": "sngBU5lCJ6aa"
      },
      "source": [
        "transfer learning models for NLP: BERT, coba buka ini https://www.dlology.com/blog/keras-meets-universal-sentence-encoder-transfer-learning-for-text-data/"
      ]
    },
    {
      "cell_type": "code",
      "metadata": {
        "id": "bVv4IUpQIu1q",
        "colab": {
          "base_uri": "https://localhost:8080/"
        },
        "outputId": "d0161307-c05c-4cad-f74e-456fa8537096"
      },
      "source": [
        "model.compile(loss='categorical_crossentropy', optimizer='adam', metrics=['accuracy'])\n",
        "model.summary()"
      ],
      "execution_count": 128,
      "outputs": [
        {
          "output_type": "stream",
          "text": [
            "Model: \"sequential_9\"\n",
            "_________________________________________________________________\n",
            "Layer (type)                 Output Shape              Param #   \n",
            "=================================================================\n",
            "embedding_10 (Embedding)     (None, 32, 32)            640000    \n",
            "_________________________________________________________________\n",
            "bidirectional_25 (Bidirectio (None, 32, 256)           164864    \n",
            "_________________________________________________________________\n",
            "bidirectional_26 (Bidirectio (None, 32, 128)           164352    \n",
            "_________________________________________________________________\n",
            "bidirectional_27 (Bidirectio (None, 32, 64)            41216     \n",
            "_________________________________________________________________\n",
            "bidirectional_28 (Bidirectio (None, 32)                10368     \n",
            "_________________________________________________________________\n",
            "dropout_1 (Dropout)          (None, 32)                0         \n",
            "_________________________________________________________________\n",
            "dense_18 (Dense)             (None, 32)                1056      \n",
            "_________________________________________________________________\n",
            "dense_19 (Dense)             (None, 6)                 198       \n",
            "=================================================================\n",
            "Total params: 1,022,054\n",
            "Trainable params: 1,022,054\n",
            "Non-trainable params: 0\n",
            "_________________________________________________________________\n"
          ],
          "name": "stdout"
        }
      ]
    },
    {
      "cell_type": "code",
      "metadata": {
        "id": "wurt_WmlJLoV",
        "colab": {
          "base_uri": "https://localhost:8080/"
        },
        "outputId": "464710ed-dcd5-4854-f704-7b1b81dbaaaa"
      },
      "source": [
        "num_epochs = 100\n",
        "callbacks = myCallback()\n",
        "model.fit(padded, y_train, epochs=num_epochs, validation_data=(testing_padded, y_test), callbacks=[callbacks])"
      ],
      "execution_count": 129,
      "outputs": [
        {
          "output_type": "stream",
          "text": [
            "Epoch 1/100\n",
            "353/353 [==============================] - 21s 33ms/step - loss: 1.3286 - accuracy: 0.4278 - val_loss: 0.8722 - val_accuracy: 0.6942\n",
            "Epoch 2/100\n",
            "353/353 [==============================] - 9s 27ms/step - loss: 0.6728 - accuracy: 0.7764 - val_loss: 0.6052 - val_accuracy: 0.8005\n",
            "Epoch 3/100\n",
            "353/353 [==============================] - 9s 27ms/step - loss: 0.3950 - accuracy: 0.8630 - val_loss: 0.5990 - val_accuracy: 0.8101\n",
            "Epoch 4/100\n",
            "353/353 [==============================] - 9s 27ms/step - loss: 0.2498 - accuracy: 0.9145 - val_loss: 0.6109 - val_accuracy: 0.8342\n",
            "Epoch 5/100\n",
            "353/353 [==============================] - 9s 26ms/step - loss: 0.1677 - accuracy: 0.9377 - val_loss: 0.6364 - val_accuracy: 0.8469\n",
            "Epoch 6/100\n",
            "353/353 [==============================] - 9s 27ms/step - loss: 0.1426 - accuracy: 0.9506 - val_loss: 0.7309 - val_accuracy: 0.8441\n",
            "Epoch 7/100\n",
            "353/353 [==============================] - 9s 27ms/step - loss: 0.1140 - accuracy: 0.9633 - val_loss: 0.7233 - val_accuracy: 0.8512\n",
            "Epoch 8/100\n",
            "353/353 [==============================] - 9s 26ms/step - loss: 0.0936 - accuracy: 0.9743 - val_loss: 0.8179 - val_accuracy: 0.8476\n",
            "Epoch 9/100\n",
            "353/353 [==============================] - 9s 27ms/step - loss: 0.0691 - accuracy: 0.9789 - val_loss: 0.8565 - val_accuracy: 0.8657\n",
            "Epoch 10/100\n",
            "353/353 [==============================] - 9s 26ms/step - loss: 0.0495 - accuracy: 0.9838 - val_loss: 0.8276 - val_accuracy: 0.8636\n",
            "Epoch 11/100\n",
            "353/353 [==============================] - 9s 26ms/step - loss: 0.0434 - accuracy: 0.9890 - val_loss: 0.8809 - val_accuracy: 0.8618\n",
            "Epoch 12/100\n",
            "353/353 [==============================] - 9s 26ms/step - loss: 0.0512 - accuracy: 0.9853 - val_loss: 0.9022 - val_accuracy: 0.8579\n",
            "Epoch 13/100\n",
            "353/353 [==============================] - 10s 27ms/step - loss: 0.0240 - accuracy: 0.9941 - val_loss: 0.7779 - val_accuracy: 0.8813\n",
            "Epoch 14/100\n",
            "353/353 [==============================] - 9s 26ms/step - loss: 0.0173 - accuracy: 0.9952 - val_loss: 1.0379 - val_accuracy: 0.8565\n",
            "Epoch 15/100\n",
            "353/353 [==============================] - 9s 27ms/step - loss: 0.0200 - accuracy: 0.9952 - val_loss: 0.7928 - val_accuracy: 0.8735\n",
            "Epoch 16/100\n",
            "353/353 [==============================] - 9s 27ms/step - loss: 0.0172 - accuracy: 0.9962 - val_loss: 0.7678 - val_accuracy: 0.8710\n",
            "Epoch 17/100\n",
            "353/353 [==============================] - 9s 27ms/step - loss: 0.0209 - accuracy: 0.9943 - val_loss: 0.9590 - val_accuracy: 0.8607\n",
            "Epoch 18/100\n",
            "353/353 [==============================] - 9s 26ms/step - loss: 0.0184 - accuracy: 0.9942 - val_loss: 0.8439 - val_accuracy: 0.8696\n",
            "Epoch 19/100\n",
            "353/353 [==============================] - 9s 26ms/step - loss: 0.0081 - accuracy: 0.9978 - val_loss: 0.7942 - val_accuracy: 0.8636\n",
            "Epoch 20/100\n",
            "353/353 [==============================] - 10s 27ms/step - loss: 0.0117 - accuracy: 0.9966 - val_loss: 0.8369 - val_accuracy: 0.8785\n",
            "Epoch 21/100\n",
            "353/353 [==============================] - 9s 26ms/step - loss: 0.0121 - accuracy: 0.9964 - val_loss: 0.9218 - val_accuracy: 0.8717\n",
            "Epoch 22/100\n",
            "353/353 [==============================] - 9s 27ms/step - loss: 0.0048 - accuracy: 0.9987 - val_loss: 0.9538 - val_accuracy: 0.8760\n",
            "Epoch 23/100\n",
            "353/353 [==============================] - 9s 26ms/step - loss: 0.0041 - accuracy: 0.9991 - val_loss: 0.8671 - val_accuracy: 0.8788\n",
            "Epoch 24/100\n",
            "353/353 [==============================] - 9s 26ms/step - loss: 0.0090 - accuracy: 0.9974 - val_loss: 0.8541 - val_accuracy: 0.8788\n",
            "Epoch 25/100\n",
            "353/353 [==============================] - 9s 26ms/step - loss: 0.0103 - accuracy: 0.9975 - val_loss: 0.8598 - val_accuracy: 0.8845\n",
            "Epoch 26/100\n",
            "353/353 [==============================] - 9s 27ms/step - loss: 0.0054 - accuracy: 0.9989 - val_loss: 0.8715 - val_accuracy: 0.8863\n",
            "Epoch 27/100\n",
            "353/353 [==============================] - 9s 27ms/step - loss: 0.0043 - accuracy: 0.9994 - val_loss: 0.8650 - val_accuracy: 0.8901\n",
            "Epoch 28/100\n",
            "353/353 [==============================] - 9s 26ms/step - loss: 0.0013 - accuracy: 0.9998 - val_loss: 0.9044 - val_accuracy: 0.8891\n",
            "Epoch 29/100\n",
            "353/353 [==============================] - 9s 26ms/step - loss: 0.0016 - accuracy: 0.9996 - val_loss: 0.9486 - val_accuracy: 0.8894\n",
            "Epoch 30/100\n",
            "353/353 [==============================] - 9s 27ms/step - loss: 0.0073 - accuracy: 0.9984 - val_loss: 0.8266 - val_accuracy: 0.8887\n",
            "Epoch 31/100\n",
            "353/353 [==============================] - 9s 27ms/step - loss: 0.0125 - accuracy: 0.9968 - val_loss: 0.8834 - val_accuracy: 0.8919\n",
            "Epoch 32/100\n",
            "353/353 [==============================] - 9s 26ms/step - loss: 0.0072 - accuracy: 0.9980 - val_loss: 0.9073 - val_accuracy: 0.8859\n",
            "Epoch 33/100\n",
            "353/353 [==============================] - 9s 26ms/step - loss: 0.0091 - accuracy: 0.9975 - val_loss: 0.9272 - val_accuracy: 0.8848\n",
            "Epoch 34/100\n",
            "353/353 [==============================] - 9s 26ms/step - loss: 0.0018 - accuracy: 0.9997 - val_loss: 0.9308 - val_accuracy: 0.8898\n",
            "Epoch 35/100\n",
            "353/353 [==============================] - 9s 26ms/step - loss: 0.0012 - accuracy: 0.9997 - val_loss: 0.9312 - val_accuracy: 0.8894\n",
            "Epoch 36/100\n",
            "353/353 [==============================] - 9s 26ms/step - loss: 7.1435e-04 - accuracy: 0.9998 - val_loss: 0.9876 - val_accuracy: 0.8838\n",
            "Epoch 37/100\n",
            "353/353 [==============================] - 9s 26ms/step - loss: 0.0031 - accuracy: 0.9991 - val_loss: 0.9421 - val_accuracy: 0.8753\n",
            "Epoch 38/100\n",
            "353/353 [==============================] - 9s 26ms/step - loss: 0.0036 - accuracy: 0.9992 - val_loss: 0.8816 - val_accuracy: 0.8841\n",
            "Epoch 39/100\n",
            "353/353 [==============================] - 9s 26ms/step - loss: 0.0019 - accuracy: 0.9997 - val_loss: 0.8779 - val_accuracy: 0.8887\n",
            "Epoch 40/100\n",
            "353/353 [==============================] - 9s 26ms/step - loss: 0.0031 - accuracy: 0.9991 - val_loss: 0.9153 - val_accuracy: 0.8930\n",
            "Epoch 41/100\n",
            "353/353 [==============================] - 9s 26ms/step - loss: 0.0054 - accuracy: 0.9982 - val_loss: 0.9739 - val_accuracy: 0.8838\n",
            "Epoch 42/100\n",
            "353/353 [==============================] - 9s 26ms/step - loss: 0.0069 - accuracy: 0.9985 - val_loss: 0.9390 - val_accuracy: 0.8887\n",
            "Epoch 43/100\n",
            "353/353 [==============================] - 9s 26ms/step - loss: 0.0038 - accuracy: 0.9989 - val_loss: 0.9327 - val_accuracy: 0.8909\n",
            "Epoch 44/100\n",
            "353/353 [==============================] - 9s 26ms/step - loss: 6.4331e-04 - accuracy: 0.9998 - val_loss: 0.9114 - val_accuracy: 0.8919\n",
            "Epoch 45/100\n",
            "353/353 [==============================] - 9s 26ms/step - loss: 0.0044 - accuracy: 0.9992 - val_loss: 0.8900 - val_accuracy: 0.8916\n",
            "Epoch 46/100\n",
            "353/353 [==============================] - 9s 26ms/step - loss: 0.0014 - accuracy: 0.9997 - val_loss: 0.9591 - val_accuracy: 0.8863\n",
            "Epoch 47/100\n",
            "353/353 [==============================] - 9s 26ms/step - loss: 5.7457e-04 - accuracy: 0.9999 - val_loss: 0.9837 - val_accuracy: 0.8877\n",
            "Epoch 48/100\n",
            "353/353 [==============================] - 9s 26ms/step - loss: 0.0078 - accuracy: 0.9982 - val_loss: 0.8899 - val_accuracy: 0.8785\n",
            "Epoch 49/100\n",
            "353/353 [==============================] - 9s 26ms/step - loss: 0.0154 - accuracy: 0.9961 - val_loss: 0.8505 - val_accuracy: 0.8859\n",
            "Epoch 50/100\n",
            "353/353 [==============================] - 9s 26ms/step - loss: 0.0028 - accuracy: 0.9993 - val_loss: 0.8500 - val_accuracy: 0.8873\n",
            "Epoch 51/100\n",
            "353/353 [==============================] - 9s 26ms/step - loss: 0.0026 - accuracy: 0.9990 - val_loss: 0.9326 - val_accuracy: 0.8887\n",
            "Epoch 52/100\n",
            "353/353 [==============================] - 9s 26ms/step - loss: 7.6768e-04 - accuracy: 0.9997 - val_loss: 0.9721 - val_accuracy: 0.8884\n",
            "Epoch 53/100\n",
            "353/353 [==============================] - 9s 27ms/step - loss: 2.1155e-04 - accuracy: 1.0000 - val_loss: 1.0211 - val_accuracy: 0.8880\n",
            "Epoch 54/100\n",
            "353/353 [==============================] - 9s 27ms/step - loss: 2.2295e-04 - accuracy: 0.9999 - val_loss: 1.0525 - val_accuracy: 0.8880\n",
            "Epoch 55/100\n",
            "353/353 [==============================] - 9s 26ms/step - loss: 1.2807e-04 - accuracy: 1.0000 - val_loss: 1.0854 - val_accuracy: 0.8866\n",
            "Epoch 56/100\n",
            "353/353 [==============================] - 9s 26ms/step - loss: 2.0378e-04 - accuracy: 0.9998 - val_loss: 1.1136 - val_accuracy: 0.8866\n",
            "Epoch 57/100\n",
            "353/353 [==============================] - 9s 26ms/step - loss: 2.0790e-04 - accuracy: 0.9999 - val_loss: 1.1403 - val_accuracy: 0.8859\n",
            "Epoch 58/100\n",
            "353/353 [==============================] - 9s 26ms/step - loss: 2.2590e-04 - accuracy: 0.9998 - val_loss: 1.1650 - val_accuracy: 0.8873\n",
            "Epoch 59/100\n",
            "353/353 [==============================] - 9s 26ms/step - loss: 7.4921e-05 - accuracy: 1.0000 - val_loss: 1.1987 - val_accuracy: 0.8838\n",
            "Epoch 60/100\n",
            "353/353 [==============================] - 9s 26ms/step - loss: 1.5418e-04 - accuracy: 0.9999 - val_loss: 1.2154 - val_accuracy: 0.8845\n",
            "Epoch 61/100\n",
            "353/353 [==============================] - 9s 26ms/step - loss: 3.0882e-04 - accuracy: 1.0000 - val_loss: 1.2293 - val_accuracy: 0.8873\n",
            "Epoch 62/100\n",
            "353/353 [==============================] - 9s 26ms/step - loss: 1.0511e-04 - accuracy: 0.9999 - val_loss: 1.2450 - val_accuracy: 0.8866\n",
            "Epoch 63/100\n",
            "353/353 [==============================] - 9s 26ms/step - loss: 1.3878e-04 - accuracy: 0.9998 - val_loss: 1.2364 - val_accuracy: 0.8887\n",
            "Epoch 64/100\n",
            "353/353 [==============================] - 9s 26ms/step - loss: 1.7573e-04 - accuracy: 0.9998 - val_loss: 1.2506 - val_accuracy: 0.8894\n",
            "Epoch 65/100\n",
            "353/353 [==============================] - 9s 26ms/step - loss: 0.0075 - accuracy: 0.9982 - val_loss: 1.0555 - val_accuracy: 0.8809\n",
            "Epoch 66/100\n",
            "353/353 [==============================] - 9s 26ms/step - loss: 0.0113 - accuracy: 0.9977 - val_loss: 0.9030 - val_accuracy: 0.8859\n",
            "Epoch 67/100\n",
            "353/353 [==============================] - 9s 26ms/step - loss: 0.0038 - accuracy: 0.9993 - val_loss: 1.0016 - val_accuracy: 0.8813\n",
            "Epoch 68/100\n",
            "353/353 [==============================] - 9s 26ms/step - loss: 0.0036 - accuracy: 0.9992 - val_loss: 1.0255 - val_accuracy: 0.8859\n",
            "Epoch 69/100\n",
            "353/353 [==============================] - 9s 26ms/step - loss: 0.0025 - accuracy: 0.9995 - val_loss: 1.0684 - val_accuracy: 0.8870\n",
            "Epoch 70/100\n",
            "353/353 [==============================] - 9s 26ms/step - loss: 0.0057 - accuracy: 0.9989 - val_loss: 1.0403 - val_accuracy: 0.8813\n",
            "Epoch 71/100\n",
            "353/353 [==============================] - 9s 26ms/step - loss: 0.0015 - accuracy: 0.9998 - val_loss: 1.0277 - val_accuracy: 0.8863\n",
            "Epoch 72/100\n",
            "353/353 [==============================] - 9s 26ms/step - loss: 7.4346e-04 - accuracy: 0.9999 - val_loss: 1.0359 - val_accuracy: 0.8855\n",
            "Epoch 73/100\n",
            "353/353 [==============================] - 9s 26ms/step - loss: 1.8070e-04 - accuracy: 0.9999 - val_loss: 1.0641 - val_accuracy: 0.8863\n",
            "Epoch 74/100\n",
            "353/353 [==============================] - 9s 26ms/step - loss: 9.7178e-05 - accuracy: 1.0000 - val_loss: 1.0997 - val_accuracy: 0.8863\n",
            "Epoch 75/100\n",
            "353/353 [==============================] - 9s 26ms/step - loss: 1.0510e-04 - accuracy: 0.9999 - val_loss: 1.1377 - val_accuracy: 0.8845\n",
            "Epoch 76/100\n",
            "353/353 [==============================] - 9s 26ms/step - loss: 1.1501e-04 - accuracy: 1.0000 - val_loss: 1.1643 - val_accuracy: 0.8855\n",
            "Epoch 77/100\n",
            "353/353 [==============================] - 9s 26ms/step - loss: 1.2424e-04 - accuracy: 0.9999 - val_loss: 1.1882 - val_accuracy: 0.8855\n",
            "Epoch 78/100\n",
            "353/353 [==============================] - 9s 26ms/step - loss: 5.2125e-04 - accuracy: 0.9999 - val_loss: 1.2064 - val_accuracy: 0.8845\n",
            "Epoch 79/100\n",
            "353/353 [==============================] - 9s 26ms/step - loss: 4.0542e-04 - accuracy: 0.9997 - val_loss: 1.2249 - val_accuracy: 0.8845\n",
            "Epoch 80/100\n",
            "353/353 [==============================] - 9s 26ms/step - loss: 3.0177e-04 - accuracy: 0.9999 - val_loss: 1.2375 - val_accuracy: 0.8845\n",
            "Epoch 81/100\n",
            "353/353 [==============================] - 9s 26ms/step - loss: 1.2996e-04 - accuracy: 0.9999 - val_loss: 1.2468 - val_accuracy: 0.8848\n",
            "Epoch 82/100\n",
            "353/353 [==============================] - 9s 26ms/step - loss: 5.5114e-05 - accuracy: 1.0000 - val_loss: 1.2689 - val_accuracy: 0.8841\n",
            "Epoch 83/100\n",
            "353/353 [==============================] - 9s 26ms/step - loss: 1.4766e-04 - accuracy: 0.9998 - val_loss: 1.2934 - val_accuracy: 0.8848\n",
            "Epoch 84/100\n",
            "353/353 [==============================] - 9s 26ms/step - loss: 6.7899e-05 - accuracy: 1.0000 - val_loss: 1.3134 - val_accuracy: 0.8841\n",
            "Epoch 85/100\n",
            "353/353 [==============================] - 9s 26ms/step - loss: 8.3014e-05 - accuracy: 1.0000 - val_loss: 1.3187 - val_accuracy: 0.8841\n",
            "Epoch 86/100\n",
            "353/353 [==============================] - 9s 26ms/step - loss: 2.6260e-04 - accuracy: 1.0000 - val_loss: 1.3246 - val_accuracy: 0.8852\n",
            "Epoch 87/100\n",
            "353/353 [==============================] - 9s 27ms/step - loss: 2.0204e-04 - accuracy: 1.0000 - val_loss: 1.3573 - val_accuracy: 0.8870\n",
            "Epoch 88/100\n",
            "353/353 [==============================] - 9s 26ms/step - loss: 5.0292e-05 - accuracy: 1.0000 - val_loss: 1.3784 - val_accuracy: 0.8870\n",
            "Epoch 89/100\n",
            "353/353 [==============================] - 9s 26ms/step - loss: 1.3364e-04 - accuracy: 0.9998 - val_loss: 1.4001 - val_accuracy: 0.8866\n",
            "Epoch 90/100\n",
            "353/353 [==============================] - 9s 26ms/step - loss: 7.3417e-05 - accuracy: 1.0000 - val_loss: 1.4293 - val_accuracy: 0.8855\n",
            "Epoch 91/100\n",
            "353/353 [==============================] - 9s 26ms/step - loss: 1.7728e-04 - accuracy: 0.9998 - val_loss: 1.4519 - val_accuracy: 0.8845\n",
            "Epoch 92/100\n",
            "353/353 [==============================] - 9s 26ms/step - loss: 9.1097e-05 - accuracy: 1.0000 - val_loss: 1.4683 - val_accuracy: 0.8841\n",
            "Epoch 93/100\n",
            "353/353 [==============================] - 9s 26ms/step - loss: 0.0062 - accuracy: 0.9991 - val_loss: 1.1667 - val_accuracy: 0.8866\n",
            "Epoch 94/100\n",
            "353/353 [==============================] - 9s 26ms/step - loss: 0.0208 - accuracy: 0.9951 - val_loss: 0.9511 - val_accuracy: 0.8852\n",
            "Epoch 95/100\n",
            "353/353 [==============================] - 9s 26ms/step - loss: 0.0021 - accuracy: 0.9994 - val_loss: 0.9171 - val_accuracy: 0.8841\n",
            "Epoch 96/100\n",
            "353/353 [==============================] - 9s 26ms/step - loss: 5.7761e-04 - accuracy: 0.9999 - val_loss: 0.9606 - val_accuracy: 0.8845\n",
            "Epoch 97/100\n",
            "353/353 [==============================] - 9s 26ms/step - loss: 6.2789e-04 - accuracy: 0.9998 - val_loss: 0.9841 - val_accuracy: 0.8866\n",
            "Epoch 98/100\n",
            "353/353 [==============================] - 9s 26ms/step - loss: 1.7927e-04 - accuracy: 0.9999 - val_loss: 1.0201 - val_accuracy: 0.8880\n",
            "Epoch 99/100\n",
            "353/353 [==============================] - 9s 26ms/step - loss: 1.8816e-04 - accuracy: 0.9998 - val_loss: 1.0516 - val_accuracy: 0.8866\n",
            "Epoch 100/100\n",
            "353/353 [==============================] - 9s 26ms/step - loss: 4.5105e-04 - accuracy: 0.9997 - val_loss: 0.9786 - val_accuracy: 0.8912\n"
          ],
          "name": "stdout"
        },
        {
          "output_type": "execute_result",
          "data": {
            "text/plain": [
              "<tensorflow.python.keras.callbacks.History at 0x7f16d170f7d0>"
            ]
          },
          "metadata": {
            "tags": []
          },
          "execution_count": 129
        }
      ]
    },
    {
      "cell_type": "code",
      "metadata": {
        "id": "8-1MZgy8L3Dy"
      },
      "source": [
        "text = [\"i meet my mom and my dad at home\"]\n",
        "\n",
        "tokenized_text = tokenizer.texts_to_sequences(text)"
      ],
      "execution_count": 130,
      "outputs": []
    },
    {
      "cell_type": "code",
      "metadata": {
        "id": "IExCJvq0Jq0t",
        "colab": {
          "base_uri": "https://localhost:8080/"
        },
        "outputId": "12575053-d27c-4886-c27a-a11c26ec0e10"
      },
      "source": [
        "prediction = model.predict(tokenized_text)"
      ],
      "execution_count": 131,
      "outputs": [
        {
          "output_type": "stream",
          "text": [
            "WARNING:tensorflow:Model was constructed with shape (None, 32) for input KerasTensor(type_spec=TensorSpec(shape=(None, 32), dtype=tf.float32, name='embedding_10_input'), name='embedding_10_input', description=\"created by layer 'embedding_10_input'\"), but it was called on an input with incompatible shape (None, 9).\n"
          ],
          "name": "stdout"
        },
        {
          "output_type": "stream",
          "text": [
            "WARNING:tensorflow:Model was constructed with shape (None, 32) for input KerasTensor(type_spec=TensorSpec(shape=(None, 32), dtype=tf.float32, name='embedding_10_input'), name='embedding_10_input', description=\"created by layer 'embedding_10_input'\"), but it was called on an input with incompatible shape (None, 9).\n"
          ],
          "name": "stderr"
        },
        {
          "output_type": "stream",
          "text": [
            "WARNING:tensorflow:5 out of the last 7 calls to <function Model.make_predict_function.<locals>.predict_function at 0x7f16dab320e0> triggered tf.function retracing. Tracing is expensive and the excessive number of tracings could be due to (1) creating @tf.function repeatedly in a loop, (2) passing tensors with different shapes, (3) passing Python objects instead of tensors. For (1), please define your @tf.function outside of the loop. For (2), @tf.function has experimental_relax_shapes=True option that relaxes argument shapes that can avoid unnecessary retracing. For (3), please refer to https://www.tensorflow.org/guide/function#controlling_retracing and https://www.tensorflow.org/api_docs/python/tf/function for  more details.\n"
          ],
          "name": "stdout"
        },
        {
          "output_type": "stream",
          "text": [
            "WARNING:tensorflow:5 out of the last 7 calls to <function Model.make_predict_function.<locals>.predict_function at 0x7f16dab320e0> triggered tf.function retracing. Tracing is expensive and the excessive number of tracings could be due to (1) creating @tf.function repeatedly in a loop, (2) passing tensors with different shapes, (3) passing Python objects instead of tensors. For (1), please define your @tf.function outside of the loop. For (2), @tf.function has experimental_relax_shapes=True option that relaxes argument shapes that can avoid unnecessary retracing. For (3), please refer to https://www.tensorflow.org/guide/function#controlling_retracing and https://www.tensorflow.org/api_docs/python/tf/function for  more details.\n"
          ],
          "name": "stderr"
        }
      ]
    },
    {
      "cell_type": "code",
      "metadata": {
        "id": "BvInsh7AF2eU",
        "colab": {
          "base_uri": "https://localhost:8080/"
        },
        "outputId": "71d353be-75af-432c-bed7-d53c3d51e090"
      },
      "source": [
        "labels = [\"cyber\", \"educational places\", \"neutral\", \"private places\", \"public places\", \"work places\"]\n",
        "predicted = prediction.argmax(axis=1)\n",
        "predict_labels = [labels[predict] for predict in predicted]\n",
        "print(prediction)\n",
        "print(predict_labels)"
      ],
      "execution_count": 132,
      "outputs": [
        {
          "output_type": "stream",
          "text": [
            "[[1.5231024e-12 5.3711265e-08 3.9630859e-09 1.0000000e+00 5.4070203e-08\n",
            "  6.2733052e-12]]\n",
            "['private places']\n"
          ],
          "name": "stdout"
        }
      ]
    },
    {
      "cell_type": "code",
      "metadata": {
        "id": "s0QJEHVuWjrH",
        "colab": {
          "base_uri": "https://localhost:8080/"
        },
        "outputId": "8306aaf5-e2bb-44d8-a10b-10db68ce6604"
      },
      "source": [
        "#Exporting the Model (TFLITE)\n",
        "export_dir = 'saved_model/1'\n",
        "tf.saved_model.save(model, export_dir)"
      ],
      "execution_count": 133,
      "outputs": [
        {
          "output_type": "stream",
          "text": [
            "WARNING:absl:Found untraced functions such as lstm_cell_77_layer_call_fn, lstm_cell_77_layer_call_and_return_conditional_losses, lstm_cell_78_layer_call_fn, lstm_cell_78_layer_call_and_return_conditional_losses, lstm_cell_80_layer_call_fn while saving (showing 5 of 40). These functions will not be directly callable after loading.\n",
            "WARNING:absl:Found untraced functions such as lstm_cell_77_layer_call_fn, lstm_cell_77_layer_call_and_return_conditional_losses, lstm_cell_78_layer_call_fn, lstm_cell_78_layer_call_and_return_conditional_losses, lstm_cell_80_layer_call_fn while saving (showing 5 of 40). These functions will not be directly callable after loading.\n"
          ],
          "name": "stderr"
        },
        {
          "output_type": "stream",
          "text": [
            "INFO:tensorflow:Assets written to: saved_model/1/assets\n"
          ],
          "name": "stdout"
        },
        {
          "output_type": "stream",
          "text": [
            "INFO:tensorflow:Assets written to: saved_model/1/assets\n"
          ],
          "name": "stderr"
        }
      ]
    },
    {
      "cell_type": "code",
      "metadata": {
        "id": "ub-ae_4rV6gF"
      },
      "source": [
        "converter = tf.lite.TFLiteConverter.from_saved_model(export_dir)\n",
        "#converter = tf.lite.TFLiteConverter.from_keras_model(model)\n",
        "tflite_model = converter.convert()"
      ],
      "execution_count": 134,
      "outputs": []
    },
    {
      "cell_type": "code",
      "metadata": {
        "id": "x8WpRsm6XSrl",
        "colab": {
          "base_uri": "https://localhost:8080/"
        },
        "outputId": "72969d9b-c1bf-4eca-90d7-6309c2e73b8d"
      },
      "source": [
        "import pathlib\n",
        "\n",
        "tflite_model_file = pathlib.Path('/content/model.tflite')\n",
        "tflite_model_file.write_bytes(tflite_model)"
      ],
      "execution_count": 135,
      "outputs": [
        {
          "output_type": "execute_result",
          "data": {
            "text/plain": [
              "4156832"
            ]
          },
          "metadata": {
            "tags": []
          },
          "execution_count": 135
        }
      ]
    },
    {
      "cell_type": "code",
      "metadata": {
        "id": "TKc0F73VXt_M",
        "colab": {
          "base_uri": "https://localhost:8080/",
          "height": 17
        },
        "outputId": "b77c3008-d58b-46bf-f37d-4ffd6cdf2751"
      },
      "source": [
        "from google.colab import files\n",
        "files.download(tflite_model_file)"
      ],
      "execution_count": 136,
      "outputs": [
        {
          "output_type": "display_data",
          "data": {
            "application/javascript": [
              "\n",
              "    async function download(id, filename, size) {\n",
              "      if (!google.colab.kernel.accessAllowed) {\n",
              "        return;\n",
              "      }\n",
              "      const div = document.createElement('div');\n",
              "      const label = document.createElement('label');\n",
              "      label.textContent = `Downloading \"${filename}\": `;\n",
              "      div.appendChild(label);\n",
              "      const progress = document.createElement('progress');\n",
              "      progress.max = size;\n",
              "      div.appendChild(progress);\n",
              "      document.body.appendChild(div);\n",
              "\n",
              "      const buffers = [];\n",
              "      let downloaded = 0;\n",
              "\n",
              "      const channel = await google.colab.kernel.comms.open(id);\n",
              "      // Send a message to notify the kernel that we're ready.\n",
              "      channel.send({})\n",
              "\n",
              "      for await (const message of channel.messages) {\n",
              "        // Send a message to notify the kernel that we're ready.\n",
              "        channel.send({})\n",
              "        if (message.buffers) {\n",
              "          for (const buffer of message.buffers) {\n",
              "            buffers.push(buffer);\n",
              "            downloaded += buffer.byteLength;\n",
              "            progress.value = downloaded;\n",
              "          }\n",
              "        }\n",
              "      }\n",
              "      const blob = new Blob(buffers, {type: 'application/binary'});\n",
              "      const a = document.createElement('a');\n",
              "      a.href = window.URL.createObjectURL(blob);\n",
              "      a.download = filename;\n",
              "      div.appendChild(a);\n",
              "      a.click();\n",
              "      div.remove();\n",
              "    }\n",
              "  "
            ],
            "text/plain": [
              "<IPython.core.display.Javascript object>"
            ]
          },
          "metadata": {
            "tags": []
          }
        },
        {
          "output_type": "display_data",
          "data": {
            "application/javascript": [
              "download(\"download_9adafa38-92a5-462d-9962-06a3a5e6b47f\", \"model.tflite\", 4156832)"
            ],
            "text/plain": [
              "<IPython.core.display.Javascript object>"
            ]
          },
          "metadata": {
            "tags": []
          }
        }
      ]
    },
    {
      "cell_type": "code",
      "metadata": {
        "id": "wLWPD0JdTeBP"
      },
      "source": [
        "#Exporting the Tokenized Word\n",
        "import json\n",
        "\n",
        "with open( 'word_dict.json' , 'w' ) as file:\n",
        "    json.dump( tokenizer.word_index , file )"
      ],
      "execution_count": 139,
      "outputs": []
    },
    {
      "cell_type": "code",
      "metadata": {
        "id": "s08TsPMZow_P"
      },
      "source": [
        ""
      ],
      "execution_count": null,
      "outputs": []
    }
  ]
}