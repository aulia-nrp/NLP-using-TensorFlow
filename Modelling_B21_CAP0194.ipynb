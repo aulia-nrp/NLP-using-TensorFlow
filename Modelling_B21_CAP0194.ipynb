{
  "nbformat": 4,
  "nbformat_minor": 0,
  "metadata": {
    "colab": {
      "name": "Modelling - B21-CAP0194.ipynb",
      "provenance": [],
      "collapsed_sections": [
        "583SEu0jPBB8",
        "WInWuPPaPb1V",
        "WxrIq8R9VTPn",
        "8bFn2RKfuSzS",
        "lU6KdkzF6Idy"
      ]
    },
    "kernelspec": {
      "name": "python3",
      "display_name": "Python 3"
    },
    "language_info": {
      "name": "python"
    },
    "accelerator": "GPU"
  },
  "cells": [
    {
      "cell_type": "markdown",
      "metadata": {
        "id": "583SEu0jPBB8"
      },
      "source": [
        "#Imports and Variables Value Initializer"
      ]
    },
    {
      "cell_type": "code",
      "metadata": {
        "colab": {
          "base_uri": "https://localhost:8080/"
        },
        "id": "0eh96NRHGlWh",
        "outputId": "294dd332-aa3a-4eb1-ca31-c18bc1407994"
      },
      "source": [
        "!pip install Sastrawi"
      ],
      "execution_count": null,
      "outputs": [
        {
          "output_type": "stream",
          "text": [
            "Requirement already satisfied: Sastrawi in /usr/local/lib/python3.7/dist-packages (1.0.1)\n"
          ],
          "name": "stdout"
        }
      ]
    },
    {
      "cell_type": "code",
      "metadata": {
        "id": "RWj-L9ssHHAf"
      },
      "source": [
        "import pandas as pd\n",
        "import numpy as np\n",
        "import matplotlib.pyplot as plt \n",
        "from Sastrawi.StopWordRemover.StopWordRemoverFactory import StopWordRemoverFactory\n",
        "from Sastrawi.Stemmer.StemmerFactory import StemmerFactory\n",
        "import tensorflow as tf\n",
        "from tensorflow.keras.preprocessing.text import Tokenizer\n",
        "from tensorflow.keras.preprocessing.sequence import pad_sequences"
      ],
      "execution_count": null,
      "outputs": []
    },
    {
      "cell_type": "code",
      "metadata": {
        "id": "zuA8-KnMFDo9"
      },
      "source": [
        "vocab_size = 20000\n",
        "embedding_dim = 100\n",
        "max_length = 50\n",
        "trunc_type = 'post'\n",
        "oov_tok = \"<OOV>\""
      ],
      "execution_count": null,
      "outputs": []
    },
    {
      "cell_type": "code",
      "metadata": {
        "id": "DHHp6JqwUt0M",
        "colab": {
          "base_uri": "https://localhost:8080/"
        },
        "outputId": "81610a99-1177-4dac-dba3-3d5f3cefd304"
      },
      "source": [
        "'''\n",
        "Project: Bangkit Capstone Project\n",
        "Group: B21-CAP0194\n",
        "Part: Modelling\n",
        "'''"
      ],
      "execution_count": null,
      "outputs": [
        {
          "output_type": "execute_result",
          "data": {
            "application/vnd.google.colaboratory.intrinsic+json": {
              "type": "string"
            },
            "text/plain": [
              "'\\nProject: Bangkit Capstone Project\\nGroup: B21-CAP0194\\nPart: Modelling\\n'"
            ]
          },
          "metadata": {
            "tags": []
          },
          "execution_count": 4
        }
      ]
    },
    {
      "cell_type": "markdown",
      "metadata": {
        "id": "WInWuPPaPb1V"
      },
      "source": [
        "#Translate the Dataset (Post)"
      ]
    },
    {
      "cell_type": "code",
      "metadata": {
        "id": "kJlMiUMYi47A",
        "colab": {
          "base_uri": "https://localhost:8080/",
          "height": 195
        },
        "outputId": "7bf4339b-40a9-4773-c460-22bcb22a930e"
      },
      "source": [
        "#Import Labelled Post Dataset\n",
        "url_post = 'https://drive.google.com/file/d/1VPg3UmXkT0cGEIbifhoiI4JKz3M7NX-w/view?usp=sharing'\n",
        "file_id_post = url_post.split('/')[-2]\n",
        "csv_url_post = 'https://drive.google.com/uc?id=' + file_id_post\n",
        "df_post = pd.read_csv(csv_url_post)\n",
        "df_post.head()"
      ],
      "execution_count": null,
      "outputs": [
        {
          "output_type": "execute_result",
          "data": {
            "text/html": [
              "<div>\n",
              "<style scoped>\n",
              "    .dataframe tbody tr th:only-of-type {\n",
              "        vertical-align: middle;\n",
              "    }\n",
              "\n",
              "    .dataframe tbody tr th {\n",
              "        vertical-align: top;\n",
              "    }\n",
              "\n",
              "    .dataframe thead th {\n",
              "        text-align: right;\n",
              "    }\n",
              "</style>\n",
              "<table border=\"1\" class=\"dataframe\">\n",
              "  <thead>\n",
              "    <tr style=\"text-align: right;\">\n",
              "      <th></th>\n",
              "      <th>text</th>\n",
              "      <th>label</th>\n",
              "      <th>index</th>\n",
              "    </tr>\n",
              "  </thead>\n",
              "  <tbody>\n",
              "    <tr>\n",
              "      <th>0</th>\n",
              "      <td>the ironies of the movement are too painfully ...</td>\n",
              "      <td>Lokasi Kerja</td>\n",
              "      <td>0</td>\n",
              "    </tr>\n",
              "    <tr>\n",
              "      <th>1</th>\n",
              "      <td>women in kuwait have launched a social media c...</td>\n",
              "      <td>Siber</td>\n",
              "      <td>1</td>\n",
              "    </tr>\n",
              "    <tr>\n",
              "      <th>2</th>\n",
              "      <td>triger warning raising awareness of sexual ass...</td>\n",
              "      <td>Lokasi Privat</td>\n",
              "      <td>2</td>\n",
              "    </tr>\n",
              "    <tr>\n",
              "      <th>3</th>\n",
              "      <td>charges brought against the guy that smacked m...</td>\n",
              "      <td>Lokasi Privat</td>\n",
              "      <td>3</td>\n",
              "    </tr>\n",
              "    <tr>\n",
              "      <th>4</th>\n",
              "      <td>and the fourth presenter on th may is hannah b...</td>\n",
              "      <td>Lokasi Pendidikan</td>\n",
              "      <td>4</td>\n",
              "    </tr>\n",
              "  </tbody>\n",
              "</table>\n",
              "</div>"
            ],
            "text/plain": [
              "                                                text              label  index\n",
              "0  the ironies of the movement are too painfully ...       Lokasi Kerja      0\n",
              "1  women in kuwait have launched a social media c...              Siber      1\n",
              "2  triger warning raising awareness of sexual ass...      Lokasi Privat      2\n",
              "3  charges brought against the guy that smacked m...      Lokasi Privat      3\n",
              "4  and the fourth presenter on th may is hannah b...  Lokasi Pendidikan      4"
            ]
          },
          "metadata": {
            "tags": []
          },
          "execution_count": 5
        }
      ]
    },
    {
      "cell_type": "code",
      "metadata": {
        "id": "tZVt0PJwicED",
        "colab": {
          "base_uri": "https://localhost:8080/"
        },
        "outputId": "a8d96106-b5c0-4e8c-b71d-76e5c8ae850a"
      },
      "source": [
        "#Warning! It's not free, please think several times before running this cell below\n",
        "#Enter the API Key\n",
        "import getpass\n",
        "\n",
        "APIKEY = getpass.getpass()"
      ],
      "execution_count": null,
      "outputs": [
        {
          "output_type": "stream",
          "text": [
            "··········\n"
          ],
          "name": "stdout"
        }
      ]
    },
    {
      "cell_type": "code",
      "metadata": {
        "id": "GeM4W3MPwB9A"
      },
      "source": [
        "#Warning! It's also not free, please think several times before running this cell below\n",
        "#Running Translate API\n",
        "from googleapiclient.discovery import build\n",
        "service = build('translate', 'v2', developerKey=APIKEY)\n",
        "\n",
        "df_post['indo_text'] = df_post['text'].apply(lambda x: (service.translations().list(source='en', target='id', q=x).execute())).apply(lambda x: x['translations']).apply(lambda x: x[0]).apply(lambda x: x['translatedText'])"
      ],
      "execution_count": null,
      "outputs": []
    },
    {
      "cell_type": "code",
      "metadata": {
        "id": "uChzsiCQuUfd",
        "colab": {
          "base_uri": "https://localhost:8080/"
        },
        "outputId": "2f32c582-9478-49d4-d08b-44d164331113"
      },
      "source": [
        "#Show the first 50 data in the dataset\n",
        "df_post['indo_text'].head(50)"
      ],
      "execution_count": null,
      "outputs": [
        {
          "output_type": "execute_result",
          "data": {
            "text/plain": [
              "0     ironi gerakan ini terlalu menyakitkan jelas di...\n",
              "1     wanita di kuwait telah meluncurkan kampanye me...\n",
              "2     peringatan triger meningkatkan kesadaran akan ...\n",
              "3     dakwaan yang diajukan terhadap pria yang memuk...\n",
              "4     dan presenter keempat pada bulan Mei adalah ma...\n",
              "5     Ini sangat kacau, adakah pria di mata publik, ...\n",
              "6     untuk mengatasi epidemi kekerasan laki-laki te...\n",
              "7     Ada serangkaian tuduhan pelecehan baru terhada...\n",
              "8     ingin melihat seperti apa gerakan para wanita ...\n",
              "9     siswa perempuan tidak ingin berhubungan seks d...\n",
              "10    ketika kita berbicara tentang dan kekerasan, k...\n",
              "11    mengambil jutaan tahun lalu dalam dana nih nih...\n",
              "12    bantu siswa Anda untuk memerangi pelecehan den...\n",
              "13    Saya masih ingin berbicara dengan wanita penya...\n",
              "14    glenn greenwald tidak suka gerakan mendukung m...\n",
              "15    untuk lebih lanjut tentang topik ini bergabung...\n",
              "16    apa hubungan gerakan itu dengan pembunuhan ma ...\n",
              "17    opini terbaru dari dan cuomo membutuhkan waktu...\n",
              "18    tidak tahu siapa orang tolol misoginis greewal...\n",
              "19    Morrison percaya desas-desus tentang beberapa ...\n",
              "20    Untuk mengatasi epidemi kekerasan laki-laki te...\n",
              "21    ketika kita berbicara tentang dan kekerasan ki...\n",
              "22      kapan kekerasan dan kebencian ini akan berhenti\n",
              "23    anestesi melindungi predator seksual yang dike...\n",
              "24    terima kasih atas kebijaksanaan dan wawasan lu...\n",
              "25    beberapa incel di tiktok dijuluki sebagai hari...\n",
              "26                          apa yang sebenarnya berubah\n",
              "27                                 pembalasan pelecehan\n",
              "28    melihat ke depan obrolan panel hari ini tentan...\n",
              "29                    bd ini jika tidak membicarakannya\n",
              "30    ini adalah anak yang lahir sebagai akibat dari...\n",
              "31       Acara perhitungan budaya baru kekerasan gender\n",
              "32    Ekor amukan bukit anita membuat kami kembali k...\n",
              "33    oh tidak, itu buruk, bisakah Anda menautkan ut...\n",
              "34                             ternyata selama ini gary\n",
              "35    sejak aku memamerkan jiwaku dan melompati ling...\n",
              "36    kepada semua korban pelecehan, tidak ada kata ...\n",
              "37    militer mengklaim mereka mengambil tindakan te...\n",
              "38    kami secara pribadi percaya bahwa para korban ...\n",
              "39       chad s an ex con mencoba untuk memulai kembali\n",
              "40    kami secara pribadi percaya bahwa korban dari ...\n",
              "41    dan para demokrat masih gagal karena menyia-ny...\n",
              "42    tw kekerasan seksual membaca mengakui pemerkos...\n",
              "43    wanita muda tidak berpikir itu keren apa yang ...\n",
              "44    perkuat beragam perspektif dan cerita dengan j...\n",
              "45    benar-benar menakjubkan melihat berdiri untuk ...\n",
              "46                 memeluk permainan yang diperlukan di\n",
              "47    mungkin dia takut dia akan terkena jika tangan...\n",
              "48    Sial di mana r wisconsin sekolah Katolik guru ...\n",
              "49    dia juga memiliki aplikasi ini di ponselnya ya...\n",
              "Name: indo_text, dtype: object"
            ]
          },
          "metadata": {
            "tags": []
          },
          "execution_count": 8
        }
      ]
    },
    {
      "cell_type": "code",
      "metadata": {
        "id": "damQUqDWe8Be"
      },
      "source": [
        "#Convert the text into lowercase\n",
        "df_post['indo_text'] = df_post['indo_text'].str.lower()"
      ],
      "execution_count": null,
      "outputs": []
    },
    {
      "cell_type": "code",
      "metadata": {
        "id": "cI2HovVcvh2j"
      },
      "source": [
        "#Save DataFrame to CSV\n",
        "df_post.to_csv(\"capstonetweetposttranslated.csv\", index=False)"
      ],
      "execution_count": null,
      "outputs": []
    },
    {
      "cell_type": "markdown",
      "metadata": {
        "id": "WxrIq8R9VTPn"
      },
      "source": [
        "#Applying Stopwords and Stemmer (Post)"
      ]
    },
    {
      "cell_type": "code",
      "metadata": {
        "colab": {
          "base_uri": "https://localhost:8080/",
          "height": 195
        },
        "id": "LDBJl0DwWnOw",
        "outputId": "1d25474c-6878-48e5-d24a-7631dd6996f4"
      },
      "source": [
        "#Import Translated Post Dataset\n",
        "url_post = 'https://drive.google.com/file/d/1dWQB76NUK2DsPSYvxPD2KJQ12bKM7hmA/view?usp=sharing'\n",
        "file_id_post = url_post.split('/')[-2]\n",
        "csv_url_post = 'https://drive.google.com/uc?id=' + file_id_post\n",
        "df_post = pd.read_csv(csv_url_post)\n",
        "df_post.head()"
      ],
      "execution_count": null,
      "outputs": [
        {
          "output_type": "execute_result",
          "data": {
            "text/html": [
              "<div>\n",
              "<style scoped>\n",
              "    .dataframe tbody tr th:only-of-type {\n",
              "        vertical-align: middle;\n",
              "    }\n",
              "\n",
              "    .dataframe tbody tr th {\n",
              "        vertical-align: top;\n",
              "    }\n",
              "\n",
              "    .dataframe thead th {\n",
              "        text-align: right;\n",
              "    }\n",
              "</style>\n",
              "<table border=\"1\" class=\"dataframe\">\n",
              "  <thead>\n",
              "    <tr style=\"text-align: right;\">\n",
              "      <th></th>\n",
              "      <th>text</th>\n",
              "      <th>label</th>\n",
              "      <th>index</th>\n",
              "      <th>indo_text</th>\n",
              "    </tr>\n",
              "  </thead>\n",
              "  <tbody>\n",
              "    <tr>\n",
              "      <th>0</th>\n",
              "      <td>the ironies of the movement are too painfully ...</td>\n",
              "      <td>Lokasi Kerja</td>\n",
              "      <td>0</td>\n",
              "      <td>ironi gerakan ini terlalu menyakitkan jelas di...</td>\n",
              "    </tr>\n",
              "    <tr>\n",
              "      <th>1</th>\n",
              "      <td>women in kuwait have launched a social media c...</td>\n",
              "      <td>Siber</td>\n",
              "      <td>1</td>\n",
              "      <td>wanita di kuwait telah meluncurkan kampanye me...</td>\n",
              "    </tr>\n",
              "    <tr>\n",
              "      <th>2</th>\n",
              "      <td>triger warning raising awareness of sexual ass...</td>\n",
              "      <td>Lokasi Privat</td>\n",
              "      <td>2</td>\n",
              "      <td>peringatan triger meningkatkan kesadaran akan ...</td>\n",
              "    </tr>\n",
              "    <tr>\n",
              "      <th>3</th>\n",
              "      <td>charges brought against the guy that smacked m...</td>\n",
              "      <td>Lokasi Privat</td>\n",
              "      <td>3</td>\n",
              "      <td>dakwaan yang diajukan terhadap pria yang memuk...</td>\n",
              "    </tr>\n",
              "    <tr>\n",
              "      <th>4</th>\n",
              "      <td>and the fourth presenter on th may is hannah b...</td>\n",
              "      <td>Lokasi Pendidikan</td>\n",
              "      <td>4</td>\n",
              "      <td>dan presenter keempat pada bulan mei adalah ma...</td>\n",
              "    </tr>\n",
              "  </tbody>\n",
              "</table>\n",
              "</div>"
            ],
            "text/plain": [
              "                                                text  ...                                          indo_text\n",
              "0  the ironies of the movement are too painfully ...  ...  ironi gerakan ini terlalu menyakitkan jelas di...\n",
              "1  women in kuwait have launched a social media c...  ...  wanita di kuwait telah meluncurkan kampanye me...\n",
              "2  triger warning raising awareness of sexual ass...  ...  peringatan triger meningkatkan kesadaran akan ...\n",
              "3  charges brought against the guy that smacked m...  ...  dakwaan yang diajukan terhadap pria yang memuk...\n",
              "4  and the fourth presenter on th may is hannah b...  ...  dan presenter keempat pada bulan mei adalah ma...\n",
              "\n",
              "[5 rows x 4 columns]"
            ]
          },
          "metadata": {
            "tags": []
          },
          "execution_count": 5
        }
      ]
    },
    {
      "cell_type": "code",
      "metadata": {
        "colab": {
          "base_uri": "https://localhost:8080/",
          "height": 195
        },
        "id": "2JhL98gOVEFf",
        "outputId": "8ce5474e-f1f0-4e82-a007-bf9d5bab931f"
      },
      "source": [
        "#Import Translated Additional Dataset\n",
        "url_add = 'https://drive.google.com/file/d/1Sb1t9O3Y09SuAz4buHLlf4qa9HrOimJi/view?usp=sharing'\n",
        "file_id_add = url_add.split('/')[-2]\n",
        "csv_url_add = 'https://drive.google.com/uc?id=' + file_id_add\n",
        "df_add = pd.read_csv(csv_url_add)\n",
        "df_add.drop(columns=['label_laporan'], inplace=True)\n",
        "df_add.rename(columns={'label_post': 'label'}, inplace = True)\n",
        "df_add.head()"
      ],
      "execution_count": null,
      "outputs": [
        {
          "output_type": "execute_result",
          "data": {
            "text/html": [
              "<div>\n",
              "<style scoped>\n",
              "    .dataframe tbody tr th:only-of-type {\n",
              "        vertical-align: middle;\n",
              "    }\n",
              "\n",
              "    .dataframe tbody tr th {\n",
              "        vertical-align: top;\n",
              "    }\n",
              "\n",
              "    .dataframe thead th {\n",
              "        text-align: right;\n",
              "    }\n",
              "</style>\n",
              "<table border=\"1\" class=\"dataframe\">\n",
              "  <thead>\n",
              "    <tr style=\"text-align: right;\">\n",
              "      <th></th>\n",
              "      <th>index</th>\n",
              "      <th>text</th>\n",
              "      <th>label</th>\n",
              "      <th>indo_text</th>\n",
              "    </tr>\n",
              "  </thead>\n",
              "  <tbody>\n",
              "    <tr>\n",
              "      <th>0</th>\n",
              "      <td>0</td>\n",
              "      <td>x</td>\n",
              "      <td>Netral</td>\n",
              "      <td>x</td>\n",
              "    </tr>\n",
              "    <tr>\n",
              "      <th>1</th>\n",
              "      <td>1</td>\n",
              "      <td>on how the other accused were doing after that...</td>\n",
              "      <td>Lokasi Publik</td>\n",
              "      <td>tentang apa yang dilakukan terdakwa lainnya se...</td>\n",
              "    </tr>\n",
              "    <tr>\n",
              "      <th>2</th>\n",
              "      <td>2</td>\n",
              "      <td>in the five years since black women have emerg...</td>\n",
              "      <td>Lokasi Publik</td>\n",
              "      <td>dalam lima tahun sejak perempuan kulit hitam m...</td>\n",
              "    </tr>\n",
              "    <tr>\n",
              "      <th>3</th>\n",
              "      <td>3</td>\n",
              "      <td>discussed the movement and how to deal with tr...</td>\n",
              "      <td>Lokasi Publik</td>\n",
              "      <td>membahas pergerakan dan cara mengatasi trauma ...</td>\n",
              "    </tr>\n",
              "    <tr>\n",
              "      <th>4</th>\n",
              "      <td>4</td>\n",
              "      <td>charlie hanson publicly supported and spoke ou...</td>\n",
              "      <td>Lokasi Kerja</td>\n",
              "      <td>charlie hanson secara terbuka mendukung dan be...</td>\n",
              "    </tr>\n",
              "  </tbody>\n",
              "</table>\n",
              "</div>"
            ],
            "text/plain": [
              "   index  ...                                          indo_text\n",
              "0      0  ...                                                  x\n",
              "1      1  ...  tentang apa yang dilakukan terdakwa lainnya se...\n",
              "2      2  ...  dalam lima tahun sejak perempuan kulit hitam m...\n",
              "3      3  ...  membahas pergerakan dan cara mengatasi trauma ...\n",
              "4      4  ...  charlie hanson secara terbuka mendukung dan be...\n",
              "\n",
              "[5 rows x 4 columns]"
            ]
          },
          "metadata": {
            "tags": []
          },
          "execution_count": 6
        }
      ]
    },
    {
      "cell_type": "code",
      "metadata": {
        "id": "5gAZSLzLWOze"
      },
      "source": [
        "#Combine 2 datasets\n",
        "df_post = pd.concat([df_post, df_add])"
      ],
      "execution_count": null,
      "outputs": []
    },
    {
      "cell_type": "code",
      "metadata": {
        "id": "kPiZ1NIhWQpt"
      },
      "source": [
        "#Drop duplicates row\n",
        "df_post.drop_duplicates(subset=['text'], inplace=True)"
      ],
      "execution_count": null,
      "outputs": []
    },
    {
      "cell_type": "code",
      "metadata": {
        "colab": {
          "base_uri": "https://localhost:8080/"
        },
        "id": "aGzTFiSuWUNg",
        "outputId": "568faf7c-011b-4173-c745-a46aac5416eb"
      },
      "source": [
        "df_post['label'].value_counts()"
      ],
      "execution_count": null,
      "outputs": [
        {
          "output_type": "execute_result",
          "data": {
            "text/plain": [
              "Netral               5490\n",
              "Lokasi Publik        4416\n",
              "Lokasi Privat        3635\n",
              "Siber                2788\n",
              "Lokasi Kerja         2224\n",
              "Lokasi Pendidikan    2109\n",
              "Name: label, dtype: int64"
            ]
          },
          "metadata": {
            "tags": []
          },
          "execution_count": 9
        }
      ]
    },
    {
      "cell_type": "code",
      "metadata": {
        "id": "R99z4t-eYAqG"
      },
      "source": [
        "df_post['text'] = df_post['indo_text']\n",
        "df_post = df_post.drop(['indo_text'], axis=1)"
      ],
      "execution_count": null,
      "outputs": []
    },
    {
      "cell_type": "code",
      "metadata": {
        "colab": {
          "base_uri": "https://localhost:8080/"
        },
        "id": "Lr3oiA5DECBK",
        "outputId": "65e46e44-0db4-414e-eace-9f4d2e85b663"
      },
      "source": [
        "df_post['text']"
      ],
      "execution_count": null,
      "outputs": [
        {
          "output_type": "execute_result",
          "data": {
            "text/plain": [
              "0       ironi gerakan ini terlalu menyakitkan jelas di...\n",
              "1       wanita di kuwait telah meluncurkan kampanye me...\n",
              "2       peringatan triger meningkatkan kesadaran akan ...\n",
              "3       dakwaan yang diajukan terhadap pria yang memuk...\n",
              "4       dan presenter keempat pada bulan mei adalah ma...\n",
              "                              ...                        \n",
              "3961                                     khusus kasus dan\n",
              "3963    wanita yang menyusun surat perlindungan saya m...\n",
              "3964    daftar di bookmad yang disorot untuk keinginan...\n",
              "3965    mereka mencoba melakukan pr untuknya pada kita...\n",
              "3966    saya terkadang bertanya-tanya apakah saya tahu...\n",
              "Name: text, Length: 20662, dtype: object"
            ]
          },
          "metadata": {
            "tags": []
          },
          "execution_count": 11
        }
      ]
    },
    {
      "cell_type": "code",
      "metadata": {
        "id": "EMz_iC0WDBDx"
      },
      "source": [
        "#Remove Stopwords from Texts\n",
        "stopwordFactory = StopWordRemoverFactory()\n",
        "stopword = stopwordFactory.create_stop_word_remover()\n",
        "\n",
        "df_post['text'] = df_post['text'].apply(lambda x: stopword.remove(x))"
      ],
      "execution_count": null,
      "outputs": []
    },
    {
      "cell_type": "code",
      "metadata": {
        "colab": {
          "base_uri": "https://localhost:8080/"
        },
        "id": "KIob0zlpDv8R",
        "outputId": "975289da-d322-4520-a224-98305800d1af"
      },
      "source": [
        "df_post['text']"
      ],
      "execution_count": null,
      "outputs": [
        {
          "output_type": "execute_result",
          "data": {
            "text/plain": [
              "0       ironi gerakan terlalu menyakitkan jelas dipelo...\n",
              "1       wanita kuwait meluncurkan kampanye media sosia...\n",
              "2       peringatan triger meningkatkan kesadaran pelec...\n",
              "3       dakwaan diajukan pria memukul serangan seksual...\n",
              "4       presenter keempat bulan mei mahasiswa phd hann...\n",
              "                              ...                        \n",
              "3961                                         khusus kasus\n",
              "3963    wanita menyusun surat perlindungan melindungi ...\n",
              "3964    daftar bookmad disorot keinginan membara buku ...\n",
              "3965    mencoba melakukan pr untuknya kita bagaimana k...\n",
              "3966    terkadang bertanya-tanya tahu siapa pemerkosa ...\n",
              "Name: text, Length: 20662, dtype: object"
            ]
          },
          "metadata": {
            "tags": []
          },
          "execution_count": 13
        }
      ]
    },
    {
      "cell_type": "code",
      "metadata": {
        "id": "ljAuTaF6Ea1N"
      },
      "source": [
        "#Stem the Texts (Removing Prefix and Suffix)\n",
        "stemmerFactory = StemmerFactory()\n",
        "stemmer = stemmerFactory.create_stemmer()\n",
        "\n",
        "df_post['text'] = df_post['text'].apply(lambda x: stemmer.stem(x))"
      ],
      "execution_count": null,
      "outputs": []
    },
    {
      "cell_type": "code",
      "metadata": {
        "colab": {
          "base_uri": "https://localhost:8080/"
        },
        "id": "AvLawm23GsuA",
        "outputId": "7f90d184-9781-4949-8089-427faf4a2e46"
      },
      "source": [
        "df_post['text']"
      ],
      "execution_count": null,
      "outputs": [
        {
          "output_type": "execute_result",
          "data": {
            "text/plain": [
              "0       ironi gera terlalu sakit jelas lopor aktris ho...\n",
              "1       wanita kuwait luncur kampanye media sosial man...\n",
              "2       ingat triger tingkat sadar leceh seksual keras...\n",
              "3       dakwa aju pria pukul serang seksual persetan b...\n",
              "4       presenter empat bulan mei mahasiswa phd hannah...\n",
              "                              ...                        \n",
              "3961                                         khusus kasus\n",
              "3963    wanita susun surat lindung lindung ip litigasi...\n",
              "3964    daftar bookmad sorot ingin bara buku tampil ed...\n",
              "3965    coba laku pr untuk kita bagaimana korban leceh...\n",
              "3966    terkadang tanya tahu siapa perkosa saya orang ...\n",
              "Name: text, Length: 20662, dtype: object"
            ]
          },
          "metadata": {
            "tags": []
          },
          "execution_count": 15
        }
      ]
    },
    {
      "cell_type": "code",
      "metadata": {
        "id": "suYQuXUANHPE"
      },
      "source": [
        "#Save DataFrame to CSV\n",
        "df_post.to_csv(\"capstonetweetpoststemmed.csv\", index=False)"
      ],
      "execution_count": null,
      "outputs": []
    },
    {
      "cell_type": "markdown",
      "metadata": {
        "id": "GuKYl5UJWLOh"
      },
      "source": [
        "#Modelling (Post)"
      ]
    },
    {
      "cell_type": "code",
      "metadata": {
        "colab": {
          "base_uri": "https://localhost:8080/",
          "height": 197
        },
        "id": "c2WW3eiDOBhG",
        "outputId": "a9f38be2-4cf2-483d-f3f2-7791a956160a"
      },
      "source": [
        "#Import Stemmed Dataset\n",
        "url_post = 'https://drive.google.com/file/d/1hbaRpS73f0220FBXvSSkWSHvAOlwN8y5/view?usp=sharing'\n",
        "file_id_post = url_post.split('/')[-2]\n",
        "csv_url_post = 'https://drive.google.com/uc?id=' + file_id_post\n",
        "df_post = pd.read_csv(csv_url_post)\n",
        "df_post.head()"
      ],
      "execution_count": null,
      "outputs": [
        {
          "output_type": "execute_result",
          "data": {
            "text/html": [
              "<div>\n",
              "<style scoped>\n",
              "    .dataframe tbody tr th:only-of-type {\n",
              "        vertical-align: middle;\n",
              "    }\n",
              "\n",
              "    .dataframe tbody tr th {\n",
              "        vertical-align: top;\n",
              "    }\n",
              "\n",
              "    .dataframe thead th {\n",
              "        text-align: right;\n",
              "    }\n",
              "</style>\n",
              "<table border=\"1\" class=\"dataframe\">\n",
              "  <thead>\n",
              "    <tr style=\"text-align: right;\">\n",
              "      <th></th>\n",
              "      <th>text</th>\n",
              "      <th>label</th>\n",
              "      <th>index</th>\n",
              "    </tr>\n",
              "  </thead>\n",
              "  <tbody>\n",
              "    <tr>\n",
              "      <th>0</th>\n",
              "      <td>ironi gera terlalu sakit jelas lopor aktris ho...</td>\n",
              "      <td>Lokasi Kerja</td>\n",
              "      <td>0</td>\n",
              "    </tr>\n",
              "    <tr>\n",
              "      <th>1</th>\n",
              "      <td>wanita kuwait luncur kampanye media sosial man...</td>\n",
              "      <td>Siber</td>\n",
              "      <td>1</td>\n",
              "    </tr>\n",
              "    <tr>\n",
              "      <th>2</th>\n",
              "      <td>ingat triger tingkat sadar leceh seksual keras...</td>\n",
              "      <td>Lokasi Privat</td>\n",
              "      <td>2</td>\n",
              "    </tr>\n",
              "    <tr>\n",
              "      <th>3</th>\n",
              "      <td>dakwa aju pria pukul serang seksual persetan b...</td>\n",
              "      <td>Lokasi Privat</td>\n",
              "      <td>3</td>\n",
              "    </tr>\n",
              "    <tr>\n",
              "      <th>4</th>\n",
              "      <td>presenter empat bulan mei mahasiswa phd hannah...</td>\n",
              "      <td>Lokasi Pendidikan</td>\n",
              "      <td>4</td>\n",
              "    </tr>\n",
              "  </tbody>\n",
              "</table>\n",
              "</div>"
            ],
            "text/plain": [
              "                                                text              label  index\n",
              "0  ironi gera terlalu sakit jelas lopor aktris ho...       Lokasi Kerja      0\n",
              "1  wanita kuwait luncur kampanye media sosial man...              Siber      1\n",
              "2  ingat triger tingkat sadar leceh seksual keras...      Lokasi Privat      2\n",
              "3  dakwa aju pria pukul serang seksual persetan b...      Lokasi Privat      3\n",
              "4  presenter empat bulan mei mahasiswa phd hannah...  Lokasi Pendidikan      4"
            ]
          },
          "metadata": {
            "tags": []
          },
          "execution_count": 5
        }
      ]
    },
    {
      "cell_type": "code",
      "metadata": {
        "colab": {
          "base_uri": "https://localhost:8080/"
        },
        "id": "P4Gclqa5ONVH",
        "outputId": "6042a2db-ed86-4f16-8feb-08ca620128e9"
      },
      "source": [
        "df_post['text']"
      ],
      "execution_count": null,
      "outputs": [
        {
          "output_type": "execute_result",
          "data": {
            "text/plain": [
              "0        ironi gera terlalu sakit jelas lopor aktris ho...\n",
              "1        wanita kuwait luncur kampanye media sosial man...\n",
              "2        ingat triger tingkat sadar leceh seksual keras...\n",
              "3        dakwa aju pria pukul serang seksual persetan b...\n",
              "4        presenter empat bulan mei mahasiswa phd hannah...\n",
              "                               ...                        \n",
              "20657                                         khusus kasus\n",
              "20658    wanita susun surat lindung lindung ip litigasi...\n",
              "20659    daftar bookmad sorot ingin bara buku tampil ed...\n",
              "20660    coba laku pr untuk kita bagaimana korban leceh...\n",
              "20661    terkadang tanya tahu siapa perkosa saya orang ...\n",
              "Name: text, Length: 20662, dtype: object"
            ]
          },
          "metadata": {
            "tags": []
          },
          "execution_count": 6
        }
      ]
    },
    {
      "cell_type": "code",
      "metadata": {
        "id": "ulvgf7_IxOz9",
        "colab": {
          "base_uri": "https://localhost:8080/"
        },
        "outputId": "38a8b793-3368-4c53-ed77-3088bf46027e"
      },
      "source": [
        "df_post['label'].value_counts()"
      ],
      "execution_count": null,
      "outputs": [
        {
          "output_type": "execute_result",
          "data": {
            "text/plain": [
              "Netral               5490\n",
              "Lokasi Publik        4416\n",
              "Lokasi Privat        3635\n",
              "Siber                2788\n",
              "Lokasi Kerja         2224\n",
              "Lokasi Pendidikan    2109\n",
              "Name: label, dtype: int64"
            ]
          },
          "metadata": {
            "tags": []
          },
          "execution_count": 7
        }
      ]
    },
    {
      "cell_type": "code",
      "metadata": {
        "id": "_zugJcnpsr4p"
      },
      "source": [
        "labels = pd.get_dummies(df_post.label)"
      ],
      "execution_count": null,
      "outputs": []
    },
    {
      "cell_type": "code",
      "metadata": {
        "id": "sMP4dEqss7hA"
      },
      "source": [
        "df_new_post = pd.concat([df_post, labels], axis=1)"
      ],
      "execution_count": null,
      "outputs": []
    },
    {
      "cell_type": "code",
      "metadata": {
        "colab": {
          "base_uri": "https://localhost:8080/",
          "height": 197
        },
        "id": "m2rcT0nDl7PP",
        "outputId": "a3da15fb-5d52-4141-80b3-e32df71f0a4d"
      },
      "source": [
        "df_new_post.head()"
      ],
      "execution_count": null,
      "outputs": [
        {
          "output_type": "execute_result",
          "data": {
            "text/html": [
              "<div>\n",
              "<style scoped>\n",
              "    .dataframe tbody tr th:only-of-type {\n",
              "        vertical-align: middle;\n",
              "    }\n",
              "\n",
              "    .dataframe tbody tr th {\n",
              "        vertical-align: top;\n",
              "    }\n",
              "\n",
              "    .dataframe thead th {\n",
              "        text-align: right;\n",
              "    }\n",
              "</style>\n",
              "<table border=\"1\" class=\"dataframe\">\n",
              "  <thead>\n",
              "    <tr style=\"text-align: right;\">\n",
              "      <th></th>\n",
              "      <th>text</th>\n",
              "      <th>label</th>\n",
              "      <th>index</th>\n",
              "      <th>Lokasi Kerja</th>\n",
              "      <th>Lokasi Pendidikan</th>\n",
              "      <th>Lokasi Privat</th>\n",
              "      <th>Lokasi Publik</th>\n",
              "      <th>Netral</th>\n",
              "      <th>Siber</th>\n",
              "    </tr>\n",
              "  </thead>\n",
              "  <tbody>\n",
              "    <tr>\n",
              "      <th>0</th>\n",
              "      <td>ironi gera terlalu sakit jelas lopor aktris ho...</td>\n",
              "      <td>Lokasi Kerja</td>\n",
              "      <td>0</td>\n",
              "      <td>1</td>\n",
              "      <td>0</td>\n",
              "      <td>0</td>\n",
              "      <td>0</td>\n",
              "      <td>0</td>\n",
              "      <td>0</td>\n",
              "    </tr>\n",
              "    <tr>\n",
              "      <th>1</th>\n",
              "      <td>wanita kuwait luncur kampanye media sosial man...</td>\n",
              "      <td>Siber</td>\n",
              "      <td>1</td>\n",
              "      <td>0</td>\n",
              "      <td>0</td>\n",
              "      <td>0</td>\n",
              "      <td>0</td>\n",
              "      <td>0</td>\n",
              "      <td>1</td>\n",
              "    </tr>\n",
              "    <tr>\n",
              "      <th>2</th>\n",
              "      <td>ingat triger tingkat sadar leceh seksual keras...</td>\n",
              "      <td>Lokasi Privat</td>\n",
              "      <td>2</td>\n",
              "      <td>0</td>\n",
              "      <td>0</td>\n",
              "      <td>1</td>\n",
              "      <td>0</td>\n",
              "      <td>0</td>\n",
              "      <td>0</td>\n",
              "    </tr>\n",
              "    <tr>\n",
              "      <th>3</th>\n",
              "      <td>dakwa aju pria pukul serang seksual persetan b...</td>\n",
              "      <td>Lokasi Privat</td>\n",
              "      <td>3</td>\n",
              "      <td>0</td>\n",
              "      <td>0</td>\n",
              "      <td>1</td>\n",
              "      <td>0</td>\n",
              "      <td>0</td>\n",
              "      <td>0</td>\n",
              "    </tr>\n",
              "    <tr>\n",
              "      <th>4</th>\n",
              "      <td>presenter empat bulan mei mahasiswa phd hannah...</td>\n",
              "      <td>Lokasi Pendidikan</td>\n",
              "      <td>4</td>\n",
              "      <td>0</td>\n",
              "      <td>1</td>\n",
              "      <td>0</td>\n",
              "      <td>0</td>\n",
              "      <td>0</td>\n",
              "      <td>0</td>\n",
              "    </tr>\n",
              "  </tbody>\n",
              "</table>\n",
              "</div>"
            ],
            "text/plain": [
              "                                                text  ... Siber\n",
              "0  ironi gera terlalu sakit jelas lopor aktris ho...  ...     0\n",
              "1  wanita kuwait luncur kampanye media sosial man...  ...     1\n",
              "2  ingat triger tingkat sadar leceh seksual keras...  ...     0\n",
              "3  dakwa aju pria pukul serang seksual persetan b...  ...     0\n",
              "4  presenter empat bulan mei mahasiswa phd hannah...  ...     0\n",
              "\n",
              "[5 rows x 9 columns]"
            ]
          },
          "metadata": {
            "tags": []
          },
          "execution_count": 10
        }
      ]
    },
    {
      "cell_type": "code",
      "metadata": {
        "id": "K_YhqeK_soIr"
      },
      "source": [
        "tweet_post = df_new_post['text'].astype(str).values\n",
        "label_post = df_new_post[[\"Lokasi Kerja\", \"Lokasi Pendidikan\", \"Lokasi Privat\", \"Lokasi Publik\", \"Netral\", \"Siber\"]].values"
      ],
      "execution_count": null,
      "outputs": []
    },
    {
      "cell_type": "code",
      "metadata": {
        "id": "Fhtsnub1wT99",
        "colab": {
          "base_uri": "https://localhost:8080/"
        },
        "outputId": "3b3ba1dc-caa6-498c-d54c-3dcebdbb0d41"
      },
      "source": [
        "label_post"
      ],
      "execution_count": null,
      "outputs": [
        {
          "output_type": "execute_result",
          "data": {
            "text/plain": [
              "array([[1, 0, 0, 0, 0, 0],\n",
              "       [0, 0, 0, 0, 0, 1],\n",
              "       [0, 0, 1, 0, 0, 0],\n",
              "       ...,\n",
              "       [0, 0, 0, 0, 1, 0],\n",
              "       [0, 0, 1, 0, 0, 0],\n",
              "       [0, 0, 0, 0, 1, 0]], dtype=uint8)"
            ]
          },
          "metadata": {
            "tags": []
          },
          "execution_count": 12
        }
      ]
    },
    {
      "cell_type": "code",
      "metadata": {
        "id": "Lu2JQOMsjByI"
      },
      "source": [
        "from sklearn.model_selection import train_test_split\n",
        "#Train Text, Test Text, Train Label, Test Label\n",
        "X_train, X_test, y_train, y_test = train_test_split(tweet_post, label_post, test_size=0.1, shuffle=True)"
      ],
      "execution_count": null,
      "outputs": []
    },
    {
      "cell_type": "code",
      "metadata": {
        "id": "sBtqd28eGu4Y"
      },
      "source": [
        "tokenizer = Tokenizer(num_words = vocab_size, oov_token = oov_tok)\n",
        "tokenizer.fit_on_texts(X_train)\n",
        "word_index = tokenizer.word_index\n",
        "sequences = tokenizer.texts_to_sequences(X_train)\n",
        "padded = pad_sequences(sequences, maxlen=max_length, truncating=trunc_type)\n",
        "\n",
        "testing_sequences = tokenizer.texts_to_sequences(X_test)\n",
        "testing_padded = pad_sequences(testing_sequences, maxlen = max_length)"
      ],
      "execution_count": null,
      "outputs": []
    },
    {
      "cell_type": "code",
      "metadata": {
        "id": "jvl9nAPioO_C"
      },
      "source": [
        "class myCallback(tf.keras.callbacks.Callback):\n",
        "\tdef on_epoch_end(self, epoch, logs={}):\n",
        "\t\tif(logs.get('val_accuracy')>0.85):\n",
        "\t\t\tprint(\"Desired accuracy reached!\")\n",
        "\t\t\tself.model.stop_training=True"
      ],
      "execution_count": null,
      "outputs": []
    },
    {
      "cell_type": "code",
      "metadata": {
        "id": "RjZ8vIaNHUe1"
      },
      "source": [
        "import tensorflow as tf\n",
        "'''\n",
        "For improvement, we optimized this parameters:\n",
        "1. embedding_dim = 50, 100\n",
        "2. max_length = 50, 100\n",
        "3. Bidirectional layer = 16, 32, 64, 128\n",
        "4. Dropout value = 0.1, 0.2, 0.3, 0.5, 0.6\n",
        "5. recurrent_dropout value = 0.2 & 0.3\n",
        "6. Convolutional layer = 32, 64, 128\n",
        "7. Convolutional kernel = 1, 2, 3, 4, 5\n",
        "8. Pooling layer = MaxPooling1D & GlobalMaxPooling1D\n",
        "9. batch_size = 32, 64, 100\n",
        "\n",
        "Selected improvement parameters:\n",
        "1. Embedding_dim = 100\n",
        "2. Max_length = 50\n",
        "3. Dropout value = 0.6\n",
        "4. Convolutional layer = 128\n",
        "5. Convolutional kernel = 2\n",
        "6. Pooling layer = GlobalMaxPooling1D\n",
        "7. batch_size = 64\n",
        "'''\n",
        "\n",
        "'''\n",
        "# Initial Model : Bi-LSTM with Dropout\n",
        "model = tf.keras.Sequential([\n",
        "  tf.keras.layers.Embedding(vocab_size, embedding_dim, input_length=max_length),\n",
        "  tf.keras.layers.Bidirectional(tf.keras.layers.LSTM(128, return_sequences=True)),\n",
        "  tf.keras.layers.Bidirectional(tf.keras.layers.LSTM(64, return_sequences=True)),\n",
        "  tf.keras.layers.Bidirectional(tf.keras.layers.LSTM(32, return_sequences=True)),\n",
        "  tf.keras.layers.Bidirectional(tf.keras.layers.LSTM(16)),\n",
        "  tf.keras.layers.Dropout(0.1),\n",
        "  tf.keras.layers.Dense(32, activation='relu'),\n",
        "  tf.keras.layers.Dense(6, activation='softmax')\n",
        "])\n",
        "'''\n",
        "\n",
        "'''\n",
        "# Improvement : Bi-LSTM with GRU\n",
        "model = tf.keras.Sequential([\n",
        "  tf.keras.layers.Embedding(vocab_size, embedding_dim, input_length=max_length),\n",
        "  tf.keras.layers.Bidirectional(tf.keras.layers.GRU(128, recurrent_dropout=0.2, return_sequences=True)),\n",
        "  tf.keras.layers.Bidirectional(tf.keras.layers.LSTM(64)),\n",
        "  tf.keras.layers.Dense(128, activation='relu'),\n",
        "  tf.keras.layers.Dropout(0.5),\n",
        "  tf.keras.layers.Dense(6, activation='softmax')\n",
        "])\n",
        "'''\n",
        "\n",
        "#Last Improvement : CNN with dropout\n",
        "model = tf.keras.Sequential([\n",
        "  tf.keras.layers.Embedding(vocab_size, embedding_dim, input_length=max_length),\n",
        "  tf.keras.layers.Dropout(0.6),\n",
        "  tf.keras.layers.Conv1D(128, 4, activation='relu',padding='same'),\n",
        "  tf.keras.layers.Dropout(0.6),\n",
        "  tf.keras.layers.GlobalMaxPooling1D(),\n",
        "  tf.keras.layers.Flatten(),\n",
        "  tf.keras.layers.Dropout(0.6),\n",
        "  tf.keras.layers.Dense(64, activation='relu'),\n",
        "  tf.keras.layers.Dense(6, activation='softmax')\n",
        "])"
      ],
      "execution_count": null,
      "outputs": []
    },
    {
      "cell_type": "code",
      "metadata": {
        "id": "bVv4IUpQIu1q",
        "colab": {
          "base_uri": "https://localhost:8080/"
        },
        "outputId": "6babb337-444f-4401-a293-dbb78c2635eb"
      },
      "source": [
        "model.compile(loss='categorical_crossentropy', optimizer='adam', metrics=['accuracy'])\n",
        "model.summary()"
      ],
      "execution_count": null,
      "outputs": [
        {
          "output_type": "stream",
          "text": [
            "Model: \"sequential_3\"\n",
            "_________________________________________________________________\n",
            "Layer (type)                 Output Shape              Param #   \n",
            "=================================================================\n",
            "embedding_3 (Embedding)      (None, 50, 100)           2000000   \n",
            "_________________________________________________________________\n",
            "dropout_9 (Dropout)          (None, 50, 100)           0         \n",
            "_________________________________________________________________\n",
            "conv1d_3 (Conv1D)            (None, 50, 128)           51328     \n",
            "_________________________________________________________________\n",
            "dropout_10 (Dropout)         (None, 50, 128)           0         \n",
            "_________________________________________________________________\n",
            "global_max_pooling1d_3 (Glob (None, 128)               0         \n",
            "_________________________________________________________________\n",
            "flatten_3 (Flatten)          (None, 128)               0         \n",
            "_________________________________________________________________\n",
            "dropout_11 (Dropout)         (None, 128)               0         \n",
            "_________________________________________________________________\n",
            "dense_6 (Dense)              (None, 64)                8256      \n",
            "_________________________________________________________________\n",
            "dense_7 (Dense)              (None, 6)                 390       \n",
            "=================================================================\n",
            "Total params: 2,059,974\n",
            "Trainable params: 2,059,974\n",
            "Non-trainable params: 0\n",
            "_________________________________________________________________\n"
          ],
          "name": "stdout"
        }
      ]
    },
    {
      "cell_type": "code",
      "metadata": {
        "id": "wurt_WmlJLoV",
        "colab": {
          "base_uri": "https://localhost:8080/"
        },
        "outputId": "e5a4cb8d-a67b-4004-f994-8c22ffc83105"
      },
      "source": [
        "num_epochs = 10\n",
        "callbacks = myCallback()\n",
        "history = model.fit(padded, y_train, epochs=num_epochs, validation_data=(testing_padded, y_test), callbacks=[callbacks], batch_size=60)"
      ],
      "execution_count": null,
      "outputs": [
        {
          "output_type": "stream",
          "text": [
            "Epoch 1/10\n",
            "310/310 [==============================] - 7s 21ms/step - loss: 1.6065 - accuracy: 0.3447 - val_loss: 1.5107 - val_accuracy: 0.5530\n",
            "Epoch 2/10\n",
            "310/310 [==============================] - 6s 21ms/step - loss: 1.1262 - accuracy: 0.5867 - val_loss: 1.0357 - val_accuracy: 0.7199\n",
            "Epoch 3/10\n",
            "310/310 [==============================] - 6s 20ms/step - loss: 0.8606 - accuracy: 0.7068 - val_loss: 0.8820 - val_accuracy: 0.7746\n",
            "Epoch 4/10\n",
            "310/310 [==============================] - 6s 20ms/step - loss: 0.7306 - accuracy: 0.7581 - val_loss: 0.8016 - val_accuracy: 0.7799\n",
            "Epoch 5/10\n",
            "310/310 [==============================] - 6s 20ms/step - loss: 0.6523 - accuracy: 0.7902 - val_loss: 0.7755 - val_accuracy: 0.7857\n",
            "Epoch 6/10\n",
            "310/310 [==============================] - 6s 20ms/step - loss: 0.5908 - accuracy: 0.8094 - val_loss: 0.7332 - val_accuracy: 0.7823\n",
            "Epoch 7/10\n",
            "310/310 [==============================] - 6s 20ms/step - loss: 0.5411 - accuracy: 0.8260 - val_loss: 0.7285 - val_accuracy: 0.7804\n",
            "Epoch 8/10\n",
            "310/310 [==============================] - 6s 20ms/step - loss: 0.5108 - accuracy: 0.8376 - val_loss: 0.7274 - val_accuracy: 0.7765\n",
            "Epoch 9/10\n",
            "310/310 [==============================] - 6s 20ms/step - loss: 0.4734 - accuracy: 0.8509 - val_loss: 0.7067 - val_accuracy: 0.7799\n",
            "Epoch 10/10\n",
            "310/310 [==============================] - 6s 20ms/step - loss: 0.4560 - accuracy: 0.8536 - val_loss: 0.7214 - val_accuracy: 0.7779\n"
          ],
          "name": "stdout"
        }
      ]
    },
    {
      "cell_type": "code",
      "metadata": {
        "colab": {
          "base_uri": "https://localhost:8080/",
          "height": 1000
        },
        "id": "K3rIp4m4zzxU",
        "outputId": "25e5d24d-50b6-48e4-923c-dfcc4a5b156e"
      },
      "source": [
        "from keras.utils.vis_utils import plot_model\n",
        "tf.keras.utils.plot_model(model, to_file='model_plot.png', show_shapes=True, show_layer_names=False)"
      ],
      "execution_count": null,
      "outputs": [
        {
          "output_type": "execute_result",
          "data": {
            "image/png": "[encoded data removed]",
            "text/plain": [
              "<IPython.core.display.Image object>"
            ]
          },
          "metadata": {
            "tags": []
          },
          "execution_count": 362
        }
      ]
    },
    {
      "cell_type": "code",
      "metadata": {
        "id": "MX7-ShFPWQZA",
        "colab": {
          "base_uri": "https://localhost:8080/",
          "height": 541
        },
        "outputId": "9402ad33-88e7-4a51-d541-debaf8c3a554"
      },
      "source": [
        "def plot_graphs(history, string):\n",
        "  plt.plot(history.history[string])\n",
        "  plt.plot(history.history['val_'+string])\n",
        "  plt.xlabel(\"Epochs\")\n",
        "  plt.ylabel(string)\n",
        "  plt.legend([string, 'val_'+string])\n",
        "  plt.show()\n",
        "  \n",
        "plot_graphs(history, \"accuracy\")\n",
        "plot_graphs(history, \"loss\")"
      ],
      "execution_count": null,
      "outputs": [
        {
          "output_type": "display_data",
          "data": {
            "image/png": "[encoded data removed]",
            "text/plain": [
              "<Figure size 432x288 with 1 Axes>"
            ]
          },
          "metadata": {
            "tags": [],
            "needs_background": "light"
          }
        },
        {
          "output_type": "display_data",
          "data": {
            "image/png": "[encoded data removed]",
            "text/plain": [
              "<Figure size 432x288 with 1 Axes>"
            ]
          },
          "metadata": {
            "tags": [],
            "needs_background": "light"
          }
        }
      ]
    },
    {
      "cell_type": "code",
      "metadata": {
        "id": "8-1MZgy8L3Dy"
      },
      "source": [
        "text = [\"bos di kantor\"]\n",
        "\n",
        "tokenized_text = tokenizer.texts_to_sequences(text)"
      ],
      "execution_count": null,
      "outputs": []
    },
    {
      "cell_type": "code",
      "metadata": {
        "id": "IExCJvq0Jq0t",
        "colab": {
          "base_uri": "https://localhost:8080/"
        },
        "outputId": "860ef868-3cc5-418c-fefd-17020a609a12"
      },
      "source": [
        "prediction = model.predict(tokenized_text)"
      ],
      "execution_count": null,
      "outputs": [
        {
          "output_type": "stream",
          "text": [
            "WARNING:tensorflow:Model was constructed with shape (None, 50) for input KerasTensor(type_spec=TensorSpec(shape=(None, 50), dtype=tf.float32, name='embedding_20_input'), name='embedding_20_input', description=\"created by layer 'embedding_20_input'\"), but it was called on an input with incompatible shape (None, 3).\n"
          ],
          "name": "stdout"
        }
      ]
    },
    {
      "cell_type": "code",
      "metadata": {
        "id": "BvInsh7AF2eU",
        "colab": {
          "base_uri": "https://localhost:8080/"
        },
        "outputId": "0e14ff7e-d540-4a64-9671-3d1b4d37e6ff"
      },
      "source": [
        "labels = [\"Lokasi Kerja\", \"Lokasi Pendidikan\", \"Lokasi Privat\", \"Lokasi Publik\", \"Netral\", \"Siber\"]\n",
        "predicted = prediction.argmax(axis=1)\n",
        "predict_labels = [labels[predict] for predict in predicted]\n",
        "print(prediction)\n",
        "print(predict_labels)"
      ],
      "execution_count": null,
      "outputs": [
        {
          "output_type": "stream",
          "text": [
            "[[0.85776675 0.07276974 0.00468703 0.04709632 0.01210778 0.00557242]]\n",
            "['Lokasi Kerja']\n"
          ],
          "name": "stdout"
        }
      ]
    },
    {
      "cell_type": "code",
      "metadata": {
        "id": "s0QJEHVuWjrH",
        "colab": {
          "base_uri": "https://localhost:8080/"
        },
        "outputId": "66007c2f-e975-4844-9da6-2213b8a6da1c"
      },
      "source": [
        "#Exporting the Model (TFLITE)\n",
        "export_dir = 'saved_model_post/1'\n",
        "tf.saved_model.save(model, export_dir)"
      ],
      "execution_count": null,
      "outputs": [
        {
          "output_type": "stream",
          "text": [
            "WARNING:tensorflow:FOR KERAS USERS: The object that you are saving contains one or more Keras models or layers. If you are loading the SavedModel with `tf.keras.models.load_model`, continue reading (otherwise, you may ignore the following instructions). Please change your code to save with `tf.keras.models.save_model` or `model.save`, and confirm that the file \"keras.metadata\" exists in the export directory. In the future, Keras will only load the SavedModels that have this file. In other words, `tf.saved_model.save` will no longer write SavedModels that can be recovered as Keras models (this will apply in TF 2.5).\n",
            "\n",
            "FOR DEVS: If you are overwriting _tracking_metadata in your class, this property has been used to save metadata in the SavedModel. The metadta field will be deprecated soon, so please move the metadata to a different file.\n",
            "INFO:tensorflow:Assets written to: saved_model_post/1/assets\n"
          ],
          "name": "stdout"
        }
      ]
    },
    {
      "cell_type": "code",
      "metadata": {
        "id": "ub-ae_4rV6gF"
      },
      "source": [
        "converter = tf.lite.TFLiteConverter.from_saved_model(export_dir)\n",
        "tflite_model = converter.convert()"
      ],
      "execution_count": null,
      "outputs": []
    },
    {
      "cell_type": "code",
      "metadata": {
        "id": "x8WpRsm6XSrl",
        "colab": {
          "base_uri": "https://localhost:8080/"
        },
        "outputId": "667c501a-8fcf-485b-c815-b1c149e88b68"
      },
      "source": [
        "import pathlib\n",
        "\n",
        "tflite_model_post_file = pathlib.Path('/content/modelpost.tflite')\n",
        "tflite_model_post_file.write_bytes(tflite_model)"
      ],
      "execution_count": null,
      "outputs": [
        {
          "output_type": "execute_result",
          "data": {
            "text/plain": [
              "8243728"
            ]
          },
          "metadata": {
            "tags": []
          },
          "execution_count": 287
        }
      ]
    },
    {
      "cell_type": "code",
      "metadata": {
        "id": "TKc0F73VXt_M",
        "colab": {
          "base_uri": "https://localhost:8080/",
          "height": 17
        },
        "outputId": "d66aa243-62fe-4d84-acec-a264d8e55f53"
      },
      "source": [
        "from google.colab import files\n",
        "files.download(tflite_model_post_file)"
      ],
      "execution_count": null,
      "outputs": [
        {
          "output_type": "display_data",
          "data": {
            "application/javascript": [
              "\n",
              "    async function download(id, filename, size) {\n",
              "      if (!google.colab.kernel.accessAllowed) {\n",
              "        return;\n",
              "      }\n",
              "      const div = document.createElement('div');\n",
              "      const label = document.createElement('label');\n",
              "      label.textContent = `Downloading \"${filename}\": `;\n",
              "      div.appendChild(label);\n",
              "      const progress = document.createElement('progress');\n",
              "      progress.max = size;\n",
              "      div.appendChild(progress);\n",
              "      document.body.appendChild(div);\n",
              "\n",
              "      const buffers = [];\n",
              "      let downloaded = 0;\n",
              "\n",
              "      const channel = await google.colab.kernel.comms.open(id);\n",
              "      // Send a message to notify the kernel that we're ready.\n",
              "      channel.send({})\n",
              "\n",
              "      for await (const message of channel.messages) {\n",
              "        // Send a message to notify the kernel that we're ready.\n",
              "        channel.send({})\n",
              "        if (message.buffers) {\n",
              "          for (const buffer of message.buffers) {\n",
              "            buffers.push(buffer);\n",
              "            downloaded += buffer.byteLength;\n",
              "            progress.value = downloaded;\n",
              "          }\n",
              "        }\n",
              "      }\n",
              "      const blob = new Blob(buffers, {type: 'application/binary'});\n",
              "      const a = document.createElement('a');\n",
              "      a.href = window.URL.createObjectURL(blob);\n",
              "      a.download = filename;\n",
              "      div.appendChild(a);\n",
              "      a.click();\n",
              "      div.remove();\n",
              "    }\n",
              "  "
            ],
            "text/plain": [
              "<IPython.core.display.Javascript object>"
            ]
          },
          "metadata": {
            "tags": []
          }
        },
        {
          "output_type": "display_data",
          "data": {
            "application/javascript": [
              "download(\"download_8a321d68-6104-45ea-8e6c-1cd543c0e8db\", \"modelpost.tflite\", 8243728)"
            ],
            "text/plain": [
              "<IPython.core.display.Javascript object>"
            ]
          },
          "metadata": {
            "tags": []
          }
        }
      ]
    },
    {
      "cell_type": "code",
      "metadata": {
        "id": "wLWPD0JdTeBP"
      },
      "source": [
        "#Exporting the Tokenized Word\n",
        "import json\n",
        "\n",
        "with open( 'word_dict_post.json' , 'w' ) as file:\n",
        "    json.dump( tokenizer.word_index , file )"
      ],
      "execution_count": null,
      "outputs": []
    },
    {
      "cell_type": "markdown",
      "metadata": {
        "id": "8bFn2RKfuSzS"
      },
      "source": [
        "#Translate the Dataset (Laporan)"
      ]
    },
    {
      "cell_type": "code",
      "metadata": {
        "id": "KkoY7wQZuYlQ",
        "colab": {
          "base_uri": "https://localhost:8080/",
          "height": 195
        },
        "outputId": "d10d8945-793b-446b-8341-832af6efc558"
      },
      "source": [
        "#Import Labelled Laporan Dataset\n",
        "url_laporan = 'https://drive.google.com/file/d/1fljXpb0LSiSelHDJLaEDt7rw0e2_ZcoY/view?usp=sharing'\n",
        "file_id_laporan = url_laporan.split('/')[-2]\n",
        "csv_url_laporan = 'https://drive.google.com/uc?id=' + file_id_laporan\n",
        "df_laporan = pd.read_csv(csv_url_laporan)\n",
        "df_laporan.head()"
      ],
      "execution_count": null,
      "outputs": [
        {
          "output_type": "execute_result",
          "data": {
            "text/html": [
              "<div>\n",
              "<style scoped>\n",
              "    .dataframe tbody tr th:only-of-type {\n",
              "        vertical-align: middle;\n",
              "    }\n",
              "\n",
              "    .dataframe tbody tr th {\n",
              "        vertical-align: top;\n",
              "    }\n",
              "\n",
              "    .dataframe thead th {\n",
              "        text-align: right;\n",
              "    }\n",
              "</style>\n",
              "<table border=\"1\" class=\"dataframe\">\n",
              "  <thead>\n",
              "    <tr style=\"text-align: right;\">\n",
              "      <th></th>\n",
              "      <th>text</th>\n",
              "      <th>label</th>\n",
              "      <th>index</th>\n",
              "    </tr>\n",
              "  </thead>\n",
              "  <tbody>\n",
              "    <tr>\n",
              "      <th>0</th>\n",
              "      <td>the ironies of the movement are too painfully ...</td>\n",
              "      <td>Kekerasan Psikis</td>\n",
              "      <td>0</td>\n",
              "    </tr>\n",
              "    <tr>\n",
              "      <th>1</th>\n",
              "      <td>women in kuwait have launched a social media c...</td>\n",
              "      <td>Kekerasan Psikis</td>\n",
              "      <td>1</td>\n",
              "    </tr>\n",
              "    <tr>\n",
              "      <th>2</th>\n",
              "      <td>triger warning raising awareness of sexual ass...</td>\n",
              "      <td>Penelantaran</td>\n",
              "      <td>2</td>\n",
              "    </tr>\n",
              "    <tr>\n",
              "      <th>3</th>\n",
              "      <td>charges brought against the guy that smacked m...</td>\n",
              "      <td>Kekerasan Fisik</td>\n",
              "      <td>3</td>\n",
              "    </tr>\n",
              "    <tr>\n",
              "      <th>4</th>\n",
              "      <td>and the fourth presenter on th may is hannah b...</td>\n",
              "      <td>Kekerasan Lainnya</td>\n",
              "      <td>4</td>\n",
              "    </tr>\n",
              "  </tbody>\n",
              "</table>\n",
              "</div>"
            ],
            "text/plain": [
              "                                                text              label  index\n",
              "0  the ironies of the movement are too painfully ...   Kekerasan Psikis      0\n",
              "1  women in kuwait have launched a social media c...   Kekerasan Psikis      1\n",
              "2  triger warning raising awareness of sexual ass...       Penelantaran      2\n",
              "3  charges brought against the guy that smacked m...    Kekerasan Fisik      3\n",
              "4  and the fourth presenter on th may is hannah b...  Kekerasan Lainnya      4"
            ]
          },
          "metadata": {
            "tags": []
          },
          "execution_count": 5
        }
      ]
    },
    {
      "cell_type": "code",
      "metadata": {
        "id": "VhKKFRj_uyVb",
        "colab": {
          "base_uri": "https://localhost:8080/"
        },
        "outputId": "b56751f5-7d77-4387-c223-251b703c165a"
      },
      "source": [
        "#Warning! It's not free, please think several times before running this cell below\n",
        "#Enter the API Key\n",
        "import getpass\n",
        "\n",
        "APIKEY = getpass.getpass()"
      ],
      "execution_count": null,
      "outputs": [
        {
          "output_type": "stream",
          "text": [
            "··········\n"
          ],
          "name": "stdout"
        }
      ]
    },
    {
      "cell_type": "code",
      "metadata": {
        "id": "uM_G6u27vAgY"
      },
      "source": [
        "#Warning! It's also not free, please think several times before running this cell below\n",
        "#Running Translate API\n",
        "from googleapiclient.discovery import build\n",
        "service = build('translate', 'v2', developerKey=APIKEY)\n",
        "\n",
        "df_laporan['indo_text'] = df_laporan['text'].apply(lambda x: (service.translations().list(source='en', target='id', q=x).execute())).apply(lambda x: x['translations']).apply(lambda x: x[0]).apply(lambda x: x['translatedText'])"
      ],
      "execution_count": null,
      "outputs": []
    },
    {
      "cell_type": "code",
      "metadata": {
        "id": "6T8Q4cSuvGKr",
        "colab": {
          "base_uri": "https://localhost:8080/"
        },
        "outputId": "f5d60f1e-7c42-41b7-c721-4ab8e6161898"
      },
      "source": [
        "#Show the first 50 data in the dataset\n",
        "df_laporan['indo_text'].head(50)"
      ],
      "execution_count": null,
      "outputs": [
        {
          "output_type": "execute_result",
          "data": {
            "text/plain": [
              "0     ironi gerakan ini terlalu menyakitkan dan jela...\n",
              "1     wanita di kuwait telah meluncurkan kampanye me...\n",
              "2     peringatan triger meningkatkan kesadaran akan ...\n",
              "3     tuduhan yang diajukan terhadap pria yang memuk...\n",
              "4     dan presenter keempat pada bulan Mei adalah ma...\n",
              "5     Ini sangat kacau, adakah pria di mata publik, ...\n",
              "6     untuk mengatasi epidemi kekerasan laki-laki te...\n",
              "7     Ada serangkaian tuduhan pelecehan baru terhada...\n",
              "8     ingin melihat seperti apa gerakan para wanita ...\n",
              "9     siswa perempuan tidak ingin berhubungan seks d...\n",
              "10    ketika kita berbicara tentang dan kekerasan, k...\n",
              "11    mengambil jutaan tahun lalu di nih dana nih ma...\n",
              "12    bantu siswa Anda untuk memerangi pelecehan men...\n",
              "13    Saya masih ingin berbicara dengan wanita penya...\n",
              "14    glenn greenwald tidak suka gerakan mendukung m...\n",
              "15    untuk lebih lanjut tentang topik ini bergabung...\n",
              "16    apa hubungan gerakan itu dengan pembunuhan ma ...\n",
              "17    opini terbaru dari dan cuomo membutuhkan waktu...\n",
              "18    tidak tahu siapa orang tolol misoginis greewal...\n",
              "19    Morrison percaya desas-desus tentang beberapa ...\n",
              "20    Untuk mengatasi epidemi kekerasan laki-laki te...\n",
              "21    ketika kita berbicara tentang dan kekerasan ki...\n",
              "22      kapan kekerasan dan kebencian ini akan berhenti\n",
              "23    anestesi melindungi predator seksual yang dike...\n",
              "24    terima kasih atas kebijaksanaan dan wawasan lu...\n",
              "25    beberapa incel di tiktok dijuluki sebagai hari...\n",
              "26                          apa yang sebenarnya berubah\n",
              "27                                 pembalasan pelecehan\n",
              "28    melihat ke depan obrolan panel hari ini tentan...\n",
              "29                    bd ini jika tidak membicarakannya\n",
              "30    ini adalah anak yang lahir sebagai akibat dari...\n",
              "31    Acara budaya baru memperhitungkan kekerasan ge...\n",
              "32    Ekor amukan bukit anita membuat kami kembali k...\n",
              "33    oh tidak, itu buruk, bisakah Anda menautkan ut...\n",
              "34                             ternyata selama ini gary\n",
              "35    sejak aku memamerkan jiwaku dan melompati ling...\n",
              "36    kepada semua korban pelecehan, tidak ada kata ...\n",
              "37    militer mengklaim bahwa mereka mengambil tinda...\n",
              "38    kami secara pribadi percaya bahwa korban dari ...\n",
              "39       chad s an ex con mencoba untuk memulai kembali\n",
              "40    kami secara pribadi percaya bahwa korban dari ...\n",
              "41    dan para demokrat masih gagal karena menyia-ny...\n",
              "42    tw kekerasan seksual membaca mengakui pemerkos...\n",
              "43    wanita muda tidak berpikir itu keren apa yang ...\n",
              "44    perkuat beragam perspektif dan cerita dengan j...\n",
              "45    benar-benar menakjubkan melihat berdiri untuk ...\n",
              "46                 memeluk permainan yang diperlukan di\n",
              "47    mungkin dia takut dia akan terkena jika tangan...\n",
              "48    Sial di mana r wisconsin sekolah Katolik guru ...\n",
              "49    dia juga memiliki aplikasi ini di ponselnya ya...\n",
              "Name: indo_text, dtype: object"
            ]
          },
          "metadata": {
            "tags": []
          },
          "execution_count": 9
        }
      ]
    },
    {
      "cell_type": "code",
      "metadata": {
        "id": "xhp9SEbBvKzT"
      },
      "source": [
        "#Convert the text into lowercase\n",
        "df_laporan['indo_text'] = df_laporan['indo_text'].str.lower()"
      ],
      "execution_count": null,
      "outputs": []
    },
    {
      "cell_type": "code",
      "metadata": {
        "id": "Ua4gOjBKvOvG"
      },
      "source": [
        "#Save DataFrame to CSV\n",
        "df_laporan.to_csv(\"capstonetweetlaporantranslated.csv\", index=False)"
      ],
      "execution_count": null,
      "outputs": []
    },
    {
      "cell_type": "markdown",
      "metadata": {
        "id": "lU6KdkzF6Idy"
      },
      "source": [
        "#Applying Stopwords and Stemmer (Laporan)"
      ]
    },
    {
      "cell_type": "code",
      "metadata": {
        "id": "iz3E2FA508sj",
        "colab": {
          "base_uri": "https://localhost:8080/",
          "height": 195
        },
        "outputId": "97a48326-3a35-4d4c-e48a-cdb8aa883549"
      },
      "source": [
        "#Import Translated Laporan Dataset\n",
        "url_laporan = 'https://drive.google.com/file/d/194Eo3N7FpEZBAHooCB7alzKQg_hvn31p/view?usp=sharing'\n",
        "file_id_laporan = url_laporan.split('/')[-2]\n",
        "csv_url_laporan = 'https://drive.google.com/uc?id=' + file_id_laporan\n",
        "df_laporan = pd.read_csv(csv_url_laporan)\n",
        "df_laporan.head()"
      ],
      "execution_count": null,
      "outputs": [
        {
          "output_type": "execute_result",
          "data": {
            "text/html": [
              "<div>\n",
              "<style scoped>\n",
              "    .dataframe tbody tr th:only-of-type {\n",
              "        vertical-align: middle;\n",
              "    }\n",
              "\n",
              "    .dataframe tbody tr th {\n",
              "        vertical-align: top;\n",
              "    }\n",
              "\n",
              "    .dataframe thead th {\n",
              "        text-align: right;\n",
              "    }\n",
              "</style>\n",
              "<table border=\"1\" class=\"dataframe\">\n",
              "  <thead>\n",
              "    <tr style=\"text-align: right;\">\n",
              "      <th></th>\n",
              "      <th>text</th>\n",
              "      <th>label</th>\n",
              "      <th>index</th>\n",
              "      <th>indo_text</th>\n",
              "    </tr>\n",
              "  </thead>\n",
              "  <tbody>\n",
              "    <tr>\n",
              "      <th>0</th>\n",
              "      <td>the ironies of the movement are too painfully ...</td>\n",
              "      <td>Kekerasan Psikis</td>\n",
              "      <td>0</td>\n",
              "      <td>ironi gerakan ini terlalu menyakitkan dan jela...</td>\n",
              "    </tr>\n",
              "    <tr>\n",
              "      <th>1</th>\n",
              "      <td>women in kuwait have launched a social media c...</td>\n",
              "      <td>Kekerasan Psikis</td>\n",
              "      <td>1</td>\n",
              "      <td>wanita di kuwait telah meluncurkan kampanye me...</td>\n",
              "    </tr>\n",
              "    <tr>\n",
              "      <th>2</th>\n",
              "      <td>triger warning raising awareness of sexual ass...</td>\n",
              "      <td>Penelantaran</td>\n",
              "      <td>2</td>\n",
              "      <td>peringatan triger meningkatkan kesadaran akan ...</td>\n",
              "    </tr>\n",
              "    <tr>\n",
              "      <th>3</th>\n",
              "      <td>charges brought against the guy that smacked m...</td>\n",
              "      <td>Kekerasan Fisik</td>\n",
              "      <td>3</td>\n",
              "      <td>tuduhan yang diajukan terhadap pria yang memuk...</td>\n",
              "    </tr>\n",
              "    <tr>\n",
              "      <th>4</th>\n",
              "      <td>and the fourth presenter on th may is hannah b...</td>\n",
              "      <td>Kekerasan Lainnya</td>\n",
              "      <td>4</td>\n",
              "      <td>dan presenter keempat pada bulan mei adalah ma...</td>\n",
              "    </tr>\n",
              "  </tbody>\n",
              "</table>\n",
              "</div>"
            ],
            "text/plain": [
              "                                                text  ...                                          indo_text\n",
              "0  the ironies of the movement are too painfully ...  ...  ironi gerakan ini terlalu menyakitkan dan jela...\n",
              "1  women in kuwait have launched a social media c...  ...  wanita di kuwait telah meluncurkan kampanye me...\n",
              "2  triger warning raising awareness of sexual ass...  ...  peringatan triger meningkatkan kesadaran akan ...\n",
              "3  charges brought against the guy that smacked m...  ...  tuduhan yang diajukan terhadap pria yang memuk...\n",
              "4  and the fourth presenter on th may is hannah b...  ...  dan presenter keempat pada bulan mei adalah ma...\n",
              "\n",
              "[5 rows x 4 columns]"
            ]
          },
          "metadata": {
            "tags": []
          },
          "execution_count": 50
        }
      ]
    },
    {
      "cell_type": "code",
      "metadata": {
        "colab": {
          "base_uri": "https://localhost:8080/",
          "height": 195
        },
        "id": "Ps1JabglWvGo",
        "outputId": "0181937e-d649-433d-9f0e-5dc8a438749c"
      },
      "source": [
        "#Import Translated Additional Dataset\n",
        "url_add = 'https://drive.google.com/file/d/1Sb1t9O3Y09SuAz4buHLlf4qa9HrOimJi/view?usp=sharing'\n",
        "file_id_add = url_add.split('/')[-2]\n",
        "csv_url_add = 'https://drive.google.com/uc?id=' + file_id_add\n",
        "df_add = pd.read_csv(csv_url_add)\n",
        "df_add.drop(columns=['label_post'], inplace=True)\n",
        "df_add.rename(columns={'label_laporan': 'label'}, inplace = True)\n",
        "df_add.head()"
      ],
      "execution_count": null,
      "outputs": [
        {
          "output_type": "execute_result",
          "data": {
            "text/html": [
              "<div>\n",
              "<style scoped>\n",
              "    .dataframe tbody tr th:only-of-type {\n",
              "        vertical-align: middle;\n",
              "    }\n",
              "\n",
              "    .dataframe tbody tr th {\n",
              "        vertical-align: top;\n",
              "    }\n",
              "\n",
              "    .dataframe thead th {\n",
              "        text-align: right;\n",
              "    }\n",
              "</style>\n",
              "<table border=\"1\" class=\"dataframe\">\n",
              "  <thead>\n",
              "    <tr style=\"text-align: right;\">\n",
              "      <th></th>\n",
              "      <th>index</th>\n",
              "      <th>text</th>\n",
              "      <th>label</th>\n",
              "      <th>indo_text</th>\n",
              "    </tr>\n",
              "  </thead>\n",
              "  <tbody>\n",
              "    <tr>\n",
              "      <th>0</th>\n",
              "      <td>0</td>\n",
              "      <td>x</td>\n",
              "      <td>Kekerasan Lainnya</td>\n",
              "      <td>x</td>\n",
              "    </tr>\n",
              "    <tr>\n",
              "      <th>1</th>\n",
              "      <td>1</td>\n",
              "      <td>on how the other accused were doing after that...</td>\n",
              "      <td>Kekerasan Lainnya</td>\n",
              "      <td>tentang apa yang dilakukan terdakwa lainnya se...</td>\n",
              "    </tr>\n",
              "    <tr>\n",
              "      <th>2</th>\n",
              "      <td>2</td>\n",
              "      <td>in the five years since black women have emerg...</td>\n",
              "      <td>Eksploitasi</td>\n",
              "      <td>dalam lima tahun sejak perempuan kulit hitam m...</td>\n",
              "    </tr>\n",
              "    <tr>\n",
              "      <th>3</th>\n",
              "      <td>3</td>\n",
              "      <td>discussed the movement and how to deal with tr...</td>\n",
              "      <td>Kekerasan Lainnya</td>\n",
              "      <td>membahas pergerakan dan cara mengatasi trauma ...</td>\n",
              "    </tr>\n",
              "    <tr>\n",
              "      <th>4</th>\n",
              "      <td>4</td>\n",
              "      <td>charlie hanson publicly supported and spoke ou...</td>\n",
              "      <td>Kekerasan Lainnya</td>\n",
              "      <td>charlie hanson secara terbuka mendukung dan be...</td>\n",
              "    </tr>\n",
              "  </tbody>\n",
              "</table>\n",
              "</div>"
            ],
            "text/plain": [
              "   index  ...                                          indo_text\n",
              "0      0  ...                                                  x\n",
              "1      1  ...  tentang apa yang dilakukan terdakwa lainnya se...\n",
              "2      2  ...  dalam lima tahun sejak perempuan kulit hitam m...\n",
              "3      3  ...  membahas pergerakan dan cara mengatasi trauma ...\n",
              "4      4  ...  charlie hanson secara terbuka mendukung dan be...\n",
              "\n",
              "[5 rows x 4 columns]"
            ]
          },
          "metadata": {
            "tags": []
          },
          "execution_count": 51
        }
      ]
    },
    {
      "cell_type": "code",
      "metadata": {
        "id": "HsiD4-oWWx_y"
      },
      "source": [
        "#Combine 2 datasets\n",
        "df_laporan = pd.concat([df_laporan, df_add])"
      ],
      "execution_count": null,
      "outputs": []
    },
    {
      "cell_type": "code",
      "metadata": {
        "id": "FNVQeVltW1Tq"
      },
      "source": [
        "#Drop duplicates row\n",
        "df_laporan.drop_duplicates(subset=['text'], inplace=True)"
      ],
      "execution_count": null,
      "outputs": []
    },
    {
      "cell_type": "code",
      "metadata": {
        "colab": {
          "base_uri": "https://localhost:8080/"
        },
        "id": "GyJumIY0W7Or",
        "outputId": "60a977d8-dbdb-4412-a4fe-09e6286b31cc"
      },
      "source": [
        "df_laporan['label'].value_counts()"
      ],
      "execution_count": null,
      "outputs": [
        {
          "output_type": "execute_result",
          "data": {
            "text/plain": [
              "Kekerasan Lainnya      9990\n",
              "Kekerasan Fisik        2244\n",
              "Kekerasan Seksual      2200\n",
              "Kekerasan Psikis       2090\n",
              "Eksploitasi Seksual    1443\n",
              "Penelantaran           1373\n",
              "Eksploitasi            1058\n",
              "Name: label, dtype: int64"
            ]
          },
          "metadata": {
            "tags": []
          },
          "execution_count": 54
        }
      ]
    },
    {
      "cell_type": "code",
      "metadata": {
        "id": "PuZhJJF26kAW"
      },
      "source": [
        "df_laporan['text'] = df_laporan['indo_text']\n",
        "df_laporan = df_laporan.drop(['indo_text'], axis=1)"
      ],
      "execution_count": null,
      "outputs": []
    },
    {
      "cell_type": "code",
      "metadata": {
        "id": "hg47591L6qbY",
        "colab": {
          "base_uri": "https://localhost:8080/"
        },
        "outputId": "68415a53-49f8-4782-cf59-960e071577a7"
      },
      "source": [
        "df_laporan['text']"
      ],
      "execution_count": null,
      "outputs": [
        {
          "output_type": "execute_result",
          "data": {
            "text/plain": [
              "0       ironi gerakan ini terlalu menyakitkan dan jela...\n",
              "1       wanita di kuwait telah meluncurkan kampanye me...\n",
              "2       peringatan triger meningkatkan kesadaran akan ...\n",
              "3       tuduhan yang diajukan terhadap pria yang memuk...\n",
              "4       dan presenter keempat pada bulan mei adalah ma...\n",
              "                              ...                        \n",
              "3961                                     khusus kasus dan\n",
              "3963    wanita yang menyusun surat perlindungan saya m...\n",
              "3964    daftar di bookmad yang disorot untuk keinginan...\n",
              "3965    mereka mencoba melakukan pr untuknya pada kita...\n",
              "3966    saya terkadang bertanya-tanya apakah saya tahu...\n",
              "Name: text, Length: 20398, dtype: object"
            ]
          },
          "metadata": {
            "tags": []
          },
          "execution_count": 56
        }
      ]
    },
    {
      "cell_type": "code",
      "metadata": {
        "id": "RxfZsbbg6sbb"
      },
      "source": [
        "#Remove Stopwords from Texts\n",
        "stopwordFactory = StopWordRemoverFactory()\n",
        "stopword = stopwordFactory.create_stop_word_remover()\n",
        "\n",
        "df_laporan['text'] = df_laporan['text'].apply(lambda x: stopword.remove(x))"
      ],
      "execution_count": null,
      "outputs": []
    },
    {
      "cell_type": "code",
      "metadata": {
        "id": "i3_zn30v6ztE",
        "colab": {
          "base_uri": "https://localhost:8080/"
        },
        "outputId": "d3d24ee9-237d-4e4a-ffcf-14bb2d1fce28"
      },
      "source": [
        "df_laporan['text']"
      ],
      "execution_count": null,
      "outputs": [
        {
          "output_type": "execute_result",
          "data": {
            "text/plain": [
              "0       ironi gerakan terlalu menyakitkan jelas dipelo...\n",
              "1       wanita kuwait meluncurkan kampanye media sosia...\n",
              "2       peringatan triger meningkatkan kesadaran pelec...\n",
              "3       tuduhan diajukan pria memukul serangan seksual...\n",
              "4       presenter keempat bulan mei mahasiswi phd hann...\n",
              "                              ...                        \n",
              "3961                                         khusus kasus\n",
              "3963    wanita menyusun surat perlindungan melindungi ...\n",
              "3964    daftar bookmad disorot keinginan membara buku ...\n",
              "3965    mencoba melakukan pr untuknya kita bagaimana k...\n",
              "3966    terkadang bertanya-tanya tahu siapa pemerkosa ...\n",
              "Name: text, Length: 20398, dtype: object"
            ]
          },
          "metadata": {
            "tags": []
          },
          "execution_count": 58
        }
      ]
    },
    {
      "cell_type": "code",
      "metadata": {
        "id": "gK-dvIIs61fc"
      },
      "source": [
        "#Stem the Texts (Removing Prefix and Suffix)\n",
        "stemmerFactory = StemmerFactory()\n",
        "stemmer = stemmerFactory.create_stemmer()\n",
        "\n",
        "df_laporan['text'] = df_laporan['text'].apply(lambda x: stemmer.stem(x))"
      ],
      "execution_count": null,
      "outputs": []
    },
    {
      "cell_type": "code",
      "metadata": {
        "id": "o5oruZ3m6_Um",
        "colab": {
          "base_uri": "https://localhost:8080/"
        },
        "outputId": "a5d0405c-2578-42a9-bf3e-de2fbb535527"
      },
      "source": [
        "df_laporan['text']"
      ],
      "execution_count": null,
      "outputs": [
        {
          "output_type": "execute_result",
          "data": {
            "text/plain": [
              "0       ironi gera terlalu sakit jelas lopor aktris ho...\n",
              "1       wanita kuwait luncur kampanye media sosial man...\n",
              "2       ingat triger tingkat sadar leceh seksual keras...\n",
              "3       tuduh aju pria pukul serang seksual persetan b...\n",
              "4       presenter empat bulan mei mahasiswi phd hannah...\n",
              "                              ...                        \n",
              "3961                                         khusus kasus\n",
              "3963    wanita susun surat lindung lindung ip litigasi...\n",
              "3964    daftar bookmad sorot ingin bara buku tampil ed...\n",
              "3965    coba laku pr untuk kita bagaimana korban leceh...\n",
              "3966    terkadang tanya tahu siapa perkosa saya orang ...\n",
              "Name: text, Length: 20398, dtype: object"
            ]
          },
          "metadata": {
            "tags": []
          },
          "execution_count": 60
        }
      ]
    },
    {
      "cell_type": "code",
      "metadata": {
        "id": "yNo7c4P87C-X"
      },
      "source": [
        "#Save DataFrame to CSV\n",
        "df_laporan.to_csv(\"capstonetweetlaporanstemmed.csv\", index=False)"
      ],
      "execution_count": null,
      "outputs": []
    },
    {
      "cell_type": "markdown",
      "metadata": {
        "id": "YJBCFG1Q9FHg"
      },
      "source": [
        "#Modelling (Laporan)"
      ]
    },
    {
      "cell_type": "code",
      "metadata": {
        "colab": {
          "base_uri": "https://localhost:8080/",
          "height": 197
        },
        "id": "eHmdKTSb9IOH",
        "outputId": "f0e6c5d1-5d1a-4f6d-e84c-9060f37c70b5"
      },
      "source": [
        "#Import Stemmed Dataset\n",
        "url_laporan = 'https://drive.google.com/file/d/1giOYuhX--ZGn2ITxbaaxH_LWbAP0DTcu/view?usp=sharing'\n",
        "file_id_laporan = url_laporan.split('/')[-2]\n",
        "csv_url_laporan = 'https://drive.google.com/uc?id=' + file_id_laporan\n",
        "df_laporan = pd.read_csv(csv_url_laporan)\n",
        "df_laporan.head()"
      ],
      "execution_count": null,
      "outputs": [
        {
          "output_type": "execute_result",
          "data": {
            "text/html": [
              "<div>\n",
              "<style scoped>\n",
              "    .dataframe tbody tr th:only-of-type {\n",
              "        vertical-align: middle;\n",
              "    }\n",
              "\n",
              "    .dataframe tbody tr th {\n",
              "        vertical-align: top;\n",
              "    }\n",
              "\n",
              "    .dataframe thead th {\n",
              "        text-align: right;\n",
              "    }\n",
              "</style>\n",
              "<table border=\"1\" class=\"dataframe\">\n",
              "  <thead>\n",
              "    <tr style=\"text-align: right;\">\n",
              "      <th></th>\n",
              "      <th>text</th>\n",
              "      <th>label</th>\n",
              "      <th>index</th>\n",
              "    </tr>\n",
              "  </thead>\n",
              "  <tbody>\n",
              "    <tr>\n",
              "      <th>0</th>\n",
              "      <td>ironi gera terlalu sakit jelas lopor aktris ho...</td>\n",
              "      <td>Kekerasan Psikis</td>\n",
              "      <td>0</td>\n",
              "    </tr>\n",
              "    <tr>\n",
              "      <th>1</th>\n",
              "      <td>wanita kuwait luncur kampanye media sosial man...</td>\n",
              "      <td>Kekerasan Psikis</td>\n",
              "      <td>1</td>\n",
              "    </tr>\n",
              "    <tr>\n",
              "      <th>2</th>\n",
              "      <td>ingat triger tingkat sadar leceh seksual keras...</td>\n",
              "      <td>Penelantaran</td>\n",
              "      <td>2</td>\n",
              "    </tr>\n",
              "    <tr>\n",
              "      <th>3</th>\n",
              "      <td>tuduh aju pria pukul serang seksual persetan b...</td>\n",
              "      <td>Kekerasan Fisik</td>\n",
              "      <td>3</td>\n",
              "    </tr>\n",
              "    <tr>\n",
              "      <th>4</th>\n",
              "      <td>presenter empat bulan mei mahasiswi phd hannah...</td>\n",
              "      <td>Kekerasan Lainnya</td>\n",
              "      <td>4</td>\n",
              "    </tr>\n",
              "  </tbody>\n",
              "</table>\n",
              "</div>"
            ],
            "text/plain": [
              "                                                text              label  index\n",
              "0  ironi gera terlalu sakit jelas lopor aktris ho...   Kekerasan Psikis      0\n",
              "1  wanita kuwait luncur kampanye media sosial man...   Kekerasan Psikis      1\n",
              "2  ingat triger tingkat sadar leceh seksual keras...       Penelantaran      2\n",
              "3  tuduh aju pria pukul serang seksual persetan b...    Kekerasan Fisik      3\n",
              "4  presenter empat bulan mei mahasiswi phd hannah...  Kekerasan Lainnya      4"
            ]
          },
          "metadata": {
            "tags": []
          },
          "execution_count": 5
        }
      ]
    },
    {
      "cell_type": "code",
      "metadata": {
        "colab": {
          "base_uri": "https://localhost:8080/"
        },
        "id": "BLDlIsda9gPI",
        "outputId": "48b7dce1-19fb-450e-bf49-973c2a8c8496"
      },
      "source": [
        "df_laporan['text']"
      ],
      "execution_count": null,
      "outputs": [
        {
          "output_type": "execute_result",
          "data": {
            "text/plain": [
              "0        ironi gera terlalu sakit jelas lopor aktris ho...\n",
              "1        wanita kuwait luncur kampanye media sosial man...\n",
              "2        ingat triger tingkat sadar leceh seksual keras...\n",
              "3        tuduh aju pria pukul serang seksual persetan b...\n",
              "4        presenter empat bulan mei mahasiswi phd hannah...\n",
              "                               ...                        \n",
              "20393                                         khusus kasus\n",
              "20394    wanita susun surat lindung lindung ip litigasi...\n",
              "20395    daftar bookmad sorot ingin bara buku tampil ed...\n",
              "20396    coba laku pr untuk kita bagaimana korban leceh...\n",
              "20397    terkadang tanya tahu siapa perkosa saya orang ...\n",
              "Name: text, Length: 20398, dtype: object"
            ]
          },
          "metadata": {
            "tags": []
          },
          "execution_count": 6
        }
      ]
    },
    {
      "cell_type": "code",
      "metadata": {
        "colab": {
          "base_uri": "https://localhost:8080/"
        },
        "id": "B7UhmrteLHY2",
        "outputId": "2d153f76-137f-4184-f5e1-bb1242bb41db"
      },
      "source": [
        "df_laporan['label'].value_counts()"
      ],
      "execution_count": null,
      "outputs": [
        {
          "output_type": "execute_result",
          "data": {
            "text/plain": [
              "Kekerasan Lainnya      9990\n",
              "Kekerasan Fisik        2244\n",
              "Kekerasan Seksual      2200\n",
              "Kekerasan Psikis       2090\n",
              "Eksploitasi Seksual    1443\n",
              "Penelantaran           1373\n",
              "Eksploitasi            1058\n",
              "Name: label, dtype: int64"
            ]
          },
          "metadata": {
            "tags": []
          },
          "execution_count": 7
        }
      ]
    },
    {
      "cell_type": "code",
      "metadata": {
        "id": "k_w0orKj9u9v"
      },
      "source": [
        "labels = pd.get_dummies(df_laporan.label)"
      ],
      "execution_count": null,
      "outputs": []
    },
    {
      "cell_type": "code",
      "metadata": {
        "id": "hKJU9kYB9xWG"
      },
      "source": [
        "df_new_laporan = pd.concat([df_laporan, labels], axis=1)"
      ],
      "execution_count": null,
      "outputs": []
    },
    {
      "cell_type": "code",
      "metadata": {
        "colab": {
          "base_uri": "https://localhost:8080/",
          "height": 197
        },
        "id": "ySzm4Sz-901e",
        "outputId": "09da11ed-74ab-4f32-f731-58477ab48e07"
      },
      "source": [
        "df_new_laporan.head()"
      ],
      "execution_count": null,
      "outputs": [
        {
          "output_type": "execute_result",
          "data": {
            "text/html": [
              "<div>\n",
              "<style scoped>\n",
              "    .dataframe tbody tr th:only-of-type {\n",
              "        vertical-align: middle;\n",
              "    }\n",
              "\n",
              "    .dataframe tbody tr th {\n",
              "        vertical-align: top;\n",
              "    }\n",
              "\n",
              "    .dataframe thead th {\n",
              "        text-align: right;\n",
              "    }\n",
              "</style>\n",
              "<table border=\"1\" class=\"dataframe\">\n",
              "  <thead>\n",
              "    <tr style=\"text-align: right;\">\n",
              "      <th></th>\n",
              "      <th>text</th>\n",
              "      <th>label</th>\n",
              "      <th>index</th>\n",
              "      <th>Eksploitasi</th>\n",
              "      <th>Eksploitasi Seksual</th>\n",
              "      <th>Kekerasan Fisik</th>\n",
              "      <th>Kekerasan Lainnya</th>\n",
              "      <th>Kekerasan Psikis</th>\n",
              "      <th>Kekerasan Seksual</th>\n",
              "      <th>Penelantaran</th>\n",
              "    </tr>\n",
              "  </thead>\n",
              "  <tbody>\n",
              "    <tr>\n",
              "      <th>0</th>\n",
              "      <td>ironi gera terlalu sakit jelas lopor aktris ho...</td>\n",
              "      <td>Kekerasan Psikis</td>\n",
              "      <td>0</td>\n",
              "      <td>0</td>\n",
              "      <td>0</td>\n",
              "      <td>0</td>\n",
              "      <td>0</td>\n",
              "      <td>1</td>\n",
              "      <td>0</td>\n",
              "      <td>0</td>\n",
              "    </tr>\n",
              "    <tr>\n",
              "      <th>1</th>\n",
              "      <td>wanita kuwait luncur kampanye media sosial man...</td>\n",
              "      <td>Kekerasan Psikis</td>\n",
              "      <td>1</td>\n",
              "      <td>0</td>\n",
              "      <td>0</td>\n",
              "      <td>0</td>\n",
              "      <td>0</td>\n",
              "      <td>1</td>\n",
              "      <td>0</td>\n",
              "      <td>0</td>\n",
              "    </tr>\n",
              "    <tr>\n",
              "      <th>2</th>\n",
              "      <td>ingat triger tingkat sadar leceh seksual keras...</td>\n",
              "      <td>Penelantaran</td>\n",
              "      <td>2</td>\n",
              "      <td>0</td>\n",
              "      <td>0</td>\n",
              "      <td>0</td>\n",
              "      <td>0</td>\n",
              "      <td>0</td>\n",
              "      <td>0</td>\n",
              "      <td>1</td>\n",
              "    </tr>\n",
              "    <tr>\n",
              "      <th>3</th>\n",
              "      <td>tuduh aju pria pukul serang seksual persetan b...</td>\n",
              "      <td>Kekerasan Fisik</td>\n",
              "      <td>3</td>\n",
              "      <td>0</td>\n",
              "      <td>0</td>\n",
              "      <td>1</td>\n",
              "      <td>0</td>\n",
              "      <td>0</td>\n",
              "      <td>0</td>\n",
              "      <td>0</td>\n",
              "    </tr>\n",
              "    <tr>\n",
              "      <th>4</th>\n",
              "      <td>presenter empat bulan mei mahasiswi phd hannah...</td>\n",
              "      <td>Kekerasan Lainnya</td>\n",
              "      <td>4</td>\n",
              "      <td>0</td>\n",
              "      <td>0</td>\n",
              "      <td>0</td>\n",
              "      <td>1</td>\n",
              "      <td>0</td>\n",
              "      <td>0</td>\n",
              "      <td>0</td>\n",
              "    </tr>\n",
              "  </tbody>\n",
              "</table>\n",
              "</div>"
            ],
            "text/plain": [
              "                                                text  ... Penelantaran\n",
              "0  ironi gera terlalu sakit jelas lopor aktris ho...  ...            0\n",
              "1  wanita kuwait luncur kampanye media sosial man...  ...            0\n",
              "2  ingat triger tingkat sadar leceh seksual keras...  ...            1\n",
              "3  tuduh aju pria pukul serang seksual persetan b...  ...            0\n",
              "4  presenter empat bulan mei mahasiswi phd hannah...  ...            0\n",
              "\n",
              "[5 rows x 10 columns]"
            ]
          },
          "metadata": {
            "tags": []
          },
          "execution_count": 10
        }
      ]
    },
    {
      "cell_type": "code",
      "metadata": {
        "id": "roybWKvNILDM"
      },
      "source": [
        "tweet_laporan = df_new_laporan['text'].astype(str).values\n",
        "label_laporan = df_new_laporan[[\"Eksploitasi\", \"Eksploitasi Seksual\", \"Kekerasan Fisik\", \"Kekerasan Lainnya\", \"Kekerasan Psikis\", \"Kekerasan Seksual\", \"Penelantaran\"]].values"
      ],
      "execution_count": null,
      "outputs": []
    },
    {
      "cell_type": "code",
      "metadata": {
        "colab": {
          "base_uri": "https://localhost:8080/"
        },
        "id": "jeU5Oc7uIvMU",
        "outputId": "1c890211-d82b-46de-cde1-1beb19858646"
      },
      "source": [
        "label_laporan"
      ],
      "execution_count": null,
      "outputs": [
        {
          "output_type": "execute_result",
          "data": {
            "text/plain": [
              "array([[0, 0, 0, ..., 1, 0, 0],\n",
              "       [0, 0, 0, ..., 1, 0, 0],\n",
              "       [0, 0, 0, ..., 0, 0, 1],\n",
              "       ...,\n",
              "       [0, 0, 0, ..., 0, 0, 1],\n",
              "       [0, 0, 0, ..., 0, 1, 0],\n",
              "       [0, 0, 0, ..., 0, 0, 0]], dtype=uint8)"
            ]
          },
          "metadata": {
            "tags": []
          },
          "execution_count": 12
        }
      ]
    },
    {
      "cell_type": "code",
      "metadata": {
        "id": "Ay7Ny2M1JCz1"
      },
      "source": [
        "from sklearn.model_selection import train_test_split\n",
        "#Train Text, Test Text, Train Label, Test Label\n",
        "X_train, X_test, y_train, y_test = train_test_split(tweet_laporan, label_laporan, test_size=0.1, shuffle=True)"
      ],
      "execution_count": null,
      "outputs": []
    },
    {
      "cell_type": "code",
      "metadata": {
        "id": "Qs12C-EhJIl3"
      },
      "source": [
        "tokenizer = Tokenizer(num_words = vocab_size, oov_token = oov_tok)\n",
        "tokenizer.fit_on_texts(X_train)\n",
        "word_index = tokenizer.word_index\n",
        "sequences = tokenizer.texts_to_sequences(X_train)\n",
        "padded = pad_sequences(sequences, maxlen=max_length, truncating=trunc_type)\n",
        "\n",
        "testing_sequences = tokenizer.texts_to_sequences(X_test)\n",
        "testing_padded = pad_sequences(testing_sequences, maxlen = max_length)"
      ],
      "execution_count": null,
      "outputs": []
    },
    {
      "cell_type": "code",
      "metadata": {
        "id": "zDSEq_f7JKgM"
      },
      "source": [
        "class myCallback(tf.keras.callbacks.Callback):\n",
        "\tdef on_epoch_end(self, epoch, logs={}):\n",
        "\t\tif(logs.get('val_accuracy')>0.85):\n",
        "\t\t\tprint(\"Desired accuracy reached!\")\n",
        "\t\t\tself.model.stop_training=True"
      ],
      "execution_count": null,
      "outputs": []
    },
    {
      "cell_type": "code",
      "metadata": {
        "id": "XJkIsUbkJL8L"
      },
      "source": [
        "import tensorflow as tf\n",
        "'''\n",
        "For improvement, we optimized this parameters:\n",
        "1. embedding_dim = 50, 100\n",
        "2. max_length = 50, 100\n",
        "3. Bidirectional layer = 16, 32, 64, 128\n",
        "4. Dropout value = 0.1, 0.2, 0.3, 0.5, 0.6\n",
        "5. recurrent_dropout value = 0.2 & 0.3\n",
        "6. Convolutional layer = 32, 64, 128\n",
        "7. Convolutional kernel = 1, 2, 3, 4, 5\n",
        "8. Pooling layer = MaxPooling1D & GlobalMaxPooling1D\n",
        "9. batch_size = 32, 60, 64, 100\n",
        "\n",
        "Selected improvement parameters:\n",
        "1. Embedding_dim = 100\n",
        "2. Max_length = 50\n",
        "3. Dropout value = 0.6\n",
        "4. Convolutional layer = 128\n",
        "5. Convolutional kernel = 4\n",
        "6. Pooling layer = GlobalMaxPooling1D\n",
        "7. batch_size = 60\n",
        "'''\n",
        "\n",
        "'''\n",
        "# Initial Model : Bi-LSTM with Dropout\n",
        "model = tf.keras.Sequential([\n",
        "  tf.keras.layers.Embedding(vocab_size, embedding_dim, input_length=max_length),\n",
        "  tf.keras.layers.Bidirectional(tf.keras.layers.LSTM(128, return_sequences=True)),\n",
        "  tf.keras.layers.Bidirectional(tf.keras.layers.LSTM(64, return_sequences=True)),\n",
        "  tf.keras.layers.Bidirectional(tf.keras.layers.LSTM(32, return_sequences=True)),\n",
        "  tf.keras.layers.Bidirectional(tf.keras.layers.LSTM(16)),\n",
        "  tf.keras.layers.Dropout(0.1),\n",
        "  tf.keras.layers.Dense(32, activation='relu'),\n",
        "  tf.keras.layers.Dense(6, activation='softmax')\n",
        "])\n",
        "'''\n",
        "\n",
        "'''\n",
        "# Improvement : Bi-LSTM with GRU\n",
        "model = tf.keras.Sequential([\n",
        "  tf.keras.layers.Embedding(vocab_size, embedding_dim, input_length=max_length),\n",
        "  tf.keras.layers.Bidirectional(tf.keras.layers.GRU(128, recurrent_dropout=0.2, return_sequences=True)),\n",
        "  tf.keras.layers.Bidirectional(tf.keras.layers.LSTM(64)),\n",
        "  tf.keras.layers.Dense(128, activation='relu'),\n",
        "  tf.keras.layers.Dropout(0.5),\n",
        "  tf.keras.layers.Dense(6, activation='softmax')\n",
        "])\n",
        "'''\n",
        "\n",
        "#Last Improvement : CNN with dropout\n",
        "model = tf.keras.Sequential([\n",
        "  tf.keras.layers.Embedding(vocab_size, embedding_dim, input_length=max_length),\n",
        "  tf.keras.layers.Dropout(0.6),\n",
        "  tf.keras.layers.Conv1D(128, 4, activation='relu',padding='same'),\n",
        "  tf.keras.layers.Dropout(0.6),\n",
        "  tf.keras.layers.GlobalMaxPooling1D(),\n",
        "  tf.keras.layers.Flatten(),\n",
        "  tf.keras.layers.Dropout(0.6),\n",
        "  tf.keras.layers.Dense(64, activation='relu'),\n",
        "  tf.keras.layers.Dense(7, activation='softmax')\n",
        "])"
      ],
      "execution_count": null,
      "outputs": []
    },
    {
      "cell_type": "code",
      "metadata": {
        "colab": {
          "base_uri": "https://localhost:8080/"
        },
        "id": "og07uSJxJNj2",
        "outputId": "0dfb69f4-0934-42d3-b900-d899924e6e71"
      },
      "source": [
        "model.compile(loss='categorical_crossentropy', optimizer='adam', metrics=['accuracy'])\n",
        "model.summary()"
      ],
      "execution_count": null,
      "outputs": [
        {
          "output_type": "stream",
          "text": [
            "Model: \"sequential_3\"\n",
            "_________________________________________________________________\n",
            "Layer (type)                 Output Shape              Param #   \n",
            "=================================================================\n",
            "embedding_3 (Embedding)      (None, 50, 100)           2000000   \n",
            "_________________________________________________________________\n",
            "dropout_9 (Dropout)          (None, 50, 100)           0         \n",
            "_________________________________________________________________\n",
            "conv1d_3 (Conv1D)            (None, 50, 128)           51328     \n",
            "_________________________________________________________________\n",
            "dropout_10 (Dropout)         (None, 50, 128)           0         \n",
            "_________________________________________________________________\n",
            "global_max_pooling1d_3 (Glob (None, 128)               0         \n",
            "_________________________________________________________________\n",
            "flatten_3 (Flatten)          (None, 128)               0         \n",
            "_________________________________________________________________\n",
            "dropout_11 (Dropout)         (None, 128)               0         \n",
            "_________________________________________________________________\n",
            "dense_6 (Dense)              (None, 64)                8256      \n",
            "_________________________________________________________________\n",
            "dense_7 (Dense)              (None, 7)                 455       \n",
            "=================================================================\n",
            "Total params: 2,060,039\n",
            "Trainable params: 2,060,039\n",
            "Non-trainable params: 0\n",
            "_________________________________________________________________\n"
          ],
          "name": "stdout"
        }
      ]
    },
    {
      "cell_type": "code",
      "metadata": {
        "colab": {
          "base_uri": "https://localhost:8080/"
        },
        "id": "U-nz4uH5JPMl",
        "outputId": "4ce5d474-a657-407e-f70f-744c1f1e2ec6"
      },
      "source": [
        "num_epochs = 10\n",
        "callbacks = myCallback()\n",
        "history = model.fit(padded, y_train, epochs=num_epochs, validation_data=(testing_padded, y_test), callbacks=[callbacks],batch_size=60)"
      ],
      "execution_count": null,
      "outputs": [
        {
          "output_type": "stream",
          "text": [
            "Epoch 1/10\n",
            "287/287 [==============================] - 7s 22ms/step - loss: 1.5083 - accuracy: 0.5037 - val_loss: 1.5792 - val_accuracy: 0.5721\n",
            "Epoch 2/10\n",
            "287/287 [==============================] - 6s 20ms/step - loss: 1.2342 - accuracy: 0.5831 - val_loss: 1.3202 - val_accuracy: 0.6657\n",
            "Epoch 3/10\n",
            "287/287 [==============================] - 6s 20ms/step - loss: 1.0280 - accuracy: 0.6564 - val_loss: 1.1186 - val_accuracy: 0.7426\n",
            "Epoch 4/10\n",
            "287/287 [==============================] - 6s 20ms/step - loss: 0.8998 - accuracy: 0.7088 - val_loss: 1.0104 - val_accuracy: 0.7583\n",
            "Epoch 5/10\n",
            "287/287 [==============================] - 6s 20ms/step - loss: 0.8028 - accuracy: 0.7466 - val_loss: 0.9371 - val_accuracy: 0.7539\n",
            "Epoch 6/10\n",
            "287/287 [==============================] - 6s 20ms/step - loss: 0.7367 - accuracy: 0.7662 - val_loss: 0.8730 - val_accuracy: 0.7642\n",
            "Epoch 7/10\n",
            "287/287 [==============================] - 6s 20ms/step - loss: 0.6764 - accuracy: 0.7882 - val_loss: 0.8381 - val_accuracy: 0.7618\n",
            "Epoch 8/10\n",
            "287/287 [==============================] - 6s 20ms/step - loss: 0.6247 - accuracy: 0.8072 - val_loss: 0.8262 - val_accuracy: 0.7647\n",
            "Epoch 9/10\n",
            "287/287 [==============================] - 6s 20ms/step - loss: 0.5891 - accuracy: 0.8165 - val_loss: 0.8149 - val_accuracy: 0.7627\n",
            "Epoch 10/10\n",
            "287/287 [==============================] - 6s 20ms/step - loss: 0.5572 - accuracy: 0.8238 - val_loss: 0.8045 - val_accuracy: 0.7681\n"
          ],
          "name": "stdout"
        }
      ]
    },
    {
      "cell_type": "code",
      "metadata": {
        "id": "BxXLC88Vz3G7",
        "colab": {
          "base_uri": "https://localhost:8080/",
          "height": 1000
        },
        "outputId": "fcd309e0-c856-4a85-cc85-578c135ca421"
      },
      "source": [
        "from keras.utils.vis_utils import plot_model\n",
        "tf.keras.utils.plot_model(model, to_file='model_plot.png', show_shapes=True, show_layer_names=False)"
      ],
      "execution_count": null,
      "outputs": [
        {
          "output_type": "execute_result",
          "data": {
            "image/png": "[encoded data removed]",
            "text/plain": [
              "<IPython.core.display.Image object>"
            ]
          },
          "metadata": {
            "tags": []
          },
          "execution_count": 70
        }
      ]
    },
    {
      "cell_type": "code",
      "metadata": {
        "id": "2b_bYZvnJQv0",
        "colab": {
          "base_uri": "https://localhost:8080/",
          "height": 541
        },
        "outputId": "0c7ee183-cd1a-40fe-a819-7752fc7de5e1"
      },
      "source": [
        "def plot_graphs(history, string):\n",
        "  plt.plot(history.history[string])\n",
        "  plt.plot(history.history['val_'+string])\n",
        "  plt.xlabel(\"Epochs\")\n",
        "  plt.ylabel(string)\n",
        "  plt.legend([string, 'val_'+string])\n",
        "  plt.show()\n",
        "  \n",
        "plot_graphs(history, \"accuracy\")\n",
        "plot_graphs(history, \"loss\")"
      ],
      "execution_count": null,
      "outputs": [
        {
          "output_type": "display_data",
          "data": {
            "image/png": "[encoded data removed]",
            "text/plain": [
              "<Figure size 432x288 with 1 Axes>"
            ]
          },
          "metadata": {
            "tags": [],
            "needs_background": "light"
          }
        },
        {
          "output_type": "display_data",
          "data": {
            "image/png": "[encoded data removed]",
            "text/plain": [
              "<Figure size 432x288 with 1 Axes>"
            ]
          },
          "metadata": {
            "tags": [],
            "needs_background": "light"
          }
        }
      ]
    },
    {
      "cell_type": "code",
      "metadata": {
        "id": "5C0Nb02kJSKU"
      },
      "source": [
        "text = [\"saya takut\"]\n",
        "\n",
        "tokenized_text = tokenizer.texts_to_sequences(text)"
      ],
      "execution_count": null,
      "outputs": []
    },
    {
      "cell_type": "code",
      "metadata": {
        "id": "CPv066GaJTmQ",
        "colab": {
          "base_uri": "https://localhost:8080/"
        },
        "outputId": "dea06412-687d-4d65-cefd-3b1c906c9df0"
      },
      "source": [
        "prediction = model.predict(tokenized_text)"
      ],
      "execution_count": null,
      "outputs": [
        {
          "output_type": "stream",
          "text": [
            "WARNING:tensorflow:Model was constructed with shape (None, 50) for input KerasTensor(type_spec=TensorSpec(shape=(None, 50), dtype=tf.float32, name='embedding_4_input'), name='embedding_4_input', description=\"created by layer 'embedding_4_input'\"), but it was called on an input with incompatible shape (None, 2).\n"
          ],
          "name": "stdout"
        }
      ]
    },
    {
      "cell_type": "code",
      "metadata": {
        "id": "6gSXXNIHJVDx",
        "colab": {
          "base_uri": "https://localhost:8080/"
        },
        "outputId": "dc46ca65-2671-4669-fb5e-c6f8be8446a0"
      },
      "source": [
        "labels = [\"Eksploitasi\", \"Eksploitasi Seksual\", \"Kekerasan Fisik\", \"Kekerasan Lainnya\", \"Kekerasan Psikis\", \"Kekerasan Seksual\", \"Penelantaran\"]\n",
        "predicted = prediction.argmax(axis=1)\n",
        "predict_labels = [labels[predict] for predict in predicted]\n",
        "print(prediction)\n",
        "print(predict_labels)"
      ],
      "execution_count": null,
      "outputs": [
        {
          "output_type": "stream",
          "text": [
            "[[0.00206113 0.02345051 0.00296443 0.1483927  0.79776305 0.00522542\n",
            "  0.02014276]]\n",
            "['Kekerasan Psikis']\n"
          ],
          "name": "stdout"
        }
      ]
    },
    {
      "cell_type": "code",
      "metadata": {
        "id": "kdN2sjwuJWiW",
        "colab": {
          "base_uri": "https://localhost:8080/"
        },
        "outputId": "49272881-ed9a-4080-96cd-3ed446e1664e"
      },
      "source": [
        "#Exporting the Model (TFLITE)\n",
        "export_dir = 'saved_model_laporan/1'\n",
        "tf.saved_model.save(model, export_dir)"
      ],
      "execution_count": null,
      "outputs": [
        {
          "output_type": "stream",
          "text": [
            "WARNING:tensorflow:FOR KERAS USERS: The object that you are saving contains one or more Keras models or layers. If you are loading the SavedModel with `tf.keras.models.load_model`, continue reading (otherwise, you may ignore the following instructions). Please change your code to save with `tf.keras.models.save_model` or `model.save`, and confirm that the file \"keras.metadata\" exists in the export directory. In the future, Keras will only load the SavedModels that have this file. In other words, `tf.saved_model.save` will no longer write SavedModels that can be recovered as Keras models (this will apply in TF 2.5).\n",
            "\n",
            "FOR DEVS: If you are overwriting _tracking_metadata in your class, this property has been used to save metadata in the SavedModel. The metadta field will be deprecated soon, so please move the metadata to a different file.\n",
            "INFO:tensorflow:Assets written to: saved_model_laporan/1/assets\n"
          ],
          "name": "stdout"
        }
      ]
    },
    {
      "cell_type": "code",
      "metadata": {
        "id": "ZGwmrRNpJZIM"
      },
      "source": [
        "converter = tf.lite.TFLiteConverter.from_saved_model(export_dir)\n",
        "tflite_model = converter.convert()"
      ],
      "execution_count": null,
      "outputs": []
    },
    {
      "cell_type": "code",
      "metadata": {
        "id": "cLBEyeiIJZ-q",
        "colab": {
          "base_uri": "https://localhost:8080/"
        },
        "outputId": "58e0c743-1635-409f-c8d7-0da7accf09ac"
      },
      "source": [
        "import pathlib\n",
        "\n",
        "tflite_model_laporan_file = pathlib.Path('/content/modellaporan.tflite')\n",
        "tflite_model_laporan_file.write_bytes(tflite_model)"
      ],
      "execution_count": null,
      "outputs": [
        {
          "output_type": "execute_result",
          "data": {
            "text/plain": [
              "8141284"
            ]
          },
          "metadata": {
            "tags": []
          },
          "execution_count": 99
        }
      ]
    },
    {
      "cell_type": "code",
      "metadata": {
        "id": "0Rep52dMJbDX",
        "colab": {
          "base_uri": "https://localhost:8080/",
          "height": 17
        },
        "outputId": "65afbf67-777a-4b31-e241-58ae91ceacd3"
      },
      "source": [
        "from google.colab import files\n",
        "files.download(tflite_model_laporan_file)"
      ],
      "execution_count": null,
      "outputs": [
        {
          "output_type": "display_data",
          "data": {
            "application/javascript": [
              "\n",
              "    async function download(id, filename, size) {\n",
              "      if (!google.colab.kernel.accessAllowed) {\n",
              "        return;\n",
              "      }\n",
              "      const div = document.createElement('div');\n",
              "      const label = document.createElement('label');\n",
              "      label.textContent = `Downloading \"${filename}\": `;\n",
              "      div.appendChild(label);\n",
              "      const progress = document.createElement('progress');\n",
              "      progress.max = size;\n",
              "      div.appendChild(progress);\n",
              "      document.body.appendChild(div);\n",
              "\n",
              "      const buffers = [];\n",
              "      let downloaded = 0;\n",
              "\n",
              "      const channel = await google.colab.kernel.comms.open(id);\n",
              "      // Send a message to notify the kernel that we're ready.\n",
              "      channel.send({})\n",
              "\n",
              "      for await (const message of channel.messages) {\n",
              "        // Send a message to notify the kernel that we're ready.\n",
              "        channel.send({})\n",
              "        if (message.buffers) {\n",
              "          for (const buffer of message.buffers) {\n",
              "            buffers.push(buffer);\n",
              "            downloaded += buffer.byteLength;\n",
              "            progress.value = downloaded;\n",
              "          }\n",
              "        }\n",
              "      }\n",
              "      const blob = new Blob(buffers, {type: 'application/binary'});\n",
              "      const a = document.createElement('a');\n",
              "      a.href = window.URL.createObjectURL(blob);\n",
              "      a.download = filename;\n",
              "      div.appendChild(a);\n",
              "      a.click();\n",
              "      div.remove();\n",
              "    }\n",
              "  "
            ],
            "text/plain": [
              "<IPython.core.display.Javascript object>"
            ]
          },
          "metadata": {
            "tags": []
          }
        },
        {
          "output_type": "display_data",
          "data": {
            "application/javascript": [
              "download(\"download_bdaa9f9a-7d76-4e70-ad6d-69433bb88d32\", \"modellaporan.tflite\", 8141284)"
            ],
            "text/plain": [
              "<IPython.core.display.Javascript object>"
            ]
          },
          "metadata": {
            "tags": []
          }
        }
      ]
    },
    {
      "cell_type": "code",
      "metadata": {
        "id": "jvjsXkHTJcRB"
      },
      "source": [
        "#Exporting the Tokenized Word\n",
        "import json\n",
        "\n",
        "with open( 'word_dict_laporan.json' , 'w' ) as file:\n",
        "    json.dump( tokenizer.word_index , file )"
      ],
      "execution_count": null,
      "outputs": []
    }
  ]
}