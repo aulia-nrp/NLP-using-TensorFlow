{
  "nbformat": 4,
  "nbformat_minor": 0,
  "metadata": {
    "colab": {
      "name": "Data Cleaning - B21-CAP0194.ipynb",
      "provenance": [],
      "collapsed_sections": []
    },
    "kernelspec": {
      "name": "python3",
      "display_name": "Python 3"
    },
    "language_info": {
      "name": "python"
    }
  },
  "cells": [
    {
      "cell_type": "code",
      "metadata": {
        "id": "NmF9jQCl8dJr",
        "colab": {
          "base_uri": "https://localhost:8080/",
          "height": 69
        },
        "outputId": "a72e0a50-915f-4fcf-bfdd-6cc9fbdfad3e"
      },
      "source": [
        "'''\n",
        "Project: Bangkit Capstone Project\n",
        "Group: B21-CAP0194\n",
        "Part: Data Cleaning\n",
        "'''"
      ],
      "execution_count": null,
      "outputs": [
        {
          "output_type": "execute_result",
          "data": {
            "application/vnd.google.colaboratory.intrinsic+json": {
              "type": "string"
            },
            "text/plain": [
              "'\\nFeature: NLP Classifier (Feature 1)\\nStep: Data Cleaning (A1)\\nVersion: 1.1.4\\nTeam: CAP-0194\\nChange:\\n1.1.2:\\nAdding Regex for new line removal (1st RegEx Layer),\\nrearranging hashtag link and unicode filter (2rd RegEx Layer),\\nrearranging punctuation filter (3rd RegEx Layer)\\nand adding space after slash (4th RegEx Layer)\\n\\n1.1.3:\\nTransform the texts into lowercase\\n\\n1.1.4:\\n'"
            ]
          },
          "metadata": {
            "tags": []
          },
          "execution_count": 20
        }
      ]
    },
    {
      "cell_type": "code",
      "metadata": {
        "id": "lTo6mU3igRmK"
      },
      "source": [
        "#Imports\n",
        "import pandas as pd\n",
        "import numpy as np\n",
        "import re"
      ],
      "execution_count": 2,
      "outputs": []
    },
    {
      "cell_type": "code",
      "metadata": {
        "colab": {
          "base_uri": "https://localhost:8080/",
          "height": 195
        },
        "id": "cLE7cyGmBJSb",
        "outputId": "93fea377-e904-49e1-f576-0c208fe1b726"
      },
      "source": [
        "#Import First Dataset\n",
        "url_one = 'https://drive.google.com/file/d/1lTvQke_pO35JgAj1Bzj5ULsA_gno94DQ/view?usp=sharing'\n",
        "file_id_one = url_one.split('/')[-2]\n",
        "csv_url_one = 'https://drive.google.com/uc?id=' + file_id_one\n",
        "df_one = pd.read_csv(csv_url_one)\n",
        "df_one.head()"
      ],
      "execution_count": 9,
      "outputs": [
        {
          "output_type": "execute_result",
          "data": {
            "text/html": [
              "<div>\n",
              "<style scoped>\n",
              "    .dataframe tbody tr th:only-of-type {\n",
              "        vertical-align: middle;\n",
              "    }\n",
              "\n",
              "    .dataframe tbody tr th {\n",
              "        vertical-align: top;\n",
              "    }\n",
              "\n",
              "    .dataframe thead th {\n",
              "        text-align: right;\n",
              "    }\n",
              "</style>\n",
              "<table border=\"1\" class=\"dataframe\">\n",
              "  <thead>\n",
              "    <tr style=\"text-align: right;\">\n",
              "      <th></th>\n",
              "      <th>index</th>\n",
              "      <th>user_id</th>\n",
              "      <th>timestamp</th>\n",
              "      <th>text</th>\n",
              "    </tr>\n",
              "  </thead>\n",
              "  <tbody>\n",
              "    <tr>\n",
              "      <th>0</th>\n",
              "      <td>1</td>\n",
              "      <td>420319697</td>\n",
              "      <td>2021-04-23 23:20:32</td>\n",
              "      <td>b\\'\"The ironies of the #MeToo movement are too...</td>\n",
              "    </tr>\n",
              "    <tr>\n",
              "      <th>1</th>\n",
              "      <td>2</td>\n",
              "      <td>b\"33979748</td>\n",
              "      <td>2021-04-23 23:20:23</td>\n",
              "      <td>RT @WomenReadWomen: Women in Kuwait have launc...</td>\n",
              "    </tr>\n",
              "    <tr>\n",
              "      <th>2</th>\n",
              "      <td>3</td>\n",
              "      <td>b\"2891085942</td>\n",
              "      <td>2021-04-23 23:20:19</td>\n",
              "      <td>RT @j_andreamolina: \\\\xe2\\\\x9a\\\\xa0\\\\xef\\\\xb8\\...</td>\n",
              "    </tr>\n",
              "    <tr>\n",
              "      <th>3</th>\n",
              "      <td>4</td>\n",
              "      <td>b\"2383033227</td>\n",
              "      <td>2021-04-23 23:19:13</td>\n",
              "      <td>RT @SammiStitches: Charges brought against the...</td>\n",
              "    </tr>\n",
              "    <tr>\n",
              "      <th>4</th>\n",
              "      <td>5</td>\n",
              "      <td>1060143967872917504</td>\n",
              "      <td>2021-04-23 23:18:41</td>\n",
              "      <td>b\"And the fourth presenter on 26th May is Hann...</td>\n",
              "    </tr>\n",
              "  </tbody>\n",
              "</table>\n",
              "</div>"
            ],
            "text/plain": [
              "   index  ...                                               text\n",
              "0      1  ...  b\\'\"The ironies of the #MeToo movement are too...\n",
              "1      2  ...  RT @WomenReadWomen: Women in Kuwait have launc...\n",
              "2      3  ...  RT @j_andreamolina: \\\\xe2\\\\x9a\\\\xa0\\\\xef\\\\xb8\\...\n",
              "3      4  ...  RT @SammiStitches: Charges brought against the...\n",
              "4      5  ...  b\"And the fourth presenter on 26th May is Hann...\n",
              "\n",
              "[5 rows x 4 columns]"
            ]
          },
          "metadata": {
            "tags": []
          },
          "execution_count": 9
        }
      ]
    },
    {
      "cell_type": "code",
      "metadata": {
        "colab": {
          "base_uri": "https://localhost:8080/",
          "height": 195
        },
        "id": "cnv3vKGHCIcu",
        "outputId": "29af9652-39bf-4569-c217-ea78fadf7901"
      },
      "source": [
        "#Import Second Dataset\n",
        "url_two = 'https://drive.google.com/file/d/1xMEtidbapgBLs82ijoJvk0FsoPlL76yG/view?usp=sharing'\n",
        "file_id_two = url_two.split('/')[-2]\n",
        "csv_url_two = 'https://drive.google.com/uc?id=' + file_id_two\n",
        "df_two = pd.read_csv(csv_url_two)\n",
        "df_two.head()"
      ],
      "execution_count": 10,
      "outputs": [
        {
          "output_type": "execute_result",
          "data": {
            "text/html": [
              "<div>\n",
              "<style scoped>\n",
              "    .dataframe tbody tr th:only-of-type {\n",
              "        vertical-align: middle;\n",
              "    }\n",
              "\n",
              "    .dataframe tbody tr th {\n",
              "        vertical-align: top;\n",
              "    }\n",
              "\n",
              "    .dataframe thead th {\n",
              "        text-align: right;\n",
              "    }\n",
              "</style>\n",
              "<table border=\"1\" class=\"dataframe\">\n",
              "  <thead>\n",
              "    <tr style=\"text-align: right;\">\n",
              "      <th></th>\n",
              "      <th>index</th>\n",
              "      <th>user_id</th>\n",
              "      <th>timestamp</th>\n",
              "      <th>text</th>\n",
              "    </tr>\n",
              "  </thead>\n",
              "  <tbody>\n",
              "    <tr>\n",
              "      <th>0</th>\n",
              "      <td>1</td>\n",
              "      <td>406651200</td>\n",
              "      <td>2021-04-30 00:52:22</td>\n",
              "      <td>b\\'RT @ThatUmbrella: Advocates of #metoo shoul...</td>\n",
              "    </tr>\n",
              "    <tr>\n",
              "      <th>1</th>\n",
              "      <td>2</td>\n",
              "      <td>b\"1062082121353830402</td>\n",
              "      <td>2021-04-30 00:52:06</td>\n",
              "      <td>Boo another report while casualties pile up! Y...</td>\n",
              "    </tr>\n",
              "    <tr>\n",
              "      <th>2</th>\n",
              "      <td>3</td>\n",
              "      <td>957024565150011393</td>\n",
              "      <td>2021-04-30 00:51:51</td>\n",
              "      <td>b\"RT @MsAmyMacPherson: 1/9 There\\'s a SUPER HU...</td>\n",
              "    </tr>\n",
              "    <tr>\n",
              "      <th>3</th>\n",
              "      <td>4</td>\n",
              "      <td>1164570123111292928</td>\n",
              "      <td>2021-04-30 00:51:37</td>\n",
              "      <td>b\"RT @RaquelDancho: Important to note: if the ...</td>\n",
              "    </tr>\n",
              "    <tr>\n",
              "      <th>4</th>\n",
              "      <td>5</td>\n",
              "      <td>b\"1928003306</td>\n",
              "      <td>2021-04-30 00:50:49</td>\n",
              "      <td>RT @Aspasia_1: Basically .@MetOpera could have...</td>\n",
              "    </tr>\n",
              "  </tbody>\n",
              "</table>\n",
              "</div>"
            ],
            "text/plain": [
              "   index  ...                                               text\n",
              "0      1  ...  b\\'RT @ThatUmbrella: Advocates of #metoo shoul...\n",
              "1      2  ...  Boo another report while casualties pile up! Y...\n",
              "2      3  ...  b\"RT @MsAmyMacPherson: 1/9 There\\'s a SUPER HU...\n",
              "3      4  ...  b\"RT @RaquelDancho: Important to note: if the ...\n",
              "4      5  ...  RT @Aspasia_1: Basically .@MetOpera could have...\n",
              "\n",
              "[5 rows x 4 columns]"
            ]
          },
          "metadata": {
            "tags": []
          },
          "execution_count": 10
        }
      ]
    },
    {
      "cell_type": "code",
      "metadata": {
        "colab": {
          "base_uri": "https://localhost:8080/",
          "height": 195
        },
        "id": "EqF1nfy1Dlka",
        "outputId": "9c42d0fe-6838-43fd-e3d9-9db7bce5086f"
      },
      "source": [
        "#Import Third Dataset\n",
        "url_three = 'https://drive.google.com/file/d/1vNVBMchza3792vB16pGQwzHf65eJYlOB/view?usp=sharing'\n",
        "file_id_three = url_three.split('/')[-2]\n",
        "csv_url_three = 'https://drive.google.com/uc?id=' + file_id_three\n",
        "df_three = pd.read_csv(csv_url_three)\n",
        "df_three.head()"
      ],
      "execution_count": 12,
      "outputs": [
        {
          "output_type": "execute_result",
          "data": {
            "text/html": [
              "<div>\n",
              "<style scoped>\n",
              "    .dataframe tbody tr th:only-of-type {\n",
              "        vertical-align: middle;\n",
              "    }\n",
              "\n",
              "    .dataframe tbody tr th {\n",
              "        vertical-align: top;\n",
              "    }\n",
              "\n",
              "    .dataframe thead th {\n",
              "        text-align: right;\n",
              "    }\n",
              "</style>\n",
              "<table border=\"1\" class=\"dataframe\">\n",
              "  <thead>\n",
              "    <tr style=\"text-align: right;\">\n",
              "      <th></th>\n",
              "      <th>index</th>\n",
              "      <th>user_id</th>\n",
              "      <th>timestamp</th>\n",
              "      <th>text</th>\n",
              "    </tr>\n",
              "  </thead>\n",
              "  <tbody>\n",
              "    <tr>\n",
              "      <th>0</th>\n",
              "      <td>1</td>\n",
              "      <td>b\"1256542308591378433</td>\n",
              "      <td>2021-05-05 23:34:50</td>\n",
              "      <td>RT @BombshellDAILY: REPUBLICAN BRUTALLY RAPES ...</td>\n",
              "    </tr>\n",
              "    <tr>\n",
              "      <th>1</th>\n",
              "      <td>2</td>\n",
              "      <td>14982231</td>\n",
              "      <td>2021-05-05 23:33:34</td>\n",
              "      <td>b\"Anthony Kiedis mocked those fighting Bin Lad...</td>\n",
              "    </tr>\n",
              "    <tr>\n",
              "      <th>2</th>\n",
              "      <td>3</td>\n",
              "      <td>b\"711294667</td>\n",
              "      <td>2021-05-05 23:32:57</td>\n",
              "      <td>RT @edrormba: Palestinian-American brings #MeT...</td>\n",
              "    </tr>\n",
              "    <tr>\n",
              "      <th>3</th>\n",
              "      <td>4</td>\n",
              "      <td>b\"925362823114485765</td>\n",
              "      <td>2021-05-05 23:32:57</td>\n",
              "      <td>RT @bette_oh: And, just like that, the #MeToo ...</td>\n",
              "    </tr>\n",
              "    <tr>\n",
              "      <th>4</th>\n",
              "      <td>5</td>\n",
              "      <td>b\"2323751900</td>\n",
              "      <td>2021-05-05 23:31:54</td>\n",
              "      <td>This guy was in #MeToo right?? https://t.co/zZ...</td>\n",
              "    </tr>\n",
              "  </tbody>\n",
              "</table>\n",
              "</div>"
            ],
            "text/plain": [
              "   index  ...                                               text\n",
              "0      1  ...  RT @BombshellDAILY: REPUBLICAN BRUTALLY RAPES ...\n",
              "1      2  ...  b\"Anthony Kiedis mocked those fighting Bin Lad...\n",
              "2      3  ...  RT @edrormba: Palestinian-American brings #MeT...\n",
              "3      4  ...  RT @bette_oh: And, just like that, the #MeToo ...\n",
              "4      5  ...  This guy was in #MeToo right?? https://t.co/zZ...\n",
              "\n",
              "[5 rows x 4 columns]"
            ]
          },
          "metadata": {
            "tags": []
          },
          "execution_count": 12
        }
      ]
    },
    {
      "cell_type": "code",
      "metadata": {
        "id": "AJLugW6zdLSK"
      },
      "source": [
        "#Combine All Dataset\n",
        "df = pd.concat([df_one, df_two, df_three])"
      ],
      "execution_count": 13,
      "outputs": []
    },
    {
      "cell_type": "code",
      "metadata": {
        "colab": {
          "base_uri": "https://localhost:8080/",
          "height": 195
        },
        "id": "DsedwIHqddig",
        "outputId": "143b553c-cc71-407d-c7bb-1d65c182635d"
      },
      "source": [
        "df.head()"
      ],
      "execution_count": 14,
      "outputs": [
        {
          "output_type": "execute_result",
          "data": {
            "text/html": [
              "<div>\n",
              "<style scoped>\n",
              "    .dataframe tbody tr th:only-of-type {\n",
              "        vertical-align: middle;\n",
              "    }\n",
              "\n",
              "    .dataframe tbody tr th {\n",
              "        vertical-align: top;\n",
              "    }\n",
              "\n",
              "    .dataframe thead th {\n",
              "        text-align: right;\n",
              "    }\n",
              "</style>\n",
              "<table border=\"1\" class=\"dataframe\">\n",
              "  <thead>\n",
              "    <tr style=\"text-align: right;\">\n",
              "      <th></th>\n",
              "      <th>index</th>\n",
              "      <th>user_id</th>\n",
              "      <th>timestamp</th>\n",
              "      <th>text</th>\n",
              "    </tr>\n",
              "  </thead>\n",
              "  <tbody>\n",
              "    <tr>\n",
              "      <th>0</th>\n",
              "      <td>1</td>\n",
              "      <td>420319697</td>\n",
              "      <td>2021-04-23 23:20:32</td>\n",
              "      <td>b\\'\"The ironies of the #MeToo movement are too...</td>\n",
              "    </tr>\n",
              "    <tr>\n",
              "      <th>1</th>\n",
              "      <td>2</td>\n",
              "      <td>b\"33979748</td>\n",
              "      <td>2021-04-23 23:20:23</td>\n",
              "      <td>RT @WomenReadWomen: Women in Kuwait have launc...</td>\n",
              "    </tr>\n",
              "    <tr>\n",
              "      <th>2</th>\n",
              "      <td>3</td>\n",
              "      <td>b\"2891085942</td>\n",
              "      <td>2021-04-23 23:20:19</td>\n",
              "      <td>RT @j_andreamolina: \\\\xe2\\\\x9a\\\\xa0\\\\xef\\\\xb8\\...</td>\n",
              "    </tr>\n",
              "    <tr>\n",
              "      <th>3</th>\n",
              "      <td>4</td>\n",
              "      <td>b\"2383033227</td>\n",
              "      <td>2021-04-23 23:19:13</td>\n",
              "      <td>RT @SammiStitches: Charges brought against the...</td>\n",
              "    </tr>\n",
              "    <tr>\n",
              "      <th>4</th>\n",
              "      <td>5</td>\n",
              "      <td>1060143967872917504</td>\n",
              "      <td>2021-04-23 23:18:41</td>\n",
              "      <td>b\"And the fourth presenter on 26th May is Hann...</td>\n",
              "    </tr>\n",
              "  </tbody>\n",
              "</table>\n",
              "</div>"
            ],
            "text/plain": [
              "   index  ...                                               text\n",
              "0      1  ...  b\\'\"The ironies of the #MeToo movement are too...\n",
              "1      2  ...  RT @WomenReadWomen: Women in Kuwait have launc...\n",
              "2      3  ...  RT @j_andreamolina: \\\\xe2\\\\x9a\\\\xa0\\\\xef\\\\xb8\\...\n",
              "3      4  ...  RT @SammiStitches: Charges brought against the...\n",
              "4      5  ...  b\"And the fourth presenter on 26th May is Hann...\n",
              "\n",
              "[5 rows x 4 columns]"
            ]
          },
          "metadata": {
            "tags": []
          },
          "execution_count": 14
        }
      ]
    },
    {
      "cell_type": "code",
      "metadata": {
        "colab": {
          "base_uri": "https://localhost:8080/"
        },
        "id": "-QT_s28rdgPQ",
        "outputId": "fea89068-0786-4256-836b-1fece8d0864c"
      },
      "source": [
        "df.shape"
      ],
      "execution_count": 15,
      "outputs": [
        {
          "output_type": "execute_result",
          "data": {
            "text/plain": [
              "(22600, 4)"
            ]
          },
          "metadata": {
            "tags": []
          },
          "execution_count": 15
        }
      ]
    },
    {
      "cell_type": "code",
      "metadata": {
        "colab": {
          "base_uri": "https://localhost:8080/",
          "height": 402
        },
        "id": "6ewg6c2BgWl1",
        "outputId": "08e4fab5-736d-4d43-cfa8-ae5054ef3177"
      },
      "source": [
        "#Drop Columns\n",
        "df = df.drop(columns=['index', 'user_id', 'timestamp'])\n",
        "df"
      ],
      "execution_count": null,
      "outputs": [
        {
          "output_type": "execute_result",
          "data": {
            "text/html": [
              "<div>\n",
              "<style scoped>\n",
              "    .dataframe tbody tr th:only-of-type {\n",
              "        vertical-align: middle;\n",
              "    }\n",
              "\n",
              "    .dataframe tbody tr th {\n",
              "        vertical-align: top;\n",
              "    }\n",
              "\n",
              "    .dataframe thead th {\n",
              "        text-align: right;\n",
              "    }\n",
              "</style>\n",
              "<table border=\"1\" class=\"dataframe\">\n",
              "  <thead>\n",
              "    <tr style=\"text-align: right;\">\n",
              "      <th></th>\n",
              "      <th>text</th>\n",
              "    </tr>\n",
              "  </thead>\n",
              "  <tbody>\n",
              "    <tr>\n",
              "      <th>0</th>\n",
              "      <td>b\\'\"The ironies of the #MeToo movement are too...</td>\n",
              "    </tr>\n",
              "    <tr>\n",
              "      <th>1</th>\n",
              "      <td>RT @WomenReadWomen: Women in Kuwait have launc...</td>\n",
              "    </tr>\n",
              "    <tr>\n",
              "      <th>2</th>\n",
              "      <td>RT @j_andreamolina: \\\\xe2\\\\x9a\\\\xa0\\\\xef\\\\xb8\\...</td>\n",
              "    </tr>\n",
              "    <tr>\n",
              "      <th>3</th>\n",
              "      <td>RT @SammiStitches: Charges brought against the...</td>\n",
              "    </tr>\n",
              "    <tr>\n",
              "      <th>4</th>\n",
              "      <td>b\"And the fourth presenter on 26th May is Hann...</td>\n",
              "    </tr>\n",
              "    <tr>\n",
              "      <th>...</th>\n",
              "      <td>...</td>\n",
              "    </tr>\n",
              "    <tr>\n",
              "      <th>7095</th>\n",
              "      <td>RT @brianlilley: In QP today, \\\\xe2\\\\x81\\\\xa6@...</td>\n",
              "    </tr>\n",
              "    <tr>\n",
              "      <th>7096</th>\n",
              "      <td>RT @shades_dirty: Stop police sexual violence ...</td>\n",
              "    </tr>\n",
              "    <tr>\n",
              "      <th>7097</th>\n",
              "      <td>RT @GretchenCarlson: I\\\\xe2\\\\x80\\\\x99ll speak ...</td>\n",
              "    </tr>\n",
              "    <tr>\n",
              "      <th>7098</th>\n",
              "      <td>RT @brianlilley: In QP today, \\\\xe2\\\\x81\\\\xa6@...</td>\n",
              "    </tr>\n",
              "    <tr>\n",
              "      <th>7099</th>\n",
              "      <td>RT @SenatorHousakos: In fairness, he also didn...</td>\n",
              "    </tr>\n",
              "  </tbody>\n",
              "</table>\n",
              "<p>22600 rows × 1 columns</p>\n",
              "</div>"
            ],
            "text/plain": [
              "                                                   text\n",
              "0     b\\'\"The ironies of the #MeToo movement are too...\n",
              "1     RT @WomenReadWomen: Women in Kuwait have launc...\n",
              "2     RT @j_andreamolina: \\\\xe2\\\\x9a\\\\xa0\\\\xef\\\\xb8\\...\n",
              "3     RT @SammiStitches: Charges brought against the...\n",
              "4     b\"And the fourth presenter on 26th May is Hann...\n",
              "...                                                 ...\n",
              "7095  RT @brianlilley: In QP today, \\\\xe2\\\\x81\\\\xa6@...\n",
              "7096  RT @shades_dirty: Stop police sexual violence ...\n",
              "7097  RT @GretchenCarlson: I\\\\xe2\\\\x80\\\\x99ll speak ...\n",
              "7098  RT @brianlilley: In QP today, \\\\xe2\\\\x81\\\\xa6@...\n",
              "7099  RT @SenatorHousakos: In fairness, he also didn...\n",
              "\n",
              "[22600 rows x 1 columns]"
            ]
          },
          "metadata": {
            "tags": []
          },
          "execution_count": 12
        }
      ]
    },
    {
      "cell_type": "code",
      "metadata": {
        "colab": {
          "base_uri": "https://localhost:8080/",
          "height": 195
        },
        "id": "ZWAkkMjbgjA0",
        "outputId": "4ba7c4b7-a5f2-4105-c1e3-d3659387eaa8"
      },
      "source": [
        "#Safe Clean (Cleaning the new line command before it get removed by the next regex)\n",
        "df['text'] =  [re.sub(r\"\\\\n\", \" \", str(j)) for j in df['text']]\n",
        "\n",
        "#Cleaning the 'b', Retweet, Mentions, Unicode (\\x08\\,\\xef\\,etc), and puctuation marks.\n",
        "df['text'] =  [re.sub(r\"^b|http\\S+|[0-9]\\/[0-9]|\\'|\\\"|\\:|\\;|\\.|\\,|RT|\\\\\\\\x[\\w][\\w]|\\@[\\w\\_]*|\\#[\\w]*|\\\\\", \n",
        "                           \"\", str(j)) for j in df['text']]\n",
        "\n",
        "#Cleaning the blank space at the start of the sentences after the 1st cleaning process, hashtag and other punctuation that remains\n",
        "df['text'] =  [re.sub(r\"^\\s*|\\=|\\-|\\#[\\w]*\\s?|[a-z]*\\#[\\w]*\\s?|[\\(\\)\\|\\!\\$\\?\\*]*|\\&amp\", \"\", str(j)) for j in df['text']]\n",
        "\n",
        "#Adding space after slash\n",
        "df['text'] =  [re.sub(r\"\\/\", \" \", str(j)) for j in df['text']]\n",
        "df.head()"
      ],
      "execution_count": null,
      "outputs": [
        {
          "output_type": "execute_result",
          "data": {
            "text/html": [
              "<div>\n",
              "<style scoped>\n",
              "    .dataframe tbody tr th:only-of-type {\n",
              "        vertical-align: middle;\n",
              "    }\n",
              "\n",
              "    .dataframe tbody tr th {\n",
              "        vertical-align: top;\n",
              "    }\n",
              "\n",
              "    .dataframe thead th {\n",
              "        text-align: right;\n",
              "    }\n",
              "</style>\n",
              "<table border=\"1\" class=\"dataframe\">\n",
              "  <thead>\n",
              "    <tr style=\"text-align: right;\">\n",
              "      <th></th>\n",
              "      <th>text</th>\n",
              "    </tr>\n",
              "  </thead>\n",
              "  <tbody>\n",
              "    <tr>\n",
              "      <th>0</th>\n",
              "      <td>The ironies of the  movement are too painfully...</td>\n",
              "    </tr>\n",
              "    <tr>\n",
              "      <th>1</th>\n",
              "      <td>Women in Kuwait have launched a social media c...</td>\n",
              "    </tr>\n",
              "    <tr>\n",
              "      <th>2</th>\n",
              "      <td>Triger Warning Raising Awareness of Sexual Ass...</td>\n",
              "    </tr>\n",
              "    <tr>\n",
              "      <th>3</th>\n",
              "      <td>Charges brought against the guy that smacked m...</td>\n",
              "    </tr>\n",
              "    <tr>\n",
              "      <th>4</th>\n",
              "      <td>And the fourth presenter on 26th May is Hannah...</td>\n",
              "    </tr>\n",
              "  </tbody>\n",
              "</table>\n",
              "</div>"
            ],
            "text/plain": [
              "                                                text\n",
              "0  The ironies of the  movement are too painfully...\n",
              "1  Women in Kuwait have launched a social media c...\n",
              "2  Triger Warning Raising Awareness of Sexual Ass...\n",
              "3  Charges brought against the guy that smacked m...\n",
              "4  And the fourth presenter on 26th May is Hannah..."
            ]
          },
          "metadata": {
            "tags": []
          },
          "execution_count": 13
        }
      ]
    },
    {
      "cell_type": "code",
      "metadata": {
        "id": "nYWzZKd1QbP7"
      },
      "source": [
        "df['text'] = df['text'].str.lower()"
      ],
      "execution_count": null,
      "outputs": []
    },
    {
      "cell_type": "code",
      "metadata": {
        "id": "mB6zx5B_tPtu"
      },
      "source": [
        "#Drop any duplicate row\n",
        "df = df.drop_duplicates()"
      ],
      "execution_count": null,
      "outputs": []
    },
    {
      "cell_type": "code",
      "metadata": {
        "colab": {
          "base_uri": "https://localhost:8080/"
        },
        "id": "uFsFUKKPyXZ7",
        "outputId": "909b60c8-80e0-484c-fa80-58375854f2d0"
      },
      "source": [
        "#Fill up the empty cells\n",
        "df['text'].replace('', np.nan, inplace=True)"
      ],
      "execution_count": null,
      "outputs": [
        {
          "output_type": "stream",
          "text": [
            "/usr/local/lib/python3.7/dist-packages/pandas/core/series.py:4582: SettingWithCopyWarning: \n",
            "A value is trying to be set on a copy of a slice from a DataFrame\n",
            "\n",
            "See the caveats in the documentation: https://pandas.pydata.org/pandas-docs/stable/user_guide/indexing.html#returning-a-view-versus-a-copy\n",
            "  method=method,\n"
          ],
          "name": "stderr"
        }
      ]
    },
    {
      "cell_type": "code",
      "metadata": {
        "colab": {
          "base_uri": "https://localhost:8080/"
        },
        "id": "R3VH9MqfurhU",
        "outputId": "3acd601e-64f3-4664-d1db-f075584ff227"
      },
      "source": [
        "#Drop empty cells\n",
        "df.dropna(subset=['text'], inplace=True)"
      ],
      "execution_count": null,
      "outputs": [
        {
          "output_type": "stream",
          "text": [
            "/usr/local/lib/python3.7/dist-packages/ipykernel_launcher.py:2: SettingWithCopyWarning: \n",
            "A value is trying to be set on a copy of a slice from a DataFrame\n",
            "\n",
            "See the caveats in the documentation: https://pandas.pydata.org/pandas-docs/stable/user_guide/indexing.html#returning-a-view-versus-a-copy\n",
            "  \n"
          ],
          "name": "stderr"
        }
      ]
    },
    {
      "cell_type": "code",
      "metadata": {
        "colab": {
          "base_uri": "https://localhost:8080/"
        },
        "id": "bhwEBKGtwHVC",
        "outputId": "4b0b128b-6cf1-45bf-912a-706dca7310f4"
      },
      "source": [
        "#Create Index\n",
        "df['index'] = range(0, len(df.index), 1)"
      ],
      "execution_count": null,
      "outputs": [
        {
          "output_type": "stream",
          "text": [
            "/usr/local/lib/python3.7/dist-packages/ipykernel_launcher.py:2: SettingWithCopyWarning: \n",
            "A value is trying to be set on a copy of a slice from a DataFrame.\n",
            "Try using .loc[row_indexer,col_indexer] = value instead\n",
            "\n",
            "See the caveats in the documentation: https://pandas.pydata.org/pandas-docs/stable/user_guide/indexing.html#returning-a-view-versus-a-copy\n",
            "  \n"
          ],
          "name": "stderr"
        }
      ]
    },
    {
      "cell_type": "code",
      "metadata": {
        "id": "KbjTX_CLgtCP"
      },
      "source": [
        "#Save DataFrame to CSV\n",
        "df_check = pd.DataFrame()\n",
        "df_check['index'] = df['index']\n",
        "df_check['text'] = df['text']\n",
        "df_check.to_csv(\"capstonetweetcleaned.csv\", index=False)"
      ],
      "execution_count": null,
      "outputs": []
    },
    {
      "cell_type": "code",
      "metadata": {
        "id": "rLcsP2RyhTyY"
      },
      "source": [
        ""
      ],
      "execution_count": null,
      "outputs": []
    }
  ]
}