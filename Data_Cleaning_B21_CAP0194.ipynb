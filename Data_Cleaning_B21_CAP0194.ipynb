{
  "nbformat": 4,
  "nbformat_minor": 0,
  "metadata": {
    "colab": {
      "name": "Data Cleaning - B21-CAP0194.ipynb",
      "provenance": [],
      "collapsed_sections": [
        "1VHZoIx3GZb_",
        "-3SvsNz3DiIo",
        "Y_u8oSdzEerd",
        "iVGI2XzKFiOz"
      ],
      "toc_visible": true
    },
    "kernelspec": {
      "name": "python3",
      "display_name": "Python 3"
    },
    "language_info": {
      "name": "python"
    }
  },
  "cells": [
    {
      "cell_type": "markdown",
      "metadata": {
        "id": "1VHZoIx3GZb_"
      },
      "source": [
        "#Imports"
      ]
    },
    {
      "cell_type": "code",
      "metadata": {
        "id": "f8-jxn_0GYro"
      },
      "source": [
        "#Imports\n",
        "import pandas as pd\n",
        "import numpy as np\n",
        "import re"
      ],
      "execution_count": 32,
      "outputs": []
    },
    {
      "cell_type": "markdown",
      "metadata": {
        "id": "-3SvsNz3DiIo"
      },
      "source": [
        "#Raw Data Cleaning (6 Datasets)"
      ]
    },
    {
      "cell_type": "code",
      "metadata": {
        "id": "NmF9jQCl8dJr",
        "colab": {
          "base_uri": "https://localhost:8080/",
          "height": 0
        },
        "outputId": "c1bff68c-7e6f-4167-e480-7e31e65866f2"
      },
      "source": [
        "'''\n",
        "Project: Bangkit Capstone Project\n",
        "Group: B21-CAP0194\n",
        "Part: Data Cleaning\n",
        "'''"
      ],
      "execution_count": 33,
      "outputs": [
        {
          "output_type": "execute_result",
          "data": {
            "application/vnd.google.colaboratory.intrinsic+json": {
              "type": "string"
            },
            "text/plain": [
              "'\\nProject: Bangkit Capstone Project\\nGroup: B21-CAP0194\\nPart: Data Cleaning\\n'"
            ]
          },
          "metadata": {
            "tags": []
          },
          "execution_count": 33
        }
      ]
    },
    {
      "cell_type": "code",
      "metadata": {
        "colab": {
          "base_uri": "https://localhost:8080/",
          "height": 0
        },
        "id": "cLE7cyGmBJSb",
        "outputId": "22b69167-709a-4c14-b383-576b213bae04"
      },
      "source": [
        "#Import First Dataset\n",
        "url_one = 'https://drive.google.com/file/d/1lTvQke_pO35JgAj1Bzj5ULsA_gno94DQ/view?usp=sharing'\n",
        "file_id_one = url_one.split('/')[-2]\n",
        "csv_url_one = 'https://drive.google.com/uc?id=' + file_id_one\n",
        "df_one = pd.read_csv(csv_url_one)\n",
        "df_one.head()"
      ],
      "execution_count": 34,
      "outputs": [
        {
          "output_type": "execute_result",
          "data": {
            "text/html": [
              "<div>\n",
              "<style scoped>\n",
              "    .dataframe tbody tr th:only-of-type {\n",
              "        vertical-align: middle;\n",
              "    }\n",
              "\n",
              "    .dataframe tbody tr th {\n",
              "        vertical-align: top;\n",
              "    }\n",
              "\n",
              "    .dataframe thead th {\n",
              "        text-align: right;\n",
              "    }\n",
              "</style>\n",
              "<table border=\"1\" class=\"dataframe\">\n",
              "  <thead>\n",
              "    <tr style=\"text-align: right;\">\n",
              "      <th></th>\n",
              "      <th>index</th>\n",
              "      <th>user_id</th>\n",
              "      <th>timestamp</th>\n",
              "      <th>text</th>\n",
              "    </tr>\n",
              "  </thead>\n",
              "  <tbody>\n",
              "    <tr>\n",
              "      <th>0</th>\n",
              "      <td>1</td>\n",
              "      <td>420319697</td>\n",
              "      <td>2021-04-23 23:20:32</td>\n",
              "      <td>b\\'\"The ironies of the #MeToo movement are too...</td>\n",
              "    </tr>\n",
              "    <tr>\n",
              "      <th>1</th>\n",
              "      <td>2</td>\n",
              "      <td>b\"33979748</td>\n",
              "      <td>2021-04-23 23:20:23</td>\n",
              "      <td>RT @WomenReadWomen: Women in Kuwait have launc...</td>\n",
              "    </tr>\n",
              "    <tr>\n",
              "      <th>2</th>\n",
              "      <td>3</td>\n",
              "      <td>b\"2891085942</td>\n",
              "      <td>2021-04-23 23:20:19</td>\n",
              "      <td>RT @j_andreamolina: \\\\xe2\\\\x9a\\\\xa0\\\\xef\\\\xb8\\...</td>\n",
              "    </tr>\n",
              "    <tr>\n",
              "      <th>3</th>\n",
              "      <td>4</td>\n",
              "      <td>b\"2383033227</td>\n",
              "      <td>2021-04-23 23:19:13</td>\n",
              "      <td>RT @SammiStitches: Charges brought against the...</td>\n",
              "    </tr>\n",
              "    <tr>\n",
              "      <th>4</th>\n",
              "      <td>5</td>\n",
              "      <td>1060143967872917504</td>\n",
              "      <td>2021-04-23 23:18:41</td>\n",
              "      <td>b\"And the fourth presenter on 26th May is Hann...</td>\n",
              "    </tr>\n",
              "  </tbody>\n",
              "</table>\n",
              "</div>"
            ],
            "text/plain": [
              "   index  ...                                               text\n",
              "0      1  ...  b\\'\"The ironies of the #MeToo movement are too...\n",
              "1      2  ...  RT @WomenReadWomen: Women in Kuwait have launc...\n",
              "2      3  ...  RT @j_andreamolina: \\\\xe2\\\\x9a\\\\xa0\\\\xef\\\\xb8\\...\n",
              "3      4  ...  RT @SammiStitches: Charges brought against the...\n",
              "4      5  ...  b\"And the fourth presenter on 26th May is Hann...\n",
              "\n",
              "[5 rows x 4 columns]"
            ]
          },
          "metadata": {
            "tags": []
          },
          "execution_count": 34
        }
      ]
    },
    {
      "cell_type": "code",
      "metadata": {
        "colab": {
          "base_uri": "https://localhost:8080/",
          "height": 0
        },
        "id": "cnv3vKGHCIcu",
        "outputId": "fe420f31-6949-4a7e-fd40-35a8f366029a"
      },
      "source": [
        "#Import Second Dataset\n",
        "url_two = 'https://drive.google.com/file/d/1xMEtidbapgBLs82ijoJvk0FsoPlL76yG/view?usp=sharing'\n",
        "file_id_two = url_two.split('/')[-2]\n",
        "csv_url_two = 'https://drive.google.com/uc?id=' + file_id_two\n",
        "df_two = pd.read_csv(csv_url_two)\n",
        "df_two.head()"
      ],
      "execution_count": 35,
      "outputs": [
        {
          "output_type": "execute_result",
          "data": {
            "text/html": [
              "<div>\n",
              "<style scoped>\n",
              "    .dataframe tbody tr th:only-of-type {\n",
              "        vertical-align: middle;\n",
              "    }\n",
              "\n",
              "    .dataframe tbody tr th {\n",
              "        vertical-align: top;\n",
              "    }\n",
              "\n",
              "    .dataframe thead th {\n",
              "        text-align: right;\n",
              "    }\n",
              "</style>\n",
              "<table border=\"1\" class=\"dataframe\">\n",
              "  <thead>\n",
              "    <tr style=\"text-align: right;\">\n",
              "      <th></th>\n",
              "      <th>index</th>\n",
              "      <th>user_id</th>\n",
              "      <th>timestamp</th>\n",
              "      <th>text</th>\n",
              "    </tr>\n",
              "  </thead>\n",
              "  <tbody>\n",
              "    <tr>\n",
              "      <th>0</th>\n",
              "      <td>1</td>\n",
              "      <td>406651200</td>\n",
              "      <td>2021-04-30 00:52:22</td>\n",
              "      <td>b\\'RT @ThatUmbrella: Advocates of #metoo shoul...</td>\n",
              "    </tr>\n",
              "    <tr>\n",
              "      <th>1</th>\n",
              "      <td>2</td>\n",
              "      <td>b\"1062082121353830402</td>\n",
              "      <td>2021-04-30 00:52:06</td>\n",
              "      <td>Boo another report while casualties pile up! Y...</td>\n",
              "    </tr>\n",
              "    <tr>\n",
              "      <th>2</th>\n",
              "      <td>3</td>\n",
              "      <td>957024565150011393</td>\n",
              "      <td>2021-04-30 00:51:51</td>\n",
              "      <td>b\"RT @MsAmyMacPherson: 1/9 There\\'s a SUPER HU...</td>\n",
              "    </tr>\n",
              "    <tr>\n",
              "      <th>3</th>\n",
              "      <td>4</td>\n",
              "      <td>1164570123111292928</td>\n",
              "      <td>2021-04-30 00:51:37</td>\n",
              "      <td>b\"RT @RaquelDancho: Important to note: if the ...</td>\n",
              "    </tr>\n",
              "    <tr>\n",
              "      <th>4</th>\n",
              "      <td>5</td>\n",
              "      <td>b\"1928003306</td>\n",
              "      <td>2021-04-30 00:50:49</td>\n",
              "      <td>RT @Aspasia_1: Basically .@MetOpera could have...</td>\n",
              "    </tr>\n",
              "  </tbody>\n",
              "</table>\n",
              "</div>"
            ],
            "text/plain": [
              "   index  ...                                               text\n",
              "0      1  ...  b\\'RT @ThatUmbrella: Advocates of #metoo shoul...\n",
              "1      2  ...  Boo another report while casualties pile up! Y...\n",
              "2      3  ...  b\"RT @MsAmyMacPherson: 1/9 There\\'s a SUPER HU...\n",
              "3      4  ...  b\"RT @RaquelDancho: Important to note: if the ...\n",
              "4      5  ...  RT @Aspasia_1: Basically .@MetOpera could have...\n",
              "\n",
              "[5 rows x 4 columns]"
            ]
          },
          "metadata": {
            "tags": []
          },
          "execution_count": 35
        }
      ]
    },
    {
      "cell_type": "code",
      "metadata": {
        "colab": {
          "base_uri": "https://localhost:8080/",
          "height": 0
        },
        "id": "EqF1nfy1Dlka",
        "outputId": "9043137d-83ee-4a22-8203-9ca8bb79f72c"
      },
      "source": [
        "#Import Third Dataset\n",
        "url_three = 'https://drive.google.com/file/d/1vNVBMchza3792vB16pGQwzHf65eJYlOB/view?usp=sharing'\n",
        "file_id_three = url_three.split('/')[-2]\n",
        "csv_url_three = 'https://drive.google.com/uc?id=' + file_id_three\n",
        "df_three = pd.read_csv(csv_url_three)\n",
        "df_three.head()"
      ],
      "execution_count": 36,
      "outputs": [
        {
          "output_type": "execute_result",
          "data": {
            "text/html": [
              "<div>\n",
              "<style scoped>\n",
              "    .dataframe tbody tr th:only-of-type {\n",
              "        vertical-align: middle;\n",
              "    }\n",
              "\n",
              "    .dataframe tbody tr th {\n",
              "        vertical-align: top;\n",
              "    }\n",
              "\n",
              "    .dataframe thead th {\n",
              "        text-align: right;\n",
              "    }\n",
              "</style>\n",
              "<table border=\"1\" class=\"dataframe\">\n",
              "  <thead>\n",
              "    <tr style=\"text-align: right;\">\n",
              "      <th></th>\n",
              "      <th>index</th>\n",
              "      <th>user_id</th>\n",
              "      <th>timestamp</th>\n",
              "      <th>text</th>\n",
              "    </tr>\n",
              "  </thead>\n",
              "  <tbody>\n",
              "    <tr>\n",
              "      <th>0</th>\n",
              "      <td>1</td>\n",
              "      <td>b\"1256542308591378433</td>\n",
              "      <td>2021-05-05 23:34:50</td>\n",
              "      <td>RT @BombshellDAILY: REPUBLICAN BRUTALLY RAPES ...</td>\n",
              "    </tr>\n",
              "    <tr>\n",
              "      <th>1</th>\n",
              "      <td>2</td>\n",
              "      <td>14982231</td>\n",
              "      <td>2021-05-05 23:33:34</td>\n",
              "      <td>b\"Anthony Kiedis mocked those fighting Bin Lad...</td>\n",
              "    </tr>\n",
              "    <tr>\n",
              "      <th>2</th>\n",
              "      <td>3</td>\n",
              "      <td>b\"711294667</td>\n",
              "      <td>2021-05-05 23:32:57</td>\n",
              "      <td>RT @edrormba: Palestinian-American brings #MeT...</td>\n",
              "    </tr>\n",
              "    <tr>\n",
              "      <th>3</th>\n",
              "      <td>4</td>\n",
              "      <td>b\"925362823114485765</td>\n",
              "      <td>2021-05-05 23:32:57</td>\n",
              "      <td>RT @bette_oh: And, just like that, the #MeToo ...</td>\n",
              "    </tr>\n",
              "    <tr>\n",
              "      <th>4</th>\n",
              "      <td>5</td>\n",
              "      <td>b\"2323751900</td>\n",
              "      <td>2021-05-05 23:31:54</td>\n",
              "      <td>This guy was in #MeToo right?? https://t.co/zZ...</td>\n",
              "    </tr>\n",
              "  </tbody>\n",
              "</table>\n",
              "</div>"
            ],
            "text/plain": [
              "   index  ...                                               text\n",
              "0      1  ...  RT @BombshellDAILY: REPUBLICAN BRUTALLY RAPES ...\n",
              "1      2  ...  b\"Anthony Kiedis mocked those fighting Bin Lad...\n",
              "2      3  ...  RT @edrormba: Palestinian-American brings #MeT...\n",
              "3      4  ...  RT @bette_oh: And, just like that, the #MeToo ...\n",
              "4      5  ...  This guy was in #MeToo right?? https://t.co/zZ...\n",
              "\n",
              "[5 rows x 4 columns]"
            ]
          },
          "metadata": {
            "tags": []
          },
          "execution_count": 36
        }
      ]
    },
    {
      "cell_type": "code",
      "metadata": {
        "colab": {
          "base_uri": "https://localhost:8080/",
          "height": 0
        },
        "id": "0vZ8treWHdUi",
        "outputId": "ada39a4a-a7ad-499e-b9db-02398602d90e"
      },
      "source": [
        "#Import Fourth Dataset\n",
        "url_four = 'https://drive.google.com/file/d/1vb98LLK4QPEzb5_jB0q19O1xU6WF3vgh/view?usp=sharing'\n",
        "file_id_four = url_four.split('/')[-2]\n",
        "csv_url_four = 'https://drive.google.com/uc?id=' + file_id_four\n",
        "df_four = pd.read_csv(csv_url_four)\n",
        "df_four.head()"
      ],
      "execution_count": 37,
      "outputs": [
        {
          "output_type": "execute_result",
          "data": {
            "text/html": [
              "<div>\n",
              "<style scoped>\n",
              "    .dataframe tbody tr th:only-of-type {\n",
              "        vertical-align: middle;\n",
              "    }\n",
              "\n",
              "    .dataframe tbody tr th {\n",
              "        vertical-align: top;\n",
              "    }\n",
              "\n",
              "    .dataframe thead th {\n",
              "        text-align: right;\n",
              "    }\n",
              "</style>\n",
              "<table border=\"1\" class=\"dataframe\">\n",
              "  <thead>\n",
              "    <tr style=\"text-align: right;\">\n",
              "      <th></th>\n",
              "      <th>index</th>\n",
              "      <th>user_id</th>\n",
              "      <th>timestamp</th>\n",
              "      <th>text</th>\n",
              "    </tr>\n",
              "  </thead>\n",
              "  <tbody>\n",
              "    <tr>\n",
              "      <th>0</th>\n",
              "      <td>1</td>\n",
              "      <td>b\"910867711</td>\n",
              "      <td>2021-05-11 22:35:48</td>\n",
              "      <td>RT @SVPAOfficial: As the movement continues to...</td>\n",
              "    </tr>\n",
              "    <tr>\n",
              "      <th>1</th>\n",
              "      <td>2</td>\n",
              "      <td>b\"109652571</td>\n",
              "      <td>2021-05-11 22:35:47</td>\n",
              "      <td>Sound like #SameGirl cuz #MeToo nigga \\\\xf0\\\\x...</td>\n",
              "    </tr>\n",
              "    <tr>\n",
              "      <th>2</th>\n",
              "      <td>3</td>\n",
              "      <td>b\"984531408</td>\n",
              "      <td>2021-05-11 22:34:43</td>\n",
              "      <td>RT @mommamia1217: B\\\\xf0\\\\x9f\\\\x94\\\\xa5\\\\xf0\\\\...</td>\n",
              "    </tr>\n",
              "    <tr>\n",
              "      <th>3</th>\n",
              "      <td>4</td>\n",
              "      <td>b\"398024643</td>\n",
              "      <td>2021-05-11 22:34:30</td>\n",
              "      <td>RT @mommamia1217: B\\\\xf0\\\\x9f\\\\x94\\\\xa5\\\\xf0\\\\...</td>\n",
              "    </tr>\n",
              "    <tr>\n",
              "      <th>4</th>\n",
              "      <td>5</td>\n",
              "      <td>b\"1056106760795127808</td>\n",
              "      <td>2021-05-11 22:33:52</td>\n",
              "      <td>RT @mommamia1217: B\\\\xf0\\\\x9f\\\\x94\\\\xa5\\\\xf0\\\\...</td>\n",
              "    </tr>\n",
              "  </tbody>\n",
              "</table>\n",
              "</div>"
            ],
            "text/plain": [
              "   index  ...                                               text\n",
              "0      1  ...  RT @SVPAOfficial: As the movement continues to...\n",
              "1      2  ...  Sound like #SameGirl cuz #MeToo nigga \\\\xf0\\\\x...\n",
              "2      3  ...  RT @mommamia1217: B\\\\xf0\\\\x9f\\\\x94\\\\xa5\\\\xf0\\\\...\n",
              "3      4  ...  RT @mommamia1217: B\\\\xf0\\\\x9f\\\\x94\\\\xa5\\\\xf0\\\\...\n",
              "4      5  ...  RT @mommamia1217: B\\\\xf0\\\\x9f\\\\x94\\\\xa5\\\\xf0\\\\...\n",
              "\n",
              "[5 rows x 4 columns]"
            ]
          },
          "metadata": {
            "tags": []
          },
          "execution_count": 37
        }
      ]
    },
    {
      "cell_type": "code",
      "metadata": {
        "colab": {
          "base_uri": "https://localhost:8080/",
          "height": 0
        },
        "id": "IaFwXXFzPr1E",
        "outputId": "1b09e4e7-d192-400b-e309-cc7d23f4189f"
      },
      "source": [
        "#Import Fifth Dataset\n",
        "url_five = 'https://drive.google.com/file/d/1HpNQ-YktcMS1lckdHJKyAGIoChWjaxhX/view?usp=sharing'\n",
        "file_id_five = url_five.split('/')[-2]\n",
        "csv_url_five = 'https://drive.google.com/uc?id=' + file_id_five\n",
        "df_five = pd.read_csv(csv_url_five)\n",
        "df_five.head()"
      ],
      "execution_count": 38,
      "outputs": [
        {
          "output_type": "execute_result",
          "data": {
            "text/html": [
              "<div>\n",
              "<style scoped>\n",
              "    .dataframe tbody tr th:only-of-type {\n",
              "        vertical-align: middle;\n",
              "    }\n",
              "\n",
              "    .dataframe tbody tr th {\n",
              "        vertical-align: top;\n",
              "    }\n",
              "\n",
              "    .dataframe thead th {\n",
              "        text-align: right;\n",
              "    }\n",
              "</style>\n",
              "<table border=\"1\" class=\"dataframe\">\n",
              "  <thead>\n",
              "    <tr style=\"text-align: right;\">\n",
              "      <th></th>\n",
              "      <th>index</th>\n",
              "      <th>user_id</th>\n",
              "      <th>timestamp</th>\n",
              "      <th>text</th>\n",
              "    </tr>\n",
              "  </thead>\n",
              "  <tbody>\n",
              "    <tr>\n",
              "      <th>0</th>\n",
              "      <td>1</td>\n",
              "      <td>b\"242997845</td>\n",
              "      <td>2021-05-17 23:51:31</td>\n",
              "      <td>RT @gbrockell: I first contacted Barbara in De...</td>\n",
              "    </tr>\n",
              "    <tr>\n",
              "      <th>1</th>\n",
              "      <td>2</td>\n",
              "      <td>b\"2417926471</td>\n",
              "      <td>2021-05-17 23:50:54</td>\n",
              "      <td>RT @ShefVaidya: This is Vinod Dua for you, the...</td>\n",
              "    </tr>\n",
              "    <tr>\n",
              "      <th>2</th>\n",
              "      <td>3</td>\n",
              "      <td>b\"1318072071860019201</td>\n",
              "      <td>2021-05-17 23:50:10</td>\n",
              "      <td>RT @ShefVaidya: This is Vinod Dua for you, the...</td>\n",
              "    </tr>\n",
              "    <tr>\n",
              "      <th>3</th>\n",
              "      <td>4</td>\n",
              "      <td>b\"25769038</td>\n",
              "      <td>2021-05-17 23:50:08</td>\n",
              "      <td>5.2 million Americans are living with #PTSD. \\...</td>\n",
              "    </tr>\n",
              "    <tr>\n",
              "      <th>4</th>\n",
              "      <td>5</td>\n",
              "      <td>232012364</td>\n",
              "      <td>2021-05-17 23:50:03</td>\n",
              "      <td>b\"RT @ghazalimohammad: First MLA Pargat Singh ...</td>\n",
              "    </tr>\n",
              "  </tbody>\n",
              "</table>\n",
              "</div>"
            ],
            "text/plain": [
              "   index  ...                                               text\n",
              "0      1  ...  RT @gbrockell: I first contacted Barbara in De...\n",
              "1      2  ...  RT @ShefVaidya: This is Vinod Dua for you, the...\n",
              "2      3  ...  RT @ShefVaidya: This is Vinod Dua for you, the...\n",
              "3      4  ...  5.2 million Americans are living with #PTSD. \\...\n",
              "4      5  ...  b\"RT @ghazalimohammad: First MLA Pargat Singh ...\n",
              "\n",
              "[5 rows x 4 columns]"
            ]
          },
          "metadata": {
            "tags": []
          },
          "execution_count": 38
        }
      ]
    },
    {
      "cell_type": "code",
      "metadata": {
        "colab": {
          "base_uri": "https://localhost:8080/",
          "height": 0
        },
        "id": "yeLAKsPmUkdQ",
        "outputId": "bf1c44db-9406-44c0-f138-72142cbf5dd9"
      },
      "source": [
        "#Import Sixth Dataset\n",
        "url_six = 'https://drive.google.com/file/d/16zIaxx9ua0hThr23x4N_cNhUymgsPBqC/view?usp=sharing'\n",
        "file_id_six = url_six.split('/')[-2]\n",
        "csv_url_six = 'https://drive.google.com/uc?id=' + file_id_six\n",
        "df_six = pd.read_csv(csv_url_six)\n",
        "df_six.head()"
      ],
      "execution_count": 39,
      "outputs": [
        {
          "output_type": "execute_result",
          "data": {
            "text/html": [
              "<div>\n",
              "<style scoped>\n",
              "    .dataframe tbody tr th:only-of-type {\n",
              "        vertical-align: middle;\n",
              "    }\n",
              "\n",
              "    .dataframe tbody tr th {\n",
              "        vertical-align: top;\n",
              "    }\n",
              "\n",
              "    .dataframe thead th {\n",
              "        text-align: right;\n",
              "    }\n",
              "</style>\n",
              "<table border=\"1\" class=\"dataframe\">\n",
              "  <thead>\n",
              "    <tr style=\"text-align: right;\">\n",
              "      <th></th>\n",
              "      <th>index</th>\n",
              "      <th>user_id</th>\n",
              "      <th>timestamp</th>\n",
              "      <th>text</th>\n",
              "    </tr>\n",
              "  </thead>\n",
              "  <tbody>\n",
              "    <tr>\n",
              "      <th>0</th>\n",
              "      <td>1</td>\n",
              "      <td>1162412003576598528</td>\n",
              "      <td>2021-05-23 19:22:52</td>\n",
              "      <td>b\"8:43 PM a while ago  I went to this store ne...</td>\n",
              "    </tr>\n",
              "    <tr>\n",
              "      <th>1</th>\n",
              "      <td>2</td>\n",
              "      <td>b\"1252585504974962689</td>\n",
              "      <td>2021-05-23 19:22:23</td>\n",
              "      <td>@theserfstv Ross bought $DOGE early and thinks...</td>\n",
              "    </tr>\n",
              "    <tr>\n",
              "      <th>2</th>\n",
              "      <td>3</td>\n",
              "      <td>b\"373826992</td>\n",
              "      <td>2021-05-23 19:22:12</td>\n",
              "      <td>John 1 Reading of Final Verses + Emergency Pra...</td>\n",
              "    </tr>\n",
              "    <tr>\n",
              "      <th>3</th>\n",
              "      <td>4</td>\n",
              "      <td>1293471556736364546</td>\n",
              "      <td>2021-05-23 19:20:25</td>\n",
              "      <td>b\"RT @Terrn1981: @jackappleby @Girlguiding Opp...</td>\n",
              "    </tr>\n",
              "    <tr>\n",
              "      <th>4</th>\n",
              "      <td>5</td>\n",
              "      <td>b\"373826992</td>\n",
              "      <td>2021-05-23 19:16:33</td>\n",
              "      <td>John 1 Reading of Final Verses + Emergency Pra...</td>\n",
              "    </tr>\n",
              "  </tbody>\n",
              "</table>\n",
              "</div>"
            ],
            "text/plain": [
              "   index  ...                                               text\n",
              "0      1  ...  b\"8:43 PM a while ago  I went to this store ne...\n",
              "1      2  ...  @theserfstv Ross bought $DOGE early and thinks...\n",
              "2      3  ...  John 1 Reading of Final Verses + Emergency Pra...\n",
              "3      4  ...  b\"RT @Terrn1981: @jackappleby @Girlguiding Opp...\n",
              "4      5  ...  John 1 Reading of Final Verses + Emergency Pra...\n",
              "\n",
              "[5 rows x 4 columns]"
            ]
          },
          "metadata": {
            "tags": []
          },
          "execution_count": 39
        }
      ]
    },
    {
      "cell_type": "code",
      "metadata": {
        "id": "AJLugW6zdLSK"
      },
      "source": [
        "#Combine All Dataset\n",
        "df = pd.concat([df_one, df_two, df_three, df_four, df_five, df_six])"
      ],
      "execution_count": 40,
      "outputs": []
    },
    {
      "cell_type": "code",
      "metadata": {
        "colab": {
          "base_uri": "https://localhost:8080/",
          "height": 0
        },
        "id": "DsedwIHqddig",
        "outputId": "98e73e71-7500-4df4-f3a8-938197c08d4b"
      },
      "source": [
        "df.head()"
      ],
      "execution_count": 41,
      "outputs": [
        {
          "output_type": "execute_result",
          "data": {
            "text/html": [
              "<div>\n",
              "<style scoped>\n",
              "    .dataframe tbody tr th:only-of-type {\n",
              "        vertical-align: middle;\n",
              "    }\n",
              "\n",
              "    .dataframe tbody tr th {\n",
              "        vertical-align: top;\n",
              "    }\n",
              "\n",
              "    .dataframe thead th {\n",
              "        text-align: right;\n",
              "    }\n",
              "</style>\n",
              "<table border=\"1\" class=\"dataframe\">\n",
              "  <thead>\n",
              "    <tr style=\"text-align: right;\">\n",
              "      <th></th>\n",
              "      <th>index</th>\n",
              "      <th>user_id</th>\n",
              "      <th>timestamp</th>\n",
              "      <th>text</th>\n",
              "    </tr>\n",
              "  </thead>\n",
              "  <tbody>\n",
              "    <tr>\n",
              "      <th>0</th>\n",
              "      <td>1</td>\n",
              "      <td>420319697</td>\n",
              "      <td>2021-04-23 23:20:32</td>\n",
              "      <td>b\\'\"The ironies of the #MeToo movement are too...</td>\n",
              "    </tr>\n",
              "    <tr>\n",
              "      <th>1</th>\n",
              "      <td>2</td>\n",
              "      <td>b\"33979748</td>\n",
              "      <td>2021-04-23 23:20:23</td>\n",
              "      <td>RT @WomenReadWomen: Women in Kuwait have launc...</td>\n",
              "    </tr>\n",
              "    <tr>\n",
              "      <th>2</th>\n",
              "      <td>3</td>\n",
              "      <td>b\"2891085942</td>\n",
              "      <td>2021-04-23 23:20:19</td>\n",
              "      <td>RT @j_andreamolina: \\\\xe2\\\\x9a\\\\xa0\\\\xef\\\\xb8\\...</td>\n",
              "    </tr>\n",
              "    <tr>\n",
              "      <th>3</th>\n",
              "      <td>4</td>\n",
              "      <td>b\"2383033227</td>\n",
              "      <td>2021-04-23 23:19:13</td>\n",
              "      <td>RT @SammiStitches: Charges brought against the...</td>\n",
              "    </tr>\n",
              "    <tr>\n",
              "      <th>4</th>\n",
              "      <td>5</td>\n",
              "      <td>1060143967872917504</td>\n",
              "      <td>2021-04-23 23:18:41</td>\n",
              "      <td>b\"And the fourth presenter on 26th May is Hann...</td>\n",
              "    </tr>\n",
              "  </tbody>\n",
              "</table>\n",
              "</div>"
            ],
            "text/plain": [
              "   index  ...                                               text\n",
              "0      1  ...  b\\'\"The ironies of the #MeToo movement are too...\n",
              "1      2  ...  RT @WomenReadWomen: Women in Kuwait have launc...\n",
              "2      3  ...  RT @j_andreamolina: \\\\xe2\\\\x9a\\\\xa0\\\\xef\\\\xb8\\...\n",
              "3      4  ...  RT @SammiStitches: Charges brought against the...\n",
              "4      5  ...  b\"And the fourth presenter on 26th May is Hann...\n",
              "\n",
              "[5 rows x 4 columns]"
            ]
          },
          "metadata": {
            "tags": []
          },
          "execution_count": 41
        }
      ]
    },
    {
      "cell_type": "code",
      "metadata": {
        "colab": {
          "base_uri": "https://localhost:8080/"
        },
        "id": "-QT_s28rdgPQ",
        "outputId": "4d3939e8-d4ce-4e48-bd27-f566694464b6"
      },
      "source": [
        "df.shape"
      ],
      "execution_count": 42,
      "outputs": [
        {
          "output_type": "execute_result",
          "data": {
            "text/plain": [
              "(46550, 4)"
            ]
          },
          "metadata": {
            "tags": []
          },
          "execution_count": 42
        }
      ]
    },
    {
      "cell_type": "code",
      "metadata": {
        "colab": {
          "base_uri": "https://localhost:8080/",
          "height": 0
        },
        "id": "6ewg6c2BgWl1",
        "outputId": "f8f5356c-5ff2-4e6f-c351-802059b636d9"
      },
      "source": [
        "#Drop Columns\n",
        "df = df.drop(columns=['index', 'user_id', 'timestamp'])\n",
        "df"
      ],
      "execution_count": 43,
      "outputs": [
        {
          "output_type": "execute_result",
          "data": {
            "text/html": [
              "<div>\n",
              "<style scoped>\n",
              "    .dataframe tbody tr th:only-of-type {\n",
              "        vertical-align: middle;\n",
              "    }\n",
              "\n",
              "    .dataframe tbody tr th {\n",
              "        vertical-align: top;\n",
              "    }\n",
              "\n",
              "    .dataframe thead th {\n",
              "        text-align: right;\n",
              "    }\n",
              "</style>\n",
              "<table border=\"1\" class=\"dataframe\">\n",
              "  <thead>\n",
              "    <tr style=\"text-align: right;\">\n",
              "      <th></th>\n",
              "      <th>text</th>\n",
              "    </tr>\n",
              "  </thead>\n",
              "  <tbody>\n",
              "    <tr>\n",
              "      <th>0</th>\n",
              "      <td>b\\'\"The ironies of the #MeToo movement are too...</td>\n",
              "    </tr>\n",
              "    <tr>\n",
              "      <th>1</th>\n",
              "      <td>RT @WomenReadWomen: Women in Kuwait have launc...</td>\n",
              "    </tr>\n",
              "    <tr>\n",
              "      <th>2</th>\n",
              "      <td>RT @j_andreamolina: \\\\xe2\\\\x9a\\\\xa0\\\\xef\\\\xb8\\...</td>\n",
              "    </tr>\n",
              "    <tr>\n",
              "      <th>3</th>\n",
              "      <td>RT @SammiStitches: Charges brought against the...</td>\n",
              "    </tr>\n",
              "    <tr>\n",
              "      <th>4</th>\n",
              "      <td>b\"And the fourth presenter on 26th May is Hann...</td>\n",
              "    </tr>\n",
              "    <tr>\n",
              "      <th>...</th>\n",
              "      <td>...</td>\n",
              "    </tr>\n",
              "    <tr>\n",
              "      <th>8595</th>\n",
              "      <td>b\"Author releases debut novel inspired by Wore...</td>\n",
              "    </tr>\n",
              "    <tr>\n",
              "      <th>8596</th>\n",
              "      <td>b\"Pop world braces for a wave of #MeToo cases ...</td>\n",
              "    </tr>\n",
              "    <tr>\n",
              "      <th>8597</th>\n",
              "      <td>RT @Khushi4justice: Who paid Rajeev Masand  to...</td>\n",
              "    </tr>\n",
              "    <tr>\n",
              "      <th>8598</th>\n",
              "      <td>RT @AliaGvR: 15. So when you think of Arab/Afr...</td>\n",
              "    </tr>\n",
              "    <tr>\n",
              "      <th>8599</th>\n",
              "      <td>RT @mauracunningham: At the @NewYorker, Han Zh...</td>\n",
              "    </tr>\n",
              "  </tbody>\n",
              "</table>\n",
              "<p>46550 rows × 1 columns</p>\n",
              "</div>"
            ],
            "text/plain": [
              "                                                   text\n",
              "0     b\\'\"The ironies of the #MeToo movement are too...\n",
              "1     RT @WomenReadWomen: Women in Kuwait have launc...\n",
              "2     RT @j_andreamolina: \\\\xe2\\\\x9a\\\\xa0\\\\xef\\\\xb8\\...\n",
              "3     RT @SammiStitches: Charges brought against the...\n",
              "4     b\"And the fourth presenter on 26th May is Hann...\n",
              "...                                                 ...\n",
              "8595  b\"Author releases debut novel inspired by Wore...\n",
              "8596  b\"Pop world braces for a wave of #MeToo cases ...\n",
              "8597  RT @Khushi4justice: Who paid Rajeev Masand  to...\n",
              "8598  RT @AliaGvR: 15. So when you think of Arab/Afr...\n",
              "8599  RT @mauracunningham: At the @NewYorker, Han Zh...\n",
              "\n",
              "[46550 rows x 1 columns]"
            ]
          },
          "metadata": {
            "tags": []
          },
          "execution_count": 43
        }
      ]
    },
    {
      "cell_type": "code",
      "metadata": {
        "colab": {
          "base_uri": "https://localhost:8080/",
          "height": 0
        },
        "id": "ZWAkkMjbgjA0",
        "outputId": "9b491600-c057-4f10-c12c-c657d629e6fb"
      },
      "source": [
        "#Safe Clean (Cleaning the new line command before it get removed by the next regex)\n",
        "df['text'] =  [re.sub(r\"\\\\n\", \" \", str(j)) for j in df['text']]\n",
        "\n",
        "#Cleaning the 'b', Retweet, Unicode (\\\\x08\\,\\\\xef\\,etc), Mentions, Hashtags, Links, and '&amp'.\n",
        "df['text'] =  [re.sub(r\"^b|RT|\\\\\\\\x[\\w][\\w]|\\@[\\w\\_]*|\\#[\\w]*|http\\S+|\\&amp\", \" \", str(j)) for j in df['text']]\n",
        "\n",
        "#Clean other non-alphabetic character\n",
        "df['text'] =  [re.sub(r\"[^a-zA-Z ]+\", \" \", str(j)) for j in df['text']]\n",
        "\n",
        "#Clean extra space in the beginning, middle, and last of the sentence\n",
        "df['text'] = df['text'].apply(lambda x: x.strip()).apply(lambda x: \" \".join(x.split()))\n",
        "\n",
        "#Adding space after slash\n",
        "df['text'] =  [re.sub(r\"\\/\", \" \", str(j)) for j in df['text']]\n",
        "df.head()"
      ],
      "execution_count": 44,
      "outputs": [
        {
          "output_type": "execute_result",
          "data": {
            "text/html": [
              "<div>\n",
              "<style scoped>\n",
              "    .dataframe tbody tr th:only-of-type {\n",
              "        vertical-align: middle;\n",
              "    }\n",
              "\n",
              "    .dataframe tbody tr th {\n",
              "        vertical-align: top;\n",
              "    }\n",
              "\n",
              "    .dataframe thead th {\n",
              "        text-align: right;\n",
              "    }\n",
              "</style>\n",
              "<table border=\"1\" class=\"dataframe\">\n",
              "  <thead>\n",
              "    <tr style=\"text-align: right;\">\n",
              "      <th></th>\n",
              "      <th>text</th>\n",
              "    </tr>\n",
              "  </thead>\n",
              "  <tbody>\n",
              "    <tr>\n",
              "      <th>0</th>\n",
              "      <td>The ironies of the movement are too painfully ...</td>\n",
              "    </tr>\n",
              "    <tr>\n",
              "      <th>1</th>\n",
              "      <td>Women in Kuwait have launched a social media c...</td>\n",
              "    </tr>\n",
              "    <tr>\n",
              "      <th>2</th>\n",
              "      <td>Triger Warning Raising Awareness of Sexual Ass...</td>\n",
              "    </tr>\n",
              "    <tr>\n",
              "      <th>3</th>\n",
              "      <td>Charges brought against the guy that smacked m...</td>\n",
              "    </tr>\n",
              "    <tr>\n",
              "      <th>4</th>\n",
              "      <td>And the fourth presenter on th May is Hannah B...</td>\n",
              "    </tr>\n",
              "  </tbody>\n",
              "</table>\n",
              "</div>"
            ],
            "text/plain": [
              "                                                text\n",
              "0  The ironies of the movement are too painfully ...\n",
              "1  Women in Kuwait have launched a social media c...\n",
              "2  Triger Warning Raising Awareness of Sexual Ass...\n",
              "3  Charges brought against the guy that smacked m...\n",
              "4  And the fourth presenter on th May is Hannah B..."
            ]
          },
          "metadata": {
            "tags": []
          },
          "execution_count": 44
        }
      ]
    },
    {
      "cell_type": "code",
      "metadata": {
        "id": "nYWzZKd1QbP7"
      },
      "source": [
        "#Transform the text into lowercase\n",
        "df['text'] = df['text'].str.lower()"
      ],
      "execution_count": 45,
      "outputs": []
    },
    {
      "cell_type": "code",
      "metadata": {
        "id": "mB6zx5B_tPtu"
      },
      "source": [
        "#Drop any duplicate row\n",
        "df = df.drop_duplicates()"
      ],
      "execution_count": 46,
      "outputs": []
    },
    {
      "cell_type": "code",
      "metadata": {
        "colab": {
          "base_uri": "https://localhost:8080/"
        },
        "id": "uFsFUKKPyXZ7",
        "outputId": "68fe1926-31a6-4195-8c55-b71cf7cb6c55"
      },
      "source": [
        "#Fill up the empty cells\n",
        "df['text'].replace('', np.nan, inplace=True)"
      ],
      "execution_count": 47,
      "outputs": [
        {
          "output_type": "stream",
          "text": [
            "/usr/local/lib/python3.7/dist-packages/pandas/core/series.py:4582: SettingWithCopyWarning: \n",
            "A value is trying to be set on a copy of a slice from a DataFrame\n",
            "\n",
            "See the caveats in the documentation: https://pandas.pydata.org/pandas-docs/stable/user_guide/indexing.html#returning-a-view-versus-a-copy\n",
            "  method=method,\n"
          ],
          "name": "stderr"
        }
      ]
    },
    {
      "cell_type": "code",
      "metadata": {
        "colab": {
          "base_uri": "https://localhost:8080/"
        },
        "id": "R3VH9MqfurhU",
        "outputId": "35399ca4-81a2-4f2c-d926-958c79693945"
      },
      "source": [
        "#Drop empty cells\n",
        "df.dropna(subset=['text'], inplace=True)"
      ],
      "execution_count": 48,
      "outputs": [
        {
          "output_type": "stream",
          "text": [
            "/usr/local/lib/python3.7/dist-packages/ipykernel_launcher.py:2: SettingWithCopyWarning: \n",
            "A value is trying to be set on a copy of a slice from a DataFrame\n",
            "\n",
            "See the caveats in the documentation: https://pandas.pydata.org/pandas-docs/stable/user_guide/indexing.html#returning-a-view-versus-a-copy\n",
            "  \n"
          ],
          "name": "stderr"
        }
      ]
    },
    {
      "cell_type": "code",
      "metadata": {
        "colab": {
          "base_uri": "https://localhost:8080/"
        },
        "id": "bhwEBKGtwHVC",
        "outputId": "cbd14043-9e91-4031-f82d-313dff95c6df"
      },
      "source": [
        "#Create Index\n",
        "df['index'] = range(0, len(df.index), 1)"
      ],
      "execution_count": 49,
      "outputs": [
        {
          "output_type": "stream",
          "text": [
            "/usr/local/lib/python3.7/dist-packages/ipykernel_launcher.py:2: SettingWithCopyWarning: \n",
            "A value is trying to be set on a copy of a slice from a DataFrame.\n",
            "Try using .loc[row_indexer,col_indexer] = value instead\n",
            "\n",
            "See the caveats in the documentation: https://pandas.pydata.org/pandas-docs/stable/user_guide/indexing.html#returning-a-view-versus-a-copy\n",
            "  \n"
          ],
          "name": "stderr"
        }
      ]
    },
    {
      "cell_type": "code",
      "metadata": {
        "id": "KbjTX_CLgtCP"
      },
      "source": [
        "#Save DataFrame to CSV\n",
        "df_cleaned = pd.DataFrame()\n",
        "df_cleaned['index'] = df['index']\n",
        "df_cleaned['text'] = df['text']\n",
        "df_cleaned.to_csv(\"capstonetweetcleaned.csv\", index=False)"
      ],
      "execution_count": 50,
      "outputs": []
    },
    {
      "cell_type": "markdown",
      "metadata": {
        "id": "Y_u8oSdzEerd"
      },
      "source": [
        "#Additional Data Cleaning (Post Data)"
      ]
    },
    {
      "cell_type": "code",
      "metadata": {
        "colab": {
          "base_uri": "https://localhost:8080/",
          "height": 0
        },
        "id": "h-KmOg5XEmkK",
        "outputId": "83788e47-381b-4f4a-d6ce-61ff612be14c"
      },
      "source": [
        "'''\n",
        "Project: Bangkit Capstone Project\n",
        "Group: B21-CAP0194\n",
        "Part: Additional Post Data - Data Cleaning\n",
        "'''"
      ],
      "execution_count": 51,
      "outputs": [
        {
          "output_type": "execute_result",
          "data": {
            "application/vnd.google.colaboratory.intrinsic+json": {
              "type": "string"
            },
            "text/plain": [
              "'\\nProject: Bangkit Capstone Project\\nGroup: B21-CAP0194\\nPart: Additional Post Data - Data Cleaning\\n'"
            ]
          },
          "metadata": {
            "tags": []
          },
          "execution_count": 51
        }
      ]
    },
    {
      "cell_type": "code",
      "metadata": {
        "colab": {
          "base_uri": "https://localhost:8080/",
          "height": 0
        },
        "id": "xl6z3FdPEsI5",
        "outputId": "f247a659-7f66-4b8c-cdb8-8aff1cf9a74b"
      },
      "source": [
        "#Import Additional Post Dataset\n",
        "url_one = 'https://drive.google.com/file/d/19TrifGssrQn9AtTbW-AtBOMJgN65nCll/view?usp=sharing'\n",
        "file_id_one = url_one.split('/')[-2]\n",
        "csv_url_one = 'https://drive.google.com/uc?id=' + file_id_one\n",
        "df = pd.read_csv(csv_url_one, encoding = \"ISO-8859-1\")\n",
        "df.head()"
      ],
      "execution_count": 52,
      "outputs": [
        {
          "output_type": "execute_result",
          "data": {
            "text/html": [
              "<div>\n",
              "<style scoped>\n",
              "    .dataframe tbody tr th:only-of-type {\n",
              "        vertical-align: middle;\n",
              "    }\n",
              "\n",
              "    .dataframe tbody tr th {\n",
              "        vertical-align: top;\n",
              "    }\n",
              "\n",
              "    .dataframe thead th {\n",
              "        text-align: right;\n",
              "    }\n",
              "</style>\n",
              "<table border=\"1\" class=\"dataframe\">\n",
              "  <thead>\n",
              "    <tr style=\"text-align: right;\">\n",
              "      <th></th>\n",
              "      <th>text</th>\n",
              "      <th>label</th>\n",
              "    </tr>\n",
              "  </thead>\n",
              "  <tbody>\n",
              "    <tr>\n",
              "      <th>0</th>\n",
              "      <td>Schwartz and Southern also constructed four se...</td>\n",
              "      <td>Siber</td>\n",
              "    </tr>\n",
              "    <tr>\n",
              "      <th>1</th>\n",
              "      <td>If you think Internet flirting andÿcybersexÿar...</td>\n",
              "      <td>Siber</td>\n",
              "    </tr>\n",
              "    <tr>\n",
              "      <th>2</th>\n",
              "      <td>If a relationship were strong in the first pla...</td>\n",
              "      <td>Siber</td>\n",
              "    </tr>\n",
              "    <tr>\n",
              "      <th>3</th>\n",
              "      <td>Then, of course, there'sÿcybersex, which mostl...</td>\n",
              "      <td>Siber</td>\n",
              "    </tr>\n",
              "    <tr>\n",
              "      <th>4</th>\n",
              "      <td>She says that it is a daily occurrence to be i...</td>\n",
              "      <td>Siber</td>\n",
              "    </tr>\n",
              "  </tbody>\n",
              "</table>\n",
              "</div>"
            ],
            "text/plain": [
              "                                                text  label\n",
              "0  Schwartz and Southern also constructed four se...  Siber\n",
              "1  If you think Internet flirting andÿcybersexÿar...  Siber\n",
              "2  If a relationship were strong in the first pla...  Siber\n",
              "3  Then, of course, there'sÿcybersex, which mostl...  Siber\n",
              "4  She says that it is a daily occurrence to be i...  Siber"
            ]
          },
          "metadata": {
            "tags": []
          },
          "execution_count": 52
        }
      ]
    },
    {
      "cell_type": "code",
      "metadata": {
        "colab": {
          "base_uri": "https://localhost:8080/",
          "height": 0
        },
        "id": "TKOMsfEPEvzL",
        "outputId": "f7fcc456-861e-4024-9168-1103b4671ecc"
      },
      "source": [
        "df.head()"
      ],
      "execution_count": 53,
      "outputs": [
        {
          "output_type": "execute_result",
          "data": {
            "text/html": [
              "<div>\n",
              "<style scoped>\n",
              "    .dataframe tbody tr th:only-of-type {\n",
              "        vertical-align: middle;\n",
              "    }\n",
              "\n",
              "    .dataframe tbody tr th {\n",
              "        vertical-align: top;\n",
              "    }\n",
              "\n",
              "    .dataframe thead th {\n",
              "        text-align: right;\n",
              "    }\n",
              "</style>\n",
              "<table border=\"1\" class=\"dataframe\">\n",
              "  <thead>\n",
              "    <tr style=\"text-align: right;\">\n",
              "      <th></th>\n",
              "      <th>text</th>\n",
              "      <th>label</th>\n",
              "    </tr>\n",
              "  </thead>\n",
              "  <tbody>\n",
              "    <tr>\n",
              "      <th>0</th>\n",
              "      <td>Schwartz and Southern also constructed four se...</td>\n",
              "      <td>Siber</td>\n",
              "    </tr>\n",
              "    <tr>\n",
              "      <th>1</th>\n",
              "      <td>If you think Internet flirting andÿcybersexÿar...</td>\n",
              "      <td>Siber</td>\n",
              "    </tr>\n",
              "    <tr>\n",
              "      <th>2</th>\n",
              "      <td>If a relationship were strong in the first pla...</td>\n",
              "      <td>Siber</td>\n",
              "    </tr>\n",
              "    <tr>\n",
              "      <th>3</th>\n",
              "      <td>Then, of course, there'sÿcybersex, which mostl...</td>\n",
              "      <td>Siber</td>\n",
              "    </tr>\n",
              "    <tr>\n",
              "      <th>4</th>\n",
              "      <td>She says that it is a daily occurrence to be i...</td>\n",
              "      <td>Siber</td>\n",
              "    </tr>\n",
              "  </tbody>\n",
              "</table>\n",
              "</div>"
            ],
            "text/plain": [
              "                                                text  label\n",
              "0  Schwartz and Southern also constructed four se...  Siber\n",
              "1  If you think Internet flirting andÿcybersexÿar...  Siber\n",
              "2  If a relationship were strong in the first pla...  Siber\n",
              "3  Then, of course, there'sÿcybersex, which mostl...  Siber\n",
              "4  She says that it is a daily occurrence to be i...  Siber"
            ]
          },
          "metadata": {
            "tags": []
          },
          "execution_count": 53
        }
      ]
    },
    {
      "cell_type": "code",
      "metadata": {
        "colab": {
          "base_uri": "https://localhost:8080/"
        },
        "id": "sycaoHsmEwcr",
        "outputId": "7cee91d2-1a9c-49d0-ce78-e1db082e9083"
      },
      "source": [
        "df.shape"
      ],
      "execution_count": 54,
      "outputs": [
        {
          "output_type": "execute_result",
          "data": {
            "text/plain": [
              "(1347, 2)"
            ]
          },
          "metadata": {
            "tags": []
          },
          "execution_count": 54
        }
      ]
    },
    {
      "cell_type": "code",
      "metadata": {
        "colab": {
          "base_uri": "https://localhost:8080/",
          "height": 0
        },
        "id": "nf4JMi37Ey5l",
        "outputId": "c780c3dc-2c54-41e7-8564-ac34a84557b5"
      },
      "source": [
        "#Safe Clean (Cleaning the new line command before it get removed by the next regex)\n",
        "df['text'] =  [re.sub(r\"\\\\n\", \" \", str(j)) for j in df['text']]\n",
        "\n",
        "#Cleaning the 'b', Retweet, Unicode (\\\\x08\\,\\\\xef\\,etc), Mentions, Hashtags, Links, and '&amp'.\n",
        "df['text'] =  [re.sub(r\"^b|RT|\\\\\\\\x[\\w][\\w]|\\@[\\w\\_]*|\\#[\\w]*|http\\S+|\\&amp\", \" \", str(j)) for j in df['text']]\n",
        "\n",
        "#Clean other non-alphabetic character\n",
        "df['text'] =  [re.sub(r\"[^a-zA-Z ]+\", \" \", str(j)) for j in df['text']]\n",
        "\n",
        "#Clean extra space in the beginning, middle, and last of the sentence\n",
        "df['text'] = df['text'].apply(lambda x: x.strip()).apply(lambda x: \" \".join(x.split()))\n",
        "\n",
        "#Adding space after slash\n",
        "df['text'] =  [re.sub(r\"\\/\", \" \", str(j)) for j in df['text']]\n",
        "df.head()"
      ],
      "execution_count": 55,
      "outputs": [
        {
          "output_type": "execute_result",
          "data": {
            "text/html": [
              "<div>\n",
              "<style scoped>\n",
              "    .dataframe tbody tr th:only-of-type {\n",
              "        vertical-align: middle;\n",
              "    }\n",
              "\n",
              "    .dataframe tbody tr th {\n",
              "        vertical-align: top;\n",
              "    }\n",
              "\n",
              "    .dataframe thead th {\n",
              "        text-align: right;\n",
              "    }\n",
              "</style>\n",
              "<table border=\"1\" class=\"dataframe\">\n",
              "  <thead>\n",
              "    <tr style=\"text-align: right;\">\n",
              "      <th></th>\n",
              "      <th>text</th>\n",
              "      <th>label</th>\n",
              "    </tr>\n",
              "  </thead>\n",
              "  <tbody>\n",
              "    <tr>\n",
              "      <th>0</th>\n",
              "      <td>Schwartz and Southern also constructed four se...</td>\n",
              "      <td>Siber</td>\n",
              "    </tr>\n",
              "    <tr>\n",
              "      <th>1</th>\n",
              "      <td>If you think Internet flirting and cybersex ar...</td>\n",
              "      <td>Siber</td>\n",
              "    </tr>\n",
              "    <tr>\n",
              "      <th>2</th>\n",
              "      <td>If a relationship were strong in the first pla...</td>\n",
              "      <td>Siber</td>\n",
              "    </tr>\n",
              "    <tr>\n",
              "      <th>3</th>\n",
              "      <td>Then of course there s cybersex which mostly c...</td>\n",
              "      <td>Siber</td>\n",
              "    </tr>\n",
              "    <tr>\n",
              "      <th>4</th>\n",
              "      <td>She says that it is a daily occurrence to be i...</td>\n",
              "      <td>Siber</td>\n",
              "    </tr>\n",
              "  </tbody>\n",
              "</table>\n",
              "</div>"
            ],
            "text/plain": [
              "                                                text  label\n",
              "0  Schwartz and Southern also constructed four se...  Siber\n",
              "1  If you think Internet flirting and cybersex ar...  Siber\n",
              "2  If a relationship were strong in the first pla...  Siber\n",
              "3  Then of course there s cybersex which mostly c...  Siber\n",
              "4  She says that it is a daily occurrence to be i...  Siber"
            ]
          },
          "metadata": {
            "tags": []
          },
          "execution_count": 55
        }
      ]
    },
    {
      "cell_type": "code",
      "metadata": {
        "id": "6-FSitO5E1Kl"
      },
      "source": [
        "#Transform the text into lowercase\n",
        "df['text'] = df['text'].str.lower()"
      ],
      "execution_count": 56,
      "outputs": []
    },
    {
      "cell_type": "code",
      "metadata": {
        "id": "K555sNoJE_3p"
      },
      "source": [
        "#Drop any duplicate row\n",
        "df = df.drop_duplicates()"
      ],
      "execution_count": 57,
      "outputs": []
    },
    {
      "cell_type": "code",
      "metadata": {
        "id": "-JCOF5JxFAn5"
      },
      "source": [
        "#Fill up the empty cells\n",
        "df['text'].replace('', np.nan, inplace=True)"
      ],
      "execution_count": 58,
      "outputs": []
    },
    {
      "cell_type": "code",
      "metadata": {
        "id": "aVzJb7F5FDCM"
      },
      "source": [
        "#Drop empty cells\n",
        "df.dropna(subset=['text'], inplace=True)"
      ],
      "execution_count": 59,
      "outputs": []
    },
    {
      "cell_type": "code",
      "metadata": {
        "id": "B-QzXIMRFE8N"
      },
      "source": [
        "#Create Index\n",
        "df['index'] = range(0, len(df.index), 1)"
      ],
      "execution_count": 60,
      "outputs": []
    },
    {
      "cell_type": "code",
      "metadata": {
        "id": "LuNnsIP-FHDX"
      },
      "source": [
        "#Save DataFrame to CSV\n",
        "df_cleaned = pd.DataFrame()\n",
        "df_cleaned['index'] = df['index']\n",
        "df_cleaned['text'] = df['text']\n",
        "df_cleaned['label'] = df['label']\n",
        "df_cleaned.to_csv(\"capstoneaddposttweetcleaned.csv\", index=False, encoding='utf-8')"
      ],
      "execution_count": 61,
      "outputs": []
    },
    {
      "cell_type": "markdown",
      "metadata": {
        "id": "iVGI2XzKFiOz"
      },
      "source": [
        "#Additional Data Cleaning (Laporan Data)"
      ]
    },
    {
      "cell_type": "code",
      "metadata": {
        "id": "wbaRKcvkFmyP",
        "colab": {
          "base_uri": "https://localhost:8080/",
          "height": 0
        },
        "outputId": "a04e2d09-20aa-42bb-fd3e-2a78a62f8510"
      },
      "source": [
        "'''\n",
        "Project: Bangkit Capstone Project\n",
        "Group: B21-CAP0194\n",
        "Part: Additional Laporan Data - Data Cleaning\n",
        "'''"
      ],
      "execution_count": 62,
      "outputs": [
        {
          "output_type": "execute_result",
          "data": {
            "application/vnd.google.colaboratory.intrinsic+json": {
              "type": "string"
            },
            "text/plain": [
              "'\\nProject: Bangkit Capstone Project\\nGroup: B21-CAP0194\\nPart: Additional Laporan Data - Data Cleaning\\n'"
            ]
          },
          "metadata": {
            "tags": []
          },
          "execution_count": 62
        }
      ]
    },
    {
      "cell_type": "code",
      "metadata": {
        "id": "VUvytDaUFw6c",
        "colab": {
          "base_uri": "https://localhost:8080/",
          "height": 0
        },
        "outputId": "c0ea0d97-1b82-4847-d662-1c5b325bfa96"
      },
      "source": [
        "#Import Additional Laporan Dataset\n",
        "url_one = 'https://drive.google.com/file/d/1NUCUCuKaL0CYq2gdNueUq2BrN4cU7NeJ/view?usp=sharing'\n",
        "file_id_one = url_one.split('/')[-2]\n",
        "csv_url_one = 'https://drive.google.com/uc?id=' + file_id_one\n",
        "df = pd.read_csv(csv_url_one, encoding = \"ISO-8859-1\")\n",
        "df.head()"
      ],
      "execution_count": 63,
      "outputs": [
        {
          "output_type": "execute_result",
          "data": {
            "text/html": [
              "<div>\n",
              "<style scoped>\n",
              "    .dataframe tbody tr th:only-of-type {\n",
              "        vertical-align: middle;\n",
              "    }\n",
              "\n",
              "    .dataframe tbody tr th {\n",
              "        vertical-align: top;\n",
              "    }\n",
              "\n",
              "    .dataframe thead th {\n",
              "        text-align: right;\n",
              "    }\n",
              "</style>\n",
              "<table border=\"1\" class=\"dataframe\">\n",
              "  <thead>\n",
              "    <tr style=\"text-align: right;\">\n",
              "      <th></th>\n",
              "      <th>text</th>\n",
              "      <th>label</th>\n",
              "    </tr>\n",
              "  </thead>\n",
              "  <tbody>\n",
              "    <tr>\n",
              "      <th>0</th>\n",
              "      <td>Some people have become so dependent onÿpsychi...</td>\n",
              "      <td>Kekerasan Psikis</td>\n",
              "    </tr>\n",
              "    <tr>\n",
              "      <th>1</th>\n",
              "      <td>Franzen has always been fond of putting his ch...</td>\n",
              "      <td>Kekerasan Psikis</td>\n",
              "    </tr>\n",
              "    <tr>\n",
              "      <th>2</th>\n",
              "      <td>guilt and shame add to theirÿpsychicÿstate;</td>\n",
              "      <td>Kekerasan Psikis</td>\n",
              "    </tr>\n",
              "    <tr>\n",
              "      <th>3</th>\n",
              "      <td>It?s aÿpsychicÿspace in which you feel at once...</td>\n",
              "      <td>Kekerasan Psikis</td>\n",
              "    </tr>\n",
              "    <tr>\n",
              "      <th>4</th>\n",
              "      <td>Some were trampled in the rush and others surv...</td>\n",
              "      <td>Kekerasan Psikis</td>\n",
              "    </tr>\n",
              "  </tbody>\n",
              "</table>\n",
              "</div>"
            ],
            "text/plain": [
              "                                                text             label\n",
              "0  Some people have become so dependent onÿpsychi...  Kekerasan Psikis\n",
              "1  Franzen has always been fond of putting his ch...  Kekerasan Psikis\n",
              "2        guilt and shame add to theirÿpsychicÿstate;  Kekerasan Psikis\n",
              "3  It?s aÿpsychicÿspace in which you feel at once...  Kekerasan Psikis\n",
              "4  Some were trampled in the rush and others surv...  Kekerasan Psikis"
            ]
          },
          "metadata": {
            "tags": []
          },
          "execution_count": 63
        }
      ]
    },
    {
      "cell_type": "code",
      "metadata": {
        "id": "Sc5FOTXaF02i",
        "colab": {
          "base_uri": "https://localhost:8080/",
          "height": 0
        },
        "outputId": "788113b0-f570-45aa-daff-f16ec4be745e"
      },
      "source": [
        "df.head()"
      ],
      "execution_count": 64,
      "outputs": [
        {
          "output_type": "execute_result",
          "data": {
            "text/html": [
              "<div>\n",
              "<style scoped>\n",
              "    .dataframe tbody tr th:only-of-type {\n",
              "        vertical-align: middle;\n",
              "    }\n",
              "\n",
              "    .dataframe tbody tr th {\n",
              "        vertical-align: top;\n",
              "    }\n",
              "\n",
              "    .dataframe thead th {\n",
              "        text-align: right;\n",
              "    }\n",
              "</style>\n",
              "<table border=\"1\" class=\"dataframe\">\n",
              "  <thead>\n",
              "    <tr style=\"text-align: right;\">\n",
              "      <th></th>\n",
              "      <th>text</th>\n",
              "      <th>label</th>\n",
              "    </tr>\n",
              "  </thead>\n",
              "  <tbody>\n",
              "    <tr>\n",
              "      <th>0</th>\n",
              "      <td>Some people have become so dependent onÿpsychi...</td>\n",
              "      <td>Kekerasan Psikis</td>\n",
              "    </tr>\n",
              "    <tr>\n",
              "      <th>1</th>\n",
              "      <td>Franzen has always been fond of putting his ch...</td>\n",
              "      <td>Kekerasan Psikis</td>\n",
              "    </tr>\n",
              "    <tr>\n",
              "      <th>2</th>\n",
              "      <td>guilt and shame add to theirÿpsychicÿstate;</td>\n",
              "      <td>Kekerasan Psikis</td>\n",
              "    </tr>\n",
              "    <tr>\n",
              "      <th>3</th>\n",
              "      <td>It?s aÿpsychicÿspace in which you feel at once...</td>\n",
              "      <td>Kekerasan Psikis</td>\n",
              "    </tr>\n",
              "    <tr>\n",
              "      <th>4</th>\n",
              "      <td>Some were trampled in the rush and others surv...</td>\n",
              "      <td>Kekerasan Psikis</td>\n",
              "    </tr>\n",
              "  </tbody>\n",
              "</table>\n",
              "</div>"
            ],
            "text/plain": [
              "                                                text             label\n",
              "0  Some people have become so dependent onÿpsychi...  Kekerasan Psikis\n",
              "1  Franzen has always been fond of putting his ch...  Kekerasan Psikis\n",
              "2        guilt and shame add to theirÿpsychicÿstate;  Kekerasan Psikis\n",
              "3  It?s aÿpsychicÿspace in which you feel at once...  Kekerasan Psikis\n",
              "4  Some were trampled in the rush and others surv...  Kekerasan Psikis"
            ]
          },
          "metadata": {
            "tags": []
          },
          "execution_count": 64
        }
      ]
    },
    {
      "cell_type": "code",
      "metadata": {
        "id": "To4WcqX1F10u",
        "colab": {
          "base_uri": "https://localhost:8080/"
        },
        "outputId": "440c2462-67e3-4133-c5eb-767ca77c6807"
      },
      "source": [
        "df.shape"
      ],
      "execution_count": 65,
      "outputs": [
        {
          "output_type": "execute_result",
          "data": {
            "text/plain": [
              "(970, 2)"
            ]
          },
          "metadata": {
            "tags": []
          },
          "execution_count": 65
        }
      ]
    },
    {
      "cell_type": "code",
      "metadata": {
        "id": "r2FY5fmqF3EE",
        "colab": {
          "base_uri": "https://localhost:8080/",
          "height": 0
        },
        "outputId": "8f4eea4b-e4a9-43c8-c0e2-19aedebdbed8"
      },
      "source": [
        "#Safe Clean (Cleaning the new line command before it get removed by the next regex)\n",
        "df['text'] =  [re.sub(r\"\\\\n\", \" \", str(j)) for j in df['text']]\n",
        "\n",
        "#Cleaning the 'b', Retweet, Unicode (\\\\x08\\,\\\\xef\\,etc), Mentions, Hashtags, Links, and '&amp'.\n",
        "df['text'] =  [re.sub(r\"^b|RT|\\\\\\\\x[\\w][\\w]|\\@[\\w\\_]*|\\#[\\w]*|http\\S+|\\&amp\", \" \", str(j)) for j in df['text']]\n",
        "\n",
        "#Clean other non-alphabetic character\n",
        "df['text'] =  [re.sub(r\"[^a-zA-Z ]+\", \" \", str(j)) for j in df['text']]\n",
        "\n",
        "#Clean extra space in the beginning, middle, and last of the sentence\n",
        "df['text'] = df['text'].apply(lambda x: x.strip()).apply(lambda x: \" \".join(x.split()))\n",
        "\n",
        "#Adding space after slash\n",
        "df['text'] =  [re.sub(r\"\\/\", \" \", str(j)) for j in df['text']]\n",
        "df.head()"
      ],
      "execution_count": 66,
      "outputs": [
        {
          "output_type": "execute_result",
          "data": {
            "text/html": [
              "<div>\n",
              "<style scoped>\n",
              "    .dataframe tbody tr th:only-of-type {\n",
              "        vertical-align: middle;\n",
              "    }\n",
              "\n",
              "    .dataframe tbody tr th {\n",
              "        vertical-align: top;\n",
              "    }\n",
              "\n",
              "    .dataframe thead th {\n",
              "        text-align: right;\n",
              "    }\n",
              "</style>\n",
              "<table border=\"1\" class=\"dataframe\">\n",
              "  <thead>\n",
              "    <tr style=\"text-align: right;\">\n",
              "      <th></th>\n",
              "      <th>text</th>\n",
              "      <th>label</th>\n",
              "    </tr>\n",
              "  </thead>\n",
              "  <tbody>\n",
              "    <tr>\n",
              "      <th>0</th>\n",
              "      <td>Some people have become so dependent on psychi...</td>\n",
              "      <td>Kekerasan Psikis</td>\n",
              "    </tr>\n",
              "    <tr>\n",
              "      <th>1</th>\n",
              "      <td>Franzen has always been fond of putting his ch...</td>\n",
              "      <td>Kekerasan Psikis</td>\n",
              "    </tr>\n",
              "    <tr>\n",
              "      <th>2</th>\n",
              "      <td>guilt and shame add to their psychic state</td>\n",
              "      <td>Kekerasan Psikis</td>\n",
              "    </tr>\n",
              "    <tr>\n",
              "      <th>3</th>\n",
              "      <td>It s a psychic space in which you feel at once...</td>\n",
              "      <td>Kekerasan Psikis</td>\n",
              "    </tr>\n",
              "    <tr>\n",
              "      <th>4</th>\n",
              "      <td>Some were trampled in the rush and others surv...</td>\n",
              "      <td>Kekerasan Psikis</td>\n",
              "    </tr>\n",
              "  </tbody>\n",
              "</table>\n",
              "</div>"
            ],
            "text/plain": [
              "                                                text             label\n",
              "0  Some people have become so dependent on psychi...  Kekerasan Psikis\n",
              "1  Franzen has always been fond of putting his ch...  Kekerasan Psikis\n",
              "2         guilt and shame add to their psychic state  Kekerasan Psikis\n",
              "3  It s a psychic space in which you feel at once...  Kekerasan Psikis\n",
              "4  Some were trampled in the rush and others surv...  Kekerasan Psikis"
            ]
          },
          "metadata": {
            "tags": []
          },
          "execution_count": 66
        }
      ]
    },
    {
      "cell_type": "code",
      "metadata": {
        "id": "_0tHcyhXF4s4"
      },
      "source": [
        "#Transform the text into lowercase\n",
        "df['text'] = df['text'].str.lower()"
      ],
      "execution_count": 67,
      "outputs": []
    },
    {
      "cell_type": "code",
      "metadata": {
        "id": "GrJ66F4HF5zt"
      },
      "source": [
        "#Drop any duplicate row\n",
        "df = df.drop_duplicates()"
      ],
      "execution_count": 68,
      "outputs": []
    },
    {
      "cell_type": "code",
      "metadata": {
        "id": "Q1-pPd6ZF7DG"
      },
      "source": [
        "#Fill up the empty cells\n",
        "df['text'].replace('', np.nan, inplace=True)"
      ],
      "execution_count": 69,
      "outputs": []
    },
    {
      "cell_type": "code",
      "metadata": {
        "id": "hijPkUaOF8Kx"
      },
      "source": [
        "#Drop empty cells\n",
        "df.dropna(subset=['text'], inplace=True)"
      ],
      "execution_count": 70,
      "outputs": []
    },
    {
      "cell_type": "code",
      "metadata": {
        "id": "EVWApZ6TF9Wi"
      },
      "source": [
        "#Create Index\n",
        "df['index'] = range(0, len(df.index), 1)"
      ],
      "execution_count": 71,
      "outputs": []
    },
    {
      "cell_type": "code",
      "metadata": {
        "id": "VHxacMcBF-sF"
      },
      "source": [
        "#Save DataFrame to CSV\n",
        "df_cleaned = pd.DataFrame()\n",
        "df_cleaned['index'] = df['index']\n",
        "df_cleaned['text'] = df['text']\n",
        "df_cleaned['label'] = df['label']\n",
        "df_cleaned.to_csv(\"capstoneaddlaporantweetcleaned.csv\", index=False, encoding='utf-8')"
      ],
      "execution_count": 72,
      "outputs": []
    }
  ]
}