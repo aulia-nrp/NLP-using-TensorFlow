{
  "nbformat": 4,
  "nbformat_minor": 0,
  "metadata": {
    "colab": {
      "name": "Data Cleaning - B21-CAP0194.ipynb",
      "provenance": [],
      "collapsed_sections": []
    },
    "kernelspec": {
      "name": "python3",
      "display_name": "Python 3"
    },
    "language_info": {
      "name": "python"
    }
  },
  "cells": [
    {
      "cell_type": "code",
      "metadata": {
        "id": "NmF9jQCl8dJr",
        "colab": {
          "base_uri": "https://localhost:8080/",
          "height": 35
        },
        "outputId": "b664d7ab-1b59-4ad5-c23c-678c06629bc7"
      },
      "source": [
        "'''\n",
        "Project: Bangkit Capstone Project\n",
        "Group: B21-CAP0194\n",
        "Part: Data Cleaning\n",
        "'''"
      ],
      "execution_count": 53,
      "outputs": [
        {
          "output_type": "execute_result",
          "data": {
            "application/vnd.google.colaboratory.intrinsic+json": {
              "type": "string"
            },
            "text/plain": [
              "'\\nProject: Bangkit Capstone Project\\nGroup: B21-CAP0194\\nPart: Data Cleaning\\n'"
            ]
          },
          "metadata": {
            "tags": []
          },
          "execution_count": 53
        }
      ]
    },
    {
      "cell_type": "code",
      "metadata": {
        "id": "lTo6mU3igRmK"
      },
      "source": [
        "#Imports\n",
        "import pandas as pd\n",
        "import numpy as np\n",
        "import re"
      ],
      "execution_count": 54,
      "outputs": []
    },
    {
      "cell_type": "code",
      "metadata": {
        "colab": {
          "base_uri": "https://localhost:8080/",
          "height": 195
        },
        "id": "cLE7cyGmBJSb",
        "outputId": "5123c5d8-bcd3-4a06-dc21-1ce23d29da1c"
      },
      "source": [
        "#Import First Dataset\n",
        "url_one = 'https://drive.google.com/file/d/1lTvQke_pO35JgAj1Bzj5ULsA_gno94DQ/view?usp=sharing'\n",
        "file_id_one = url_one.split('/')[-2]\n",
        "csv_url_one = 'https://drive.google.com/uc?id=' + file_id_one\n",
        "df_one = pd.read_csv(csv_url_one)\n",
        "df_one.head()"
      ],
      "execution_count": 55,
      "outputs": [
        {
          "output_type": "execute_result",
          "data": {
            "text/html": [
              "<div>\n",
              "<style scoped>\n",
              "    .dataframe tbody tr th:only-of-type {\n",
              "        vertical-align: middle;\n",
              "    }\n",
              "\n",
              "    .dataframe tbody tr th {\n",
              "        vertical-align: top;\n",
              "    }\n",
              "\n",
              "    .dataframe thead th {\n",
              "        text-align: right;\n",
              "    }\n",
              "</style>\n",
              "<table border=\"1\" class=\"dataframe\">\n",
              "  <thead>\n",
              "    <tr style=\"text-align: right;\">\n",
              "      <th></th>\n",
              "      <th>index</th>\n",
              "      <th>user_id</th>\n",
              "      <th>timestamp</th>\n",
              "      <th>text</th>\n",
              "    </tr>\n",
              "  </thead>\n",
              "  <tbody>\n",
              "    <tr>\n",
              "      <th>0</th>\n",
              "      <td>1</td>\n",
              "      <td>420319697</td>\n",
              "      <td>2021-04-23 23:20:32</td>\n",
              "      <td>b\\'\"The ironies of the #MeToo movement are too...</td>\n",
              "    </tr>\n",
              "    <tr>\n",
              "      <th>1</th>\n",
              "      <td>2</td>\n",
              "      <td>b\"33979748</td>\n",
              "      <td>2021-04-23 23:20:23</td>\n",
              "      <td>RT @WomenReadWomen: Women in Kuwait have launc...</td>\n",
              "    </tr>\n",
              "    <tr>\n",
              "      <th>2</th>\n",
              "      <td>3</td>\n",
              "      <td>b\"2891085942</td>\n",
              "      <td>2021-04-23 23:20:19</td>\n",
              "      <td>RT @j_andreamolina: \\\\xe2\\\\x9a\\\\xa0\\\\xef\\\\xb8\\...</td>\n",
              "    </tr>\n",
              "    <tr>\n",
              "      <th>3</th>\n",
              "      <td>4</td>\n",
              "      <td>b\"2383033227</td>\n",
              "      <td>2021-04-23 23:19:13</td>\n",
              "      <td>RT @SammiStitches: Charges brought against the...</td>\n",
              "    </tr>\n",
              "    <tr>\n",
              "      <th>4</th>\n",
              "      <td>5</td>\n",
              "      <td>1060143967872917504</td>\n",
              "      <td>2021-04-23 23:18:41</td>\n",
              "      <td>b\"And the fourth presenter on 26th May is Hann...</td>\n",
              "    </tr>\n",
              "  </tbody>\n",
              "</table>\n",
              "</div>"
            ],
            "text/plain": [
              "   index  ...                                               text\n",
              "0      1  ...  b\\'\"The ironies of the #MeToo movement are too...\n",
              "1      2  ...  RT @WomenReadWomen: Women in Kuwait have launc...\n",
              "2      3  ...  RT @j_andreamolina: \\\\xe2\\\\x9a\\\\xa0\\\\xef\\\\xb8\\...\n",
              "3      4  ...  RT @SammiStitches: Charges brought against the...\n",
              "4      5  ...  b\"And the fourth presenter on 26th May is Hann...\n",
              "\n",
              "[5 rows x 4 columns]"
            ]
          },
          "metadata": {
            "tags": []
          },
          "execution_count": 55
        }
      ]
    },
    {
      "cell_type": "code",
      "metadata": {
        "colab": {
          "base_uri": "https://localhost:8080/",
          "height": 195
        },
        "id": "cnv3vKGHCIcu",
        "outputId": "217709b7-341c-4009-b2b4-ecca24508b8c"
      },
      "source": [
        "#Import Second Dataset\n",
        "url_two = 'https://drive.google.com/file/d/1xMEtidbapgBLs82ijoJvk0FsoPlL76yG/view?usp=sharing'\n",
        "file_id_two = url_two.split('/')[-2]\n",
        "csv_url_two = 'https://drive.google.com/uc?id=' + file_id_two\n",
        "df_two = pd.read_csv(csv_url_two)\n",
        "df_two.head()"
      ],
      "execution_count": 56,
      "outputs": [
        {
          "output_type": "execute_result",
          "data": {
            "text/html": [
              "<div>\n",
              "<style scoped>\n",
              "    .dataframe tbody tr th:only-of-type {\n",
              "        vertical-align: middle;\n",
              "    }\n",
              "\n",
              "    .dataframe tbody tr th {\n",
              "        vertical-align: top;\n",
              "    }\n",
              "\n",
              "    .dataframe thead th {\n",
              "        text-align: right;\n",
              "    }\n",
              "</style>\n",
              "<table border=\"1\" class=\"dataframe\">\n",
              "  <thead>\n",
              "    <tr style=\"text-align: right;\">\n",
              "      <th></th>\n",
              "      <th>index</th>\n",
              "      <th>user_id</th>\n",
              "      <th>timestamp</th>\n",
              "      <th>text</th>\n",
              "    </tr>\n",
              "  </thead>\n",
              "  <tbody>\n",
              "    <tr>\n",
              "      <th>0</th>\n",
              "      <td>1</td>\n",
              "      <td>406651200</td>\n",
              "      <td>2021-04-30 00:52:22</td>\n",
              "      <td>b\\'RT @ThatUmbrella: Advocates of #metoo shoul...</td>\n",
              "    </tr>\n",
              "    <tr>\n",
              "      <th>1</th>\n",
              "      <td>2</td>\n",
              "      <td>b\"1062082121353830402</td>\n",
              "      <td>2021-04-30 00:52:06</td>\n",
              "      <td>Boo another report while casualties pile up! Y...</td>\n",
              "    </tr>\n",
              "    <tr>\n",
              "      <th>2</th>\n",
              "      <td>3</td>\n",
              "      <td>957024565150011393</td>\n",
              "      <td>2021-04-30 00:51:51</td>\n",
              "      <td>b\"RT @MsAmyMacPherson: 1/9 There\\'s a SUPER HU...</td>\n",
              "    </tr>\n",
              "    <tr>\n",
              "      <th>3</th>\n",
              "      <td>4</td>\n",
              "      <td>1164570123111292928</td>\n",
              "      <td>2021-04-30 00:51:37</td>\n",
              "      <td>b\"RT @RaquelDancho: Important to note: if the ...</td>\n",
              "    </tr>\n",
              "    <tr>\n",
              "      <th>4</th>\n",
              "      <td>5</td>\n",
              "      <td>b\"1928003306</td>\n",
              "      <td>2021-04-30 00:50:49</td>\n",
              "      <td>RT @Aspasia_1: Basically .@MetOpera could have...</td>\n",
              "    </tr>\n",
              "  </tbody>\n",
              "</table>\n",
              "</div>"
            ],
            "text/plain": [
              "   index  ...                                               text\n",
              "0      1  ...  b\\'RT @ThatUmbrella: Advocates of #metoo shoul...\n",
              "1      2  ...  Boo another report while casualties pile up! Y...\n",
              "2      3  ...  b\"RT @MsAmyMacPherson: 1/9 There\\'s a SUPER HU...\n",
              "3      4  ...  b\"RT @RaquelDancho: Important to note: if the ...\n",
              "4      5  ...  RT @Aspasia_1: Basically .@MetOpera could have...\n",
              "\n",
              "[5 rows x 4 columns]"
            ]
          },
          "metadata": {
            "tags": []
          },
          "execution_count": 56
        }
      ]
    },
    {
      "cell_type": "code",
      "metadata": {
        "colab": {
          "base_uri": "https://localhost:8080/",
          "height": 195
        },
        "id": "EqF1nfy1Dlka",
        "outputId": "48b29d7f-9441-486d-eb6c-3b413b058f8f"
      },
      "source": [
        "#Import Third Dataset\n",
        "url_three = 'https://drive.google.com/file/d/1vNVBMchza3792vB16pGQwzHf65eJYlOB/view?usp=sharing'\n",
        "file_id_three = url_three.split('/')[-2]\n",
        "csv_url_three = 'https://drive.google.com/uc?id=' + file_id_three\n",
        "df_three = pd.read_csv(csv_url_three)\n",
        "df_three.head()"
      ],
      "execution_count": 57,
      "outputs": [
        {
          "output_type": "execute_result",
          "data": {
            "text/html": [
              "<div>\n",
              "<style scoped>\n",
              "    .dataframe tbody tr th:only-of-type {\n",
              "        vertical-align: middle;\n",
              "    }\n",
              "\n",
              "    .dataframe tbody tr th {\n",
              "        vertical-align: top;\n",
              "    }\n",
              "\n",
              "    .dataframe thead th {\n",
              "        text-align: right;\n",
              "    }\n",
              "</style>\n",
              "<table border=\"1\" class=\"dataframe\">\n",
              "  <thead>\n",
              "    <tr style=\"text-align: right;\">\n",
              "      <th></th>\n",
              "      <th>index</th>\n",
              "      <th>user_id</th>\n",
              "      <th>timestamp</th>\n",
              "      <th>text</th>\n",
              "    </tr>\n",
              "  </thead>\n",
              "  <tbody>\n",
              "    <tr>\n",
              "      <th>0</th>\n",
              "      <td>1</td>\n",
              "      <td>b\"1256542308591378433</td>\n",
              "      <td>2021-05-05 23:34:50</td>\n",
              "      <td>RT @BombshellDAILY: REPUBLICAN BRUTALLY RAPES ...</td>\n",
              "    </tr>\n",
              "    <tr>\n",
              "      <th>1</th>\n",
              "      <td>2</td>\n",
              "      <td>14982231</td>\n",
              "      <td>2021-05-05 23:33:34</td>\n",
              "      <td>b\"Anthony Kiedis mocked those fighting Bin Lad...</td>\n",
              "    </tr>\n",
              "    <tr>\n",
              "      <th>2</th>\n",
              "      <td>3</td>\n",
              "      <td>b\"711294667</td>\n",
              "      <td>2021-05-05 23:32:57</td>\n",
              "      <td>RT @edrormba: Palestinian-American brings #MeT...</td>\n",
              "    </tr>\n",
              "    <tr>\n",
              "      <th>3</th>\n",
              "      <td>4</td>\n",
              "      <td>b\"925362823114485765</td>\n",
              "      <td>2021-05-05 23:32:57</td>\n",
              "      <td>RT @bette_oh: And, just like that, the #MeToo ...</td>\n",
              "    </tr>\n",
              "    <tr>\n",
              "      <th>4</th>\n",
              "      <td>5</td>\n",
              "      <td>b\"2323751900</td>\n",
              "      <td>2021-05-05 23:31:54</td>\n",
              "      <td>This guy was in #MeToo right?? https://t.co/zZ...</td>\n",
              "    </tr>\n",
              "  </tbody>\n",
              "</table>\n",
              "</div>"
            ],
            "text/plain": [
              "   index  ...                                               text\n",
              "0      1  ...  RT @BombshellDAILY: REPUBLICAN BRUTALLY RAPES ...\n",
              "1      2  ...  b\"Anthony Kiedis mocked those fighting Bin Lad...\n",
              "2      3  ...  RT @edrormba: Palestinian-American brings #MeT...\n",
              "3      4  ...  RT @bette_oh: And, just like that, the #MeToo ...\n",
              "4      5  ...  This guy was in #MeToo right?? https://t.co/zZ...\n",
              "\n",
              "[5 rows x 4 columns]"
            ]
          },
          "metadata": {
            "tags": []
          },
          "execution_count": 57
        }
      ]
    },
    {
      "cell_type": "code",
      "metadata": {
        "colab": {
          "base_uri": "https://localhost:8080/",
          "height": 195
        },
        "id": "0vZ8treWHdUi",
        "outputId": "59492489-11de-42aa-b75d-e3cc0bb1e08e"
      },
      "source": [
        "#Import Fourth Dataset\n",
        "url_four = 'https://drive.google.com/file/d/1vb98LLK4QPEzb5_jB0q19O1xU6WF3vgh/view?usp=sharing'\n",
        "file_id_four = url_four.split('/')[-2]\n",
        "csv_url_four = 'https://drive.google.com/uc?id=' + file_id_four\n",
        "df_four = pd.read_csv(csv_url_four)\n",
        "df_four.head()"
      ],
      "execution_count": 58,
      "outputs": [
        {
          "output_type": "execute_result",
          "data": {
            "text/html": [
              "<div>\n",
              "<style scoped>\n",
              "    .dataframe tbody tr th:only-of-type {\n",
              "        vertical-align: middle;\n",
              "    }\n",
              "\n",
              "    .dataframe tbody tr th {\n",
              "        vertical-align: top;\n",
              "    }\n",
              "\n",
              "    .dataframe thead th {\n",
              "        text-align: right;\n",
              "    }\n",
              "</style>\n",
              "<table border=\"1\" class=\"dataframe\">\n",
              "  <thead>\n",
              "    <tr style=\"text-align: right;\">\n",
              "      <th></th>\n",
              "      <th>index</th>\n",
              "      <th>user_id</th>\n",
              "      <th>timestamp</th>\n",
              "      <th>text</th>\n",
              "    </tr>\n",
              "  </thead>\n",
              "  <tbody>\n",
              "    <tr>\n",
              "      <th>0</th>\n",
              "      <td>1</td>\n",
              "      <td>b\"910867711</td>\n",
              "      <td>2021-05-11 22:35:48</td>\n",
              "      <td>RT @SVPAOfficial: As the movement continues to...</td>\n",
              "    </tr>\n",
              "    <tr>\n",
              "      <th>1</th>\n",
              "      <td>2</td>\n",
              "      <td>b\"109652571</td>\n",
              "      <td>2021-05-11 22:35:47</td>\n",
              "      <td>Sound like #SameGirl cuz #MeToo nigga \\\\xf0\\\\x...</td>\n",
              "    </tr>\n",
              "    <tr>\n",
              "      <th>2</th>\n",
              "      <td>3</td>\n",
              "      <td>b\"984531408</td>\n",
              "      <td>2021-05-11 22:34:43</td>\n",
              "      <td>RT @mommamia1217: B\\\\xf0\\\\x9f\\\\x94\\\\xa5\\\\xf0\\\\...</td>\n",
              "    </tr>\n",
              "    <tr>\n",
              "      <th>3</th>\n",
              "      <td>4</td>\n",
              "      <td>b\"398024643</td>\n",
              "      <td>2021-05-11 22:34:30</td>\n",
              "      <td>RT @mommamia1217: B\\\\xf0\\\\x9f\\\\x94\\\\xa5\\\\xf0\\\\...</td>\n",
              "    </tr>\n",
              "    <tr>\n",
              "      <th>4</th>\n",
              "      <td>5</td>\n",
              "      <td>b\"1056106760795127808</td>\n",
              "      <td>2021-05-11 22:33:52</td>\n",
              "      <td>RT @mommamia1217: B\\\\xf0\\\\x9f\\\\x94\\\\xa5\\\\xf0\\\\...</td>\n",
              "    </tr>\n",
              "  </tbody>\n",
              "</table>\n",
              "</div>"
            ],
            "text/plain": [
              "   index  ...                                               text\n",
              "0      1  ...  RT @SVPAOfficial: As the movement continues to...\n",
              "1      2  ...  Sound like #SameGirl cuz #MeToo nigga \\\\xf0\\\\x...\n",
              "2      3  ...  RT @mommamia1217: B\\\\xf0\\\\x9f\\\\x94\\\\xa5\\\\xf0\\\\...\n",
              "3      4  ...  RT @mommamia1217: B\\\\xf0\\\\x9f\\\\x94\\\\xa5\\\\xf0\\\\...\n",
              "4      5  ...  RT @mommamia1217: B\\\\xf0\\\\x9f\\\\x94\\\\xa5\\\\xf0\\\\...\n",
              "\n",
              "[5 rows x 4 columns]"
            ]
          },
          "metadata": {
            "tags": []
          },
          "execution_count": 58
        }
      ]
    },
    {
      "cell_type": "code",
      "metadata": {
        "colab": {
          "base_uri": "https://localhost:8080/",
          "height": 195
        },
        "id": "IaFwXXFzPr1E",
        "outputId": "f77aba5c-3aeb-44fc-d483-b7adffe97b2e"
      },
      "source": [
        "#Import Fifth Dataset\n",
        "url_five = 'https://drive.google.com/file/d/1HpNQ-YktcMS1lckdHJKyAGIoChWjaxhX/view?usp=sharing'\n",
        "file_id_five = url_five.split('/')[-2]\n",
        "csv_url_five = 'https://drive.google.com/uc?id=' + file_id_five\n",
        "df_five = pd.read_csv(csv_url_five)\n",
        "df_five.head()"
      ],
      "execution_count": 59,
      "outputs": [
        {
          "output_type": "execute_result",
          "data": {
            "text/html": [
              "<div>\n",
              "<style scoped>\n",
              "    .dataframe tbody tr th:only-of-type {\n",
              "        vertical-align: middle;\n",
              "    }\n",
              "\n",
              "    .dataframe tbody tr th {\n",
              "        vertical-align: top;\n",
              "    }\n",
              "\n",
              "    .dataframe thead th {\n",
              "        text-align: right;\n",
              "    }\n",
              "</style>\n",
              "<table border=\"1\" class=\"dataframe\">\n",
              "  <thead>\n",
              "    <tr style=\"text-align: right;\">\n",
              "      <th></th>\n",
              "      <th>index</th>\n",
              "      <th>user_id</th>\n",
              "      <th>timestamp</th>\n",
              "      <th>text</th>\n",
              "    </tr>\n",
              "  </thead>\n",
              "  <tbody>\n",
              "    <tr>\n",
              "      <th>0</th>\n",
              "      <td>1</td>\n",
              "      <td>b\"242997845</td>\n",
              "      <td>2021-05-17 23:51:31</td>\n",
              "      <td>RT @gbrockell: I first contacted Barbara in De...</td>\n",
              "    </tr>\n",
              "    <tr>\n",
              "      <th>1</th>\n",
              "      <td>2</td>\n",
              "      <td>b\"2417926471</td>\n",
              "      <td>2021-05-17 23:50:54</td>\n",
              "      <td>RT @ShefVaidya: This is Vinod Dua for you, the...</td>\n",
              "    </tr>\n",
              "    <tr>\n",
              "      <th>2</th>\n",
              "      <td>3</td>\n",
              "      <td>b\"1318072071860019201</td>\n",
              "      <td>2021-05-17 23:50:10</td>\n",
              "      <td>RT @ShefVaidya: This is Vinod Dua for you, the...</td>\n",
              "    </tr>\n",
              "    <tr>\n",
              "      <th>3</th>\n",
              "      <td>4</td>\n",
              "      <td>b\"25769038</td>\n",
              "      <td>2021-05-17 23:50:08</td>\n",
              "      <td>5.2 million Americans are living with #PTSD. \\...</td>\n",
              "    </tr>\n",
              "    <tr>\n",
              "      <th>4</th>\n",
              "      <td>5</td>\n",
              "      <td>232012364</td>\n",
              "      <td>2021-05-17 23:50:03</td>\n",
              "      <td>b\"RT @ghazalimohammad: First MLA Pargat Singh ...</td>\n",
              "    </tr>\n",
              "  </tbody>\n",
              "</table>\n",
              "</div>"
            ],
            "text/plain": [
              "   index  ...                                               text\n",
              "0      1  ...  RT @gbrockell: I first contacted Barbara in De...\n",
              "1      2  ...  RT @ShefVaidya: This is Vinod Dua for you, the...\n",
              "2      3  ...  RT @ShefVaidya: This is Vinod Dua for you, the...\n",
              "3      4  ...  5.2 million Americans are living with #PTSD. \\...\n",
              "4      5  ...  b\"RT @ghazalimohammad: First MLA Pargat Singh ...\n",
              "\n",
              "[5 rows x 4 columns]"
            ]
          },
          "metadata": {
            "tags": []
          },
          "execution_count": 59
        }
      ]
    },
    {
      "cell_type": "code",
      "metadata": {
        "colab": {
          "base_uri": "https://localhost:8080/",
          "height": 195
        },
        "id": "yeLAKsPmUkdQ",
        "outputId": "1f10fd36-ceea-44b9-95fe-6d7295c5ee40"
      },
      "source": [
        "#Import Sixth Dataset\n",
        "url_six = 'https://drive.google.com/file/d/16zIaxx9ua0hThr23x4N_cNhUymgsPBqC/view?usp=sharing'\n",
        "file_id_six = url_six.split('/')[-2]\n",
        "csv_url_six = 'https://drive.google.com/uc?id=' + file_id_six\n",
        "df_six = pd.read_csv(csv_url_six)\n",
        "df_six.head()"
      ],
      "execution_count": 60,
      "outputs": [
        {
          "output_type": "execute_result",
          "data": {
            "text/html": [
              "<div>\n",
              "<style scoped>\n",
              "    .dataframe tbody tr th:only-of-type {\n",
              "        vertical-align: middle;\n",
              "    }\n",
              "\n",
              "    .dataframe tbody tr th {\n",
              "        vertical-align: top;\n",
              "    }\n",
              "\n",
              "    .dataframe thead th {\n",
              "        text-align: right;\n",
              "    }\n",
              "</style>\n",
              "<table border=\"1\" class=\"dataframe\">\n",
              "  <thead>\n",
              "    <tr style=\"text-align: right;\">\n",
              "      <th></th>\n",
              "      <th>index</th>\n",
              "      <th>user_id</th>\n",
              "      <th>timestamp</th>\n",
              "      <th>text</th>\n",
              "    </tr>\n",
              "  </thead>\n",
              "  <tbody>\n",
              "    <tr>\n",
              "      <th>0</th>\n",
              "      <td>1</td>\n",
              "      <td>1162412003576598528</td>\n",
              "      <td>2021-05-23 19:22:52</td>\n",
              "      <td>b\"8:43 PM a while ago  I went to this store ne...</td>\n",
              "    </tr>\n",
              "    <tr>\n",
              "      <th>1</th>\n",
              "      <td>2</td>\n",
              "      <td>b\"1252585504974962689</td>\n",
              "      <td>2021-05-23 19:22:23</td>\n",
              "      <td>@theserfstv Ross bought $DOGE early and thinks...</td>\n",
              "    </tr>\n",
              "    <tr>\n",
              "      <th>2</th>\n",
              "      <td>3</td>\n",
              "      <td>b\"373826992</td>\n",
              "      <td>2021-05-23 19:22:12</td>\n",
              "      <td>John 1 Reading of Final Verses + Emergency Pra...</td>\n",
              "    </tr>\n",
              "    <tr>\n",
              "      <th>3</th>\n",
              "      <td>4</td>\n",
              "      <td>1293471556736364546</td>\n",
              "      <td>2021-05-23 19:20:25</td>\n",
              "      <td>b\"RT @Terrn1981: @jackappleby @Girlguiding Opp...</td>\n",
              "    </tr>\n",
              "    <tr>\n",
              "      <th>4</th>\n",
              "      <td>5</td>\n",
              "      <td>b\"373826992</td>\n",
              "      <td>2021-05-23 19:16:33</td>\n",
              "      <td>John 1 Reading of Final Verses + Emergency Pra...</td>\n",
              "    </tr>\n",
              "  </tbody>\n",
              "</table>\n",
              "</div>"
            ],
            "text/plain": [
              "   index  ...                                               text\n",
              "0      1  ...  b\"8:43 PM a while ago  I went to this store ne...\n",
              "1      2  ...  @theserfstv Ross bought $DOGE early and thinks...\n",
              "2      3  ...  John 1 Reading of Final Verses + Emergency Pra...\n",
              "3      4  ...  b\"RT @Terrn1981: @jackappleby @Girlguiding Opp...\n",
              "4      5  ...  John 1 Reading of Final Verses + Emergency Pra...\n",
              "\n",
              "[5 rows x 4 columns]"
            ]
          },
          "metadata": {
            "tags": []
          },
          "execution_count": 60
        }
      ]
    },
    {
      "cell_type": "code",
      "metadata": {
        "id": "AJLugW6zdLSK"
      },
      "source": [
        "#Combine All Dataset\n",
        "df = pd.concat([df_one, df_two, df_three, df_four, df_five, df_six])"
      ],
      "execution_count": 61,
      "outputs": []
    },
    {
      "cell_type": "code",
      "metadata": {
        "colab": {
          "base_uri": "https://localhost:8080/",
          "height": 195
        },
        "id": "DsedwIHqddig",
        "outputId": "a676dbbc-1765-4f87-8138-a33eaa776ec3"
      },
      "source": [
        "df.head()"
      ],
      "execution_count": 62,
      "outputs": [
        {
          "output_type": "execute_result",
          "data": {
            "text/html": [
              "<div>\n",
              "<style scoped>\n",
              "    .dataframe tbody tr th:only-of-type {\n",
              "        vertical-align: middle;\n",
              "    }\n",
              "\n",
              "    .dataframe tbody tr th {\n",
              "        vertical-align: top;\n",
              "    }\n",
              "\n",
              "    .dataframe thead th {\n",
              "        text-align: right;\n",
              "    }\n",
              "</style>\n",
              "<table border=\"1\" class=\"dataframe\">\n",
              "  <thead>\n",
              "    <tr style=\"text-align: right;\">\n",
              "      <th></th>\n",
              "      <th>index</th>\n",
              "      <th>user_id</th>\n",
              "      <th>timestamp</th>\n",
              "      <th>text</th>\n",
              "    </tr>\n",
              "  </thead>\n",
              "  <tbody>\n",
              "    <tr>\n",
              "      <th>0</th>\n",
              "      <td>1</td>\n",
              "      <td>420319697</td>\n",
              "      <td>2021-04-23 23:20:32</td>\n",
              "      <td>b\\'\"The ironies of the #MeToo movement are too...</td>\n",
              "    </tr>\n",
              "    <tr>\n",
              "      <th>1</th>\n",
              "      <td>2</td>\n",
              "      <td>b\"33979748</td>\n",
              "      <td>2021-04-23 23:20:23</td>\n",
              "      <td>RT @WomenReadWomen: Women in Kuwait have launc...</td>\n",
              "    </tr>\n",
              "    <tr>\n",
              "      <th>2</th>\n",
              "      <td>3</td>\n",
              "      <td>b\"2891085942</td>\n",
              "      <td>2021-04-23 23:20:19</td>\n",
              "      <td>RT @j_andreamolina: \\\\xe2\\\\x9a\\\\xa0\\\\xef\\\\xb8\\...</td>\n",
              "    </tr>\n",
              "    <tr>\n",
              "      <th>3</th>\n",
              "      <td>4</td>\n",
              "      <td>b\"2383033227</td>\n",
              "      <td>2021-04-23 23:19:13</td>\n",
              "      <td>RT @SammiStitches: Charges brought against the...</td>\n",
              "    </tr>\n",
              "    <tr>\n",
              "      <th>4</th>\n",
              "      <td>5</td>\n",
              "      <td>1060143967872917504</td>\n",
              "      <td>2021-04-23 23:18:41</td>\n",
              "      <td>b\"And the fourth presenter on 26th May is Hann...</td>\n",
              "    </tr>\n",
              "  </tbody>\n",
              "</table>\n",
              "</div>"
            ],
            "text/plain": [
              "   index  ...                                               text\n",
              "0      1  ...  b\\'\"The ironies of the #MeToo movement are too...\n",
              "1      2  ...  RT @WomenReadWomen: Women in Kuwait have launc...\n",
              "2      3  ...  RT @j_andreamolina: \\\\xe2\\\\x9a\\\\xa0\\\\xef\\\\xb8\\...\n",
              "3      4  ...  RT @SammiStitches: Charges brought against the...\n",
              "4      5  ...  b\"And the fourth presenter on 26th May is Hann...\n",
              "\n",
              "[5 rows x 4 columns]"
            ]
          },
          "metadata": {
            "tags": []
          },
          "execution_count": 62
        }
      ]
    },
    {
      "cell_type": "code",
      "metadata": {
        "colab": {
          "base_uri": "https://localhost:8080/"
        },
        "id": "-QT_s28rdgPQ",
        "outputId": "8232b29d-9a06-4c1a-b566-320739c1bddb"
      },
      "source": [
        "df.shape"
      ],
      "execution_count": 63,
      "outputs": [
        {
          "output_type": "execute_result",
          "data": {
            "text/plain": [
              "(46550, 4)"
            ]
          },
          "metadata": {
            "tags": []
          },
          "execution_count": 63
        }
      ]
    },
    {
      "cell_type": "code",
      "metadata": {
        "colab": {
          "base_uri": "https://localhost:8080/",
          "height": 402
        },
        "id": "6ewg6c2BgWl1",
        "outputId": "627f24f2-38f3-4e6c-b685-97b091112586"
      },
      "source": [
        "#Drop Columns\n",
        "df = df.drop(columns=['index', 'user_id', 'timestamp'])\n",
        "df"
      ],
      "execution_count": 64,
      "outputs": [
        {
          "output_type": "execute_result",
          "data": {
            "text/html": [
              "<div>\n",
              "<style scoped>\n",
              "    .dataframe tbody tr th:only-of-type {\n",
              "        vertical-align: middle;\n",
              "    }\n",
              "\n",
              "    .dataframe tbody tr th {\n",
              "        vertical-align: top;\n",
              "    }\n",
              "\n",
              "    .dataframe thead th {\n",
              "        text-align: right;\n",
              "    }\n",
              "</style>\n",
              "<table border=\"1\" class=\"dataframe\">\n",
              "  <thead>\n",
              "    <tr style=\"text-align: right;\">\n",
              "      <th></th>\n",
              "      <th>text</th>\n",
              "    </tr>\n",
              "  </thead>\n",
              "  <tbody>\n",
              "    <tr>\n",
              "      <th>0</th>\n",
              "      <td>b\\'\"The ironies of the #MeToo movement are too...</td>\n",
              "    </tr>\n",
              "    <tr>\n",
              "      <th>1</th>\n",
              "      <td>RT @WomenReadWomen: Women in Kuwait have launc...</td>\n",
              "    </tr>\n",
              "    <tr>\n",
              "      <th>2</th>\n",
              "      <td>RT @j_andreamolina: \\\\xe2\\\\x9a\\\\xa0\\\\xef\\\\xb8\\...</td>\n",
              "    </tr>\n",
              "    <tr>\n",
              "      <th>3</th>\n",
              "      <td>RT @SammiStitches: Charges brought against the...</td>\n",
              "    </tr>\n",
              "    <tr>\n",
              "      <th>4</th>\n",
              "      <td>b\"And the fourth presenter on 26th May is Hann...</td>\n",
              "    </tr>\n",
              "    <tr>\n",
              "      <th>...</th>\n",
              "      <td>...</td>\n",
              "    </tr>\n",
              "    <tr>\n",
              "      <th>8595</th>\n",
              "      <td>b\"Author releases debut novel inspired by Wore...</td>\n",
              "    </tr>\n",
              "    <tr>\n",
              "      <th>8596</th>\n",
              "      <td>b\"Pop world braces for a wave of #MeToo cases ...</td>\n",
              "    </tr>\n",
              "    <tr>\n",
              "      <th>8597</th>\n",
              "      <td>RT @Khushi4justice: Who paid Rajeev Masand  to...</td>\n",
              "    </tr>\n",
              "    <tr>\n",
              "      <th>8598</th>\n",
              "      <td>RT @AliaGvR: 15. So when you think of Arab/Afr...</td>\n",
              "    </tr>\n",
              "    <tr>\n",
              "      <th>8599</th>\n",
              "      <td>RT @mauracunningham: At the @NewYorker, Han Zh...</td>\n",
              "    </tr>\n",
              "  </tbody>\n",
              "</table>\n",
              "<p>46550 rows × 1 columns</p>\n",
              "</div>"
            ],
            "text/plain": [
              "                                                   text\n",
              "0     b\\'\"The ironies of the #MeToo movement are too...\n",
              "1     RT @WomenReadWomen: Women in Kuwait have launc...\n",
              "2     RT @j_andreamolina: \\\\xe2\\\\x9a\\\\xa0\\\\xef\\\\xb8\\...\n",
              "3     RT @SammiStitches: Charges brought against the...\n",
              "4     b\"And the fourth presenter on 26th May is Hann...\n",
              "...                                                 ...\n",
              "8595  b\"Author releases debut novel inspired by Wore...\n",
              "8596  b\"Pop world braces for a wave of #MeToo cases ...\n",
              "8597  RT @Khushi4justice: Who paid Rajeev Masand  to...\n",
              "8598  RT @AliaGvR: 15. So when you think of Arab/Afr...\n",
              "8599  RT @mauracunningham: At the @NewYorker, Han Zh...\n",
              "\n",
              "[46550 rows x 1 columns]"
            ]
          },
          "metadata": {
            "tags": []
          },
          "execution_count": 64
        }
      ]
    },
    {
      "cell_type": "code",
      "metadata": {
        "colab": {
          "base_uri": "https://localhost:8080/",
          "height": 195
        },
        "id": "ZWAkkMjbgjA0",
        "outputId": "b8885458-c79f-4f8d-a083-60c0b125881e"
      },
      "source": [
        "#Safe Clean (Cleaning the new line command before it get removed by the next regex)\n",
        "df['text'] =  [re.sub(r\"\\\\n\", \" \", str(j)) for j in df['text']]\n",
        "\n",
        "#Cleaning the 'b', Retweet, Mentions, Unicode (\\x08\\,\\xef\\,etc), and puctuation marks.\n",
        "df['text'] =  [re.sub(r\"^b|http\\S+|[0-9]\\/[0-9]|\\'|\\\"|\\:|\\;|\\+|\\.|\\,|RT|\\\\\\\\x[\\w][\\w]|\\@[\\w\\_]*|\\#[\\w]*|\\\\\", \"\", str(j)) for j in df['text']]\n",
        "\n",
        "#Clean other punctuation that remains and digits\n",
        "df['text'] =  [re.sub(r\"|\\=|\\-|\\#[\\w]*\\s?|[a-z]*\\#[\\w]*\\s?|[\\(\\)\\|\\!\\$\\?\\*\\+\\[\\]\\{\\}\\%]*|\\&amp|[0-9]*\", \"\", str(j)) for j in df['text']]\n",
        "\n",
        "#Clean extra space in the beginning, middle, and last of the sentence\n",
        "df['text'] = df['text'].apply(lambda x: x.strip()).apply(lambda x: \" \".join(x.split()))\n",
        "\n",
        "#Adding space after slash\n",
        "df['text'] =  [re.sub(r\"\\/\", \" \", str(j)) for j in df['text']]\n",
        "df.head()"
      ],
      "execution_count": 65,
      "outputs": [
        {
          "output_type": "execute_result",
          "data": {
            "text/html": [
              "<div>\n",
              "<style scoped>\n",
              "    .dataframe tbody tr th:only-of-type {\n",
              "        vertical-align: middle;\n",
              "    }\n",
              "\n",
              "    .dataframe tbody tr th {\n",
              "        vertical-align: top;\n",
              "    }\n",
              "\n",
              "    .dataframe thead th {\n",
              "        text-align: right;\n",
              "    }\n",
              "</style>\n",
              "<table border=\"1\" class=\"dataframe\">\n",
              "  <thead>\n",
              "    <tr style=\"text-align: right;\">\n",
              "      <th></th>\n",
              "      <th>text</th>\n",
              "    </tr>\n",
              "  </thead>\n",
              "  <tbody>\n",
              "    <tr>\n",
              "      <th>0</th>\n",
              "      <td>The ironies of the movement are too painfully ...</td>\n",
              "    </tr>\n",
              "    <tr>\n",
              "      <th>1</th>\n",
              "      <td>Women in Kuwait have launched a social media c...</td>\n",
              "    </tr>\n",
              "    <tr>\n",
              "      <th>2</th>\n",
              "      <td>Triger Warning Raising Awareness of Sexual Ass...</td>\n",
              "    </tr>\n",
              "    <tr>\n",
              "      <th>3</th>\n",
              "      <td>Charges brought against the guy that smacked m...</td>\n",
              "    </tr>\n",
              "    <tr>\n",
              "      <th>4</th>\n",
              "      <td>And the fourth presenter on th May is Hannah B...</td>\n",
              "    </tr>\n",
              "  </tbody>\n",
              "</table>\n",
              "</div>"
            ],
            "text/plain": [
              "                                                text\n",
              "0  The ironies of the movement are too painfully ...\n",
              "1  Women in Kuwait have launched a social media c...\n",
              "2  Triger Warning Raising Awareness of Sexual Ass...\n",
              "3  Charges brought against the guy that smacked m...\n",
              "4  And the fourth presenter on th May is Hannah B..."
            ]
          },
          "metadata": {
            "tags": []
          },
          "execution_count": 65
        }
      ]
    },
    {
      "cell_type": "code",
      "metadata": {
        "id": "nYWzZKd1QbP7"
      },
      "source": [
        "#Transform the text into lowercase\n",
        "df['text'] = df['text'].str.lower()"
      ],
      "execution_count": 66,
      "outputs": []
    },
    {
      "cell_type": "code",
      "metadata": {
        "id": "mB6zx5B_tPtu"
      },
      "source": [
        "#Drop any duplicate row\n",
        "df = df.drop_duplicates()"
      ],
      "execution_count": 67,
      "outputs": []
    },
    {
      "cell_type": "code",
      "metadata": {
        "colab": {
          "base_uri": "https://localhost:8080/"
        },
        "id": "uFsFUKKPyXZ7",
        "outputId": "bf846443-dd95-4023-e686-dc64222d4ebe"
      },
      "source": [
        "#Fill up the empty cells\n",
        "df['text'].replace('', np.nan, inplace=True)"
      ],
      "execution_count": 68,
      "outputs": [
        {
          "output_type": "stream",
          "text": [
            "/usr/local/lib/python3.7/dist-packages/pandas/core/series.py:4582: SettingWithCopyWarning: \n",
            "A value is trying to be set on a copy of a slice from a DataFrame\n",
            "\n",
            "See the caveats in the documentation: https://pandas.pydata.org/pandas-docs/stable/user_guide/indexing.html#returning-a-view-versus-a-copy\n",
            "  method=method,\n"
          ],
          "name": "stderr"
        }
      ]
    },
    {
      "cell_type": "code",
      "metadata": {
        "colab": {
          "base_uri": "https://localhost:8080/"
        },
        "id": "R3VH9MqfurhU",
        "outputId": "b52b0f52-0f59-48dd-a1c0-1d8813030bbe"
      },
      "source": [
        "#Drop empty cells\n",
        "df.dropna(subset=['text'], inplace=True)"
      ],
      "execution_count": 69,
      "outputs": [
        {
          "output_type": "stream",
          "text": [
            "/usr/local/lib/python3.7/dist-packages/ipykernel_launcher.py:2: SettingWithCopyWarning: \n",
            "A value is trying to be set on a copy of a slice from a DataFrame\n",
            "\n",
            "See the caveats in the documentation: https://pandas.pydata.org/pandas-docs/stable/user_guide/indexing.html#returning-a-view-versus-a-copy\n",
            "  \n"
          ],
          "name": "stderr"
        }
      ]
    },
    {
      "cell_type": "code",
      "metadata": {
        "colab": {
          "base_uri": "https://localhost:8080/"
        },
        "id": "bhwEBKGtwHVC",
        "outputId": "3cfbf256-a609-4947-a109-56be29b9b4f8"
      },
      "source": [
        "#Create Index\n",
        "df['index'] = range(0, len(df.index), 1)"
      ],
      "execution_count": 70,
      "outputs": [
        {
          "output_type": "stream",
          "text": [
            "/usr/local/lib/python3.7/dist-packages/ipykernel_launcher.py:2: SettingWithCopyWarning: \n",
            "A value is trying to be set on a copy of a slice from a DataFrame.\n",
            "Try using .loc[row_indexer,col_indexer] = value instead\n",
            "\n",
            "See the caveats in the documentation: https://pandas.pydata.org/pandas-docs/stable/user_guide/indexing.html#returning-a-view-versus-a-copy\n",
            "  \n"
          ],
          "name": "stderr"
        }
      ]
    },
    {
      "cell_type": "code",
      "metadata": {
        "id": "KbjTX_CLgtCP"
      },
      "source": [
        "#Save DataFrame to CSV\n",
        "df_check = pd.DataFrame()\n",
        "df_check['index'] = df['index']\n",
        "df_check['text'] = df['text']\n",
        "df_check.to_csv(\"capstonetweetcleaned.csv\", index=False)"
      ],
      "execution_count": 71,
      "outputs": []
    },
    {
      "cell_type": "code",
      "metadata": {
        "id": "rLcsP2RyhTyY"
      },
      "source": [
        ""
      ],
      "execution_count": 71,
      "outputs": []
    }
  ]
}