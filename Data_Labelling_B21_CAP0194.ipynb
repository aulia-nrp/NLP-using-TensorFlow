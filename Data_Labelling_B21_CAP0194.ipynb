{
  "nbformat": 4,
  "nbformat_minor": 0,
  "metadata": {
    "colab": {
      "name": "Data Labelling - B21-CAP0194.ipynb",
      "provenance": [],
      "collapsed_sections": []
    },
    "kernelspec": {
      "name": "python3",
      "display_name": "Python 3"
    },
    "language_info": {
      "name": "python"
    }
  },
  "cells": [
    {
      "cell_type": "code",
      "metadata": {
        "colab": {
          "base_uri": "https://localhost:8080/",
          "height": 35
        },
        "id": "s4rJ1L2tRNDV",
        "outputId": "298635a4-326a-4ef0-ed26-c40b15390a09"
      },
      "source": [
        "'''\n",
        "Project: Bangkit Capstone Project\n",
        "Group: B21-CAP0194\n",
        "Part: Data Labelling\n",
        "'''"
      ],
      "execution_count": 102,
      "outputs": [
        {
          "output_type": "execute_result",
          "data": {
            "application/vnd.google.colaboratory.intrinsic+json": {
              "type": "string"
            },
            "text/plain": [
              "'\\nProject: Bangkit Capstone Project\\nGroup: B21-CAP0194\\nPart: Data Labelling\\n'"
            ]
          },
          "metadata": {
            "tags": []
          },
          "execution_count": 102
        }
      ]
    },
    {
      "cell_type": "code",
      "metadata": {
        "id": "P1gOBLyAGVpH"
      },
      "source": [
        "#Import Required Libraries\n",
        "import pandas as pd\n",
        "import re"
      ],
      "execution_count": 103,
      "outputs": []
    },
    {
      "cell_type": "code",
      "metadata": {
        "id": "xfE3aLE_Gpwh",
        "colab": {
          "base_uri": "https://localhost:8080/",
          "height": 191
        },
        "outputId": "99db250b-6b58-4b2d-f2cb-65ca52eab18e"
      },
      "source": [
        "#Import the Dataset\n",
        "url = 'https://drive.google.com/file/d/1aL-b0pIxm1YIzx5hdLuig79G9mqmVyNN/view?usp=sharing'\n",
        "file_id = url.split('/')[-2]\n",
        "csv_url = 'https://drive.google.com/uc?id=' + file_id\n",
        "df = pd.read_csv(csv_url)\n",
        "df.head()"
      ],
      "execution_count": 104,
      "outputs": [
        {
          "output_type": "execute_result",
          "data": {
            "text/html": [
              "<div>\n",
              "<style scoped>\n",
              "    .dataframe tbody tr th:only-of-type {\n",
              "        vertical-align: middle;\n",
              "    }\n",
              "\n",
              "    .dataframe tbody tr th {\n",
              "        vertical-align: top;\n",
              "    }\n",
              "\n",
              "    .dataframe thead th {\n",
              "        text-align: right;\n",
              "    }\n",
              "</style>\n",
              "<table border=\"1\" class=\"dataframe\">\n",
              "  <thead>\n",
              "    <tr style=\"text-align: right;\">\n",
              "      <th></th>\n",
              "      <th>index</th>\n",
              "      <th>text</th>\n",
              "    </tr>\n",
              "  </thead>\n",
              "  <tbody>\n",
              "    <tr>\n",
              "      <th>0</th>\n",
              "      <td>0</td>\n",
              "      <td>the ironies of the  movement are too painfully...</td>\n",
              "    </tr>\n",
              "    <tr>\n",
              "      <th>1</th>\n",
              "      <td>1</td>\n",
              "      <td>women in kuwait have launched a social media c...</td>\n",
              "    </tr>\n",
              "    <tr>\n",
              "      <th>2</th>\n",
              "      <td>2</td>\n",
              "      <td>triger warning raising awareness of sexual ass...</td>\n",
              "    </tr>\n",
              "    <tr>\n",
              "      <th>3</th>\n",
              "      <td>3</td>\n",
              "      <td>charges brought against the guy that smacked m...</td>\n",
              "    </tr>\n",
              "    <tr>\n",
              "      <th>4</th>\n",
              "      <td>4</td>\n",
              "      <td>and the fourth presenter on 26th may is hannah...</td>\n",
              "    </tr>\n",
              "  </tbody>\n",
              "</table>\n",
              "</div>"
            ],
            "text/plain": [
              "   index                                               text\n",
              "0      0  the ironies of the  movement are too painfully...\n",
              "1      1  women in kuwait have launched a social media c...\n",
              "2      2  triger warning raising awareness of sexual ass...\n",
              "3      3  charges brought against the guy that smacked m...\n",
              "4      4  and the fourth presenter on 26th may is hannah..."
            ]
          },
          "metadata": {
            "tags": []
          },
          "execution_count": 104
        }
      ]
    },
    {
      "cell_type": "code",
      "metadata": {
        "colab": {
          "base_uri": "https://localhost:8080/"
        },
        "id": "octhSmg5KREQ",
        "outputId": "923d8d1c-c742-43c4-ef77-4368eafa03bd"
      },
      "source": [
        "df.shape"
      ],
      "execution_count": 105,
      "outputs": [
        {
          "output_type": "execute_result",
          "data": {
            "text/plain": [
              "(14108, 2)"
            ]
          },
          "metadata": {
            "tags": []
          },
          "execution_count": 105
        }
      ]
    },
    {
      "cell_type": "code",
      "metadata": {
        "id": "RvVpMcQtI_bp"
      },
      "source": [
        "#Initialize label column\n",
        "df['label'] = \"\""
      ],
      "execution_count": 106,
      "outputs": []
    },
    {
      "cell_type": "code",
      "metadata": {
        "colab": {
          "base_uri": "https://localhost:8080/",
          "height": 67
        },
        "id": "h8EI5SvBqNS_",
        "outputId": "68e77fdf-9e14-45a0-e61b-ca89c5788011"
      },
      "source": [
        "'''\n",
        "KemenPPPA Categories:\n",
        "1. Kekerasan Fisik / Psikis\n",
        "2. Kejahatan Seksual\n",
        "3. Exploitasi Ekonomi / Seksual\n",
        "4. Penculikan, Penjualan, atau Perdagangan\n",
        "5. Pornografi (Pornography)\n",
        "6. Perlakuan Salah & Penelantaran\n",
        "7. Anak yang Berkonflik dengan Hukum (ABH)\n",
        "8. Penyalahgunaan NAPZA\n",
        "'''"
      ],
      "execution_count": 107,
      "outputs": [
        {
          "output_type": "execute_result",
          "data": {
            "application/vnd.google.colaboratory.intrinsic+json": {
              "type": "string"
            },
            "text/plain": [
              "'\\nKemenPPPA Categories:\\n1. Kekerasan Fisik / Psikis\\n2. Kejahatan Seksual\\n3. Exploitasi Ekonomi / Seksual\\n4. Penculikan, Penjualan, atau Perdagangan\\n5. Pornografi (Pornography)\\n6. Perlakuan Salah & Penelantaran\\n7. Anak yang Berkonflik dengan Hukum (ABH)\\n8. Penyalahgunaan NAPZA\\n'"
            ]
          },
          "metadata": {
            "tags": []
          },
          "execution_count": 107
        }
      ]
    },
    {
      "cell_type": "code",
      "metadata": {
        "colab": {
          "base_uri": "https://localhost:8080/"
        },
        "id": "hqzawCZhHDvn",
        "outputId": "54298e62-0054-45fe-c375-1689362c1bd1"
      },
      "source": [
        "#Labelling Process\n",
        "#Note: Any unusual words that you find in this part of the code are used to label the dataset\n",
        "for idx, line in enumerate(df['text']):\n",
        "  '''\n",
        "  #Label no. 2\n",
        "  find_sexual = re.findall(r\"rape|raped|sex|sexual|sexist|ass|butt|breast|genital|predator|smacked|sexism|sexist\", line)\n",
        "  if len(find_sexual) != 0 and df['label'][idx] == \"\":\n",
        "    df['label'][idx] = \"sexual harassment\"\n",
        "\n",
        "  find_abuse = re.findall(r\"abuse|abuser|abused\", line)\n",
        "  if len(find_abuse) != 0 and df['label'][idx] == \"\":\n",
        "    df['label'][idx] = \"abuse\"\n",
        "\n",
        "  #Label no. 1\n",
        "  find_assault = re.findall(r\"assault|violence\", line)\n",
        "  if len(find_assault) != 0 and df['label'][idx] == \"\":\n",
        "    df['label'][idx] = \"violence\"\n",
        "\n",
        "  #Label no. 3, 4\n",
        "  find_exploitation = re.findall(r\"kidnap|kidnapping|trade|exploitation|trafficking\", line)\n",
        "  if len(find_exploitation) != 0 and df['label'][idx] == \"\":\n",
        "    df['label'][idx] = \"human trafficking\"\n",
        "\n",
        "  #Label no. 5\n",
        "  find_pornographic = re.findall(r\"porn|pornography|pornographic|pornographies\", line)\n",
        "  if len(find_pornographic) != 0 and df['label'][idx] == \"\":\n",
        "    df['label'][idx] = \"pornography\"\n",
        "\n",
        "  #Label no. 6\n",
        "  #?????\n",
        "\n",
        "  #Label no. 7\n",
        "  find_crime = re.findall(r\"law|criminal|crime|murder\", line)\n",
        "  if len(find_crime) != 0 and df['label'][idx] == \"\":\n",
        "    df['label'][idx] = \"crime\"\n",
        "  \n",
        "  #Label no. 8\n",
        "  find_drug = re.findall(r\"drug|weed\", line)\n",
        "  if len(find_drug) != 0 and df['label'][idx] == \"\":\n",
        "    df['label'][idx] = \"drug abuse\"\n",
        "  '''\n",
        "  # FOR NEW LABEL\n",
        "  # Label 1 : Private places\n",
        "  find_private = re.findall(r\"private|home|friend|marital rape|abortion|family|boyfriend|ex|ex-boyfriend|stalking|stalker|raped|murder|smack|sleep|touch|sexual|kiss|date|obscene|attempt|sex|harassment|parent|husband|raping|dating|conversation|relationship|kick|attack|genital\", line)\n",
        "  if len(find_private) != 0 and df['label'][idx] == \"\":\n",
        "    df['label'][idx] = \"Private Places\"\n",
        "  \n",
        "  # Label 2 : Public/community places\n",
        "  find_public = re.findall(r\"public|domestic|hospital|transport|community|spy|catcalling|catcall|rumor|ass|breast|butt|stranger|man|guy|exploitation|slave|hug|abuse|violence|gender|men|accuse|pervert|street|bad|society|violent|criminal|crime|steal|medical|grab|feminism|fenimist|prostitute|park|gun|rob|predator|toilet|kidnap|kidnapping|trade|trafficking|murder|cat|watch\", line)\n",
        "  if len(find_public) != 0 and df['label'][idx] == \"\":\n",
        "    df['label'][idx] = \"Public places\"\n",
        "\n",
        "  # Label 3 : Workplace\n",
        "  find_workplace = re.findall(r\"colleague|boss|job|pervert|work|workplace|ceo|partner|leader|manager|department|industry|interview|office|pantry|employee|business|client|staff|career|physical|verbal|company|desk|team|division|unwanted|cornering\", line)\n",
        "  if len(find_workplace) != 0 and df['label'][idx] == \"\":\n",
        "    df['label'][idx] = \"Workplace\"\n",
        "\n",
        "  # Label 4 : Educational institutes\n",
        "  find_educational = re.findall(r\"teacher|classmate|school|university|college|headmaster|principal|preschool|academy|teach|professor|class|mate|research|education|educator|study|universities|bully\", line)\n",
        "  if len(find_educational) != 0 and df['label'][idx] == \"\":\n",
        "    df['label'][idx] = \"Educational Institutes\"\n",
        "\n",
        "  # Label 5 : Cyber\n",
        "  find_cyber = re.findall(r\"sexting|call|text|video|photo|picture|comment|cyber|porn|pornography|phone|app|camera|chat|message|image|malicious|virtual|online|webcam|cctv|post|email|hoax|media|website|article|instagram|twitter|snapchat|facebook|whatsapp|messenger|telegram|computer\", line)\n",
        "  if len(find_cyber) != 0 and df['label'][idx] == \"\":\n",
        "    df['label'][idx] = \"Cyber\"\n",
        "\n",
        "  #DELETE THIS LATER\n",
        "  if df['label'][idx] == \"\":\n",
        "    df['label'][idx] = \"neutral\""
      ],
      "execution_count": 108,
      "outputs": [
        {
          "output_type": "stream",
          "text": [
            "/usr/local/lib/python3.7/dist-packages/ipykernel_launcher.py:46: SettingWithCopyWarning: \n",
            "A value is trying to be set on a copy of a slice from a DataFrame\n",
            "\n",
            "See the caveats in the documentation: https://pandas.pydata.org/pandas-docs/stable/user_guide/indexing.html#returning-a-view-versus-a-copy\n",
            "/usr/local/lib/python3.7/dist-packages/ipykernel_launcher.py:51: SettingWithCopyWarning: \n",
            "A value is trying to be set on a copy of a slice from a DataFrame\n",
            "\n",
            "See the caveats in the documentation: https://pandas.pydata.org/pandas-docs/stable/user_guide/indexing.html#returning-a-view-versus-a-copy\n",
            "/usr/local/lib/python3.7/dist-packages/ipykernel_launcher.py:61: SettingWithCopyWarning: \n",
            "A value is trying to be set on a copy of a slice from a DataFrame\n",
            "\n",
            "See the caveats in the documentation: https://pandas.pydata.org/pandas-docs/stable/user_guide/indexing.html#returning-a-view-versus-a-copy\n",
            "/usr/local/lib/python3.7/dist-packages/ipykernel_launcher.py:70: SettingWithCopyWarning: \n",
            "A value is trying to be set on a copy of a slice from a DataFrame\n",
            "\n",
            "See the caveats in the documentation: https://pandas.pydata.org/pandas-docs/stable/user_guide/indexing.html#returning-a-view-versus-a-copy\n",
            "/usr/local/lib/python3.7/dist-packages/ipykernel_launcher.py:66: SettingWithCopyWarning: \n",
            "A value is trying to be set on a copy of a slice from a DataFrame\n",
            "\n",
            "See the caveats in the documentation: https://pandas.pydata.org/pandas-docs/stable/user_guide/indexing.html#returning-a-view-versus-a-copy\n",
            "/usr/local/lib/python3.7/dist-packages/ipykernel_launcher.py:56: SettingWithCopyWarning: \n",
            "A value is trying to be set on a copy of a slice from a DataFrame\n",
            "\n",
            "See the caveats in the documentation: https://pandas.pydata.org/pandas-docs/stable/user_guide/indexing.html#returning-a-view-versus-a-copy\n"
          ],
          "name": "stderr"
        }
      ]
    },
    {
      "cell_type": "code",
      "metadata": {
        "colab": {
          "base_uri": "https://localhost:8080/",
          "height": 1000
        },
        "id": "adyoQWddHNdO",
        "outputId": "ee04aaf9-ec8c-4da1-f48e-2e55a1049afd"
      },
      "source": [
        "#Show the first 50 rows in the dataframe\n",
        "df.head(50)"
      ],
      "execution_count": 109,
      "outputs": [
        {
          "output_type": "execute_result",
          "data": {
            "text/html": [
              "<div>\n",
              "<style scoped>\n",
              "    .dataframe tbody tr th:only-of-type {\n",
              "        vertical-align: middle;\n",
              "    }\n",
              "\n",
              "    .dataframe tbody tr th {\n",
              "        vertical-align: top;\n",
              "    }\n",
              "\n",
              "    .dataframe thead th {\n",
              "        text-align: right;\n",
              "    }\n",
              "</style>\n",
              "<table border=\"1\" class=\"dataframe\">\n",
              "  <thead>\n",
              "    <tr style=\"text-align: right;\">\n",
              "      <th></th>\n",
              "      <th>index</th>\n",
              "      <th>text</th>\n",
              "      <th>label</th>\n",
              "    </tr>\n",
              "  </thead>\n",
              "  <tbody>\n",
              "    <tr>\n",
              "      <th>0</th>\n",
              "      <td>0</td>\n",
              "      <td>the ironies of the  movement are too painfully...</td>\n",
              "      <td>Private Places</td>\n",
              "    </tr>\n",
              "    <tr>\n",
              "      <th>1</th>\n",
              "      <td>1</td>\n",
              "      <td>women in kuwait have launched a social media c...</td>\n",
              "      <td>Public places</td>\n",
              "    </tr>\n",
              "    <tr>\n",
              "      <th>2</th>\n",
              "      <td>2</td>\n",
              "      <td>triger warning raising awareness of sexual ass...</td>\n",
              "      <td>Private Places</td>\n",
              "    </tr>\n",
              "    <tr>\n",
              "      <th>3</th>\n",
              "      <td>3</td>\n",
              "      <td>charges brought against the guy that smacked m...</td>\n",
              "      <td>Private Places</td>\n",
              "    </tr>\n",
              "    <tr>\n",
              "      <th>4</th>\n",
              "      <td>4</td>\n",
              "      <td>and the fourth presenter on 26th may is hannah...</td>\n",
              "      <td>Educational Institutes</td>\n",
              "    </tr>\n",
              "    <tr>\n",
              "      <th>5</th>\n",
              "      <td>5</td>\n",
              "      <td>this is so messed up  are there any men in the...</td>\n",
              "      <td>Public places</td>\n",
              "    </tr>\n",
              "    <tr>\n",
              "      <th>6</th>\n",
              "      <td>6</td>\n",
              "      <td>to tackle an epidemic of male violence against...</td>\n",
              "      <td>Public places</td>\n",
              "    </tr>\n",
              "    <tr>\n",
              "      <th>7</th>\n",
              "      <td>7</td>\n",
              "      <td>there has been a new series of harassment alle...</td>\n",
              "      <td>Private Places</td>\n",
              "    </tr>\n",
              "    <tr>\n",
              "      <th>8</th>\n",
              "      <td>8</td>\n",
              "      <td>want to see what the  movement looks like its ...</td>\n",
              "      <td>Public places</td>\n",
              "    </tr>\n",
              "    <tr>\n",
              "      <th>9</th>\n",
              "      <td>9</td>\n",
              "      <td>female students dont want to have sex w dolan ...</td>\n",
              "      <td>Private Places</td>\n",
              "    </tr>\n",
              "    <tr>\n",
              "      <th>10</th>\n",
              "      <td>10</td>\n",
              "      <td>when we talk about  and violence we must ensur...</td>\n",
              "      <td>Private Places</td>\n",
              "    </tr>\n",
              "    <tr>\n",
              "      <th>11</th>\n",
              "      <td>11</td>\n",
              "      <td>took in 221 million last year in nih funds the...</td>\n",
              "      <td>Private Places</td>\n",
              "    </tr>\n",
              "    <tr>\n",
              "      <th>12</th>\n",
              "      <td>12</td>\n",
              "      <td>help your students to combat harassment using ...</td>\n",
              "      <td>Private Places</td>\n",
              "    </tr>\n",
              "    <tr>\n",
              "      <th>13</th>\n",
              "      <td>13</td>\n",
              "      <td>im still looking to speak to disabled women wh...</td>\n",
              "      <td>Private Places</td>\n",
              "    </tr>\n",
              "    <tr>\n",
              "      <th>14</th>\n",
              "      <td>14</td>\n",
              "      <td>glenn greenwald doesnt like the  movement supp...</td>\n",
              "      <td>Private Places</td>\n",
              "    </tr>\n",
              "    <tr>\n",
              "      <th>15</th>\n",
              "      <td>15</td>\n",
              "      <td>for more on this topic join us for our upcomin...</td>\n",
              "      <td>neutral</td>\n",
              "    </tr>\n",
              "    <tr>\n",
              "      <th>16</th>\n",
              "      <td>16</td>\n",
              "      <td>what does the  movement have to do with the mu...</td>\n",
              "      <td>Private Places</td>\n",
              "    </tr>\n",
              "    <tr>\n",
              "      <th>17</th>\n",
              "      <td>17</td>\n",
              "      <td>latest oped from  and  cuomo needs a time out ...</td>\n",
              "      <td>Cyber</td>\n",
              "    </tr>\n",
              "    <tr>\n",
              "      <th>18</th>\n",
              "      <td>18</td>\n",
              "      <td>dont know who this greewald misogynist moron i...</td>\n",
              "      <td>neutral</td>\n",
              "    </tr>\n",
              "    <tr>\n",
              "      <th>19</th>\n",
              "      <td>19</td>\n",
              "      <td>morrison believes hearsay about some dude risi...</td>\n",
              "      <td>Private Places</td>\n",
              "    </tr>\n",
              "    <tr>\n",
              "      <th>20</th>\n",
              "      <td>20</td>\n",
              "      <td>to tackle an epidemic of male violence against...</td>\n",
              "      <td>Private Places</td>\n",
              "    </tr>\n",
              "    <tr>\n",
              "      <th>21</th>\n",
              "      <td>21</td>\n",
              "      <td>when we talk about  and violence we must ensur...</td>\n",
              "      <td>Private Places</td>\n",
              "    </tr>\n",
              "    <tr>\n",
              "      <th>22</th>\n",
              "      <td>22</td>\n",
              "      <td>when will this violence and hate stop</td>\n",
              "      <td>Public places</td>\n",
              "    </tr>\n",
              "    <tr>\n",
              "      <th>23</th>\n",
              "      <td>23</td>\n",
              "      <td>anesthesia protected a known sexual predator f...</td>\n",
              "      <td>Private Places</td>\n",
              "    </tr>\n",
              "    <tr>\n",
              "      <th>24</th>\n",
              "      <td>24</td>\n",
              "      <td>thank you  for your wisdom and outstanding ins...</td>\n",
              "      <td>Public places</td>\n",
              "    </tr>\n",
              "    <tr>\n",
              "      <th>25</th>\n",
              "      <td>25</td>\n",
              "      <td>a few incels on tiktok have dubbed  as nationa...</td>\n",
              "      <td>neutral</td>\n",
              "    </tr>\n",
              "    <tr>\n",
              "      <th>26</th>\n",
              "      <td>26</td>\n",
              "      <td>what has  actually changed</td>\n",
              "      <td>neutral</td>\n",
              "    </tr>\n",
              "    <tr>\n",
              "      <th>27</th>\n",
              "      <td>27</td>\n",
              "      <td>harassment retaliation</td>\n",
              "      <td>Private Places</td>\n",
              "    </tr>\n",
              "    <tr>\n",
              "      <th>28</th>\n",
              "      <td>28</td>\n",
              "      <td>looking forward 2 a panel chat  today about sy...</td>\n",
              "      <td>Public places</td>\n",
              "    </tr>\n",
              "    <tr>\n",
              "      <th>29</th>\n",
              "      <td>29</td>\n",
              "      <td>this bd is in  case does not talk about it</td>\n",
              "      <td>neutral</td>\n",
              "    </tr>\n",
              "    <tr>\n",
              "      <th>30</th>\n",
              "      <td>30</td>\n",
              "      <td>this is the child that was born as a result of...</td>\n",
              "      <td>Private Places</td>\n",
              "    </tr>\n",
              "    <tr>\n",
              "      <th>31</th>\n",
              "      <td>31</td>\n",
              "      <td>event a new cultural reckoning gendered violence</td>\n",
              "      <td>Public places</td>\n",
              "    </tr>\n",
              "    <tr>\n",
              "      <th>32</th>\n",
              "      <td>32</td>\n",
              "      <td>the tail of the anita hill fury got us to   re...</td>\n",
              "      <td>Public places</td>\n",
              "    </tr>\n",
              "    <tr>\n",
              "      <th>33</th>\n",
              "      <td>33</td>\n",
              "      <td>oh no thats terrible   can you please link the...</td>\n",
              "      <td>neutral</td>\n",
              "    </tr>\n",
              "    <tr>\n",
              "      <th>34</th>\n",
              "      <td>34</td>\n",
              "      <td>turns out it was gary all along</td>\n",
              "      <td>neutral</td>\n",
              "    </tr>\n",
              "    <tr>\n",
              "      <th>35</th>\n",
              "      <td>35</td>\n",
              "      <td>ever since i bared my soul and jump through he...</td>\n",
              "      <td>neutral</td>\n",
              "    </tr>\n",
              "    <tr>\n",
              "      <th>36</th>\n",
              "      <td>36</td>\n",
              "      <td>to all victims of abuseit is never too late to...</td>\n",
              "      <td>Public places</td>\n",
              "    </tr>\n",
              "    <tr>\n",
              "      <th>37</th>\n",
              "      <td>37</td>\n",
              "      <td>the military claims they take a hard line agai...</td>\n",
              "      <td>Private Places</td>\n",
              "    </tr>\n",
              "    <tr>\n",
              "      <th>38</th>\n",
              "      <td>38</td>\n",
              "      <td>we personally believe that victims of any form...</td>\n",
              "      <td>Public places</td>\n",
              "    </tr>\n",
              "    <tr>\n",
              "      <th>39</th>\n",
              "      <td>39</td>\n",
              "      <td>chads an excon trying to start over</td>\n",
              "      <td>Private Places</td>\n",
              "    </tr>\n",
              "    <tr>\n",
              "      <th>40</th>\n",
              "      <td>40</td>\n",
              "      <td>we personally believe that victims of any form...</td>\n",
              "      <td>Public places</td>\n",
              "    </tr>\n",
              "    <tr>\n",
              "      <th>41</th>\n",
              "      <td>41</td>\n",
              "      <td>and democrats still failed   what a waste of o...</td>\n",
              "      <td>neutral</td>\n",
              "    </tr>\n",
              "    <tr>\n",
              "      <th>42</th>\n",
              "      <td>42</td>\n",
              "      <td>tw sexual assault  read recognizing rape findi...</td>\n",
              "      <td>Private Places</td>\n",
              "    </tr>\n",
              "    <tr>\n",
              "      <th>43</th>\n",
              "      <td>43</td>\n",
              "      <td>young women dont think its cool what he did to...</td>\n",
              "      <td>Public places</td>\n",
              "    </tr>\n",
              "    <tr>\n",
              "      <th>44</th>\n",
              "      <td>44</td>\n",
              "      <td>amplify diverse perspectives and stories with ...</td>\n",
              "      <td>Private Places</td>\n",
              "    </tr>\n",
              "    <tr>\n",
              "      <th>45</th>\n",
              "      <td>45</td>\n",
              "      <td>actually amazing to see  standing up to be cou...</td>\n",
              "      <td>Public places</td>\n",
              "    </tr>\n",
              "    <tr>\n",
              "      <th>46</th>\n",
              "      <td>46</td>\n",
              "      <td>is hugging  required play in the</td>\n",
              "      <td>Public places</td>\n",
              "    </tr>\n",
              "    <tr>\n",
              "      <th>47</th>\n",
              "      <td>47</td>\n",
              "      <td>maybe he was afraid he might get  d if  his ha...</td>\n",
              "      <td>neutral</td>\n",
              "    </tr>\n",
              "    <tr>\n",
              "      <th>48</th>\n",
              "      <td>48</td>\n",
              "      <td>damn it where is  r  wisconsin catholic school...</td>\n",
              "      <td>Public places</td>\n",
              "    </tr>\n",
              "    <tr>\n",
              "      <th>49</th>\n",
              "      <td>49</td>\n",
              "      <td>he also had this app on his phones its used to...</td>\n",
              "      <td>Cyber</td>\n",
              "    </tr>\n",
              "  </tbody>\n",
              "</table>\n",
              "</div>"
            ],
            "text/plain": [
              "    index  ...                   label\n",
              "0       0  ...          Private Places\n",
              "1       1  ...           Public places\n",
              "2       2  ...          Private Places\n",
              "3       3  ...          Private Places\n",
              "4       4  ...  Educational Institutes\n",
              "5       5  ...           Public places\n",
              "6       6  ...           Public places\n",
              "7       7  ...          Private Places\n",
              "8       8  ...           Public places\n",
              "9       9  ...          Private Places\n",
              "10     10  ...          Private Places\n",
              "11     11  ...          Private Places\n",
              "12     12  ...          Private Places\n",
              "13     13  ...          Private Places\n",
              "14     14  ...          Private Places\n",
              "15     15  ...                 neutral\n",
              "16     16  ...          Private Places\n",
              "17     17  ...                   Cyber\n",
              "18     18  ...                 neutral\n",
              "19     19  ...          Private Places\n",
              "20     20  ...          Private Places\n",
              "21     21  ...          Private Places\n",
              "22     22  ...           Public places\n",
              "23     23  ...          Private Places\n",
              "24     24  ...           Public places\n",
              "25     25  ...                 neutral\n",
              "26     26  ...                 neutral\n",
              "27     27  ...          Private Places\n",
              "28     28  ...           Public places\n",
              "29     29  ...                 neutral\n",
              "30     30  ...          Private Places\n",
              "31     31  ...           Public places\n",
              "32     32  ...           Public places\n",
              "33     33  ...                 neutral\n",
              "34     34  ...                 neutral\n",
              "35     35  ...                 neutral\n",
              "36     36  ...           Public places\n",
              "37     37  ...          Private Places\n",
              "38     38  ...           Public places\n",
              "39     39  ...          Private Places\n",
              "40     40  ...           Public places\n",
              "41     41  ...                 neutral\n",
              "42     42  ...          Private Places\n",
              "43     43  ...           Public places\n",
              "44     44  ...          Private Places\n",
              "45     45  ...           Public places\n",
              "46     46  ...           Public places\n",
              "47     47  ...                 neutral\n",
              "48     48  ...           Public places\n",
              "49     49  ...                   Cyber\n",
              "\n",
              "[50 rows x 3 columns]"
            ]
          },
          "metadata": {
            "tags": []
          },
          "execution_count": 109
        }
      ]
    },
    {
      "cell_type": "code",
      "metadata": {
        "colab": {
          "base_uri": "https://localhost:8080/"
        },
        "id": "xgQbLlqCr2TH",
        "outputId": "61b8cab4-0702-41fc-c5ca-fda6091ca298"
      },
      "source": [
        "df['label'].value_counts()"
      ],
      "execution_count": 110,
      "outputs": [
        {
          "output_type": "execute_result",
          "data": {
            "text/plain": [
              "Public places             4547\n",
              "neutral                   4285\n",
              "Private Places            4061\n",
              "Cyber                      686\n",
              "Workplace                  422\n",
              "Educational Institutes     107\n",
              "Name: label, dtype: int64"
            ]
          },
          "metadata": {
            "tags": []
          },
          "execution_count": 110
        }
      ]
    },
    {
      "cell_type": "code",
      "metadata": {
        "id": "ELpJZGkkHaEu"
      },
      "source": [
        "#Save DataFrame to CSV\n",
        "df_labelled = pd.DataFrame()\n",
        "df_labelled['index'] = df['index']\n",
        "df_labelled['text'] = df['text']\n",
        "df_labelled['label'] = df['label']\n",
        "df_labelled.to_csv(\"capstonetweetlabelled.csv\", index=False)"
      ],
      "execution_count": 111,
      "outputs": []
    },
    {
      "cell_type": "code",
      "metadata": {
        "id": "n8xM07uWj1PH"
      },
      "source": [
        ""
      ],
      "execution_count": 111,
      "outputs": []
    }
  ]
}