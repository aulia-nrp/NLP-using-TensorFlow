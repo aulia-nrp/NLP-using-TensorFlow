{
  "nbformat": 4,
  "nbformat_minor": 0,
  "metadata": {
    "colab": {
      "name": "Data Labelling - B21-CAP0194.ipynb",
      "provenance": [],
      "collapsed_sections": []
    },
    "kernelspec": {
      "name": "python3",
      "display_name": "Python 3"
    },
    "language_info": {
      "name": "python"
    }
  },
  "cells": [
    {
      "cell_type": "code",
      "metadata": {
        "colab": {
          "base_uri": "https://localhost:8080/",
          "height": 35
        },
        "id": "s4rJ1L2tRNDV",
        "outputId": "298635a4-326a-4ef0-ed26-c40b15390a09"
      },
      "source": [
        "'''\n",
        "Project: Bangkit Capstone Project\n",
        "Group: B21-CAP0194\n",
        "Part: Data Labelling\n",
        "'''"
      ],
      "execution_count": null,
      "outputs": [
        {
          "output_type": "execute_result",
          "data": {
            "application/vnd.google.colaboratory.intrinsic+json": {
              "type": "string"
            },
            "text/plain": [
              "'\\nProject: Bangkit Capstone Project\\nGroup: B21-CAP0194\\nPart: Data Labelling\\n'"
            ]
          },
          "metadata": {
            "tags": []
          },
          "execution_count": 102
        }
      ]
    },
    {
      "cell_type": "code",
      "metadata": {
        "id": "P1gOBLyAGVpH"
      },
      "source": [
        "#Import Required Libraries\n",
        "import pandas as pd\n",
        "import re"
      ],
      "execution_count": 1,
      "outputs": []
    },
    {
      "cell_type": "code",
      "metadata": {
        "id": "xfE3aLE_Gpwh",
        "colab": {
          "base_uri": "https://localhost:8080/",
          "height": 197
        },
        "outputId": "5c56f07f-ff93-47b8-f120-b62c67e57966"
      },
      "source": [
        "#Import the Dataset\n",
        "url = 'https://drive.google.com/file/d/1aL-b0pIxm1YIzx5hdLuig79G9mqmVyNN/view?usp=sharing'\n",
        "file_id = url.split('/')[-2]\n",
        "csv_url = 'https://drive.google.com/uc?id=' + file_id\n",
        "df = pd.read_csv(csv_url)\n",
        "df.head()"
      ],
      "execution_count": 8,
      "outputs": [
        {
          "output_type": "execute_result",
          "data": {
            "text/html": [
              "<div>\n",
              "<style scoped>\n",
              "    .dataframe tbody tr th:only-of-type {\n",
              "        vertical-align: middle;\n",
              "    }\n",
              "\n",
              "    .dataframe tbody tr th {\n",
              "        vertical-align: top;\n",
              "    }\n",
              "\n",
              "    .dataframe thead th {\n",
              "        text-align: right;\n",
              "    }\n",
              "</style>\n",
              "<table border=\"1\" class=\"dataframe\">\n",
              "  <thead>\n",
              "    <tr style=\"text-align: right;\">\n",
              "      <th></th>\n",
              "      <th>index</th>\n",
              "      <th>text</th>\n",
              "    </tr>\n",
              "  </thead>\n",
              "  <tbody>\n",
              "    <tr>\n",
              "      <th>0</th>\n",
              "      <td>0</td>\n",
              "      <td>the ironies of the  movement are too painfully...</td>\n",
              "    </tr>\n",
              "    <tr>\n",
              "      <th>1</th>\n",
              "      <td>1</td>\n",
              "      <td>women in kuwait have launched a social media c...</td>\n",
              "    </tr>\n",
              "    <tr>\n",
              "      <th>2</th>\n",
              "      <td>2</td>\n",
              "      <td>triger warning raising awareness of sexual ass...</td>\n",
              "    </tr>\n",
              "    <tr>\n",
              "      <th>3</th>\n",
              "      <td>3</td>\n",
              "      <td>charges brought against the guy that smacked m...</td>\n",
              "    </tr>\n",
              "    <tr>\n",
              "      <th>4</th>\n",
              "      <td>4</td>\n",
              "      <td>and the fourth presenter on 26th may is hannah...</td>\n",
              "    </tr>\n",
              "  </tbody>\n",
              "</table>\n",
              "</div>"
            ],
            "text/plain": [
              "   index                                               text\n",
              "0      0  the ironies of the  movement are too painfully...\n",
              "1      1  women in kuwait have launched a social media c...\n",
              "2      2  triger warning raising awareness of sexual ass...\n",
              "3      3  charges brought against the guy that smacked m...\n",
              "4      4  and the fourth presenter on 26th may is hannah..."
            ]
          },
          "metadata": {
            "tags": []
          },
          "execution_count": 8
        }
      ]
    },
    {
      "cell_type": "code",
      "metadata": {
        "colab": {
          "base_uri": "https://localhost:8080/"
        },
        "id": "octhSmg5KREQ",
        "outputId": "6b6ba062-fe91-46d9-b2e7-1ca5c47df08e"
      },
      "source": [
        "df.shape"
      ],
      "execution_count": 9,
      "outputs": [
        {
          "output_type": "execute_result",
          "data": {
            "text/plain": [
              "(14108, 2)"
            ]
          },
          "metadata": {
            "tags": []
          },
          "execution_count": 9
        }
      ]
    },
    {
      "cell_type": "code",
      "metadata": {
        "id": "RvVpMcQtI_bp"
      },
      "source": [
        "#Initialize label column\n",
        "df['label'] = \"\""
      ],
      "execution_count": 10,
      "outputs": []
    },
    {
      "cell_type": "code",
      "metadata": {
        "colab": {
          "base_uri": "https://localhost:8080/",
          "height": 67
        },
        "id": "h8EI5SvBqNS_",
        "outputId": "68e77fdf-9e14-45a0-e61b-ca89c5788011"
      },
      "source": [
        "'''\n",
        "KemenPPPA Categories:\n",
        "1. Kekerasan Fisik / Psikis\n",
        "2. Kejahatan Seksual\n",
        "3. Exploitasi Ekonomi / Seksual\n",
        "4. Penculikan, Penjualan, atau Perdagangan\n",
        "5. Pornografi (Pornography)\n",
        "6. Perlakuan Salah & Penelantaran\n",
        "7. Anak yang Berkonflik dengan Hukum (ABH)\n",
        "8. Penyalahgunaan NAPZA\n",
        "'''"
      ],
      "execution_count": null,
      "outputs": [
        {
          "output_type": "execute_result",
          "data": {
            "application/vnd.google.colaboratory.intrinsic+json": {
              "type": "string"
            },
            "text/plain": [
              "'\\nKemenPPPA Categories:\\n1. Kekerasan Fisik / Psikis\\n2. Kejahatan Seksual\\n3. Exploitasi Ekonomi / Seksual\\n4. Penculikan, Penjualan, atau Perdagangan\\n5. Pornografi (Pornography)\\n6. Perlakuan Salah & Penelantaran\\n7. Anak yang Berkonflik dengan Hukum (ABH)\\n8. Penyalahgunaan NAPZA\\n'"
            ]
          },
          "metadata": {
            "tags": []
          },
          "execution_count": 107
        }
      ]
    },
    {
      "cell_type": "code",
      "metadata": {
        "colab": {
          "base_uri": "https://localhost:8080/"
        },
        "id": "hqzawCZhHDvn",
        "outputId": "a9235590-8371-430b-c979-afcad3c490eb"
      },
      "source": [
        "#Labelling Process\n",
        "#Note: Any unusual words that you find in this part of the code are used to label the dataset\n",
        "for idx, line in enumerate(df['text']):\n",
        "  '''\n",
        "  #Label no. 2\n",
        "  find_sexual = re.findall(r\"rape|raped|sex|sexual|sexist|ass|butt|breast|genital|predator|smacked|sexism|sexist\", line)\n",
        "  if len(find_sexual) != 0 and df['label'][idx] == \"\":\n",
        "    df['label'][idx] = \"sexual harassment\"\n",
        "\n",
        "  find_abuse = re.findall(r\"abuse|abuser|abused\", line)\n",
        "  if len(find_abuse) != 0 and df['label'][idx] == \"\":\n",
        "    df['label'][idx] = \"abuse\"\n",
        "\n",
        "  #Label no. 1\n",
        "  find_assault = re.findall(r\"assault|violence\", line)\n",
        "  if len(find_assault) != 0 and df['label'][idx] == \"\":\n",
        "    df['label'][idx] = \"violence\"\n",
        "\n",
        "  #Label no. 3, 4\n",
        "  find_exploitation = re.findall(r\"kidnap|kidnapping|trade|exploitation|trafficking\", line)\n",
        "  if len(find_exploitation) != 0 and df['label'][idx] == \"\":\n",
        "    df['label'][idx] = \"human trafficking\"\n",
        "\n",
        "  #Label no. 5\n",
        "  find_pornographic = re.findall(r\"porn|pornography|pornographic|pornographies\", line)\n",
        "  if len(find_pornographic) != 0 and df['label'][idx] == \"\":\n",
        "    df['label'][idx] = \"pornography\"\n",
        "\n",
        "  #Label no. 6\n",
        "  #?????\n",
        "\n",
        "  #Label no. 7\n",
        "  find_crime = re.findall(r\"law|criminal|crime|murder\", line)\n",
        "  if len(find_crime) != 0 and df['label'][idx] == \"\":\n",
        "    df['label'][idx] = \"crime\"\n",
        "  \n",
        "  #Label no. 8\n",
        "  find_drug = re.findall(r\"drug|weed\", line)\n",
        "  if len(find_drug) != 0 and df['label'][idx] == \"\":\n",
        "    df['label'][idx] = \"drug abuse\"\n",
        "  '''\n",
        "  # FOR NEW LABEL\n",
        "  # Label 1 : Private places\n",
        "  find_private = re.findall(r\"private|home|friend|marital rape|abortion|family|boyfriend|ex|ex-boyfriend|stalking|stalker|raped|murder|smack|sleep|touch|sexual|kiss|date|obscene|attempt|sex|harassment|parent|husband|raping|dating|conversation|relationship|kick|attack|genital|married|housewives|masturbate|chest|jerk|neighbor|sodomy|personal|naked|nude|body|strip\", line)\n",
        "  if len(find_private) != 0 and df['label'][idx] == \"\":\n",
        "    df['label'][idx] = \"Private Places\"\n",
        "  \n",
        "  # Label 2 : Public/community places\n",
        "  find_public = re.findall(r\"public|domestic|hospital|transport|community|spy|catcalling|catcall|rumor|ass|breast|butt|stranger|man|guy|exploitation|slave|hug|abuse|violence|gender|men|accuse|pervert|street|bad|society|violent|criminal|crime|steal|medical|grab|feminism|fenimist|prostitute|park|gun|rob|predator|toilet|kidnap|kidnapping|trade|trafficking|murder|cat|watch|cafe|restaurant|shaming|politic|store|train|station|pocket|customer|pedophile|driver|perv|gym\", line)\n",
        "  if len(find_public) != 0 and df['label'][idx] == \"\":\n",
        "    df['label'][idx] = \"Public places\"\n",
        "\n",
        "  # Label 3 : Work places\n",
        "  find_workplace = re.findall(r\"colleague|boss|job|pervert|work|workplace|ceo|partner|leader|manager|department|industry|interview|office|pantry|employee|business|client|staff|career|physical|verbal|company|desk|team|division|unwanted|cornering|chief|mentor|fire|locker|intern\", line)\n",
        "  if len(find_workplace) != 0 and df['label'][idx] == \"\":\n",
        "    df['label'][idx] = \"Work places\"\n",
        "\n",
        "  # Label 4 : Educational places\n",
        "  find_educational = re.findall(r\"teacher|classmate|school|university|college|headmaster|principal|preschool|academy|teach|professor|class|mate|research|education|educator|study|universities|bully|lecture|student|dorm|uniform|library|laboratory\", line)\n",
        "  if len(find_educational) != 0 and df['label'][idx] == \"\":\n",
        "    df['label'][idx] = \"Educational places\"\n",
        "\n",
        "  # Label 5 : Cyber\n",
        "  find_cyber = re.findall(r\"sexting|call|text|video|photo|picture|comment|cyber|porn|pornography|phone|app|camera|chat|message|image|malicious|virtual|online|webcam|cctv|post|email|hoax|media|website|article|instagram|twitter|snapchat|facebook|whatsapp|messenger|telegram|computer|ip address|record\", line)\n",
        "  if len(find_cyber) != 0 and df['label'][idx] == \"\":\n",
        "    df['label'][idx] = \"Cyber\"\n",
        "\n",
        "  #DELETE THIS LATER\n",
        "  if df['label'][idx] == \"\":\n",
        "    df['label'][idx] = \"neutral\""
      ],
      "execution_count": 11,
      "outputs": [
        {
          "output_type": "stream",
          "text": [
            "/usr/local/lib/python3.7/dist-packages/ipykernel_launcher.py:46: SettingWithCopyWarning: \n",
            "A value is trying to be set on a copy of a slice from a DataFrame\n",
            "\n",
            "See the caveats in the documentation: https://pandas.pydata.org/pandas-docs/stable/user_guide/indexing.html#returning-a-view-versus-a-copy\n",
            "/usr/local/lib/python3.7/dist-packages/ipykernel_launcher.py:51: SettingWithCopyWarning: \n",
            "A value is trying to be set on a copy of a slice from a DataFrame\n",
            "\n",
            "See the caveats in the documentation: https://pandas.pydata.org/pandas-docs/stable/user_guide/indexing.html#returning-a-view-versus-a-copy\n",
            "/usr/local/lib/python3.7/dist-packages/ipykernel_launcher.py:61: SettingWithCopyWarning: \n",
            "A value is trying to be set on a copy of a slice from a DataFrame\n",
            "\n",
            "See the caveats in the documentation: https://pandas.pydata.org/pandas-docs/stable/user_guide/indexing.html#returning-a-view-versus-a-copy\n",
            "/usr/local/lib/python3.7/dist-packages/ipykernel_launcher.py:70: SettingWithCopyWarning: \n",
            "A value is trying to be set on a copy of a slice from a DataFrame\n",
            "\n",
            "See the caveats in the documentation: https://pandas.pydata.org/pandas-docs/stable/user_guide/indexing.html#returning-a-view-versus-a-copy\n",
            "/usr/local/lib/python3.7/dist-packages/ipykernel_launcher.py:66: SettingWithCopyWarning: \n",
            "A value is trying to be set on a copy of a slice from a DataFrame\n",
            "\n",
            "See the caveats in the documentation: https://pandas.pydata.org/pandas-docs/stable/user_guide/indexing.html#returning-a-view-versus-a-copy\n",
            "/usr/local/lib/python3.7/dist-packages/ipykernel_launcher.py:56: SettingWithCopyWarning: \n",
            "A value is trying to be set on a copy of a slice from a DataFrame\n",
            "\n",
            "See the caveats in the documentation: https://pandas.pydata.org/pandas-docs/stable/user_guide/indexing.html#returning-a-view-versus-a-copy\n"
          ],
          "name": "stderr"
        }
      ]
    },
    {
      "cell_type": "code",
      "metadata": {
        "colab": {
          "base_uri": "https://localhost:8080/",
          "height": 1000
        },
        "id": "adyoQWddHNdO",
        "outputId": "de4a2409-cc1c-4138-c11e-91e6b9d3cff6"
      },
      "source": [
        "#Show the first 50 rows in the dataframe\n",
        "df.tail(50)"
      ],
      "execution_count": 14,
      "outputs": [
        {
          "output_type": "execute_result",
          "data": {
            "text/html": [
              "<div>\n",
              "<style scoped>\n",
              "    .dataframe tbody tr th:only-of-type {\n",
              "        vertical-align: middle;\n",
              "    }\n",
              "\n",
              "    .dataframe tbody tr th {\n",
              "        vertical-align: top;\n",
              "    }\n",
              "\n",
              "    .dataframe thead th {\n",
              "        text-align: right;\n",
              "    }\n",
              "</style>\n",
              "<table border=\"1\" class=\"dataframe\">\n",
              "  <thead>\n",
              "    <tr style=\"text-align: right;\">\n",
              "      <th></th>\n",
              "      <th>index</th>\n",
              "      <th>text</th>\n",
              "      <th>label</th>\n",
              "    </tr>\n",
              "  </thead>\n",
              "  <tbody>\n",
              "    <tr>\n",
              "      <th>14058</th>\n",
              "      <td>14058</td>\n",
              "      <td>reminder that there is life after</td>\n",
              "      <td>neutral</td>\n",
              "    </tr>\n",
              "    <tr>\n",
              "      <th>14059</th>\n",
              "      <td>14059</td>\n",
              "      <td>the disrespect is unreal</td>\n",
              "      <td>neutral</td>\n",
              "    </tr>\n",
              "    <tr>\n",
              "      <th>14060</th>\n",
              "      <td>14060</td>\n",
              "      <td>tweet  melissa benoist replied with support to...</td>\n",
              "      <td>Public places</td>\n",
              "    </tr>\n",
              "    <tr>\n",
              "      <th>14061</th>\n",
              "      <td>14061</td>\n",
              "      <td>haha  he juiced up he didnt   the mare next in...</td>\n",
              "      <td>Private Places</td>\n",
              "    </tr>\n",
              "    <tr>\n",
              "      <th>14062</th>\n",
              "      <td>14062</td>\n",
              "      <td>marxist feminists culture  dividing men  i can...</td>\n",
              "      <td>Public places</td>\n",
              "    </tr>\n",
              "    <tr>\n",
              "      <th>14063</th>\n",
              "      <td>14063</td>\n",
              "      <td>are you ruminating about past pain sometimes t...</td>\n",
              "      <td>neutral</td>\n",
              "    </tr>\n",
              "    <tr>\n",
              "      <th>14064</th>\n",
              "      <td>14064</td>\n",
              "      <td>he also raped and assaulted multiple women</td>\n",
              "      <td>Private Places</td>\n",
              "    </tr>\n",
              "    <tr>\n",
              "      <th>14065</th>\n",
              "      <td>14065</td>\n",
              "      <td>looks forgotten</td>\n",
              "      <td>neutral</td>\n",
              "    </tr>\n",
              "    <tr>\n",
              "      <th>14066</th>\n",
              "      <td>14066</td>\n",
              "      <td>founder rebecca weaver joined host carrie ferr...</td>\n",
              "      <td>Public places</td>\n",
              "    </tr>\n",
              "    <tr>\n",
              "      <th>14067</th>\n",
              "      <td>14067</td>\n",
              "      <td>theres a lot of scene albums that did not age ...</td>\n",
              "      <td>Public places</td>\n",
              "    </tr>\n",
              "    <tr>\n",
              "      <th>14068</th>\n",
              "      <td>14068</td>\n",
              "      <td>nope you bitches had your  moment and like eve...</td>\n",
              "      <td>Public places</td>\n",
              "    </tr>\n",
              "    <tr>\n",
              "      <th>14069</th>\n",
              "      <td>14069</td>\n",
              "      <td>womens empowerment in      ok now you get a j...</td>\n",
              "      <td>Public places</td>\n",
              "    </tr>\n",
              "    <tr>\n",
              "      <th>14070</th>\n",
              "      <td>14070</td>\n",
              "      <td>she has always defended extremely rich people ...</td>\n",
              "      <td>Private Places</td>\n",
              "    </tr>\n",
              "    <tr>\n",
              "      <th>14071</th>\n",
              "      <td>14071</td>\n",
              "      <td>while i have your attention whoever you are  u...</td>\n",
              "      <td>neutral</td>\n",
              "    </tr>\n",
              "    <tr>\n",
              "      <th>14072</th>\n",
              "      <td>14072</td>\n",
              "      <td>my first publication its nothing much but its ...</td>\n",
              "      <td>Private Places</td>\n",
              "    </tr>\n",
              "    <tr>\n",
              "      <th>14073</th>\n",
              "      <td>14073</td>\n",
              "      <td>ok  what the hell took you so long you knew wh...</td>\n",
              "      <td>Public places</td>\n",
              "    </tr>\n",
              "    <tr>\n",
              "      <th>14074</th>\n",
              "      <td>14074</td>\n",
              "      <td>with all the llicon stuff happening in the com...</td>\n",
              "      <td>Public places</td>\n",
              "    </tr>\n",
              "    <tr>\n",
              "      <th>14075</th>\n",
              "      <td>14075</td>\n",
              "      <td>never been more proud of my good friend  shes ...</td>\n",
              "      <td>Private Places</td>\n",
              "    </tr>\n",
              "    <tr>\n",
              "      <th>14076</th>\n",
              "      <td>14076</td>\n",
              "      <td>correct  thank god the people of montana were ...</td>\n",
              "      <td>Private Places</td>\n",
              "    </tr>\n",
              "    <tr>\n",
              "      <th>14077</th>\n",
              "      <td>14077</td>\n",
              "      <td>new look of  in montana</td>\n",
              "      <td>neutral</td>\n",
              "    </tr>\n",
              "    <tr>\n",
              "      <th>14078</th>\n",
              "      <td>14078</td>\n",
              "      <td>krishanti vignarajah inspired by  to run for m...</td>\n",
              "      <td>neutral</td>\n",
              "    </tr>\n",
              "    <tr>\n",
              "      <th>14079</th>\n",
              "      <td>14079</td>\n",
              "      <td>its ok   hes a democrat   msm only goes after ...</td>\n",
              "      <td>Public places</td>\n",
              "    </tr>\n",
              "    <tr>\n",
              "      <th>14080</th>\n",
              "      <td>14080</td>\n",
              "      <td>and  were only using turd to gain followers an...</td>\n",
              "      <td>neutral</td>\n",
              "    </tr>\n",
              "    <tr>\n",
              "      <th>14081</th>\n",
              "      <td>14081</td>\n",
              "      <td>stand for liz cheney     elsiestefanik  gop</td>\n",
              "      <td>neutral</td>\n",
              "    </tr>\n",
              "    <tr>\n",
              "      <th>14082</th>\n",
              "      <td>14082</td>\n",
              "      <td>i think except for m j akbar everyone else has...</td>\n",
              "      <td>Private Places</td>\n",
              "    </tr>\n",
              "    <tr>\n",
              "      <th>14083</th>\n",
              "      <td>14083</td>\n",
              "      <td>im confused is this blms fault or is  feminism...</td>\n",
              "      <td>Public places</td>\n",
              "    </tr>\n",
              "    <tr>\n",
              "      <th>14084</th>\n",
              "      <td>14084</td>\n",
              "      <td>like all  supporters you show more misandry th...</td>\n",
              "      <td>neutral</td>\n",
              "    </tr>\n",
              "    <tr>\n",
              "      <th>14085</th>\n",
              "      <td>14085</td>\n",
              "      <td>got an email frm  asking if i want to opt out ...</td>\n",
              "      <td>Cyber</td>\n",
              "    </tr>\n",
              "    <tr>\n",
              "      <th>14086</th>\n",
              "      <td>14086</td>\n",
              "      <td>can anyone from the group that has created the...</td>\n",
              "      <td>neutral</td>\n",
              "    </tr>\n",
              "    <tr>\n",
              "      <th>14087</th>\n",
              "      <td>14087</td>\n",
              "      <td>caroline j berdzik chair of the firms employme...</td>\n",
              "      <td>Public places</td>\n",
              "    </tr>\n",
              "    <tr>\n",
              "      <th>14088</th>\n",
              "      <td>14088</td>\n",
              "      <td>i have always pushed for the truth to come out...</td>\n",
              "      <td>Public places</td>\n",
              "    </tr>\n",
              "    <tr>\n",
              "      <th>14089</th>\n",
              "      <td>14089</td>\n",
              "      <td>not only is he   she   they   it a vaccine exp...</td>\n",
              "      <td>Private Places</td>\n",
              "    </tr>\n",
              "    <tr>\n",
              "      <th>14090</th>\n",
              "      <td>14090</td>\n",
              "      <td>who was he</td>\n",
              "      <td>neutral</td>\n",
              "    </tr>\n",
              "    <tr>\n",
              "      <th>14091</th>\n",
              "      <td>14091</td>\n",
              "      <td>i just signed a petition to define the clear l...</td>\n",
              "      <td>Public places</td>\n",
              "    </tr>\n",
              "    <tr>\n",
              "      <th>14092</th>\n",
              "      <td>14092</td>\n",
              "      <td>oh me too</td>\n",
              "      <td>neutral</td>\n",
              "    </tr>\n",
              "    <tr>\n",
              "      <th>14093</th>\n",
              "      <td>14093</td>\n",
              "      <td>not only is he   she   they   it a vaccine exp...</td>\n",
              "      <td>Private Places</td>\n",
              "    </tr>\n",
              "    <tr>\n",
              "      <th>14094</th>\n",
              "      <td>14094</td>\n",
              "      <td>isnt this how  got started</td>\n",
              "      <td>neutral</td>\n",
              "    </tr>\n",
              "    <tr>\n",
              "      <th>14095</th>\n",
              "      <td>14095</td>\n",
              "      <td>stop and smell the flowers follow</td>\n",
              "      <td>neutral</td>\n",
              "    </tr>\n",
              "    <tr>\n",
              "      <th>14096</th>\n",
              "      <td>14096</td>\n",
              "      <td>for far too long the publishing industry has c...</td>\n",
              "      <td>Private Places</td>\n",
              "    </tr>\n",
              "    <tr>\n",
              "      <th>14097</th>\n",
              "      <td>14097</td>\n",
              "      <td>looks like the  only really care about one  mo...</td>\n",
              "      <td>Public places</td>\n",
              "    </tr>\n",
              "    <tr>\n",
              "      <th>14098</th>\n",
              "      <td>14098</td>\n",
              "      <td>overall demand by the entertainment industry f...</td>\n",
              "      <td>Private Places</td>\n",
              "    </tr>\n",
              "    <tr>\n",
              "      <th>14099</th>\n",
              "      <td>14099</td>\n",
              "      <td>serbia i thought i was the only one  bbcnews</td>\n",
              "      <td>neutral</td>\n",
              "    </tr>\n",
              "    <tr>\n",
              "      <th>14100</th>\n",
              "      <td>14100</td>\n",
              "      <td>how and why are estonian greek and uk young pe...</td>\n",
              "      <td>Public places</td>\n",
              "    </tr>\n",
              "    <tr>\n",
              "      <th>14101</th>\n",
              "      <td>14101</td>\n",
              "      <td>btw happy mothers day 2 all the mothers out th...</td>\n",
              "      <td>Public places</td>\n",
              "    </tr>\n",
              "    <tr>\n",
              "      <th>14102</th>\n",
              "      <td>14102</td>\n",
              "      <td>i was trying to decipher a japanese website la...</td>\n",
              "      <td>Public places</td>\n",
              "    </tr>\n",
              "    <tr>\n",
              "      <th>14103</th>\n",
              "      <td>14103</td>\n",
              "      <td>its the  roadmap which was tested on others im...</td>\n",
              "      <td>Public places</td>\n",
              "    </tr>\n",
              "    <tr>\n",
              "      <th>14104</th>\n",
              "      <td>14104</td>\n",
              "      <td>serbia i thought i was the only one  bbc news ...</td>\n",
              "      <td>neutral</td>\n",
              "    </tr>\n",
              "    <tr>\n",
              "      <th>14105</th>\n",
              "      <td>14105</td>\n",
              "      <td>dont budge insist on fighting for your manhood...</td>\n",
              "      <td>Public places</td>\n",
              "    </tr>\n",
              "    <tr>\n",
              "      <th>14106</th>\n",
              "      <td>14106</td>\n",
              "      <td>free online antiharassment training launched b...</td>\n",
              "      <td>Private Places</td>\n",
              "    </tr>\n",
              "    <tr>\n",
              "      <th>14107</th>\n",
              "      <td>14107</td>\n",
              "      <td>womens rights advocate 1  seems to be losing s...</td>\n",
              "      <td>Public places</td>\n",
              "    </tr>\n",
              "  </tbody>\n",
              "</table>\n",
              "</div>"
            ],
            "text/plain": [
              "       index                                               text           label\n",
              "14058  14058                reminder that there is life after           neutral\n",
              "14059  14059                           the disrespect is unreal         neutral\n",
              "14060  14060  tweet  melissa benoist replied with support to...   Public places\n",
              "14061  14061  haha  he juiced up he didnt   the mare next in...  Private Places\n",
              "14062  14062  marxist feminists culture  dividing men  i can...   Public places\n",
              "14063  14063  are you ruminating about past pain sometimes t...         neutral\n",
              "14064  14064        he also raped and assaulted multiple women   Private Places\n",
              "14065  14065                                    looks forgotten         neutral\n",
              "14066  14066  founder rebecca weaver joined host carrie ferr...   Public places\n",
              "14067  14067  theres a lot of scene albums that did not age ...   Public places\n",
              "14068  14068  nope you bitches had your  moment and like eve...   Public places\n",
              "14069  14069   womens empowerment in      ok now you get a j...   Public places\n",
              "14070  14070  she has always defended extremely rich people ...  Private Places\n",
              "14071  14071  while i have your attention whoever you are  u...         neutral\n",
              "14072  14072  my first publication its nothing much but its ...  Private Places\n",
              "14073  14073  ok  what the hell took you so long you knew wh...   Public places\n",
              "14074  14074  with all the llicon stuff happening in the com...   Public places\n",
              "14075  14075  never been more proud of my good friend  shes ...  Private Places\n",
              "14076  14076  correct  thank god the people of montana were ...  Private Places\n",
              "14077  14077                           new look of  in montana          neutral\n",
              "14078  14078  krishanti vignarajah inspired by  to run for m...         neutral\n",
              "14079  14079  its ok   hes a democrat   msm only goes after ...   Public places\n",
              "14080  14080  and  were only using turd to gain followers an...         neutral\n",
              "14081  14081   stand for liz cheney     elsiestefanik  gop              neutral\n",
              "14082  14082  i think except for m j akbar everyone else has...  Private Places\n",
              "14083  14083  im confused is this blms fault or is  feminism...   Public places\n",
              "14084  14084  like all  supporters you show more misandry th...         neutral\n",
              "14085  14085  got an email frm  asking if i want to opt out ...           Cyber\n",
              "14086  14086  can anyone from the group that has created the...         neutral\n",
              "14087  14087  caroline j berdzik chair of the firms employme...   Public places\n",
              "14088  14088  i have always pushed for the truth to come out...   Public places\n",
              "14089  14089  not only is he   she   they   it a vaccine exp...  Private Places\n",
              "14090  14090                                      who was he            neutral\n",
              "14091  14091  i just signed a petition to define the clear l...   Public places\n",
              "14092  14092                                         oh me too          neutral\n",
              "14093  14093  not only is he   she   they   it a vaccine exp...  Private Places\n",
              "14094  14094                         isnt this how  got started         neutral\n",
              "14095  14095                stop and smell the flowers follow           neutral\n",
              "14096  14096  for far too long the publishing industry has c...  Private Places\n",
              "14097  14097  looks like the  only really care about one  mo...   Public places\n",
              "14098  14098  overall demand by the entertainment industry f...  Private Places\n",
              "14099  14099      serbia i thought i was the only one  bbcnews          neutral\n",
              "14100  14100  how and why are estonian greek and uk young pe...   Public places\n",
              "14101  14101  btw happy mothers day 2 all the mothers out th...   Public places\n",
              "14102  14102  i was trying to decipher a japanese website la...   Public places\n",
              "14103  14103  its the  roadmap which was tested on others im...   Public places\n",
              "14104  14104  serbia i thought i was the only one  bbc news ...         neutral\n",
              "14105  14105  dont budge insist on fighting for your manhood...   Public places\n",
              "14106  14106  free online antiharassment training launched b...  Private Places\n",
              "14107  14107  womens rights advocate 1  seems to be losing s...   Public places"
            ]
          },
          "metadata": {
            "tags": []
          },
          "execution_count": 14
        }
      ]
    },
    {
      "cell_type": "code",
      "metadata": {
        "colab": {
          "base_uri": "https://localhost:8080/"
        },
        "id": "xgQbLlqCr2TH",
        "outputId": "9b1c92e8-c515-46e8-d31b-f12ce7eb3e3d"
      },
      "source": [
        "df['label'].value_counts()"
      ],
      "execution_count": 12,
      "outputs": [
        {
          "output_type": "execute_result",
          "data": {
            "text/plain": [
              "Public places         4555\n",
              "Private Places        4279\n",
              "neutral               4044\n",
              "Cyber                  661\n",
              "Work places            458\n",
              "Educational places     111\n",
              "Name: label, dtype: int64"
            ]
          },
          "metadata": {
            "tags": []
          },
          "execution_count": 12
        }
      ]
    },
    {
      "cell_type": "code",
      "metadata": {
        "id": "ELpJZGkkHaEu"
      },
      "source": [
        "#Save DataFrame to CSV\n",
        "df_labelled = pd.DataFrame()\n",
        "df_labelled['index'] = df['index']\n",
        "df_labelled['text'] = df['text']\n",
        "df_labelled['label'] = df['label']\n",
        "df_labelled.to_csv(\"capstonetweetlabellednewest.csv\", index=False)"
      ],
      "execution_count": 16,
      "outputs": []
    },
    {
      "cell_type": "code",
      "metadata": {
        "id": "n8xM07uWj1PH"
      },
      "source": [
        ""
      ],
      "execution_count": null,
      "outputs": []
    }
  ]
}